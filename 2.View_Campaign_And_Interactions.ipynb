{
 "cells": [
  {
   "cell_type": "markdown",
   "metadata": {},
   "source": [
    "# View Campaign and Interactions\n",
    "\n",
    "In the first notebook `Personalize_BuildCampaign.ipynb` you successfully built and deployed a recommendation model using deep learning with Amazon Personalize.\n",
    "\n",
    "This notebook will expand on that and will walk you through adding the ability to react to real time behavior of users. If their intent changes while browsing a movie, you will see revised recommendations based on that behavior.\n",
    "\n",
    "It will also showcase demo code for simulating user behavior selecting movies before the recommendations are returned."
   ]
  },
  {
   "cell_type": "markdown",
   "metadata": {},
   "source": [
    "Below we start with just importing libraries that we need to interact with Personalize"
   ]
  },
  {
   "cell_type": "code",
   "execution_count": 2,
   "metadata": {},
   "outputs": [],
   "source": [
    "# Imports\n",
    "import boto3\n",
    "import json\n",
    "import numpy as np\n",
    "import pandas as pd\n",
    "import time\n",
    "import uuid"
   ]
  },
  {
   "cell_type": "markdown",
   "metadata": {},
   "source": [
    "Below you will paste in the campaign ARN that you used in your previous notebook. Also pick a random user ID from 50 - 300. \n",
    "\n",
    "Lastly you will also need to find your Dataset Group ARN from the previous notebook."
   ]
  },
  {
   "cell_type": "code",
   "execution_count": 5,
   "metadata": {},
   "outputs": [],
   "source": [
    "# Setup and Config\n",
    "# Recommendations from Event data\n",
    "personalize = boto3.client('personalize')\n",
    "personalize_runtime = boto3.client('personalize-runtime')\n",
    "HRNN_Campaign_ARN = \"arn:aws:personalize:us-east-1:059124553121:campaign/personalize-demo-camp\"\n",
    "\n",
    "# Define User \n",
    "USER_ID = \"676\"\n",
    "\n",
    "# Dataset Group Arn:\n",
    "datasetGroupArn = \"arn:aws:personalize:us-east-1:059124553121:dataset-group/personalize-kms\"\n",
    "\n",
    "# Establish a connection to Personalize's Event Streaming\n",
    "personalize_events = boto3.client(service_name='personalize-events')"
   ]
  },
  {
   "cell_type": "markdown",
   "metadata": {},
   "source": [
    "## Creating an Event Tracker\n",
    "\n",
    "Before your recommendation system can respond to real time events you will need an event tracker, the code below will generate one and can be used going forward with this lab. Feel free to name it something more clever."
   ]
  },
  {
   "cell_type": "code",
   "execution_count": 6,
   "metadata": {},
   "outputs": [
    {
     "name": "stdout",
     "output_type": "stream",
     "text": [
      "arn:aws:personalize:us-east-1:059124553121:event-tracker/ce27ed68\n",
      "7c315f3d-feac-40a0-a70c-08edffb02e37\n"
     ]
    }
   ],
   "source": [
    "response = personalize.create_event_tracker(\n",
    "    name='MovieClickTracker',\n",
    "    datasetGroupArn=datasetGroupArn\n",
    ")\n",
    "print(response['eventTrackerArn'])\n",
    "print(response['trackingId'])\n",
    "TRACKING_ID = response['trackingId']"
   ]
  },
  {
   "cell_type": "markdown",
   "metadata": {},
   "source": [
    "## Configuring Source Data\n",
    "\n",
    "Above you'll see your tracking ID and this has been assigned to a variable so no further action is needed by you. The lines below are going to setup the data used for recommendations so you can render the list of movies later."
   ]
  },
  {
   "cell_type": "code",
   "execution_count": 7,
   "metadata": {},
   "outputs": [
    {
     "data": {
      "text/html": [
       "<div>\n",
       "<style scoped>\n",
       "    .dataframe tbody tr th:only-of-type {\n",
       "        vertical-align: middle;\n",
       "    }\n",
       "\n",
       "    .dataframe tbody tr th {\n",
       "        vertical-align: top;\n",
       "    }\n",
       "\n",
       "    .dataframe thead th {\n",
       "        text-align: right;\n",
       "    }\n",
       "</style>\n",
       "<table border=\"1\" class=\"dataframe\">\n",
       "  <thead>\n",
       "    <tr style=\"text-align: right;\">\n",
       "      <th></th>\n",
       "      <th>USER_ID</th>\n",
       "      <th>ITEM_ID</th>\n",
       "      <th>TIMESTAMP</th>\n",
       "    </tr>\n",
       "  </thead>\n",
       "  <tbody>\n",
       "    <tr>\n",
       "      <th>5</th>\n",
       "      <td>298</td>\n",
       "      <td>474</td>\n",
       "      <td>884182806</td>\n",
       "    </tr>\n",
       "    <tr>\n",
       "      <th>7</th>\n",
       "      <td>253</td>\n",
       "      <td>465</td>\n",
       "      <td>891628467</td>\n",
       "    </tr>\n",
       "    <tr>\n",
       "      <th>...</th>\n",
       "      <td>...</td>\n",
       "      <td>...</td>\n",
       "      <td>...</td>\n",
       "    </tr>\n",
       "    <tr>\n",
       "      <th>99991</th>\n",
       "      <td>676</td>\n",
       "      <td>538</td>\n",
       "      <td>892685437</td>\n",
       "    </tr>\n",
       "    <tr>\n",
       "      <th>99996</th>\n",
       "      <td>716</td>\n",
       "      <td>204</td>\n",
       "      <td>879795543</td>\n",
       "    </tr>\n",
       "  </tbody>\n",
       "</table>\n",
       "<p>55375 rows × 3 columns</p>\n",
       "</div>"
      ],
      "text/plain": [
       "       USER_ID  ITEM_ID  TIMESTAMP\n",
       "5          298      474  884182806\n",
       "7          253      465  891628467\n",
       "...        ...      ...        ...\n",
       "99991      676      538  892685437\n",
       "99996      716      204  879795543\n",
       "\n",
       "[55375 rows x 3 columns]"
      ]
     },
     "execution_count": 7,
     "metadata": {},
     "output_type": "execute_result"
    }
   ],
   "source": [
    "# Interaction config\n",
    "data = pd.read_csv('./ml-100k/u.data', sep='\\t', names=['USER_ID', 'ITEM_ID', 'RATING', 'TIMESTAMP'])\n",
    "pd.set_option('display.max_rows', 5)\n",
    "data = data[data['RATING'] > 3]                # keep only movies rated 3\n",
    "data = data[['USER_ID', 'ITEM_ID', 'TIMESTAMP']] # select columns that match the columns in the schema below\n",
    "data"
   ]
  },
  {
   "cell_type": "code",
   "execution_count": 9,
   "metadata": {},
   "outputs": [
    {
     "name": "stdout",
     "output_type": "stream",
     "text": [
      "USER: 551\n",
      "ITEM: Hard Target (1993)\n"
     ]
    },
    {
     "data": {
      "text/html": [
       "<div>\n",
       "<style scoped>\n",
       "    .dataframe tbody tr th:only-of-type {\n",
       "        vertical-align: middle;\n",
       "    }\n",
       "\n",
       "    .dataframe tbody tr th {\n",
       "        vertical-align: top;\n",
       "    }\n",
       "\n",
       "    .dataframe thead th {\n",
       "        text-align: right;\n",
       "    }\n",
       "</style>\n",
       "<table border=\"1\" class=\"dataframe\">\n",
       "  <thead>\n",
       "    <tr style=\"text-align: right;\">\n",
       "      <th></th>\n",
       "      <th>ITEM_ID</th>\n",
       "      <th>TITLE</th>\n",
       "    </tr>\n",
       "  </thead>\n",
       "  <tbody>\n",
       "    <tr>\n",
       "      <th>0</th>\n",
       "      <td>2</td>\n",
       "      <td>GoldenEye (1995)</td>\n",
       "    </tr>\n",
       "    <tr>\n",
       "      <th>1</th>\n",
       "      <td>3</td>\n",
       "      <td>Four Rooms (1995)</td>\n",
       "    </tr>\n",
       "    <tr>\n",
       "      <th>...</th>\n",
       "      <td>...</td>\n",
       "      <td>...</td>\n",
       "    </tr>\n",
       "    <tr>\n",
       "      <th>1679</th>\n",
       "      <td>1681</td>\n",
       "      <td>You So Crazy (1994)</td>\n",
       "    </tr>\n",
       "    <tr>\n",
       "      <th>1680</th>\n",
       "      <td>1682</td>\n",
       "      <td>Scream of Stone (Schrei aus Stein) (1991)</td>\n",
       "    </tr>\n",
       "  </tbody>\n",
       "</table>\n",
       "<p>1681 rows × 2 columns</p>\n",
       "</div>"
      ],
      "text/plain": [
       "      ITEM_ID                                      TITLE\n",
       "0           2                           GoldenEye (1995)\n",
       "1           3                          Four Rooms (1995)\n",
       "...       ...                                        ...\n",
       "1679     1681                        You So Crazy (1994)\n",
       "1680     1682  Scream of Stone (Schrei aus Stein) (1991)\n",
       "\n",
       "[1681 rows x 2 columns]"
      ]
     },
     "execution_count": 9,
     "metadata": {},
     "output_type": "execute_result"
    }
   ],
   "source": [
    "# Item Config\n",
    "items = pd.read_csv('./ml-100k/u.item', sep='|', usecols=[0,1], encoding='latin-1')\n",
    "items.columns = ['ITEM_ID', 'TITLE']\n",
    "\n",
    "user_id, item_id, _ = data.sample().values[0]\n",
    "item_title = items.loc[items['ITEM_ID'] == item_id].values[0][-1]\n",
    "print(\"USER: {}\".format(user_id))\n",
    "print(\"ITEM: {}\".format(item_title))\n",
    "\n",
    "items"
   ]
  },
  {
   "cell_type": "markdown",
   "metadata": {},
   "source": [
    "## Getting Recommendations\n",
    "\n",
    "Just like in the previous notebook it is a great idea to get a list of recommendatiosn first and then see how additional behavior by a user alters the recommendations."
   ]
  },
  {
   "cell_type": "code",
   "execution_count": 10,
   "metadata": {},
   "outputs": [
    {
     "name": "stdout",
     "output_type": "stream",
     "text": [
      "Recommendations: [\n",
      "  \"Raiders of the Lost Ark (1981)\",\n",
      "  \"Silence of the Lambs, The (1991)\",\n",
      "  \"Forrest Gump (1994)\",\n",
      "  \"Pulp Fiction (1994)\",\n",
      "  \"Amadeus (1984)\",\n",
      "  \"Godfather, The (1972)\",\n",
      "  \"Schindler's List (1993)\",\n",
      "  \"Fugitive, The (1993)\",\n",
      "  \"Empire Strikes Back, The (1980)\",\n",
      "  \"Usual Suspects, The (1995)\",\n",
      "  \"Terminator 2: Judgment Day (1991)\",\n",
      "  \"Shawshank Redemption, The (1994)\",\n",
      "  \"Apollo 13 (1995)\",\n",
      "  \"Fargo (1996)\",\n",
      "  \"Sting, The (1973)\",\n",
      "  \"To Kill a Mockingbird (1962)\",\n",
      "  \"Casablanca (1942)\",\n",
      "  \"Alien (1979)\",\n",
      "  \"Dances with Wolves (1990)\",\n",
      "  \"Aliens (1986)\",\n",
      "  \"When Harry Met Sally... (1989)\",\n",
      "  \"Hoop Dreams (1994)\",\n",
      "  \"Princess Bride, The (1987)\",\n",
      "  \"Dead Poets Society (1989)\",\n",
      "  \"Back to the Future (1985)\"\n",
      "]\n",
      "[{'itemId': '174'}, {'itemId': '98'}, {'itemId': '69'}, {'itemId': '56'}, {'itemId': '191'}, {'itemId': '127'}, {'itemId': '318'}, {'itemId': '79'}, {'itemId': '172'}, {'itemId': '12'}, {'itemId': '96'}, {'itemId': '64'}, {'itemId': '28'}, {'itemId': '100'}, {'itemId': '194'}, {'itemId': '427'}, {'itemId': '483'}, {'itemId': '183'}, {'itemId': '97'}, {'itemId': '176'}, {'itemId': '216'}, {'itemId': '48'}, {'itemId': '173'}, {'itemId': '196'}, {'itemId': '204'}]\n"
     ]
    }
   ],
   "source": [
    "# Get Recommendations as is\n",
    "get_recommendations_response = personalize_runtime.get_recommendations(\n",
    "    campaignArn = HRNN_Campaign_ARN,\n",
    "    userId = USER_ID,\n",
    ")\n",
    "\n",
    "item_list = get_recommendations_response['itemList']\n",
    "title_list = [items.loc[items['ITEM_ID'] == np.int(item['itemId'])].values[0][-1] for item in item_list]\n",
    "\n",
    "print(\"Recommendations: {}\".format(json.dumps(title_list, indent=2)))\n",
    "print(item_list)"
   ]
  },
  {
   "cell_type": "markdown",
   "metadata": {},
   "source": [
    "## Simulating User Behavior\n",
    "\n",
    "The lines below provide a code sample that simulates a user interacting with a particular item, you will then get recommendations that differ from those when you started."
   ]
  },
  {
   "cell_type": "code",
   "execution_count": 11,
   "metadata": {},
   "outputs": [],
   "source": [
    "session_dict = {}"
   ]
  },
  {
   "cell_type": "code",
   "execution_count": 12,
   "metadata": {},
   "outputs": [],
   "source": [
    "def send_movie_click(USER_ID, ITEM_ID):\n",
    "    \"\"\"\n",
    "    Simulates a click as an envent\n",
    "    to send an event to Amazon Personalize's Event Tracker\n",
    "    \"\"\"\n",
    "    # Configure Session\n",
    "    try:\n",
    "        session_ID = session_dict[USER_ID]\n",
    "    except:\n",
    "        session_dict[USER_ID] = str(uuid.uuid1())\n",
    "        session_ID = session_dict[USER_ID]\n",
    "        \n",
    "    # Configure Properties:\n",
    "    event = {\n",
    "    \"itemId\": str(ITEM_ID),\n",
    "    }\n",
    "    event_json = json.dumps(event)\n",
    "        \n",
    "    # Make Call\n",
    "    personalize_events.put_events(\n",
    "    trackingId = TRACKING_ID,\n",
    "    userId= USER_ID,\n",
    "    sessionId = session_ID,\n",
    "    eventList = [{\n",
    "        'sentAt': int(time.time()),\n",
    "        'eventType': 'EVENT_TYPE',\n",
    "        'properties': event_json\n",
    "        }]\n",
    ")"
   ]
  },
  {
   "cell_type": "markdown",
   "metadata": {},
   "source": [
    "Immediately below this line will update the tracker as if the user has clicked a particular title."
   ]
  },
  {
   "cell_type": "code",
   "execution_count": 13,
   "metadata": {},
   "outputs": [],
   "source": [
    "# Pick a movie, we will use ID 207 or Gattica\n",
    "send_movie_click(USER_ID=USER_ID, ITEM_ID=207)"
   ]
  },
  {
   "cell_type": "markdown",
   "metadata": {},
   "source": [
    "After executing this block you will see the alterations in the recommendations now that you have event tracking enabled and that you have sent the events to the service."
   ]
  },
  {
   "cell_type": "code",
   "execution_count": 14,
   "metadata": {},
   "outputs": [
    {
     "name": "stdout",
     "output_type": "stream",
     "text": [
      "Recommendations: [\n",
      "  \"Silence of the Lambs, The (1991)\",\n",
      "  \"Empire Strikes Back, The (1980)\",\n",
      "  \"Sting, The (1973)\",\n",
      "  \"Raiders of the Lost Ark (1981)\",\n",
      "  \"Fugitive, The (1993)\",\n",
      "  \"Dead Poets Society (1989)\",\n",
      "  \"Shawshank Redemption, The (1994)\",\n",
      "  \"Apollo 13 (1995)\",\n",
      "  \"Vertigo (1958)\",\n",
      "  \"It's a Wonderful Life (1946)\",\n",
      "  \"Usual Suspects, The (1995)\",\n",
      "  \"Casablanca (1942)\",\n",
      "  \"Forrest Gump (1994)\",\n",
      "  \"Terminator 2: Judgment Day (1991)\",\n",
      "  \"Pulp Fiction (1994)\",\n",
      "  \"Amadeus (1984)\",\n",
      "  \"Monty Python and the Holy Grail (1974)\",\n",
      "  \"Alien (1979)\",\n",
      "  \"2001: A Space Odyssey (1968)\",\n",
      "  \"Dances with Wolves (1990)\",\n",
      "  \"Blade Runner (1982)\",\n",
      "  \"When Harry Met Sally... (1989)\",\n",
      "  \"Graduate, The (1967)\",\n",
      "  \"Fargo (1996)\",\n",
      "  \"Groundhog Day (1993)\"\n",
      "]\n",
      "[{'itemId': '98'}, {'itemId': '172'}, {'itemId': '194'}, {'itemId': '174'}, {'itemId': '79'}, {'itemId': '196'}, {'itemId': '64'}, {'itemId': '28'}, {'itemId': '479'}, {'itemId': '496'}, {'itemId': '12'}, {'itemId': '483'}, {'itemId': '69'}, {'itemId': '96'}, {'itemId': '56'}, {'itemId': '191'}, {'itemId': '168'}, {'itemId': '183'}, {'itemId': '135'}, {'itemId': '97'}, {'itemId': '89'}, {'itemId': '216'}, {'itemId': '197'}, {'itemId': '100'}, {'itemId': '202'}]\n"
     ]
    }
   ],
   "source": [
    "get_recommendations_response = personalize_runtime.get_recommendations(\n",
    "    campaignArn = HRNN_Campaign_ARN,\n",
    "    userId = str(USER_ID),\n",
    ")\n",
    "\n",
    "item_list = get_recommendations_response['itemList']\n",
    "title_list = [items.loc[items['ITEM_ID'] == np.int(item['itemId'])].values[0][-1] for item in item_list]\n",
    "\n",
    "print(\"Recommendations: {}\".format(json.dumps(title_list, indent=2)))\n",
    "print(item_list)"
   ]
  },
  {
   "cell_type": "markdown",
   "metadata": {},
   "source": [
    "## Conclusion\n",
    "\n",
    "You can see now that recommendations are altered by changing the movie that a user interacts with, this system can be modified to any application where users are interacting with a collection of items. These tools are available at any time to pull down and start exploring what is possible with the data you have.\n",
    "\n",
    "Finally when you are ready to remove the items from your account, open the `Cleanup.ipnb` notebook and execute the steps there.\n"
   ]
  },
  {
   "cell_type": "code",
   "execution_count": 65,
   "metadata": {},
   "outputs": [
    {
     "name": "stdout",
     "output_type": "stream",
     "text": [
      "Tracker ARN is: arn:aws:personalize:us-east-1:059124553121:event-tracker/abca43a2\n"
     ]
    }
   ],
   "source": [
    "eventTrackerArn = response['eventTrackerArn']\n",
    "print(\"Tracker ARN is: \" + str(eventTrackerArn))"
   ]
  },
  {
   "cell_type": "code",
   "execution_count": null,
   "metadata": {},
   "outputs": [],
   "source": []
  }
 ],
 "metadata": {
  "kernelspec": {
   "display_name": "conda_python3",
   "language": "python",
   "name": "conda_python3"
  },
  "language_info": {
   "codemirror_mode": {
    "name": "ipython",
    "version": 3
   },
   "file_extension": ".py",
   "mimetype": "text/x-python",
   "name": "python",
   "nbconvert_exporter": "python",
   "pygments_lexer": "ipython3",
   "version": "3.6.5"
  }
 },
 "nbformat": 4,
 "nbformat_minor": 4
}
