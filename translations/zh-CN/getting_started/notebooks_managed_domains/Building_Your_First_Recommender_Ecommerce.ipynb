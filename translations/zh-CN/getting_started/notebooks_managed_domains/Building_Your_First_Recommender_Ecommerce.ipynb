{
 "cells": [
  {
   "cell_type": "markdown",
   "id": "73659180",
   "metadata": {},
   "source": [
    "# 构建您的第一个电子商务推荐器\n",
    "\n",
    "本笔记本将指导您完成构建域数据集组和推荐器的步骤，该推荐器将根据为虚构的零售商店数据集生成的数据返回产品推荐。目标是根据特定用户推荐相关产品。\n",
    "\n",
    "此综合数据来自 [Retail Demo Store 项目](https://github.com/aws-samples/retail-demo-store)。点击链接，了解有关数据和潜在用途的更多信息。\n",
    "\n",
    "# 如何使用笔记本\n",
    "\n",
    "此代码被分解为如下所示的单元格。在本页顶部有一个三角形 Run（运行）按钮，您可以单击该按钮以执行每个单元格，并移至下一个单元格；也可以按 `Shift` + `Enter` 组合键，在单元格中执行并移至下一个单元格。\n",
    "\n",
    "当一个单元格执行时，您会注意到该单元格运行时旁边有一行显示 `*`，或者它会更新为一个数字，以指示在执行完单元格中的所有代码后完成执行的最后一个单元格。\n",
    "\n",
    "只需按照下面的说明执行单元格，即可通过案例优化推荐器开始使用 Amazon Personalize。"
   ]
  },
  {
   "cell_type": "markdown",
   "id": "d8e03886",
   "metadata": {},
   "source": [
    "## 导入\n",
    "Python 附带有许多库，我们需要导入这些库以及已安装的库来帮助我们，比如 [boto3](https://aws.amazon.com/sdk-for-python/)（适用于 Python 的 AWS SDK）和 [Pandas](https://pandas.pydata.org/)/[Numpy](https://numpy.org/)，它们都是核心数据科学工具。"
   ]
  },
  {
   "cell_type": "code",
   "execution_count": null,
   "id": "209102c8",
   "metadata": {},
   "outputs": [],
   "source": [
    "# Imports\n",
    "import boto3\n",
    "import json\n",
    "import numpy as np\n",
    "import pandas as pd\n",
    "import time\n",
    "import datetime"
   ]
  },
  {
   "cell_type": "markdown",
   "id": "0f9548ad",
   "metadata": {},
   "source": [
    "接下来，您需要验证您的环境是否可以成功地与 Amazon Personalize 进行通信，下面的行就可以实现这一目的。"
   ]
  },
  {
   "cell_type": "code",
   "execution_count": null,
   "id": "4fe95d91",
   "metadata": {},
   "outputs": [],
   "source": [
    "# Configure the SDK to Personalize:\n",
    "personalize = boto3.client('personalize')\n",
    "personalize_runtime = boto3.client('personalize-runtime')"
   ]
  },
  {
   "cell_type": "markdown",
   "id": "8b99892b",
   "metadata": {},
   "source": [
    "## 指定 S3 存储桶和数据输出位置\n",
    "\n",
    "Amazon Personalize 需要 S3 存储桶来充当数据源。下面的代码将创建具有唯一 `bucket_name` 的存储桶。\n",
    "\n",
    "Amazon S3 存储桶必须与 Amazon Personalize 资源位于同一区域。 "
   ]
  },
  {
   "cell_type": "code",
   "execution_count": null,
   "id": "5a69477f",
   "metadata": {},
   "outputs": [],
   "source": [
    "# Sets the same region as current Amazon SageMaker Notebook\n",
    "with open('/opt/ml/metadata/resource-metadata.json') as notebook_info:\n",
    "    data = json.load(notebook_info)\n",
    "    resource_arn = data['ResourceArn']\n",
    "    region = resource_arn.split(':')[3]\n",
    "print('region:', region)\n",
    "\n",
    "# Or you can specify the region where your bucket and model will be domiciled\n",
    "# region = \"us-east-1\" \n",
    "\n",
    "s3 = boto3.client('s3')\n",
    "account_id = boto3.client('sts').get_caller_identity().get('Account')\n",
    "bucket_name = account_id + \"-\" + region + \"-\" + \"personalizemanagedretailers\"\n",
    "print('bucket_name:', bucket_name)\n",
    "\n",
    "try: \n",
    "    if region == \"us-east-1\":\n",
    "        s3.create_bucket(Bucket=bucket_name)\n",
    "    else:\n",
    "        s3.create_bucket(\n",
    "            Bucket = bucket_name,\n",
    "            CreateBucketConfiguration={'LocationConstraint': region}\n",
    "            )\n",
    "    \n",
    "except Exception as e:\n",
    "    print (e)\n",
    "    print(\"Bucket already exists. Using bucket\", bucket_name)"
   ]
  },
  {
   "cell_type": "markdown",
   "id": "5d503c23",
   "metadata": {},
   "source": [
    "## 下载、准备和上载训练数据\n",
    "\n",
    "首先，我们需要下载数据（训练数据）。在本教程中，我们将使用零售商店数据集中的购买历史记录。此数据集包含用户 ID、项目 ID、客户和项目之间的交互，以及此交互发生的时间（时间戳） \n",
    "\n",
    "### 下载并浏览数据集"
   ]
  },
  {
   "cell_type": "code",
   "execution_count": null,
   "id": "e9f99e4b",
   "metadata": {},
   "outputs": [],
   "source": [
    "!aws s3 cp s3://retail-demo-store-us-east-1/csvs/items.csv .\n",
    "!aws s3 cp s3://retail-demo-store-us-east-1/csvs/interactions.csv ."
   ]
  },
  {
   "cell_type": "markdown",
   "id": "4f64c94d",
   "metadata": {},
   "source": [
    "数据集已成功下载为 Electronics_Store_purchase_history.csv\n",
    "\n",
    "让我们通过查看数据集的特性来了解有关数据集的更多信息"
   ]
  },
  {
   "cell_type": "code",
   "execution_count": null,
   "id": "b8de5a6e",
   "metadata": {},
   "outputs": [],
   "source": [
    "df = pd.read_csv('./interactions.csv')\n",
    "df"
   ]
  },
  {
   "cell_type": "code",
   "execution_count": null,
   "id": "c9dba494",
   "metadata": {},
   "outputs": [],
   "source": [
    "df.EVENT_TYPE.value_counts()"
   ]
  },
  {
   "cell_type": "code",
   "execution_count": null,
   "id": "ed471581",
   "metadata": {},
   "outputs": [],
   "source": [
    "def convert_event_type(event_type_in_some_format):\n",
    "    if(event_type_in_some_format == \"ProductViewed\"):\n",
    "        return \"View\"\n",
    "    if(event_type_in_some_format == \"OrderCompleted\"):\n",
    "        return \"Purchase\"\n",
    "    else:\n",
    "        return event_type_in_some_format\n",
    "\n",
    "df['EVENT_TYPE'] = df['EVENT_TYPE'].apply(convert_event_type)"
   ]
  },
  {
   "cell_type": "code",
   "execution_count": null,
   "id": "69ba97fa",
   "metadata": {},
   "outputs": [],
   "source": [
    "df.EVENT_TYPE.value_counts()"
   ]
  },
  {
   "cell_type": "markdown",
   "id": "4b3581c2",
   "metadata": {},
   "source": [
    "电子商务推荐器要求您提供特定的 EVENT_TYPE 值，以了解交互背景，由此我们将修改交互 EVENTYPE 列"
   ]
  },
  {
   "cell_type": "code",
   "execution_count": null,
   "id": "ea007782",
   "metadata": {},
   "outputs": [],
   "source": [
    "df.info()"
   ]
  },
  {
   "cell_type": "markdown",
   "id": "ada4df72",
   "metadata": {},
   "source": [
    "从上面的 2 个单元格中，我们了解到我们的数据有 9 列，675004 行，标题为：ITEM_ID、USER_ID、EVENT_TYPE、TIMESTAMP 和 DISCOUNT。\n",
    "\n",
    "要与 Amazon Personalize 交互模式兼容，此数据集的列标题需要与 Amazon Personalize 默认列名称兼容（请参阅[此处](https://docs.aws.amazon.com/personalize/latest/dg/how-it-works-dataset-schema.html)的列名称）"
   ]
  },
  {
   "cell_type": "markdown",
   "id": "bdd58372",
   "metadata": {},
   "source": [
    "## 准备交互数据\n"
   ]
  },
  {
   "cell_type": "markdown",
   "id": "d5ba5c59",
   "metadata": {},
   "source": [
    "### 删除列\n",
    "\n",
    "此数据集中的某些列不会为我们的模型添加值，因此需要从此数据集中删除列。列，如 *discount*。"
   ]
  },
  {
   "cell_type": "code",
   "execution_count": null,
   "id": "b8ddd974",
   "metadata": {
    "scrolled": true
   },
   "outputs": [],
   "source": [
    "test=df.drop(columns=['DISCOUNT'])\n",
    "df=test\n",
    "df.sample(10)"
   ]
  },
  {
   "cell_type": "markdown",
   "id": "ac663a2b",
   "metadata": {},
   "source": [
    "在下面的单元格中，我们将把清理后的数据写入名为 \"final_training_data.csv 的文件中"
   ]
  },
  {
   "cell_type": "code",
   "execution_count": null,
   "id": "db691d28",
   "metadata": {},
   "outputs": [],
   "source": [
    "df.to_csv(\"cleaned_training_data.csv\")"
   ]
  },
  {
   "cell_type": "markdown",
   "id": "a48e8626",
   "metadata": {},
   "source": [
    "### 上载到 S3\n",
    "现在我们的训练数据已准备好用于 Amazon Personalize，下一步是将数据上载到之前创建的 S3 存储桶"
   ]
  },
  {
   "cell_type": "code",
   "execution_count": null,
   "id": "a3566a6e",
   "metadata": {},
   "outputs": [],
   "source": [
    "interactions_file_path = 'cleaned_training_data.csv'\n",
    "boto3.Session().resource('s3').Bucket(bucket_name).Object(interactions_file_path).upload_file(interactions_file_path)\n",
    "interactions_s3DataPath = \"s3://\"+bucket_name+\"/\"+interactions_file_path\n"
   ]
  },
  {
   "cell_type": "markdown",
   "id": "e66f8e7d",
   "metadata": {},
   "source": [
    "## 配置 S3 存储桶和 IAM 角色\n",
    "\n",
    "到目前为止，我们已下载、操作数据并将数据保存到运行此 Jupyter 笔记本的实例所连接的 Amazon EBS 实例中。但是，Amazon Personalize 需要一个 S3 存储桶充当您的数据源以及用于访问该存储桶的 IAM 角色。让我们把一切都安排好。\n"
   ]
  },
  {
   "cell_type": "markdown",
   "id": "6dc7baa0",
   "metadata": {},
   "source": [
    "## 设置 S3 存储桶策略\n",
    "Amazon Personalize 需要能够读取 S3 存储桶的内容。因此，添加可实现此操作的存储桶策略。\n",
    "\n",
    "注意：确保您用于在此笔记本中运行代码的角色具有修改 S3 存储桶策略所需的权限。"
   ]
  },
  {
   "cell_type": "code",
   "execution_count": null,
   "id": "611dfdbb",
   "metadata": {},
   "outputs": [],
   "source": [
    "s3 = boto3.client(\"s3\")\n",
    "policy = {\n",
    "    \"Version\": \"2012-10-17\",\n",
    "    \"Id\": \"PersonalizeS3BucketAccessPolicy\",\n",
    "    \"Statement\": [\n",
    "        {\n",
    "            \"Sid\": \"PersonalizeS3BucketAccessPolicy\",\n",
    "            \"Effect\": \"Allow\",\n",
    "            \"Principal\": {\n",
    "                \"Service\": \"personalize.amazonaws.com\"\n",
    "            },\n",
    "            \"Action\": [\n",
    "                \"s3:GetObject\",\n",
    "                \"s3:ListBucket\"\n",
    "            ],\n",
    "            \"Resource\": [\n",
    "                \"arn:aws:s3:::{}\".format(bucket_name),\n",
    "                \"arn:aws:s3:::{}/*\".format(bucket_name)\n",
    "            ]\n",
    "        }\n",
    "    ]\n",
    "}\n",
    "\n",
    "s3.put_bucket_policy(Bucket=bucket_name, Policy=json.dumps(policy))"
   ]
  },
  {
   "cell_type": "markdown",
   "id": "18616436",
   "metadata": {},
   "source": [
    "## 创建并等待数据集组\n",
    "Personalize 中最大的分组是数据集组，这将隔离您的数据、事件跟踪器、解决方案、推荐器和活动。把共享通用数据集合的内容分组在一起。您可以随意更改下面的名称。\n",
    "\n",
    "### 创建数据集组"
   ]
  },
  {
   "cell_type": "code",
   "execution_count": null,
   "id": "46554723",
   "metadata": {
    "scrolled": true
   },
   "outputs": [],
   "source": [
    "response = personalize.create_dataset_group(\n",
    "    name='personalize_ecomemerce_ds_group',\n",
    "    domain='ECOMMERCE'\n",
    ")\n",
    "\n",
    "dataset_group_arn = response['datasetGroupArn']\n",
    "print(json.dumps(response, indent=2))"
   ]
  },
  {
   "cell_type": "markdown",
   "id": "3f8986f2",
   "metadata": {},
   "source": [
    "等待数据集组状态变为 ACTIVE\n",
    "在我们可以在以下任何项目中使用数据集组之前，数据集组必须处于活跃状态，请执行下面的单元格并等待项目显示为活跃状态。"
   ]
  },
  {
   "cell_type": "code",
   "execution_count": null,
   "id": "8d7688b7",
   "metadata": {},
   "outputs": [],
   "source": [
    "%%time\n",
    "\n",
    "max_time = time.time() + 3*60*60 # 3 hours\n",
    "while time.time() < max_time:\n",
    "    describe_dataset_group_response = personalize.describe_dataset_group(\n",
    "        datasetGroupArn = dataset_group_arn\n",
    "    )\n",
    "    status = describe_dataset_group_response[\"datasetGroup\"][\"status\"]\n",
    "    print(\"DatasetGroup: {}\".format(status))\n",
    "    \n",
    "    if status == \"ACTIVE\" or status == \"CREATE FAILED\":\n",
    "        break\n",
    "        \n",
    "    time.sleep(60)"
   ]
  },
  {
   "cell_type": "markdown",
   "id": "d8370750",
   "metadata": {},
   "source": [
    "## 创建交互模式\n",
    "Personalize 如何理解您的数据的核心组件来自下面定义的模式。此配置指导服务如何消化通过 CSV 文件提供的数据。注意列和类型与您在上面创建的文件中的内容对齐。"
   ]
  },
  {
   "cell_type": "code",
   "execution_count": null,
   "id": "fc1c193c",
   "metadata": {},
   "outputs": [],
   "source": [
    "interactions_schema = schema = {\n",
    "    \"type\": \"record\",\n",
    "    \"name\": \"Interactions\",\n",
    "    \"namespace\": \"com.amazonaws.personalize.schema\",\n",
    "    \"fields\": [\n",
    "        {\n",
    "            \"name\": \"USER_ID\",\n",
    "            \"type\": \"string\"\n",
    "        },\n",
    "        {\n",
    "            \"name\": \"ITEM_ID\",\n",
    "            \"type\": \"string\"\n",
    "        },\n",
    "        {\n",
    "            \"name\": \"TIMESTAMP\",\n",
    "            \"type\": \"long\"\n",
    "        },\n",
    "        {\n",
    "            \"name\": \"EVENT_TYPE\",\n",
    "            \"type\": \"string\"\n",
    "            \n",
    "        }\n",
    "    ],\n",
    "    \"version\": \"1.0\"\n",
    "}\n",
    "\n",
    "create_schema_response = personalize.create_schema(\n",
    "    name = \"personalize-ecommerce-interatn_group\",\n",
    "    domain = \"ECOMMERCE\",\n",
    "    schema = json.dumps(interactions_schema)\n",
    ")\n",
    "\n",
    "interaction_schema_arn = create_schema_response['schemaArn']\n",
    "print(json.dumps(create_schema_response, indent=2))"
   ]
  },
  {
   "cell_type": "markdown",
   "id": "0efddb27",
   "metadata": {},
   "source": [
    "## 创建数据集\n",
    "在组之后，接下来要创建的是实际数据集。"
   ]
  },
  {
   "cell_type": "markdown",
   "id": "fcb5f9f5",
   "metadata": {},
   "source": [
    "### 创建交互数据集"
   ]
  },
  {
   "cell_type": "code",
   "execution_count": null,
   "id": "e0e0e93f",
   "metadata": {},
   "outputs": [],
   "source": [
    "dataset_type = \"INTERACTIONS\"\n",
    "\n",
    "create_dataset_response = personalize.create_dataset(\n",
    "    name = \"personalize_ecommerce_demo_interactions\",\n",
    "    datasetType = dataset_type,\n",
    "    datasetGroupArn = dataset_group_arn,\n",
    "    schemaArn = interaction_schema_arn\n",
    ")\n",
    "\n",
    "interactions_dataset_arn = create_dataset_response['datasetArn']\n",
    "print(json.dumps(create_dataset_response, indent=2))"
   ]
  },
  {
   "cell_type": "markdown",
   "id": "46982845",
   "metadata": {},
   "source": [
    "## 创建 Personalize 角色\n",
    "此外，Amazon Personalize 需要能够担任 AWS 中的角色，以便拥有执行某些任务的权限，下面的行授予了此权限。\n",
    "\n",
    "注意：确保您用于在此笔记本中运行代码的角色具有创建角色所需的权限。"
   ]
  },
  {
   "cell_type": "code",
   "execution_count": null,
   "id": "748a6825",
   "metadata": {},
   "outputs": [],
   "source": [
    "iam = boto3.client(\"iam\")\n",
    "\n",
    "role_name = \"PersonalizeRoleEcommerceDemoRecommender\"\n",
    "assume_role_policy_document = {\n",
    "    \"Version\": \"2012-10-17\",\n",
    "    \"Statement\": [\n",
    "        {\n",
    "          \"Effect\": \"Allow\",\n",
    "          \"Principal\": {\n",
    "            \"Service\": \"personalize.amazonaws.com\"\n",
    "          },\n",
    "          \"Action\": \"sts:AssumeRole\"\n",
    "        }\n",
    "    ]\n",
    "}\n",
    "\n",
    "create_role_response = iam.create_role(\n",
    "    RoleName = role_name,\n",
    "    AssumeRolePolicyDocument = json.dumps(assume_role_policy_document)\n",
    ")\n",
    "\n",
    "# AmazonPersonalizeFullAccess provides access to any S3 bucket with a name that includes \"personalize\" or \"Personalize\" \n",
    "# if you would like to use a bucket with a different name, please consider creating and attaching a new policy\n",
    "# that provides read access to your bucket or attaching the AmazonS3ReadOnlyAccess policy to the role\n",
    "policy_arn = \"arn:aws:iam::aws:policy/service-role/AmazonPersonalizeFullAccess\"\n",
    "iam.attach_role_policy(\n",
    "    RoleName = role_name,\n",
    "    PolicyArn = policy_arn\n",
    ")\n",
    "\n",
    "# Now add S3 support\n",
    "iam.attach_role_policy(\n",
    "    PolicyArn='arn:aws:iam::aws:policy/AmazonS3FullAccess',\n",
    "    RoleName=role_name\n",
    ")\n",
    "time.sleep(60) # wait for a minute to allow IAM role policy attachment to propagate\n",
    "\n",
    "role_arn = create_role_response[\"Role\"][\"Arn\"]\n",
    "print(role_arn)\n"
   ]
  },
  {
   "cell_type": "markdown",
   "id": "a9e76a08",
   "metadata": {},
   "source": [
    "## 导入数据\n",
    "您之前创建了数据集组和数据集来存储您的信息，现在您将执行一个导入作业，从 S3 将数据加载到 Amazon Personalize 中，用于构建您的模型。\n",
    "### 创建交互数据集导入作业"
   ]
  },
  {
   "cell_type": "code",
   "execution_count": null,
   "id": "f3fac11b",
   "metadata": {},
   "outputs": [],
   "source": [
    "create_interactions_dataset_import_job_response = personalize.create_dataset_import_job(\n",
    "    jobName = \"personalize_ecommerce_demo_interactions_import\",\n",
    "    datasetArn = interactions_dataset_arn,\n",
    "    dataSource = {\n",
    "        \"dataLocation\": \"s3://{}/{}\".format(bucket_name, interactions_file_path)\n",
    "    },\n",
    "    roleArn = role_arn\n",
    ")\n",
    "\n",
    "dataset_interactions_import_job_arn = create_interactions_dataset_import_job_response['datasetImportJobArn']\n",
    "print(json.dumps(create_interactions_dataset_import_job_response, indent=2))"
   ]
  },
  {
   "cell_type": "markdown",
   "id": "3f0d0ce6",
   "metadata": {},
   "source": [
    "等待数据集导入作业状态变为 ACTIVE\n",
    "导入作业可能需要一会儿才能完成，请等待直至看到它在下面处于活跃状态。"
   ]
  },
  {
   "cell_type": "code",
   "execution_count": null,
   "id": "6cc106a5",
   "metadata": {},
   "outputs": [],
   "source": [
    "%%time\n",
    "\n",
    "max_time = time.time() + 3*60*60 # 3 hours\n",
    "while time.time() < max_time:\n",
    "    describe_dataset_import_job_response = personalize.describe_dataset_import_job(\n",
    "        datasetImportJobArn = dataset_interactions_import_job_arn\n",
    "    )\n",
    "    status = describe_dataset_import_job_response[\"datasetImportJob\"]['status']\n",
    "    print(\"DatasetImportJob: {}\".format(status))\n",
    "    \n",
    "    if status == \"ACTIVE\" or status == \"CREATE FAILED\":\n",
    "        break\n",
    "        \n",
    "    time.sleep(60)"
   ]
  },
  {
   "cell_type": "markdown",
   "id": "9c663f8a",
   "metadata": {},
   "source": [
    "## 选择推荐器使用案例\n",
    "\n",
    "每个域都有不同的使用案例。您需要为特定使用案例创建推荐器，并且每个使用案例获得推荐的要求都不同。\n"
   ]
  },
  {
   "cell_type": "code",
   "execution_count": null,
   "id": "fe560051",
   "metadata": {},
   "outputs": [],
   "source": [
    "available_recipes = personalize.list_recipes(domain='ECOMMERCE') # See a list of recommenders for the domain. \n",
    "display (available_recipes['recipes'])"
   ]
  },
  {
   "cell_type": "markdown",
   "id": "792c70fc",
   "metadata": {},
   "source": [
    "我们将创建类型为\"查看 X 的客户也查看了\"的推荐器。此推荐器为客户根据您指定的项目而同时查看的项目提供推荐。在此使用案例中，Amazon Personalize 会根据您指定的用户 ID 和 `Purchase` 事件自动筛选用户已购买的项目。"
   ]
  },
  {
   "cell_type": "code",
   "execution_count": null,
   "id": "b339d6ca",
   "metadata": {},
   "outputs": [],
   "source": [
    "create_recommender_response = personalize.create_recommender(\n",
    "  name = 'viewed_x_also_viewed_demo',\n",
    "  recipeArn = 'arn:aws:personalize:::recipe/aws-ecomm-customers-who-viewed-x-also-viewed',\n",
    "  datasetGroupArn = dataset_group_arn\n",
    ")\n",
    "viewed_x_also_viewed_arn = create_recommender_response[\"recommenderArn\"]\n",
    "print (json.dumps(create_recommender_response))"
   ]
  },
  {
   "cell_type": "markdown",
   "id": "8748c608",
   "metadata": {},
   "source": [
    "我们将创建第二个类型为\"推荐给您\"的推荐器。此类型的推荐器根据您指定的用户为项目提供个性化推荐。在此使用案例中，Amazon Personalize 会根据您指定的用户 ID 和 `Purchase` 事件自动筛选用户已购买的项目。\n",
    "\n",
    "[每个域的更多使用案例](https://docs.aws.amazon.com/personalize/latest/dg/domain-use-cases.html)"
   ]
  },
  {
   "cell_type": "code",
   "execution_count": null,
   "id": "3a63759b",
   "metadata": {},
   "outputs": [],
   "source": [
    "create_recommender_response = personalize.create_recommender(\n",
    "  name = 'recommended_for_you_demo',\n",
    "  recipeArn = 'arn:aws:personalize:::recipe/aws-ecomm-recommended-for-you',\n",
    "  datasetGroupArn = dataset_group_arn\n",
    ")\n",
    "recommended_for_you_arn = create_recommender_response[\"recommenderArn\"]\n",
    "print (json.dumps(create_recommender_response))"
   ]
  },
  {
   "cell_type": "markdown",
   "id": "819244f6",
   "metadata": {},
   "source": [
    "我们等待直至推荐器完成创建且状态变为 `ACTIVE`。我们定期检查推荐器的状态"
   ]
  },
  {
   "cell_type": "code",
   "execution_count": null,
   "id": "3a0ff066",
   "metadata": {},
   "outputs": [],
   "source": [
    "%%time\n",
    "\n",
    "max_time = time.time() + 10*60*60 # 10 hours\n",
    "\n",
    "while time.time() < max_time:\n",
    "\n",
    "    version_response = personalize.describe_recommender(\n",
    "        recommenderArn = viewed_x_also_viewed_arn\n",
    "    )\n",
    "    status = version_response[\"recommender\"][\"status\"]\n",
    "\n",
    "    if status == \"ACTIVE\":\n",
    "        print(\"Build succeeded for {}\".format(viewed_x_also_viewed_arn))\n",
    "        \n",
    "    elif status == \"CREATE FAILED\":\n",
    "        print(\"Build failed for {}\".format(viewed_x_also_viewed_arn))\n",
    "        \n",
    "\n",
    "    if status == \"ACTIVE\" or status == \"CREATE FAILED\":\n",
    "        break\n",
    "    else:\n",
    "        print('The \"Customers who viewed X also viewed\" Recommender build is still in progress')\n",
    "        \n",
    "    time.sleep(60)\n",
    "    \n",
    "while time.time() < max_time:\n",
    "\n",
    "    version_response = personalize.describe_recommender(\n",
    "        recommenderArn = recommended_for_you_arn\n",
    "    )\n",
    "    status = version_response[\"recommender\"][\"status\"]\n",
    "\n",
    "    if status == \"ACTIVE\":\n",
    "        print(\"Build succeeded for {}\".format(recommended_for_you_arn))\n",
    "        \n",
    "    elif status == \"CREATE FAILED\":\n",
    "        print(\"Build failed for {}\".format(recommended_for_you_arn))\n",
    "        break\n",
    "\n",
    "    if status == \"ACTIVE\" or status == \"CREATE FAILED\":\n",
    "        break\n",
    "    else:\n",
    "        print('The \"Recommended for you\" Recommender build is still in progress')\n",
    "        \n",
    "    time.sleep(60)"
   ]
  },
  {
   "cell_type": "markdown",
   "id": "80ed8822",
   "metadata": {},
   "source": [
    "## 通过推荐器获得推荐\n",
    "现在推荐器已经接受过训练，我们来看看我们可以为用户提供的推荐！"
   ]
  },
  {
   "cell_type": "code",
   "execution_count": null,
   "id": "7c73f652",
   "metadata": {},
   "outputs": [],
   "source": [
    "# reading the original data in order to have a dataframe that has both item_ids \n",
    "# and the corresponding titles to make out recommendations easier to read.\n",
    "items_df = pd.read_csv('./items.csv')\n",
    "items_df.sample(10)"
   ]
  },
  {
   "cell_type": "code",
   "execution_count": null,
   "id": "894ffad6",
   "metadata": {},
   "outputs": [],
   "source": [
    "def get_item_by_id(item_id, item_df):\n",
    "    \"\"\"\n",
    "    This takes in an item_id from a recommendation in string format,\n",
    "    converts it to an int, and then does a lookup in a default or specified\n",
    "    dataframe and returns the item description.\n",
    "    \n",
    "    A really broad try/except clause was added in case anything goes wrong.\n",
    "    \n",
    "    Feel free to add more debugging or filtering here to improve results if\n",
    "    you hit an error.\n",
    "    \"\"\"\n",
    "    try:\n",
    "        return items_df.loc[items_df[\"ITEM_ID\"]==str(item_id)]['PRODUCT_DESCRIPTION'].values[0]\n",
    "    except:\n",
    "        print (item_id)\n",
    "        return \"Error obtaining item description\""
   ]
  },
  {
   "cell_type": "markdown",
   "id": "8a66f3ad",
   "metadata": {},
   "source": [
    "让我们使用\"查看 X 的客户也查看了\"推荐器获得一些推荐："
   ]
  },
  {
   "cell_type": "code",
   "execution_count": null,
   "id": "7c5e8243",
   "metadata": {},
   "outputs": [],
   "source": [
    "# use a random valid id for a quick sanity check, modify the line of code bellow to a valid id in your dataset\n",
    "get_item_by_id(\"c72257d4-430b-4eb7-9de3-28396e593381\", items_df)"
   ]
  },
  {
   "cell_type": "code",
   "execution_count": null,
   "id": "21e0885e",
   "metadata": {},
   "outputs": [],
   "source": [
    "# First pick a user\n",
    "test_user_id = \"777\"\n",
    "\n",
    "# Select a random item\n",
    "test_item_id = \"8fbe091c-f73c-4727-8fe7-d27eabd17bea\" # a random item: 8fbe091c-f73c-4727-8fe7-d27eabd17bea\n",
    "\n",
    "# Get recommendations for the user for this item\n",
    "get_recommendations_response = personalize_runtime.get_recommendations(\n",
    "    recommenderArn = viewed_x_also_viewed_arn,\n",
    "    itemId = test_item_id,\n",
    "    userId = test_user_id,\n",
    "    numResults = 10\n",
    ")\n",
    "\n",
    "# Build a new dataframe for the recommendations\n",
    "item_list = get_recommendations_response['itemList']\n",
    "recommendation_list = []\n",
    "\n",
    "for item in item_list:\n",
    "    item = get_item_by_id(item['itemId'], items_df)\n",
    "    recommendation_list.append(item)\n",
    "\n",
    "user_recommendations_df = pd.DataFrame(recommendation_list, columns = [get_item_by_id(test_item_id, items_df)])\n",
    "\n",
    "pd.options.display.max_rows =10\n",
    "display(user_recommendations_df)"
   ]
  },
  {
   "cell_type": "markdown",
   "id": "d43a3f08",
   "metadata": {},
   "source": [
    "从推荐器获得推荐，返回\"推荐给您\"："
   ]
  },
  {
   "cell_type": "code",
   "execution_count": null,
   "id": "58de63e1",
   "metadata": {},
   "outputs": [],
   "source": [
    "# First pick a user\n",
    "test_user_id = \"777\" \n",
    "\n",
    "# Get recommendations for the user\n",
    "get_recommendations_response = personalize_runtime.get_recommendations(\n",
    "    recommenderArn = recommended_for_you_arn,\n",
    "    userId = test_user_id,\n",
    "    numResults = 20\n",
    ")\n",
    "\n",
    "# Build a new dataframe for the recommendations\n",
    "item_list = get_recommendations_response['itemList']\n",
    "recommendation_list = []\n",
    "for item in item_list:\n",
    "    item = get_item_by_id(item['itemId'], items_df)\n",
    "    recommendation_list.append(item)\n",
    "\n",
    "\n",
    "user_recommendations_df = pd.DataFrame(recommendation_list, columns = [test_user_id])\n",
    "\n",
    "pd.options.display.max_rows =20\n",
    "display(user_recommendations_df)"
   ]
  },
  {
   "cell_type": "markdown",
   "id": "c0643fbf",
   "metadata": {},
   "source": [
    "## 审核\n",
    "使用上述代码，您已成功训练了一个深度学习模型，可根据之前的用户行为生成项目推荐。您已为两个基本使用案例创建了两个推荐器。\n",
    "接下来，您可以调整此代码以创建其他推荐器。"
   ]
  },
  {
   "cell_type": "markdown",
   "id": "cdde3dca",
   "metadata": {},
   "source": [
    "## 适用于下一个笔记本的注意事项：\n",
    "您将需要一些值以用于下一个笔记本，请执行下面的单元格来存储这些值，以便在 `Clean_Up_Resources.ipynb` 笔记本中加以使用。\n",
    "\n",
    "这将覆盖为这些变量存储的任何数据，并将数据设置为此笔记本中指定的值。 "
   ]
  },
  {
   "cell_type": "code",
   "execution_count": null,
   "id": "fbb40290",
   "metadata": {},
   "outputs": [],
   "source": [
    "# store for cleanup\n",
    "%store dataset_group_arn\n",
    "%store role_name\n",
    "%store region"
   ]
  },
  {
   "cell_type": "markdown",
   "id": "e0dbac5e",
   "metadata": {},
   "source": [
    "如果您已运行 `Building_Your_First_Recommender_Video_On_Demand.ipynb` 笔记本，请确保在 `Building_Your_First_Recommender_Video_On_Demand.ipynb` 笔记本中重新运行上一步骤，并重新运行 `Clean_Up_Resources.ipynb`，以删除在运行 `Clean_Up_Resources.ipynb` 后在该笔记本中创建的资源以及此处创建的资源。"
   ]
  },
  {
   "cell_type": "code",
   "execution_count": null,
   "id": "2686db4b",
   "metadata": {},
   "outputs": [],
   "source": []
  }
 ],
 "metadata": {
  "kernelspec": {
   "display_name": "conda_python3",
   "language": "python",
   "name": "conda_python3"
  },
  "language_info": {
   "codemirror_mode": {
    "name": "ipython",
    "version": 3
   },
   "file_extension": ".py",
   "mimetype": "text/x-python",
   "name": "python",
   "nbconvert_exporter": "python",
   "pygments_lexer": "ipython3",
   "version": "3.6.13"
  }
 },
 "nbformat": 4,
 "nbformat_minor": 5
}
