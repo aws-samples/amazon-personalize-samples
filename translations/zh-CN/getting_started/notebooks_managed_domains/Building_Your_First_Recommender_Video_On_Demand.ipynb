{
 "cells": [
  {
   "cell_type": "markdown",
   "id": "271cecd0",
   "metadata": {},
   "source": [
    "# 构建您的首个视频点播推荐器\n",
    "\n",
    "本笔记本将指导您完成构建域数据集组和\n",
    "推荐器的步骤，根据从 Movielens 数据集收集的数据返回电影推荐。目标是根据特定用户推荐相关电影。\n",
    "\n",
    "数据来自 [MovieLens 项目](https://grouplens.org/datasets/movielens/)。点击链接，了解有关数据和潜在用途的更多信息。\n",
    "\n",
    "# 如何使用笔记本\n",
    "\n",
    "此代码被分解为如下所示的单元格。在本页顶部有一个三角形 Run（运行）按钮，您可以单击该按钮以执行每个单元格，并移至下一个单元格；也可以按 `Shift` + `Enter` 组合键，在单元格中执行并移至下一个单元格。\n",
    "\n",
    "当一个单元格执行时，您会注意到该单元格运行时旁边有一行显示 `*`，或者它会更新为一个数字，以指示在执行完单元格中的所有代码后完成执行的最后一个单元格。\n",
    "\n",
    "只需按照下面的说明执行单元格，即可通过案例优化推荐器开始使用 Amazon Personalize。"
   ]
  },
  {
   "cell_type": "markdown",
   "id": "627fa06f",
   "metadata": {},
   "source": [
    "## 导入\n",
    "Python 附带有许多库，我们需要导入这些库以及已安装的库来帮助我们，比如 [boto3](https://aws.amazon.com/sdk-for-python/)（适用于 Python 的 AWS SDK）和 [Pandas](https://pandas.pydata.org/)/[Numpy](https://numpy.org/)，它们都是核心数据科学工具。"
   ]
  },
  {
   "cell_type": "code",
   "execution_count": null,
   "id": "7eb7ecd0",
   "metadata": {},
   "outputs": [],
   "source": [
    "# Imports\n",
    "import boto3\n",
    "import json\n",
    "import numpy as np\n",
    "import pandas as pd\n",
    "import time\n",
    "import datetime"
   ]
  },
  {
   "cell_type": "markdown",
   "id": "bb2d3341",
   "metadata": {},
   "source": [
    "接下来，您需要验证您的环境是否可以成功地与 Amazon Personalize 进行通信，下面的行就可以实现这一目的。"
   ]
  },
  {
   "cell_type": "code",
   "execution_count": null,
   "id": "2fe963a8",
   "metadata": {},
   "outputs": [],
   "source": [
    "# Configure the SDK to Personalize:\n",
    "personalize = boto3.client('personalize')\n",
    "personalize_runtime = boto3.client('personalize-runtime')"
   ]
  },
  {
   "cell_type": "markdown",
   "id": "e9ff3048",
   "metadata": {},
   "source": [
    "## 配置数据\n",
    "数据通过 Amazon S3 导入 Amazon Personalize，下面我们将指定您在 AWS 中为此练习创建的存储桶。\n",
    "在下面，您将更新 `bucket` 变量，设置为您之前在 CloudFormation 步骤中创建的值，该值应位于您之前使用的文本文件中。`filename` 不需要更改。\n",
    "### 指定存储桶和数据输出位置\n",
    "将 `bucket` 更新为唯一的名称。"
   ]
  },
  {
   "cell_type": "code",
   "execution_count": null,
   "id": "7a17d9b4",
   "metadata": {},
   "outputs": [],
   "source": [
    "filename = \"movie-lens-100k.csv\""
   ]
  },
  {
   "cell_type": "markdown",
   "id": "d024fd1a",
   "metadata": {},
   "source": [
    "## 下载、准备和上载训练数据\n",
    "目前您尚未在本地加载 MovieLens 数据进行检查，请执行以下行，下载最新副本并快速检查。\n",
    "\n",
    "### 下载并浏览数据集"
   ]
  },
  {
   "cell_type": "code",
   "execution_count": null,
   "id": "b1fa6704",
   "metadata": {},
   "outputs": [],
   "source": [
    "!wget -N https://files.grouplens.org/datasets/movielens/ml-latest-small.zip\n",
    "!unzip -o ml-latest-small.zip"
   ]
  },
  {
   "cell_type": "code",
   "execution_count": null,
   "id": "0de5d30c",
   "metadata": {},
   "outputs": [],
   "source": [
    "!ls ml-latest-small"
   ]
  },
  {
   "cell_type": "code",
   "execution_count": null,
   "id": "3c79f5f9",
   "metadata": {
    "scrolled": true
   },
   "outputs": [],
   "source": [
    "!pygmentize ml-latest-small/README.txt"
   ]
  },
  {
   "cell_type": "code",
   "execution_count": null,
   "id": "43beb2ea",
   "metadata": {},
   "outputs": [],
   "source": [
    "interactions_data = pd.read_csv('./ml-latest-small/ratings.csv')\n",
    "pd.set_option('display.max_rows', 5)\n",
    "interactions_data"
   ]
  },
  {
   "cell_type": "code",
   "execution_count": null,
   "id": "0f104ec4",
   "metadata": {},
   "outputs": [],
   "source": [
    "interactions_data.info()"
   ]
  },
  {
   "cell_type": "markdown",
   "id": "c9f67892",
   "metadata": {},
   "source": [
    "## 准备数据\n",
    "\n",
    "### 交互数据\n",
    "正如您所看到的，数据包含 UserID、ItemID、Rating 和 Timestamp。\n",
    "\n",
    "我们现在将删除排名较低的项目，并删除 Rating 列，然后再为您构建模型。\n",
    "\n",
    "我们还将列 EVENT_TYPE 添加到所有交互中。"
   ]
  },
  {
   "cell_type": "code",
   "execution_count": null,
   "id": "fc635a59",
   "metadata": {},
   "outputs": [],
   "source": [
    "interactions_data = interactions_data[interactions_data['rating'] > 3]                # Keep only movies rated higher than 3 out of 5.\n",
    "interactions_data = interactions_data[['userId', 'movieId', 'timestamp']]\n",
    "interactions_data.rename(columns = {'userId':'USER_ID', 'movieId':'ITEM_ID', \n",
    "                              'timestamp':'TIMESTAMP'}, inplace = True)\n",
    "interactions_data['EVENT_TYPE']='watch' #Adding an EVENT_TYPE column that has the event type \"watched\" for all movies\n",
    "interactions_data.head()"
   ]
  },
  {
   "cell_type": "markdown",
   "id": "1b4bf0dd",
   "metadata": {},
   "source": [
    "### 项目元数据\n",
    "\n",
    "打开项目数据文件并查看第一行。"
   ]
  },
  {
   "cell_type": "code",
   "execution_count": null,
   "id": "349cd146",
   "metadata": {},
   "outputs": [],
   "source": [
    "items_data = pd.read_csv('./ml-latest-small/movies.csv')\n",
    "items_data.head(5)"
   ]
  },
  {
   "cell_type": "code",
   "execution_count": null,
   "id": "3d8a240d",
   "metadata": {},
   "outputs": [],
   "source": [
    "items_data.info()"
   ]
  },
  {
   "cell_type": "code",
   "execution_count": null,
   "id": "be38fa83",
   "metadata": {},
   "outputs": [],
   "source": [
    "items_data['year'] = items_data['title'].str.extract('.*\\((.*)\\).*',expand = False)\n",
    "items_data.head(5)"
   ]
  },
  {
   "cell_type": "markdown",
   "id": "630aaef7",
   "metadata": {},
   "source": [
    "选择现代日期作为此示例的创建时间戳，因为实际创建时间戳未知。在您的使用案例中，请提供相应的创建时间戳。"
   ]
  },
  {
   "cell_type": "code",
   "execution_count": null,
   "id": "c40e1fd0",
   "metadata": {},
   "outputs": [],
   "source": [
    "ts= datetime.datetime(2022, 1, 1, 0, 0).strftime('%s')\n",
    "print(ts)"
   ]
  },
  {
   "cell_type": "code",
   "execution_count": null,
   "id": "85cea8cc",
   "metadata": {},
   "outputs": [],
   "source": [
    "items_data[\"CREATION_TIMESTAMP\"] = ts\n",
    "items_data"
   ]
  },
  {
   "cell_type": "code",
   "execution_count": null,
   "id": "8c5c3e18",
   "metadata": {},
   "outputs": [],
   "source": [
    "# removing the title\n",
    "items_data.drop(columns=\"title\", inplace = True)\n",
    "\n",
    "# renaming the columns to match schema\n",
    "items_data.rename(columns = { 'movieId':'ITEM_ID', 'genres':'GENRES',\n",
    "                              'year':'YEAR'}, inplace = True)\n",
    "items_data"
   ]
  },
  {
   "cell_type": "markdown",
   "id": "9f530cf6",
   "metadata": {},
   "source": [
    "# 用户元数据\n",
    "\n",
    "数据集没有任何用户元数据，因此我们将创建一个假元数据字段。"
   ]
  },
  {
   "cell_type": "code",
   "execution_count": null,
   "id": "964940ab",
   "metadata": {},
   "outputs": [],
   "source": [
    "# get user ids from the interaction dataset\n",
    "\n",
    "user_ids = interactions_data['USER_ID'].unique()\n",
    "user_data = pd.DataFrame()\n",
    "user_data[\"USER_ID\"]=user_ids\n",
    "user_data"
   ]
  },
  {
   "cell_type": "markdown",
   "id": "9e4deabe",
   "metadata": {},
   "source": [
    "## 添加元数据\n",
    "当前数据集不包含其他用户信息。在本示例中，我们将为用户随机分配一个性别，且男女比例相同。"
   ]
  },
  {
   "cell_type": "code",
   "execution_count": null,
   "id": "45271232",
   "metadata": {},
   "outputs": [],
   "source": [
    "possible_genders = ['female', 'male']\n",
    "random = np.random.choice(possible_genders, len(user_data.index), p=[0.5, 0.5])\n",
    "user_data[\"GENDER\"] = random\n",
    "user_data"
   ]
  },
  {
   "cell_type": "markdown",
   "id": "b4275a8f",
   "metadata": {},
   "source": [
    "## 配置 S3 存储桶和 IAM 角色\n",
    "\n",
    "到目前为止，我们已下载、操作数据并将数据保存到运行此 Jupyter 笔记本的实例所连接的 Amazon EBS 实例中。但是，Amazon Personalize 需要一个 S3 存储桶充当您的数据源以及用于访问该存储桶的 IAM 角色。让我们把一切都安排好。\n",
    "\n",
    "Amazon S3 存储桶需要与我们目前创建的 Amazon Personalize 资源位于同一区域。只需在下面将区域定义为字符串即可。"
   ]
  },
  {
   "cell_type": "code",
   "execution_count": null,
   "id": "7841475f",
   "metadata": {},
   "outputs": [],
   "source": [
    "# Sets the same region as current Amazon SageMaker Notebook\n",
    "with open('/opt/ml/metadata/resource-metadata.json') as notebook_info:\n",
    "    data = json.load(notebook_info)\n",
    "    resource_arn = data['ResourceArn']\n",
    "    region = resource_arn.split(':')[3]\n",
    "print('region:', region)\n",
    "\n",
    "# Or you can specify the region where your bucket and model will be domiciled this should be the same region as the Amazon Personalize resources\n",
    "# region = \"us-east-1\"\n"
   ]
  },
  {
   "cell_type": "code",
   "execution_count": null,
   "id": "3f1c7eea",
   "metadata": {},
   "outputs": [],
   "source": [
    "s3 = boto3.client('s3')\n",
    "account_id = boto3.client('sts').get_caller_identity().get('Account')\n",
    "bucket_name = account_id + \"-\" + region + \"-\" + \"personalizemanagedvod\"\n",
    "print('bucket_name:', bucket_name)\n",
    "\n",
    "try: \n",
    "    if region == \"us-east-1\":\n",
    "        s3.create_bucket(Bucket=bucket_name)\n",
    "    else:\n",
    "        s3.create_bucket(\n",
    "            Bucket=bucket_name,\n",
    "            CreateBucketConfiguration={'LocationConstraint': region}\n",
    "            )\n",
    "except:\n",
    "    print(\"Bucket already exists. Using bucket\", bucket_name)"
   ]
  },
  {
   "cell_type": "markdown",
   "id": "cf4a07ed",
   "metadata": {},
   "source": [
    "### 将数据上载到 S3\n",
    "现在，您的 Amazon S3 存储桶已经创建，请上载包含我们的用户-项目-交互数据的 CSV 文件。"
   ]
  },
  {
   "cell_type": "code",
   "execution_count": null,
   "id": "29acd72e",
   "metadata": {},
   "outputs": [],
   "source": [
    "interactions_filename = \"interactions.csv\"\n",
    "interactions_data.to_csv(interactions_filename, index=False)\n",
    "boto3.Session().resource('s3').Bucket(bucket_name).Object(interactions_filename).upload_file(interactions_filename)\n",
    "\n",
    "items_filename = \"items.csv\"\n",
    "items_data.to_csv(items_filename, index=False)\n",
    "boto3.Session().resource('s3').Bucket(bucket_name).Object(items_filename).upload_file(items_filename)\n",
    "\n",
    "user_filename = \"users.csv\"\n",
    "user_data.to_csv(user_filename, index=False)\n",
    "boto3.Session().resource('s3').Bucket(bucket_name).Object(user_filename).upload_file(user_filename)"
   ]
  },
  {
   "cell_type": "markdown",
   "id": "f5156a89",
   "metadata": {},
   "source": [
    "## 设置 S3 存储桶策略\n",
    "Amazon Personalize 需要能够读取 S3 存储桶的内容。因此，添加可实现此操作的存储桶策略。\n",
    "\n",
    "注意：确保您用于在此笔记本中运行代码的角色具有修改 S3 存储桶策略所需的权限。"
   ]
  },
  {
   "cell_type": "code",
   "execution_count": null,
   "id": "b9f1e961",
   "metadata": {},
   "outputs": [],
   "source": [
    "s3 = boto3.client(\"s3\")\n",
    "policy = {\n",
    "    \"Version\": \"2012-10-17\",\n",
    "    \"Id\": \"PersonalizeS3BucketAccessPolicy\",\n",
    "    \"Statement\": [\n",
    "        {\n",
    "            \"Sid\": \"PersonalizeS3BucketAccessPolicy\",\n",
    "            \"Effect\": \"Allow\",\n",
    "            \"Principal\": {\n",
    "                \"Service\": \"personalize.amazonaws.com\"\n",
    "            },\n",
    "            \"Action\": [\n",
    "                \"s3:GetObject\",\n",
    "                \"s3:ListBucket\"\n",
    "            ],\n",
    "            \"Resource\": [\n",
    "                \"arn:aws:s3:::{}\".format(bucket_name),\n",
    "                \"arn:aws:s3:::{}/*\".format(bucket_name)\n",
    "            ]\n",
    "        }\n",
    "    ]\n",
    "}\n",
    "\n",
    "s3.put_bucket_policy(Bucket=bucket_name, Policy=json.dumps(policy))"
   ]
  },
  {
   "cell_type": "markdown",
   "id": "4468293f",
   "metadata": {},
   "source": [
    "## 创建并等待数据集组\n",
    "Personalize 中最大的分组是数据集组，这将隔离您的数据、事件跟踪器、解决方案、推荐器和活动。把共享通用数据集合的内容分组在一起。您可以随意更改下面的名称。\n",
    "\n",
    "### 创建数据集组"
   ]
  },
  {
   "cell_type": "code",
   "execution_count": null,
   "id": "4628a23f",
   "metadata": {
    "scrolled": true
   },
   "outputs": [],
   "source": [
    "response = personalize.create_dataset_group(\n",
    "    name='personalize-video-on-demand-ds-group',\n",
    "    domain='VIDEO_ON_DEMAND'\n",
    ")\n",
    "\n",
    "dataset_group_arn = response['datasetGroupArn']\n",
    "print(json.dumps(response, indent=2))"
   ]
  },
  {
   "cell_type": "markdown",
   "id": "41711fa1",
   "metadata": {},
   "source": [
    "等待数据集组状态变为 ACTIVE\n",
    "在我们可以在以下任何项目中使用数据集组之前，数据集组必须处于活跃状态，请执行下面的单元格并等待项目显示为活跃状态。"
   ]
  },
  {
   "cell_type": "code",
   "execution_count": null,
   "id": "220e8d88",
   "metadata": {},
   "outputs": [],
   "source": [
    "max_time = time.time() + 3*60*60 # 3 hours\n",
    "while time.time() < max_time:\n",
    "    describe_dataset_group_response = personalize.describe_dataset_group(\n",
    "        datasetGroupArn = dataset_group_arn\n",
    "    )\n",
    "    status = describe_dataset_group_response[\"datasetGroup\"][\"status\"]\n",
    "    print(\"DatasetGroup: {}\".format(status))\n",
    "    \n",
    "    if status == \"ACTIVE\" or status == \"CREATE FAILED\":\n",
    "        break\n",
    "        \n",
    "    time.sleep(60)"
   ]
  },
  {
   "cell_type": "markdown",
   "id": "fb229d8b",
   "metadata": {},
   "source": [
    "## 创建交互模式\n",
    "Personalize 如何理解您的数据的核心组件来自下面定义的模式。此配置指导服务如何消化通过 CSV 文件提供的数据。注意列和类型与您在上面创建的文件中的内容对齐。"
   ]
  },
  {
   "cell_type": "code",
   "execution_count": null,
   "id": "9ab327d7",
   "metadata": {},
   "outputs": [],
   "source": [
    "schema = {\n",
    "  \"type\": \"record\",\n",
    "  \"name\": \"Interactions\",\n",
    "  \"namespace\": \"com.amazonaws.personalize.schema\",\n",
    "  \"fields\": [\n",
    "      {\n",
    "          \"name\": \"USER_ID\",\n",
    "          \"type\": \"string\"\n",
    "      },\n",
    "      {\n",
    "          \"name\": \"ITEM_ID\",\n",
    "          \"type\": \"string\"\n",
    "      },\n",
    "      {\n",
    "          \"name\": \"EVENT_TYPE\",\n",
    "          \"type\": \"string\"\n",
    "      },\n",
    "      {\n",
    "          \"name\": \"TIMESTAMP\",\n",
    "          \"type\": \"long\"\n",
    "      }\n",
    "  ],\n",
    "  \"version\": \"1.0\"\n",
    "}\n",
    "\n",
    "create_interactions_schema_response = personalize.create_schema(\n",
    "    name='personalize-demo-interactions-schema',\n",
    "    schema=json.dumps(schema),\n",
    "    domain='VIDEO_ON_DEMAND'\n",
    ")\n",
    "\n",
    "interactions_schema_arn = create_interactions_schema_response['schemaArn']\n",
    "print(json.dumps(create_interactions_schema_response, indent=2))"
   ]
  },
  {
   "cell_type": "markdown",
   "id": "a6f84edb",
   "metadata": {},
   "source": [
    "# 创建项目（电影）架构"
   ]
  },
  {
   "cell_type": "code",
   "execution_count": null,
   "id": "55549abc",
   "metadata": {},
   "outputs": [],
   "source": [
    "schema = {\n",
    "  \"type\": \"record\",\n",
    "  \"name\": \"Items\",\n",
    "  \"namespace\": \"com.amazonaws.personalize.schema\",\n",
    "  \"fields\": [\n",
    "    {\n",
    "      \"name\": \"ITEM_ID\",\n",
    "      \"type\": \"string\"\n",
    "    },\n",
    "    {\n",
    "      \"name\": \"GENRES\",\n",
    "      \"type\": [\n",
    "        \"string\"\n",
    "      ],\n",
    "      \"categorical\": True\n",
    "    },\n",
    "    {\n",
    "      \"name\": \"YEAR\",\n",
    "      \"type\": [\n",
    "        \"string\"\n",
    "      ],\n",
    "      \"categorical\": True\n",
    "    }, \n",
    "    {\n",
    "      \"name\": \"CREATION_TIMESTAMP\",\n",
    "      \"type\": \"long\"\n",
    "    }\n",
    "  ],\n",
    "  \"version\": \"1.0\"\n",
    "}\n",
    "create_items_schema_response = personalize.create_schema(\n",
    "    name='personalize-demo-items-schema',\n",
    "    schema=json.dumps(schema),\n",
    "    domain='VIDEO_ON_DEMAND'\n",
    ")\n",
    "\n",
    "items_schema_arn = create_items_schema_response['schemaArn']\n",
    "print(json.dumps(create_items_schema_response, indent=2))"
   ]
  },
  {
   "cell_type": "markdown",
   "id": "9701807d",
   "metadata": {},
   "source": [
    "# 创建用户架构"
   ]
  },
  {
   "cell_type": "code",
   "execution_count": null,
   "id": "a9a544c8",
   "metadata": {},
   "outputs": [],
   "source": [
    "schema = {\n",
    "    \"type\": \"record\",\n",
    "    \"name\": \"Users\",\n",
    "    \"namespace\": \"com.amazonaws.personalize.schema\",\n",
    "    \"fields\": [\n",
    "      {\n",
    "          \"name\": \"USER_ID\",\n",
    "          \"type\": \"string\"\n",
    "      },\n",
    "      {\n",
    "          \"name\": \"GENDER\",\n",
    "          \"type\": \"string\",\n",
    "          \"categorical\": True\n",
    "      }\n",
    "    ],\n",
    "    \"version\": \"1.0\"\n",
    "}\n",
    "create_users_schema_response = personalize.create_schema(\n",
    "    name='personalize-demo-users-schema',\n",
    "    schema=json.dumps(schema),\n",
    "    domain='VIDEO_ON_DEMAND'\n",
    ")\n",
    "\n",
    "users_schema_arn = create_users_schema_response['schemaArn']\n",
    "print(json.dumps(create_users_schema_response, indent=2))"
   ]
  },
  {
   "cell_type": "markdown",
   "id": "e3d72798",
   "metadata": {},
   "source": [
    "## 创建数据集\n",
    "在组之后，接下来要创建的是实际数据集。"
   ]
  },
  {
   "cell_type": "markdown",
   "id": "0433a207",
   "metadata": {},
   "source": [
    "### 创建交互数据集"
   ]
  },
  {
   "cell_type": "code",
   "execution_count": null,
   "id": "ea8d7499",
   "metadata": {},
   "outputs": [],
   "source": [
    "dataset_type = \"INTERACTIONS\"\n",
    "\n",
    "create_dataset_response = personalize.create_dataset(\n",
    "    name = \"personalize-demo-interactions\",\n",
    "    datasetType = dataset_type,\n",
    "    datasetGroupArn = dataset_group_arn,\n",
    "    schemaArn = interactions_schema_arn\n",
    ")\n",
    "\n",
    "interactions_dataset_arn = create_dataset_response['datasetArn']\n",
    "print(json.dumps(create_dataset_response, indent=2))"
   ]
  },
  {
   "cell_type": "markdown",
   "id": "8b7156ab",
   "metadata": {},
   "source": [
    "### 创建项目数据集"
   ]
  },
  {
   "cell_type": "code",
   "execution_count": null,
   "id": "dc81f7c8",
   "metadata": {},
   "outputs": [],
   "source": [
    "dataset_type = \"ITEMS\"\n",
    "create_dataset_response = personalize.create_dataset(\n",
    "    name = \"personalize-demo-items\",\n",
    "    datasetType = dataset_type,\n",
    "    datasetGroupArn = dataset_group_arn,\n",
    "    schemaArn = items_schema_arn\n",
    ")\n",
    "\n",
    "items_dataset_arn = create_dataset_response['datasetArn']\n",
    "print(json.dumps(create_dataset_response, indent=2))"
   ]
  },
  {
   "cell_type": "markdown",
   "id": "380cb08b",
   "metadata": {},
   "source": [
    "### 创建用户数据集"
   ]
  },
  {
   "cell_type": "code",
   "execution_count": null,
   "id": "d850ba2c",
   "metadata": {},
   "outputs": [],
   "source": [
    "dataset_type = \"USERS\"\n",
    "create_dataset_response = personalize.create_dataset(\n",
    "    name = \"personalize-demo-users\",\n",
    "    datasetType = dataset_type,\n",
    "    datasetGroupArn = dataset_group_arn,\n",
    "    schemaArn = users_schema_arn\n",
    ")\n",
    "\n",
    "users_dataset_arn = create_dataset_response['datasetArn']\n",
    "print(json.dumps(create_dataset_response, indent=2))"
   ]
  },
  {
   "cell_type": "markdown",
   "id": "6f43a05b",
   "metadata": {},
   "source": [
    "## 创建 Personalize 角色\n",
    "此外，Amazon Personalize 需要能够担任 AWS 中的角色，以便拥有执行某些任务的权限，下面的行授予了此权限。\n",
    "\n",
    "注意：确保您用于在此笔记本中运行代码的角色具有创建角色所需的权限。"
   ]
  },
  {
   "cell_type": "code",
   "execution_count": null,
   "id": "fd426458",
   "metadata": {},
   "outputs": [],
   "source": [
    "iam = boto3.client(\"iam\")\n",
    "\n",
    "role_name = \"PersonalizeRoleVODDemoRecommender\"\n",
    "assume_role_policy_document = {\n",
    "    \"Version\": \"2012-10-17\",\n",
    "    \"Statement\": [\n",
    "        {\n",
    "          \"Effect\": \"Allow\",\n",
    "          \"Principal\": {\n",
    "            \"Service\": \"personalize.amazonaws.com\"\n",
    "          },\n",
    "          \"Action\": \"sts:AssumeRole\"\n",
    "        }\n",
    "    ]\n",
    "}\n",
    "\n",
    "create_role_response = iam.create_role(\n",
    "    RoleName = role_name,\n",
    "    AssumeRolePolicyDocument = json.dumps(assume_role_policy_document)\n",
    ")\n",
    "\n",
    "# AmazonPersonalizeFullAccess provides access to any S3 bucket with a name that includes \"personalize\" or \"Personalize\" \n",
    "# if you would like to use a bucket with a different name, please consider creating and attaching a new policy\n",
    "# that provides read access to your bucket or attaching the AmazonS3ReadOnlyAccess policy to the role\n",
    "policy_arn = \"arn:aws:iam::aws:policy/service-role/AmazonPersonalizeFullAccess\"\n",
    "iam.attach_role_policy(\n",
    "    RoleName = role_name,\n",
    "    PolicyArn = policy_arn\n",
    ")\n",
    "\n",
    "# Now add S3 support\n",
    "iam.attach_role_policy(\n",
    "    PolicyArn='arn:aws:iam::aws:policy/AmazonS3FullAccess',\n",
    "    RoleName=role_name\n",
    ")\n",
    "time.sleep(60) # wait for a minute to allow IAM role policy attachment to propagate\n",
    "\n",
    "role_arn = create_role_response[\"Role\"][\"Arn\"]\n",
    "print(role_arn)\n"
   ]
  },
  {
   "cell_type": "markdown",
   "id": "4fd4a8ef",
   "metadata": {},
   "source": [
    "## 导入数据\n",
    "您之前创建了数据集组和数据集来存储您的信息，现在您将执行一个导入作业，从 S3 将数据加载到 Amazon Personalize 中，用于构建您的模型。\n",
    "### 创建交互数据集导入作业"
   ]
  },
  {
   "cell_type": "code",
   "execution_count": null,
   "id": "663e317e",
   "metadata": {},
   "outputs": [],
   "source": [
    "create_interactions_dataset_import_job_response = personalize.create_dataset_import_job(\n",
    "    jobName = \"personalize-demo-import-interactions\",\n",
    "    datasetArn = interactions_dataset_arn,\n",
    "    dataSource = {\n",
    "        \"dataLocation\": \"s3://{}/{}\".format(bucket_name, interactions_filename)\n",
    "    },\n",
    "    roleArn = role_arn\n",
    ")\n",
    "\n",
    "dataset_interactions_import_job_arn = create_interactions_dataset_import_job_response['datasetImportJobArn']\n",
    "print(json.dumps(create_interactions_dataset_import_job_response, indent=2))"
   ]
  },
  {
   "cell_type": "markdown",
   "id": "fdec7339",
   "metadata": {},
   "source": [
    "### 创建项目数据集导入作业"
   ]
  },
  {
   "cell_type": "code",
   "execution_count": null,
   "id": "66094ffd",
   "metadata": {},
   "outputs": [],
   "source": [
    "create_items_dataset_import_job_response = personalize.create_dataset_import_job(\n",
    "    jobName = \"personalize-demo-import-items\",\n",
    "    datasetArn = items_dataset_arn,\n",
    "    dataSource = {\n",
    "        \"dataLocation\": \"s3://{}/{}\".format(bucket_name, items_filename)\n",
    "    },\n",
    "    roleArn = role_arn\n",
    ")\n",
    "\n",
    "dataset_items_import_job_arn = create_items_dataset_import_job_response['datasetImportJobArn']\n",
    "print(json.dumps(create_items_dataset_import_job_response, indent=2))"
   ]
  },
  {
   "cell_type": "markdown",
   "id": "3ed59d22",
   "metadata": {},
   "source": [
    "### 创建用户数据集导入作业"
   ]
  },
  {
   "cell_type": "code",
   "execution_count": null,
   "id": "c1956ffa",
   "metadata": {},
   "outputs": [],
   "source": [
    "create_users_dataset_import_job_response = personalize.create_dataset_import_job(\n",
    "    jobName = \"personalize-demo-import-users\",\n",
    "    datasetArn = users_dataset_arn,\n",
    "    dataSource = {\n",
    "        \"dataLocation\": \"s3://{}/{}\".format(bucket_name, user_filename)\n",
    "    },\n",
    "    roleArn = role_arn\n",
    ")\n",
    "\n",
    "dataset_users_import_job_arn = create_users_dataset_import_job_response['datasetImportJobArn']\n",
    "print(json.dumps(create_users_dataset_import_job_response, indent=2))"
   ]
  },
  {
   "cell_type": "markdown",
   "id": "21508180",
   "metadata": {},
   "source": [
    "等待数据集导入作业状态变为 ACTIVE\n",
    "导入作业可能需要一会儿才能完成，请等待直至看到它在下面处于活跃状态。"
   ]
  },
  {
   "cell_type": "code",
   "execution_count": null,
   "id": "214aafa9",
   "metadata": {},
   "outputs": [],
   "source": [
    "max_time = time.time() + 3*60*60 # 3 hours\n",
    "while time.time() < max_time:\n",
    "    describe_dataset_import_job_response = personalize.describe_dataset_import_job(\n",
    "        datasetImportJobArn = dataset_interactions_import_job_arn\n",
    "    )\n",
    "    status = describe_dataset_import_job_response[\"datasetImportJob\"]['status']\n",
    "    print(\"Interactions DatasetImportJob: {}\".format(status))\n",
    "    \n",
    "    if status == \"ACTIVE\" or status == \"CREATE FAILED\":\n",
    "        break\n",
    "        \n",
    "    time.sleep(60)\n",
    "    \n",
    "max_time = time.time() + 3*60*60 # 3 hours\n",
    "while time.time() < max_time:\n",
    "    describe_dataset_import_job_response = personalize.describe_dataset_import_job(\n",
    "        datasetImportJobArn = dataset_items_import_job_arn\n",
    "    )\n",
    "    status = describe_dataset_import_job_response[\"datasetImportJob\"]['status']\n",
    "    print(\"Items DatasetImportJob: {}\".format(status))\n",
    "    \n",
    "    if status == \"ACTIVE\" or status == \"CREATE FAILED\":\n",
    "        break\n",
    "        \n",
    "    time.sleep(60)\n",
    "    \n",
    "max_time = time.time() + 3*60*60 # 3 hours\n",
    "while time.time() < max_time:\n",
    "    describe_dataset_import_job_response = personalize.describe_dataset_import_job(\n",
    "        datasetImportJobArn = dataset_users_import_job_arn\n",
    "    )\n",
    "    status = describe_dataset_import_job_response[\"datasetImportJob\"]['status']\n",
    "    print(\"Users DatasetImportJob: {}\".format(status))\n",
    "    \n",
    "    if status == \"ACTIVE\" or status == \"CREATE FAILED\":\n",
    "        break\n",
    "        \n",
    "    time.sleep(60)"
   ]
  },
  {
   "cell_type": "markdown",
   "id": "537228cd",
   "metadata": {},
   "source": [
    "## 选择推荐器使用案例\n",
    "\n",
    "每个域都有不同的使用案例。您需要为特定使用案例创建推荐器，并且每个使用案例获得推荐的要求都不同。\n"
   ]
  },
  {
   "cell_type": "code",
   "execution_count": null,
   "id": "58eb33b0",
   "metadata": {},
   "outputs": [],
   "source": [
    "available_recipes = personalize.list_recipes(domain='VIDEO_ON_DEMAND') # See a list of recommenders for the domain. \n",
    "if (len(available_recipes[\"recipes\"])==0):\n",
    "    # This is a workaround to get the recipes in case 'available_recipes[\"recipes\"]'does not retrieve them\n",
    "    available_recipes = personalize.list_recipes(domain='VIDEO_ON_DEMAND', nextToken=available_recipes[\"nextToken\"])\n",
    "display(available_recipes[\"recipes\"])\n",
    "    "
   ]
  },
  {
   "cell_type": "markdown",
   "id": "701ea401",
   "metadata": {},
   "source": [
    "我们将创建一个类型为\"更像 X\"的推荐器。这种类型的推荐器为与用户观看的视频类似的视频提供推荐。对于此使用案例，Amazon Personalize 会根据 `get_recommendations` 调用中指定的用户 ID 自动筛选用户观看过的视频。为了获得更好的性能，除了所需的“观看”事件外，还应记录“点击”事件。"
   ]
  },
  {
   "cell_type": "code",
   "execution_count": null,
   "id": "eb597f45",
   "metadata": {},
   "outputs": [],
   "source": [
    "create_recommender_response = personalize.create_recommender(\n",
    "  name = 'more_like_x_demo',\n",
    "  recipeArn = 'arn:aws:personalize:::recipe/aws-vod-more-like-x',\n",
    "  datasetGroupArn = dataset_group_arn\n",
    ")\n",
    "recommender_more_like_x_arn = create_recommender_response[\"recommenderArn\"]\n",
    "print (json.dumps(create_recommender_response))"
   ]
  },
  {
   "cell_type": "markdown",
   "id": "a066baa2",
   "metadata": {},
   "source": [
    "我们将创建第二个类型为\"精品甄选\"的推荐器。这种类型的推荐器为您指定的用户提供个性化流媒体内容推荐。在此使用案例中，Amazon Personalize 会根据您指定的用户 ID 和 `Watch` 事件自动筛选用户已观看的视频。\n",
    "\n",
    "[每个域的更多使用案例](https://docs.aws.amazon.com/personalize/latest/dg/domain-use-cases.html)"
   ]
  },
  {
   "cell_type": "code",
   "execution_count": null,
   "id": "488c92ba",
   "metadata": {},
   "outputs": [],
   "source": [
    "create_recommender_response = personalize.create_recommender(\n",
    "  name = 'top_picks_for_you_demo',\n",
    "  recipeArn = 'arn:aws:personalize:::recipe/aws-vod-top-picks',\n",
    "  datasetGroupArn = dataset_group_arn\n",
    ")\n",
    "recommender_top_picks_arn = create_recommender_response[\"recommenderArn\"]\n",
    "print (json.dumps(create_recommender_response))"
   ]
  },
  {
   "cell_type": "markdown",
   "id": "101696c0",
   "metadata": {},
   "source": [
    "我们等待直至推荐器完成创建且状态变为 `ACTIVE`。我们定期检查推荐器的状态"
   ]
  },
  {
   "cell_type": "code",
   "execution_count": null,
   "id": "a59d734e",
   "metadata": {},
   "outputs": [],
   "source": [
    "%%time\n",
    "\n",
    "max_time = time.time() + 10*60*60 # 10 hours\n",
    "while time.time() < max_time:\n",
    "\n",
    "    version_response = personalize.describe_recommender(\n",
    "        recommenderArn = recommender_more_like_x_arn\n",
    "    )\n",
    "    status = version_response[\"recommender\"][\"status\"]\n",
    "\n",
    "    if status == \"ACTIVE\":\n",
    "        print(\"Build succeeded for {}\".format(recommender_more_like_x_arn))\n",
    "        \n",
    "    elif status == \"CREATE FAILED\":\n",
    "        print(\"Build failed for {}\".format(recommender_more_like_x_arn))\n",
    "\n",
    "    if status == \"ACTIVE\":\n",
    "        break\n",
    "    else:\n",
    "        print(\"The More Like X Recommender build is still in progress\")\n",
    "        \n",
    "    time.sleep(60)\n",
    "    \n",
    "while time.time() < max_time:\n",
    "\n",
    "    version_response = personalize.describe_recommender(\n",
    "        recommenderArn = recommender_top_picks_arn\n",
    "    )\n",
    "    status = version_response[\"recommender\"][\"status\"]\n",
    "\n",
    "    if status == \"ACTIVE\":\n",
    "        print(\"Build succeeded for {}\".format(recommender_top_picks_arn))\n",
    "        \n",
    "    elif status == \"CREATE FAILED\":\n",
    "        print(\"Build failed for {}\".format(recommender_top_picks_arn))\n",
    "\n",
    "    if status == \"ACTIVE\":\n",
    "        break\n",
    "    else:\n",
    "        print(\"The Top Pics for You Recommender build is still in progress\")\n",
    "        \n",
    "    time.sleep(60)"
   ]
  },
  {
   "cell_type": "markdown",
   "id": "be3453e6",
   "metadata": {},
   "source": [
    "# 通过推荐器获得推荐\n",
    "现在推荐器已经接受过训练，我们来看看我们可以为用户提供的推荐！"
   ]
  },
  {
   "cell_type": "code",
   "execution_count": null,
   "id": "9e2432f8",
   "metadata": {},
   "outputs": [],
   "source": [
    "# reading the original data in order to have a dataframe that has both movie_ids \n",
    "# and the corresponding titles to make out recommendations easier to read.\n",
    "items_df = pd.read_csv('./ml-latest-small/movies.csv')\n",
    "items_df.sample(10)"
   ]
  },
  {
   "cell_type": "code",
   "execution_count": null,
   "id": "0ff4e06f",
   "metadata": {},
   "outputs": [],
   "source": [
    "def get_movie_by_id(movie_id, movie_df):\n",
    "    \"\"\"\n",
    "    This takes in an movie_id from a recommendation in string format,\n",
    "    converts it to an int, and then does a lookup in a specified\n",
    "    dataframe.\n",
    "    \n",
    "    A really broad try/except clause was added in case anything goes wrong.\n",
    "    \n",
    "    Feel free to add more debugging or filtering here to improve results if\n",
    "    you hit an error.\n",
    "    \"\"\"\n",
    "    try:\n",
    "        return movie_df.loc[movie_df[\"movieId\"]==int(movie_id)]['title'].values[0]\n",
    "    except:\n",
    "        print (movie_id)\n",
    "        return \"Error obtaining title\""
   ]
  },
  {
   "cell_type": "markdown",
   "id": "4024e53e",
   "metadata": {},
   "source": [
    "### 让我们获取一些“更像 X”的推荐："
   ]
  },
  {
   "cell_type": "code",
   "execution_count": null,
   "id": "0014d9e0",
   "metadata": {},
   "outputs": [],
   "source": [
    "# First pick a user\n",
    "test_user_id = \"1\"\n",
    "\n",
    "# Select a random item\n",
    "test_item_id = \"81847\" #Iron Man 59315, Tangled: 81847\n",
    "\n",
    "# Get recommendations for the user for this item\n",
    "get_recommendations_response = personalize_runtime.get_recommendations(\n",
    "    recommenderArn = recommender_more_like_x_arn,\n",
    "    userId = test_user_id,\n",
    "    itemId = test_item_id,\n",
    "    numResults = 20\n",
    ")\n",
    "\n",
    "# Build a new dataframe for the recommendations\n",
    "item_list = get_recommendations_response['itemList']\n",
    "recommendation_list = []\n",
    "for item in item_list:\n",
    "    movie = get_movie_by_id(item['itemId'], items_df)\n",
    "    recommendation_list.append(movie)\n",
    "\n",
    "user_recommendations_df = pd.DataFrame(recommendation_list, columns = [get_movie_by_id(test_item_id, items_df)])\n",
    "\n",
    "pd.options.display.max_rows = 20\n",
    "display(user_recommendations_df)"
   ]
  },
  {
   "cell_type": "markdown",
   "id": "c5b98839",
   "metadata": {},
   "source": [
    "### 从推荐器获得推荐，返回\"精品甄选\"："
   ]
  },
  {
   "cell_type": "markdown",
   "id": "7ccfc709",
   "metadata": {},
   "source": [
    "将用户的元数据添加到我们的示例用户中，您可以使用此类元数据获取有关用户的见解。"
   ]
  },
  {
   "cell_type": "code",
   "execution_count": null,
   "id": "3bd89667",
   "metadata": {},
   "outputs": [],
   "source": [
    "users_data_df = pd.read_csv('./users.csv')\n",
    "\n",
    "def get_gender_by_id(user_id, user_df):\n",
    "    \"\"\"\n",
    "    This takes in a user_id and then does a lookup in a specified\n",
    "    dataframe.\n",
    "    \n",
    "    A really broad try/except clause was added in case anything goes wrong.\n",
    "    \n",
    "    Feel free to add more debugging or filtering here to improve results if\n",
    "    you hit an error.\n",
    "    \"\"\"\n",
    "    return user_df.loc[user_df[\"USER_ID\"]==int(user_id)]['GENDER'].values[0]\n",
    "    try:\n",
    "        return user_df.loc[user_df[\"USER_ID\"]==int(user_id)]['GENDER'].values[0]\n",
    "    except:\n",
    "        print (user_id)\n",
    "        return \"Error obtaining title\""
   ]
  },
  {
   "cell_type": "code",
   "execution_count": null,
   "id": "601135d3",
   "metadata": {},
   "outputs": [],
   "source": [
    "# First pick a user\n",
    "test_user_id = \"111\" # samples users: 55, 75, 76, 111\n",
    "\n",
    "# Get recommendations for the user\n",
    "get_recommendations_response = personalize_runtime.get_recommendations(\n",
    "    recommenderArn = recommender_top_picks_arn,\n",
    "    userId = test_user_id,\n",
    "    numResults = 20\n",
    ")\n",
    "\n",
    "# Build a new dataframe for the recommendations\n",
    "item_list = get_recommendations_response['itemList']\n",
    "recommendation_list = []\n",
    "for item in item_list:\n",
    "    movie = get_movie_by_id(item['itemId'], items_df)\n",
    "    recommendation_list.append(movie)\n",
    "\n",
    "column_name = test_user_id+\" (\"+get_gender_by_id(test_user_id, users_data_df)+\")\"\n",
    "\n",
    "user_recommendations_df = pd.DataFrame(recommendation_list, columns = [column_name])\n",
    "\n",
    "pd.options.display.max_rows =20\n",
    "display(user_recommendations_df)"
   ]
  },
  {
   "cell_type": "markdown",
   "id": "95c6521f",
   "metadata": {},
   "source": [
    "## 审核\n",
    "使用上述代码，您已成功训练了一个深度学习模型，可根据之前的用户行为生成电影推荐。您已为两个基本使用案例创建了两个推荐器。\n",
    "接下来，您可以调整此代码以创建其他推荐器。"
   ]
  },
  {
   "cell_type": "markdown",
   "id": "66a85bbd",
   "metadata": {},
   "source": [
    "## 适用于下一个笔记本的注意事项：\n",
    "您将需要一些值以用于下一个笔记本，请执行下面的单元格来存储这些值，以便在 `Clean_Up_Resources.ipynb` 笔记本中加以使用。\n",
    "\n",
    "这将覆盖为这些变量存储的任何数据，并将数据设置为此笔记本中指定的值。 "
   ]
  },
  {
   "cell_type": "code",
   "execution_count": null,
   "id": "b77f68f5",
   "metadata": {},
   "outputs": [],
   "source": [
    "# store for cleanup\n",
    "%store dataset_group_arn\n",
    "%store role_name\n",
    "%store region"
   ]
  },
  {
   "cell_type": "markdown",
   "id": "91efe3cd",
   "metadata": {},
   "source": [
    "如果您已运行 `Building_Your_First_Recommender_Ecommerce.ipynb` 笔记本，请确保在 `Building_Your_First_Recommender_Ecommerce.ipynb` 笔记本中重新运行上一步骤，并重新运行 `Clean_Up_Resources.ipynb`，以删除在运行 `Clean_Up_Resources.ipynb` 后在该笔记本中创建的资源以及此处创建的资源。"
   ]
  },
  {
   "cell_type": "code",
   "execution_count": null,
   "id": "90af76eb",
   "metadata": {},
   "outputs": [],
   "source": []
  }
 ],
 "metadata": {
  "kernelspec": {
   "display_name": "conda_python3",
   "language": "python",
   "name": "conda_python3"
  },
  "language_info": {
   "codemirror_mode": {
    "name": "ipython",
    "version": 3
   },
   "file_extension": ".py",
   "mimetype": "text/x-python",
   "name": "python",
   "nbconvert_exporter": "python",
   "pygments_lexer": "ipython3",
   "version": "3.6.13"
  }
 },
 "nbformat": 4,
 "nbformat_minor": 5
}
