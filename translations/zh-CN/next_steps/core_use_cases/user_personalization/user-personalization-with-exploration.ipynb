{
 "cells": [
  {
   "cell_type": "markdown",
   "metadata": {},
   "source": [
    "## 步骤\n",
    "\n",
    "此笔记本展示如何使用 Amazon Personalize 的新的 User Personalization 配方（aws-user-personalization）。此配方平衡新旧项目之间的推荐，允许您调整平衡以支持更多新项目或旧项目\n",
    "\n",
    "概括来说，使用新的 USER Personalization 配方涉及以下步骤：\n",
    "\n",
    "1. 设置 Personalize 客户端\n",
    "2. 创建数据集组、定义架构、导入数据集并提取实时交互\n",
    "4. 使用新配置 `campaignConfig` 创建活动\n",
    "5. 创建事件跟踪器以提取由 PutEvents 发送的事件。\n",
    "6. 调用 GetRecommendations，响应中会返回一个新字段 `RecommendationId`。\n",
    "7. 使用 `RecommendationId` 或自定义展示项目列表调用 putEvents。\n",
    "8. 等待活动更新。\n",
    "9. 更新活动，停止自动更新。\n",
    "10. 清理\n",
    "\n",
    "\n",
    "> **注意**：**执行此笔记本需要几个小时。**"
   ]
  },
  {
   "cell_type": "markdown",
   "metadata": {},
   "source": [
    "### 用于 AWS API 访问的访问密钥/私人密钥设置。\n",
    "\n",
    "确保您使用的访问密钥、私人密钥具有相应的权限。还要选择运行此演示的区域"
   ]
  },
  {
   "cell_type": "code",
   "execution_count": null,
   "metadata": {},
   "outputs": [],
   "source": [
    "accessKeyId = \"\"\n",
    "secretAccessKey = \"\"\n",
    "region_name = \"\""
   ]
  },
  {
   "cell_type": "code",
   "execution_count": null,
   "metadata": {},
   "outputs": [],
   "source": [
    "import os\n",
    "import boto3\n",
    "from botocore.exceptions import ClientError\n",
    "import time\n",
    "import numpy as np\n",
    "import pandas as pd\n",
    "import json\n",
    "from datetime import datetime"
   ]
  },
  {
   "cell_type": "code",
   "execution_count": null,
   "metadata": {},
   "outputs": [],
   "source": [
    "suffix = str(np.random.uniform())[4:9]\n",
    "prefix = 'user-personalization-'\n",
    "print('prefix+suffix:{}{}'.format(prefix, suffix))\n",
    "s3_bucket_name = (prefix + suffix).lower()\n",
    "interaction_schema_name = prefix + 'interaction-'  + suffix\n",
    "item_metadata_schema_name = prefix + 'items-'  + suffix\n",
    "dataset_group_name = prefix + suffix\n",
    "interaction_dataset_name = prefix + 'interactions-' + suffix\n",
    "item_metadata_dataset_name = prefix + 'items-' + suffix\n",
    "event_tracker_name = prefix + suffix\n",
    "solution_name = prefix + suffix\n",
    "event_tracker_name = prefix + suffix\n",
    "campaign_name = prefix + suffix"
   ]
  },
  {
   "cell_type": "markdown",
   "metadata": {},
   "source": [
    "### 1. 客户端设置\n",
    "让我们首先为 Personalize 和 S3 设置客户端。"
   ]
  },
  {
   "cell_type": "code",
   "execution_count": null,
   "metadata": {},
   "outputs": [],
   "source": [
    "# Public s3 bucket owned by Personalize service which used to store the example dataset.\n",
    "\n",
    "personalize_s3_bucket = \"personalize-cli-json-models\"\n",
    "s3_client = boto3.Session(aws_access_key_id=accessKeyId,\n",
    "                           aws_secret_access_key=secretAccessKey, region_name=region_name).client('s3')\n",
    "\n"
   ]
  },
  {
   "cell_type": "markdown",
   "metadata": {},
   "source": [
    "####  初始化 Personalize 客户端"
   ]
  },
  {
   "cell_type": "code",
   "execution_count": null,
   "metadata": {},
   "outputs": [],
   "source": [
    "\n",
    "personalize = boto3.Session(aws_access_key_id=accessKeyId,\n",
    "                           aws_secret_access_key=secretAccessKey, region_name=region_name).client('personalize')\n",
    "personalize_runtime = boto3.Session(aws_access_key_id=accessKeyId,\n",
    "                           aws_secret_access_key=secretAccessKey, region_name=region_name).client('personalize-runtime')\n",
    "personalize_events = boto3.Session(aws_access_key_id=accessKeyId,\n",
    "                           aws_secret_access_key=secretAccessKey, region_name=region_name).client('personalize-events')"
   ]
  },
  {
   "cell_type": "markdown",
   "metadata": {},
   "source": [
    "### 样本数据集\n",
    "\n",
    "为方便起见，并出于本演示的目的，我们将使用 Personalize 提供的示例数据集。\n",
    "我们提供了两个数据集，一个是项目元数据，另一个是交互数据集。我们先将数据集下载到本地"
   ]
  },
  {
   "cell_type": "code",
   "execution_count": null,
   "metadata": {},
   "outputs": [],
   "source": [
    "interaction_dataset_key = \"sample-dataset/interactions-sample.csv\"\n",
    "items_dataset_key = \"sample-dataset/items-with-creation-timestamp-sample.csv\"\n",
    "interactions_file = os.getcwd() + \"/interaction_raw.csv\"\n",
    "items_metadata_file = os.getcwd() + \"/items_raw.csv\"\n",
    "s3_client.download_file(personalize_s3_bucket, interaction_dataset_key, interactions_file)\n",
    "s3_client.download_file(personalize_s3_bucket, items_dataset_key, items_metadata_file)"
   ]
  },
  {
   "cell_type": "code",
   "execution_count": null,
   "metadata": {},
   "outputs": [],
   "source": [
    "interactions_df = pd.read_csv(interactions_file)\n",
    "items_df = pd.read_csv(items_metadata_file)"
   ]
  },
  {
   "cell_type": "markdown",
   "metadata": {},
   "source": [
    "#### 让我们浏览一下交互数据框"
   ]
  },
  {
   "cell_type": "code",
   "execution_count": null,
   "metadata": {},
   "outputs": [],
   "source": [
    "interactions_df.head(2)"
   ]
  },
  {
   "cell_type": "markdown",
   "metadata": {},
   "source": [
    "#### 交互数据集\n",
    "**ITEM_ID**：与 EVENT_TYPE 对应的项目。\n",
    "\n",
    "**EVENT_TYPE**：事件类型。\n",
    "\n",
    "**TIMESTAMP**：交互的时间戳（毫秒）。（注意是以毫秒为单位） \n",
    "\n",
    "**USER_ID**：与此展示对应的用户 ID。\n",
    "\n",
    "**IMPRESSION：**现在，您可以选择将展示数据与交互数据集中的事件数据一起传递。正如您在上面所看到的，这是在一个新的字段 `IMPRESSION` 中传递的，该字段采用管道连接用户与之交互的项目（例如，显示给用户的项目），展示还包括点击的项目。\n"
   ]
  },
  {
   "cell_type": "code",
   "execution_count": null,
   "metadata": {},
   "outputs": [],
   "source": [
    "items_df.head(2)"
   ]
  },
  {
   "cell_type": "markdown",
   "metadata": {},
   "source": [
    "#### 项目数据集\n",
    "\n",
    "项目数据集包含 Item_ids 和关联的元数据。\n",
    "\n",
    "**ITEM_ID**：项目 ID  \n",
    "\n",
    "**流派** 项目的元数据，如果同一项目有多个类别分类，则使用流水线 \" | \" 连接。\n",
    "\n",
    "**creation_timestamp** 添加项目时的时间戳\n",
    "\n",
    "有关数据集的更多详细信息可以在以下文档中找到：\n",
    "https://docs.aws.amazon.com/personalize/latest/dg/how-it-works-dataset-schema.html"
   ]
  },
  {
   "cell_type": "markdown",
   "metadata": {},
   "source": [
    "#### 更新时间戳\n",
    "\n",
    "在这里，我们将把数据集的时间戳更新为从今天开始的 8 天，以显示实时交互对我们推荐的影响"
   ]
  },
  {
   "cell_type": "code",
   "execution_count": null,
   "metadata": {},
   "outputs": [],
   "source": [
    "current_time = int(time.time())\n",
    "one_hour_ago = current_time - 8 * 24 * 60 * 60\n",
    "# Get the time gap between the latest timestamp in the interaction and the current time \n",
    "interactions_df = interactions_df.astype({\"TIMESTAMP\": 'int64'})\n",
    "latest_time_in_csv = interactions_df[\"TIMESTAMP\"].max()\n",
    "delta = one_hour_ago - latest_time_in_csv"
   ]
  },
  {
   "cell_type": "code",
   "execution_count": null,
   "metadata": {},
   "outputs": [],
   "source": [
    "# shift the latest timestamp in the interactions_df to be the last hour timestamp\n",
    "interactions_df.TIMESTAMP = interactions_df.TIMESTAMP + delta\n",
    "interactions_df.to_csv(os.getcwd() + \"/interaction.csv\", index = False)\n",
    "\n",
    "# shift the latest timestamp in the items_df to be the last hour timestamp\n",
    "items_df = items_df.astype({\"creation_timestamp\": 'int64'})\n",
    "items_df.creation_timestamp = items_df.creation_timestamp + delta\n",
    "items_df.to_csv(os.getcwd() + \"/items.csv\", index = False)"
   ]
  },
  {
   "cell_type": "markdown",
   "metadata": {},
   "source": [
    "#### 更新后，让我们再次检查交互和项目数据集"
   ]
  },
  {
   "cell_type": "code",
   "execution_count": null,
   "metadata": {},
   "outputs": [],
   "source": [
    "interactions_df.head(2)"
   ]
  },
  {
   "cell_type": "code",
   "execution_count": null,
   "metadata": {},
   "outputs": [],
   "source": [
    "items_df.head(2)"
   ]
  },
  {
   "cell_type": "markdown",
   "metadata": {},
   "source": [
    "\n",
    "### 2. 将数据提取到 Amazon Personalize\n",
    "现在，让我们创建一个数据集组、创建架构、上传数据集、创建一个 datasetImport 作业。这一点没有改变。"
   ]
  },
  {
   "cell_type": "markdown",
   "metadata": {},
   "source": [
    "#### a. 创建数据集组\n",
    "\n",
    "这类似于现有配方，完整文档可在[此处](https://docs.aws.amazon.com/personalize/latest/dg/API_DatasetGroup.html)找到"
   ]
  },
  {
   "cell_type": "code",
   "execution_count": null,
   "metadata": {},
   "outputs": [],
   "source": [
    "create_dataset_group_response = personalize.create_dataset_group(\n",
    "    name = dataset_group_name\n",
    ")\n",
    "dataset_group_arn = create_dataset_group_response['datasetGroupArn']"
   ]
  },
  {
   "cell_type": "code",
   "execution_count": null,
   "metadata": {},
   "outputs": [],
   "source": [
    "\n",
    "print('dataset_group_arn : {}'.format(dataset_group_arn))"
   ]
  },
  {
   "cell_type": "code",
   "execution_count": null,
   "metadata": {},
   "outputs": [],
   "source": [
    "status = None\n",
    "max_time = time.time() + 3*60*60 # 3 hours\n",
    "while time.time() < max_time:\n",
    "    describe_dataset_group_response = personalize.describe_dataset_group(\n",
    "        datasetGroupArn = dataset_group_arn\n",
    "    )\n",
    "    status = describe_dataset_group_response[\"datasetGroup\"][\"status\"]\n",
    "    print(\"DatasetGroup: {}\".format(status))\n",
    "    \n",
    "    if status == \"ACTIVE\" or status == \"CREATE FAILED\":\n",
    "        break\n",
    "        \n",
    "    time.sleep(20)"
   ]
  },
  {
   "cell_type": "markdown",
   "metadata": {},
   "source": [
    "#### b. 创建数据集架构\n",
    "\n",
    "> **_注意_**：`Impression` 字段具有类型字符串，并对多个值使用管道连接。"
   ]
  },
  {
   "cell_type": "code",
   "execution_count": null,
   "metadata": {},
   "outputs": [],
   "source": [
    "interaction_schema = {\n",
    "    \"type\": \"record\",\n",
    "    \"name\": \"Interactions\",\n",
    "    \"namespace\": \"com.amazonaws.personalize.schema\",\n",
    "    \"fields\": [\n",
    "        { \n",
    "            \"name\": \"EVENT_TYPE\",\n",
    "            \"type\": \"string\"\n",
    "        },\n",
    "        {\n",
    "            \"name\": \"IMPRESSION\",\n",
    "            \"type\": \"string\"\n",
    "        },\n",
    "        {\n",
    "            \"name\": \"ITEM_ID\",\n",
    "            \"type\": \"string\"\n",
    "        },\n",
    "        {\n",
    "            \"name\": \"TIMESTAMP\",\n",
    "            \"type\": \"long\"\n",
    "        },\n",
    "        {\n",
    "            \"name\": \"USER_ID\",\n",
    "            \"type\": \"string\"\n",
    "        },\n",
    "    ],\n",
    "    \"version\": \"1.0\"\n",
    "}"
   ]
  },
  {
   "cell_type": "code",
   "execution_count": null,
   "metadata": {},
   "outputs": [],
   "source": [
    "interaction_schema_response = personalize.create_schema(\n",
    "    name = interaction_schema_name,\n",
    "    schema = json.dumps(interaction_schema)\n",
    ")\n",
    "# print(json.dumps(create_schema_response, indent=2))\n",
    "interaction_schema_arn = interaction_schema_response['schemaArn']\n",
    "print('interaction_schema_arn:\\n', interaction_schema_arn)"
   ]
  },
  {
   "cell_type": "code",
   "execution_count": null,
   "metadata": {},
   "outputs": [],
   "source": [
    "item_metadata_schema = {\n",
    "    \"type\": \"record\",\n",
    "    \"name\": \"Items\",\n",
    "    \"namespace\": \"com.amazonaws.personalize.schema\",\n",
    "    \"fields\": [\n",
    "    {\n",
    "        \"name\": \"ITEM_ID\",\n",
    "        \"type\": \"string\"\n",
    "    },\n",
    "    {\n",
    "        \"name\": \"GENRES\",\n",
    "        \"type\": \"string\",\n",
    "        \"categorical\": True\n",
    "    },\n",
    "    {\n",
    "        \"name\": \"CREATION_TIMESTAMP\",\n",
    "        \"type\": \"long\"\n",
    "    }\n",
    "    ],\n",
    "    \"version\": \"1.0\"\n",
    "}\n",
    "\n",
    "item_metadata_schema_response = personalize.create_schema(\n",
    "    name = item_metadata_schema_name,\n",
    "    schema = json.dumps(item_metadata_schema)\n",
    ")\n",
    "\n",
    "# print(json.dumps(create_schema_response, indent=2))\n",
    "item_metadata_schema_arn = item_metadata_schema_response['schemaArn']\n",
    "print('item_metadata_schema_arn:\\n', item_metadata_schema_arn)"
   ]
  },
  {
   "cell_type": "markdown",
   "metadata": {},
   "source": [
    "#### c. 创建数据集"
   ]
  },
  {
   "cell_type": "code",
   "execution_count": null,
   "metadata": {},
   "outputs": [],
   "source": [
    "interactions_dataset_response = personalize.create_dataset(\n",
    "    datasetType = 'INTERACTIONS',\n",
    "    datasetGroupArn = dataset_group_arn,\n",
    "    schemaArn = interaction_schema_arn,\n",
    "    name = interaction_dataset_name\n",
    ")\n",
    "interaction_dataset_arn = interactions_dataset_response['datasetArn']\n",
    "#print(json.dumps(create_dataset_response, indent=2))\n",
    "print('interaction_dataset_arn:\\n', interaction_dataset_arn)\n",
    "\n",
    "items_dataset_response = personalize.create_dataset(\n",
    "    datasetType = 'ITEMS',\n",
    "    datasetGroupArn = dataset_group_arn,\n",
    "    schemaArn = item_metadata_schema_arn,\n",
    "    name = item_metadata_dataset_name\n",
    ")\n",
    "item_metadata_dataset_arn = items_dataset_response['datasetArn']\n",
    "#print(json.dumps(create_dataset_response, indent=2))\n",
    "print('item_metadata_dataset_arn:\\n', item_metadata_dataset_arn)"
   ]
  },
  {
   "cell_type": "markdown",
   "metadata": {},
   "source": [
    "#### d. 将数据集上载到 S3 存储桶，设置相应的 S3 存储桶策略、IAM 角色等。\n",
    "\n",
    "我们需要上载这些数据集，您也可以提供已有数据集的存储桶名称"
   ]
  },
  {
   "cell_type": "code",
   "execution_count": null,
   "metadata": {},
   "outputs": [],
   "source": [
    "#!aws s3 mb s3://{s3_bucket_name}\n",
    "s3_bucket_name"
   ]
  },
  {
   "cell_type": "code",
   "execution_count": null,
   "metadata": {},
   "outputs": [],
   "source": [
    "s3_client.create_bucket(Bucket=s3_bucket_name,\n",
    "                          CreateBucketConfiguration={\n",
    "                              'LocationConstraint': region_name})"
   ]
  },
  {
   "cell_type": "code",
   "execution_count": null,
   "metadata": {},
   "outputs": [],
   "source": [
    "interactions_file = os.getcwd() + \"/interaction.csv\"\n",
    "items_metadata_file = os.getcwd() + \"/items.csv\""
   ]
  },
  {
   "cell_type": "code",
   "execution_count": null,
   "metadata": {},
   "outputs": [],
   "source": [
    "s3_client.upload_file(Filename=interactions_file, Bucket=s3_bucket_name,\n",
    "    Key=\"interaction.csv\")\n",
    "s3_client.upload_file(Filename=items_metadata_file, Bucket=s3_bucket_name,\n",
    "    Key=\"items.csv\")"
   ]
  },
  {
   "cell_type": "markdown",
   "metadata": {},
   "source": [
    "#### e. 将策略附加到您的 S3 存储桶"
   ]
  },
  {
   "cell_type": "code",
   "execution_count": null,
   "metadata": {},
   "outputs": [],
   "source": [
    "policy = {\n",
    "    \"Version\": \"2012-10-17\",\n",
    "    \"Id\": \"PersonalizeS3BucketAccessPolicy\",\n",
    "    \"Statement\": [\n",
    "        {\n",
    "            \"Sid\": \"PersonalizeS3BucketAccessPolicy\",\n",
    "            \"Effect\": \"Allow\",\n",
    "            \"Principal\": {\n",
    "                \"Service\": \"personalize.amazonaws.com\"\n",
    "            },\n",
    "            \"Action\": [\n",
    "                \"s3:GetObject\",\n",
    "                \"s3:ListBucket\"\n",
    "            ],\n",
    "            \"Resource\": [\n",
    "                \"arn:aws:s3:::{}\".format(s3_bucket_name),\n",
    "                \"arn:aws:s3:::{}/*\".format(s3_bucket_name)\n",
    "            ]\n",
    "        }\n",
    "    ]\n",
    "}\n",
    "\n",
    "s3_client.put_bucket_policy(Bucket=s3_bucket_name, Policy=json.dumps(policy));"
   ]
  },
  {
   "cell_type": "markdown",
   "metadata": {},
   "source": [
    "#### f. 设置相应的 IAM 角色，以便 Personalize 可以访问数据集"
   ]
  },
  {
   "cell_type": "code",
   "execution_count": null,
   "metadata": {},
   "outputs": [],
   "source": [
    "iam = boto3.client(service_name='iam', \n",
    "                         aws_access_key_id = accessKeyId, \n",
    "                         aws_secret_access_key = secretAccessKey)   \n",
    "\n",
    "\n",
    "role_name = \"PersonalizeS3Role-\"+suffix\n",
    "assume_role_policy_document = {\n",
    "    \"Version\": \"2012-10-17\",\n",
    "    \"Statement\": [\n",
    "        {\n",
    "          \"Effect\": \"Allow\",\n",
    "          \"Principal\": {\n",
    "            \"Service\": \"personalize.amazonaws.com\"\n",
    "          },\n",
    "          \"Action\": \"sts:AssumeRole\"\n",
    "        }\n",
    "    ]\n",
    "}\n",
    "try:\n",
    "    create_role_response = iam.create_role(\n",
    "        RoleName = role_name,\n",
    "        AssumeRolePolicyDocument = json.dumps(assume_role_policy_document)\n",
    "    );\n",
    "\n",
    "    iam.attach_role_policy(\n",
    "        RoleName = role_name,\n",
    "        PolicyArn = \"arn:aws:iam::aws:policy/AmazonS3ReadOnlyAccess\"\n",
    "    );\n",
    "\n",
    "    role_arn = create_role_response[\"Role\"][\"Arn\"]\n",
    "except ClientError as e:\n",
    "    if e.response['Error']['Code'] == 'EntityAlreadyExists':\n",
    "        role_arn = iam.get_role(RoleName=role_name)['Role']['Arn']\n",
    "    else:\n",
    "        raise"
   ]
  },
  {
   "cell_type": "code",
   "execution_count": null,
   "metadata": {},
   "outputs": [],
   "source": [
    "print('role_arn:', role_arn)"
   ]
  },
  {
   "cell_type": "markdown",
   "metadata": {},
   "source": [
    "#### g. 创建 DataSetImportJobs 以上载数据"
   ]
  },
  {
   "cell_type": "code",
   "execution_count": null,
   "metadata": {},
   "outputs": [],
   "source": [
    "time.sleep(20) # wait for RoleARN completion\n",
    "interactions_dij_response = personalize.create_dataset_import_job(\n",
    "    jobName =  prefix + 'interactions-dij-' + suffix,\n",
    "    datasetArn = interaction_dataset_arn,\n",
    "    dataSource = {\n",
    "        \"dataLocation\": \"s3://{}/{}\".format(s3_bucket_name, 'interaction.csv')\n",
    "    },\n",
    "    roleArn = role_arn\n",
    ")\n",
    "\n",
    "interactions_dij_arn = interactions_dij_response['datasetImportJobArn']\n",
    "print('interactions_dij_arn: ', interactions_dij_arn)\n",
    "#print(json.dumps(interactions_dij_arn, indent=2))\n",
    "\n",
    "items_dij_response = personalize.create_dataset_import_job(\n",
    "    jobName =  prefix + 'items-dij-' + suffix,\n",
    "    datasetArn = item_metadata_dataset_arn,\n",
    "    dataSource = {\n",
    "        \"dataLocation\": \"s3://{}/{}\".format(s3_bucket_name, 'items.csv')\n",
    "    },\n",
    "    roleArn = role_arn\n",
    ")\n",
    "\n",
    "items_dij_arn = items_dij_response['datasetImportJobArn']\n",
    "print('items_dij_arn:', items_dij_arn)"
   ]
  },
  {
   "cell_type": "code",
   "execution_count": null,
   "metadata": {},
   "outputs": [],
   "source": [
    "dataset_job_arns = [interactions_dij_arn, items_dij_arn]\n",
    "\n",
    "max_time = time.time() + 3*60*60 # 3 hours\n",
    "while time.time() < max_time and len(dataset_job_arns) != 0:\n",
    "    time.sleep(60)    \n",
    "    for dij_arn in dataset_job_arns:\n",
    "        describe_dataset_import_job_response = personalize.describe_dataset_import_job(\n",
    "            datasetImportJobArn = dij_arn\n",
    "        )\n",
    "        dataset_import_job = describe_dataset_import_job_response[\"datasetImportJob\"]\n",
    "        status = None\n",
    "        if \"latestDatasetImportJobRun\" not in dataset_import_job:\n",
    "            status = dataset_import_job[\"status\"]\n",
    "            print(\"{} : {}\".format(dij_arn, status))\n",
    "        else:\n",
    "            status = dataset_import_job[\"latestDatasetImportJobRun\"][\"status\"]\n",
    "            print(\"DIJ_ARN: {}, LatestDatasetImportJobRun: {}\".format(dij_arn, status))\n",
    "    \n",
    "        if status == \"ACTIVE\" or status == \"CREATE FAILED\":\n",
    "            dataset_job_arns.remove(dij_arn)\n"
   ]
  },
  {
   "cell_type": "markdown",
   "metadata": {},
   "source": [
    "### 3. 创建解决方案、解决方案版本\n",
    "\n",
    "我们将使用“aws-user-personalization”创建解决方案。该配方平衡交付给用户的新旧项目的推荐"
   ]
  },
  {
   "cell_type": "code",
   "execution_count": null,
   "metadata": {},
   "outputs": [],
   "source": [
    "recipe_arn = \"arn:aws:personalize:::recipe/aws-user-personalization\"\n",
    "max_time = time.time() + 3*60*60 # 3 hours\n",
    "create_solution_response = None\n",
    "while time.time() < max_time:\n",
    "\n",
    "    try:\n",
    "        create_solution_response = personalize.create_solution(name=solution_name, \n",
    "                                    recipeArn= recipe_arn, \n",
    "                                    datasetGroupArn = dataset_group_arn)\n",
    "\n",
    "        solution_arn = create_solution_response['solutionArn']\n",
    "        print('solution_arn: ', solution_arn)\n",
    "        break;\n",
    "    except personalize.exceptions.ClientError as e:\n",
    "        if 'EVENT_INTERACTIONS' not in str(e):\n",
    "            print(json.dumps(create_solution_response, indent=2))\n",
    "            print(e)\n",
    "            break"
   ]
  },
  {
   "cell_type": "markdown",
   "metadata": {},
   "source": [
    "#### 创建解决方案版本"
   ]
  },
  {
   "cell_type": "code",
   "execution_count": null,
   "metadata": {},
   "outputs": [],
   "source": [
    "create_solution_version_response = personalize.create_solution_version(solutionArn = solution_arn)\n",
    "\n",
    "solution_version_arn = create_solution_version_response['solutionVersionArn']\n",
    "print('solution_version_arn:', solution_version_arn)"
   ]
  },
  {
   "cell_type": "code",
   "execution_count": null,
   "metadata": {},
   "outputs": [],
   "source": [
    "status = None\n",
    "max_time = time.time() + 3*60*60 # 3 hours\n",
    "while time.time() < max_time:\n",
    "    describe_solution_version_response = personalize.describe_solution_version(\n",
    "        solutionVersionArn = solution_version_arn\n",
    "    )\n",
    "    status = describe_solution_version_response[\"solutionVersion\"][\"status\"]\n",
    "    print(\"SolutionVersion: {}\".format(status))\n",
    "    \n",
    "    if status == \"ACTIVE\" or status == \"CREATE FAILED\":\n",
    "        break\n",
    "        \n",
    "    time.sleep(60)"
   ]
  },
  {
   "cell_type": "markdown",
   "metadata": {},
   "source": [
    "### 4. 创建活动\n",
    "在创建活动时，我们可以设置 itemExplorationConfig 以配置冷项目探索权重和探索年龄截止值。现在，我们可以将 explorationWeight 设置为更高的 0.9，将 explorationItemAgeCutOff 设置为 7，因此我们认为所有创建时间少于 7 天的项目都将被视为冷项目，我们将对这些新项目进行更多的探索。"
   ]
  },
  {
   "cell_type": "markdown",
   "metadata": {},
   "source": [
    "#### 创建活动"
   ]
  },
  {
   "cell_type": "code",
   "execution_count": null,
   "metadata": {
    "scrolled": true
   },
   "outputs": [],
   "source": [
    "create_campaign_response = personalize.create_campaign(\n",
    "    name = prefix + suffix,\n",
    "    solutionVersionArn = solution_version_arn,\n",
    "    minProvisionedTPS = 1,\n",
    "    campaignConfig = {\n",
    "        \"itemExplorationConfig\": {\n",
    "            \"explorationWeight\": \"0.9\",\n",
    "            \"explorationItemAgeCutOff\": \"7\"\n",
    "        }\n",
    "    }\n",
    ")\n",
    "\n",
    "campaign_arn = create_campaign_response['campaignArn']\n",
    "print('campaign_arn:', campaign_arn)"
   ]
  },
  {
   "cell_type": "code",
   "execution_count": null,
   "metadata": {},
   "outputs": [],
   "source": [
    "status = None\n",
    "max_time = time.time() + 3*60*60 # 3 hours\n",
    "while time.time() < max_time:\n",
    "    describe_campaign_response = personalize.describe_campaign(\n",
    "        campaignArn = campaign_arn\n",
    "    )\n",
    "    status = describe_campaign_response[\"campaign\"][\"status\"]\n",
    "    print(\"Campaign: {}\".format(status))\n",
    "    \n",
    "    if status == \"ACTIVE\" or status == \"CREATE FAILED\":\n",
    "        break\n",
    "        \n",
    "    time.sleep(60)"
   ]
  },
  {
   "cell_type": "code",
   "execution_count": null,
   "metadata": {},
   "outputs": [],
   "source": [
    "describe_campaign_response = personalize.describe_campaign(campaignArn = campaign_arn)\n",
    "campaign_summary = describe_campaign_response[\"campaign\"]\n",
    "campaign_summary"
   ]
  },
  {
   "cell_type": "markdown",
   "metadata": {},
   "source": [
    "### 5. 调用 GetRecommendations\n",
    "出于演示目的，我们将使用输入数据集中的用户 ID 来进行 getRecommendation 调用。\n",
    "> **_注意_**：在响应中，您有一个新字段 `RecommendationId`，它对应于 Personalize GetRecommendations 返回的项目列表。您可以传递此 RecommendationId 以指示展示。\n",
    "您还可以将展示作为项目的管道字符串连接进行传递，如果您同时传递 RecommendationId 和 ImpressionList，则 ImpressionList 优先并在系统中使用。"
   ]
  },
  {
   "cell_type": "code",
   "execution_count": null,
   "metadata": {
    "scrolled": false
   },
   "outputs": [],
   "source": [
    "rec_response = personalize_runtime.get_recommendations(campaignArn = campaign_arn, userId = '101')\n",
    "print(rec_response['recommendationId'])"
   ]
  },
  {
   "cell_type": "code",
   "execution_count": null,
   "metadata": {},
   "outputs": [],
   "source": [
    "rec_response['itemList']"
   ]
  },
  {
   "cell_type": "markdown",
   "metadata": {},
   "source": [
    "### 6. 创建事件跟踪器\n",
    "\n",
    "创建一个在使用 PutEvents API 将事件数据发送到指定的数据集组时使用的事件跟踪器。"
   ]
  },
  {
   "cell_type": "code",
   "execution_count": null,
   "metadata": {
    "scrolled": true
   },
   "outputs": [],
   "source": [
    "even_tracker_response = personalize.create_event_tracker( \n",
    "    name=event_tracker_name,\n",
    "    datasetGroupArn=dataset_group_arn\n",
    ")\n",
    "event_tracker_arn  = even_tracker_response['eventTrackerArn']\n",
    "event_tracking_id = even_tracker_response['trackingId']\n",
    "#print(json.dumps(even_tracker_response,indent=2))\n",
    "print('eventTrackerArn:{},\\n eventTrackingId:{}'.format(event_tracker_arn, event_tracking_id))"
   ]
  },
  {
   "cell_type": "markdown",
   "metadata": {},
   "source": [
    "### 7. 通过 PutEvents 发送展示数据以进行个性化设置。\n",
    "Amazon Personalize 可以对两种展示类型进行建模：\n",
    "1. 隐性展示和显性展示。隐性展示是在用户会话期间出现的展示，每当向用户显示某个项目时，Amazon Personalize 都会自动记录这些展示。您可以将这些展示集成到您的推荐工作流中，方法是将 RecommendationID（由 and 操作返回）作为未来 PutEvents 请求的输入。\n",
    "\n",
    "\n",
    "2. 显性展示是您在发出 PutEvents 请求时手动输入的展示。例如，当您由于无法使用等原因而没有显示 GetRecommendations 返回的某些项目时，您可以使用显性展示。\n",
    "\n",
    "> **注意**：如果您在上述交互架构中定义了 `impression`，则需要发送展示列表（从 GetRecommendations 返回的项目或您自己的项目）。\n",
    "**当 recommendationId 和展示都要发送时，Amazon Personalize 将默认使用显性展示。**\n",
    "\n"
   ]
  },
  {
   "cell_type": "markdown",
   "metadata": {},
   "source": [
    "#### 让我们把以前推荐的项目作为展示"
   ]
  },
  {
   "cell_type": "code",
   "execution_count": null,
   "metadata": {
    "scrolled": false
   },
   "outputs": [],
   "source": [
    "personalize_events.put_events(\n",
    "     trackingId = event_tracking_id,\n",
    "     userId= '101',\n",
    "     sessionId = '1',\n",
    "     eventList = [{\n",
    "     'sentAt': datetime.now().timestamp(),\n",
    "     'eventType' : 'click',\n",
    "     'itemId' : rec_response['itemList'][0]['itemId'],        \n",
    "     'recommendationId': rec_response['recommendationId'],\n",
    "     'impression': [item['itemId'] for item in rec_response['itemList']],\n",
    "     }]\n",
    "    )"
   ]
  },
  {
   "cell_type": "markdown",
   "metadata": {},
   "source": [
    "#### 我们也可以放入一些新项目\n",
    "\n",
    "让我们将新的 itemId“2xx”放入 Personalize。"
   ]
  },
  {
   "cell_type": "code",
   "execution_count": null,
   "metadata": {},
   "outputs": [],
   "source": [
    "personalize_events.put_events(\n",
    "     trackingId = event_tracking_id,\n",
    "     userId= '101',\n",
    "     sessionId = '1',\n",
    "     eventList = [{\n",
    "         'sentAt': datetime.now().timestamp(),\n",
    "         'eventType' : 'click',\n",
    "         'itemId' : '240',\n",
    "     },\n",
    "     {\n",
    "         'sentAt': datetime.now().timestamp(),\n",
    "         'eventType' : 'click',\n",
    "         'itemId' : '241',\n",
    "     },\n",
    "     {\n",
    "         'sentAt': datetime.now().timestamp(),\n",
    "         'eventType' : 'click',\n",
    "         'itemId' : '242',\n",
    "     },\n",
    "     {\n",
    "         'sentAt': datetime.now().timestamp(),\n",
    "         'eventType' : 'click',\n",
    "         'itemId' : '243',\n",
    "     },\n",
    "     {\n",
    "         'sentAt': datetime.now().timestamp(),\n",
    "         'eventType' : 'click',\n",
    "         'itemId' : '244',\n",
    "     },\n",
    "     {\n",
    "         'sentAt': datetime.now().timestamp(),\n",
    "         'eventType' : 'click',\n",
    "         'itemId' : '245',\n",
    "     },\n",
    "     {\n",
    "         'sentAt': datetime.now().timestamp(),\n",
    "         'eventType' : 'click',\n",
    "         'itemId' : '246',\n",
    "     },\n",
    "     {\n",
    "         'sentAt': datetime.now().timestamp(),\n",
    "         'eventType' : 'click',\n",
    "         'itemId' : '247',\n",
    "     },\n",
    "     {\n",
    "         'sentAt': datetime.now().timestamp(),\n",
    "         'eventType' : 'click',\n",
    "         'itemId' : '248',\n",
    "     },\n",
    "     {\n",
    "         'sentAt': datetime.now().timestamp(),\n",
    "         'eventType' : 'click',\n",
    "         'itemId' : '249',\n",
    "     }]\n",
    "    )"
   ]
  },
  {
   "cell_type": "markdown",
   "metadata": {},
   "source": [
    "### 8. 使用 updateMode 创建新的 SolutionVersion\n",
    "\n",
    "放置事件后，请等待大约 15 分钟，以便 Personalize 提取新数据，然后使用更新模式创建新的 solutionVersion"
   ]
  },
  {
   "cell_type": "code",
   "execution_count": null,
   "metadata": {},
   "outputs": [],
   "source": [
    "create_solution_version_response = personalize.create_solution_version(solutionArn = solution_arn, trainingMode = \"UPDATE\")\n",
    "\n",
    "solution_version_after_update = create_solution_version_response['solutionVersionArn']\n",
    "print('solution_version_after_update:', solution_version_arn)"
   ]
  },
  {
   "cell_type": "code",
   "execution_count": null,
   "metadata": {},
   "outputs": [],
   "source": [
    "status = None\n",
    "max_time = time.time() + 3*60*60 # 3 hours\n",
    "while time.time() < max_time:\n",
    "    describe_solution_version_response = personalize.describe_solution_version(\n",
    "        solutionVersionArn = solution_version_after_update\n",
    "    )\n",
    "    status = describe_solution_version_response[\"solutionVersion\"][\"status\"]\n",
    "    print(\"SolutionVersion: {}\".format(status))\n",
    "    \n",
    "    if status == \"ACTIVE\" or status == \"CREATE FAILED\":\n",
    "        break\n",
    "        \n",
    "    time.sleep(60)"
   ]
  },
  {
   "cell_type": "markdown",
   "metadata": {},
   "source": [
    "### 9. 更新活动\n",
    "\n",
    "使用更新中的最新解决方案版本 arn 更新活动。"
   ]
  },
  {
   "cell_type": "code",
   "execution_count": null,
   "metadata": {},
   "outputs": [],
   "source": [
    "campaign_arn_response = personalize.update_campaign(campaignArn=campaign_arn, solutionVersionArn=solution_version_after_update)\n",
    "print('campaign_arn_response: ', campaign_arn_response)"
   ]
  },
  {
   "cell_type": "code",
   "execution_count": null,
   "metadata": {},
   "outputs": [],
   "source": [
    "# Wait for campaign update to reflect the new solution-version\n",
    "solutionVersionArn = None\n",
    "max_time = time.time() + 3*60*60 # 3 hours\n",
    "while time.time() < max_time:\n",
    "    describe_campaign_response = personalize.describe_campaign(\n",
    "        campaignArn = campaign_arn\n",
    "    )\n",
    "    solutionVersionArn = describe_campaign_response[\"campaign\"][\"solutionVersionArn\"]\n",
    "    print(\"Campaign solution version: {}\".format(solutionVersionArn))\n",
    "    \n",
    "    if solutionVersionArn == solution_version_after_update:\n",
    "        break\n",
    "        \n",
    "    time.sleep(60)\n",
    "\n",
    "# wait 1 minutes\n",
    "time.sleep(60)"
   ]
  },
  {
   "cell_type": "code",
   "execution_count": null,
   "metadata": {},
   "outputs": [],
   "source": [
    "desc_campaign_response = personalize.describe_campaign(campaignArn = campaign_arn)['campaign'][\"solutionVersionArn\"]\n",
    "desc_campaign_response"
   ]
  },
  {
   "cell_type": "markdown",
   "metadata": {},
   "source": [
    "### 更新解决方案版本后，我们再做一次推荐\n",
    "\n",
    "我们希望在推荐中显示新的项目，因为我们将高探索设置为 0.9"
   ]
  },
  {
   "cell_type": "code",
   "execution_count": null,
   "metadata": {},
   "outputs": [],
   "source": [
    "rec_response = personalize_runtime.get_recommendations(campaignArn = campaign_arn, userId = '101')"
   ]
  },
  {
   "cell_type": "code",
   "execution_count": null,
   "metadata": {},
   "outputs": [],
   "source": [
    "rec_response['itemList']"
   ]
  },
  {
   "cell_type": "markdown",
   "metadata": {},
   "source": [
    "### 使用不同的 explorationWeight 更新活动\n",
    "\n",
    "由于我们设置了较低的 explorationWeight，我们希望在推荐列表中显示更多旧项目。"
   ]
  },
  {
   "cell_type": "code",
   "execution_count": null,
   "metadata": {},
   "outputs": [],
   "source": [
    "desc_campaign_response = personalize.describe_campaign(campaignArn = campaign_arn)['campaign']\n",
    "desc_campaign_response"
   ]
  },
  {
   "cell_type": "code",
   "execution_count": null,
   "metadata": {},
   "outputs": [],
   "source": [
    "campaign_arn_response = personalize.update_campaign(campaignArn=campaign_arn, campaignConfig = {\n",
    "        \"itemExplorationConfig\": {\n",
    "            \"explorationWeight\": \"0.1\",\n",
    "            \"explorationItemAgeCutOff\": \"7\"\n",
    "        }\n",
    "    })\n"
   ]
  },
  {
   "cell_type": "code",
   "execution_count": null,
   "metadata": {},
   "outputs": [],
   "source": [
    "# Wait for campaign update to reflect the new explorationWeight\n",
    "explorationWeight = None\n",
    "max_time = time.time() + 3*60*60 # 3 hours\n",
    "while time.time() < max_time:\n",
    "    describe_campaign_response = personalize.describe_campaign(\n",
    "        campaignArn = campaign_arn\n",
    "    )\n",
    "    explorationWeight = describe_campaign_response[\"campaign\"][\"campaignConfig\"]['itemExplorationConfig']['explorationWeight']\n",
    "    print(\"Current Campaign  explorationWeight: {}\".format(explorationWeight))\n",
    "    \n",
    "    if explorationWeight == \"0.1\":\n",
    "        break\n",
    "        \n",
    "    time.sleep(60)\n",
    "\n",
    "# wait 1 minutes\n",
    "time.sleep(60)"
   ]
  },
  {
   "cell_type": "markdown",
   "metadata": {},
   "source": [
    "### 更新 explorationWeight 后\n",
    "\n",
    "让我们再做一次推荐，我们应该在这里看到更多旧项目。"
   ]
  },
  {
   "cell_type": "code",
   "execution_count": null,
   "metadata": {},
   "outputs": [],
   "source": [
    "rec_response = personalize_runtime.get_recommendations(campaignArn = campaign_arn, userId = '101')"
   ]
  },
  {
   "cell_type": "code",
   "execution_count": null,
   "metadata": {},
   "outputs": [],
   "source": [
    "rec_response"
   ]
  },
  {
   "cell_type": "markdown",
   "metadata": {},
   "source": [
    "#### 10. 删除资源\n",
    "\n",
    "创建所有资源后，让我们清理所有资源。"
   ]
  },
  {
   "cell_type": "code",
   "execution_count": null,
   "metadata": {},
   "outputs": [],
   "source": [
    "personalize.delete_campaign(campaignArn=campaign_arn)\n",
    "while len(personalize.list_campaigns(solutionArn=solution_arn)['campaigns']):\n",
    "    time.sleep(5)\n",
    "\n",
    "personalize.delete_solution(solutionArn=solution_arn)\n",
    "while len(personalize.list_solutions(datasetGroupArn=dataset_group_arn)['solutions']):\n",
    "    time.sleep(5)\n",
    "\n",
    "for dataset in personalize.list_datasets(datasetGroupArn=dataset_group_arn)['datasets']:\n",
    "    personalize.delete_dataset(datasetArn=dataset['datasetArn'])\n",
    "while len(personalize.list_datasets(datasetGroupArn=dataset_group_arn)['datasets']):\n",
    "    time.sleep(5)\n",
    "    \n",
    "personalize.delete_event_tracker(eventTrackerArn=event_tracker_arn)\n",
    "personalize.delete_dataset_group(datasetGroupArn=dataset_group_arn)"
   ]
  }
 ],
 "metadata": {
  "kernelspec": {
   "display_name": "Python 3",
   "language": "python",
   "name": "python3"
  },
  "language_info": {
   "codemirror_mode": {
    "name": "ipython",
    "version": 3
   },
   "file_extension": ".py",
   "mimetype": "text/x-python",
   "name": "python",
   "nbconvert_exporter": "python",
   "pygments_lexer": "ipython3",
   "version": "3.7.7"
  }
 },
 "nbformat": 4,
 "nbformat_minor": 4
}
