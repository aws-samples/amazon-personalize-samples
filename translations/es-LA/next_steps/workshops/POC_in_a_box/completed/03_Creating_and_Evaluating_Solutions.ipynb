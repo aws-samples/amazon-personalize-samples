{
 "cells": [
  {
   "cell_type": "markdown",
   "metadata": {},
   "source": [
    "# Creación y evaluación de soluciones <a class=\"anchor\" id=\"top\"></a>\n",
    "\n",
    "Con este cuaderno, entrenará varios modelos por medio de Amazon Personalize, concretamente: \n",
    "\n",
    "1. Personalización del usuario: qué elementos son más relevantes para un usuario concreto.\n",
    "1. Elementos similares: dado un elemento, qué elementos son similares a él.\n",
    "1. Clasificación personalizada: dado un usuario y una colección de elementos, en qué orden son más relevantes.\n",
    "\n",
    "## Esquema\n",
    "\n",
    "1. [Introducción](#intro)\n",
    "1. [Crear soluciones](#solutions)\n",
    "1. [Evaluar soluciones](#eval)\n",
    "1. [Uso de métricas de evaluación](#use)\n",
    "1. [Almacenamiento de variables útiles](#vars)\n",
    "\n",
    "## Introducción <a class=\"anchor\" id=\"intro\"></a>\n",
    "\n",
    "En resumen, los algoritmos en Amazon Personalize (llamados recetas) buscan resolver diferentes tareas que se explican a continuación:\n",
    "\n",
    "1. **User Personalization (Personalización del usuario)**: nueva versión que admite TODOS los flujos de trabajo de HRNN/necesidades de personalización del usuario, será lo que utilicemos aquí.\n",
    "1. **HRNN & HRNN-Metadata**: recomienda elementos basados en las interacciones previas del usuario con los elementos.\n",
    "1. **HRNN-Coldstart**: recomienda nuevos elementos para los que aún no se dispone de datos de interacción.\n",
    "1. **Personalized-Ranking**: toma una recopilación de elementos y, luego, los ubica en un posible orden de interés mediante un enfoque similar al de una HRNN.\n",
    "1. **SIMS (elementos similares)**: en base a un elemento, recomienda otros elementos con los que también interactúan los usuarios.\n",
    "1. **Popularity-Count**: recomienda los elementos más populares, si la HRNN o los metadatos de la HRNN no ofrecen una respuesta. Esta es la devolución predeterminada.\n",
    "\n",
    "Sin importar cuál sea el caso de uso, todos los algoritmos comparten una base de aprendizaje sobre los datos de interacción entre el usuario y los elementos, la cual se define según 3 atributos principales:\n",
    "\n",
    "1. **UserID**: el usuario que interactuó\n",
    "1. **ItemID**: el elemento con el que interactuó el usuario\n",
    "1. **Timestamp (Marca temporal)**: la hora a la que ocurrió la interacción\n",
    "\n",
    "También admitimos los tipos de eventos y valores de eventos definidos por lo siguiente:\n",
    "\n",
    "1. **Tipo de evento**: etiquetado de eventos por categoría (navegación, compra, clasificación, etc.).\n",
    "1. **Valor de evento**: valor que corresponde al tipo de evento acontecido. En términos generales, buscamos valores normalizados entre 0 y 1 entre los tipos de eventos. Por ejemplo, si existen tres fases para completar una transacción (seleccionar, agregar al carrito y comprar), entonces hay un valor de evento para cada fase, como 0.33, 0.66 y 1.0, respectivamente.\n",
    "\n",
    "Los campos para el tipo de evento y valor de evento son datos adicionales que se pueden utilizar para filtrar los datos enviados para el entrenamiento del modelo de personalización. En este ejercicio en particular no tendremos un tipo de evento ni un tipo de valor. \n",
    "\n",
    "Para ejecutar este cuaderno, es necesario haber ejecutado los cuadernos anteriores, `01_Validating_and_Importing_User_Item_Interaction_Data` y `02_Validating_and_Importing_Item_Metadata.ipynb`, en los que creó un conjunto de datos e importó datos de interacción en Amazon Personalize. Al final de ese cuaderno, guardó algunos de los valores de las variables, que ahora debe cargar en este cuaderno."
   ]
  },
  {
   "cell_type": "code",
   "execution_count": 1,
   "metadata": {},
   "outputs": [],
   "source": [
    "%store -r"
   ]
  },
  {
   "cell_type": "markdown",
   "metadata": {},
   "source": [
    "## Crear soluciones <a class=\"anchor\" id=\"solutions\"></a>\n",
    "[Regresar al principio](#top)\n",
    "\n",
    "En este cuaderno, creará soluciones con las siguientes recetas:\n",
    "\n",
    "1. Personalización del usuario\n",
    "1. SIMS\n",
    "1. Clasificación personalizada\n",
    "\n",
    "La receta Popularity-Count es la solución más sencilla disponible en Amazon Personalize y solo debería utilizarse como alternativa, por lo que tampoco se tratará en este cuaderno.\n",
    "\n",
    "Al igual que en el cuaderno anterior, comience por importar los paquetes pertinentes y configure una conexión con Amazon Personalize mediante el SDK."
   ]
  },
  {
   "cell_type": "code",
   "execution_count": 2,
   "metadata": {},
   "outputs": [],
   "source": [
    "import time\n",
    "from time import sleep\n",
    "import json\n",
    "\n",
    "import boto3"
   ]
  },
  {
   "cell_type": "code",
   "execution_count": 3,
   "metadata": {},
   "outputs": [],
   "source": [
    "# Configure the SDK to Personalize:\n",
    "personalize = boto3.client('personalize')\n",
    "personalize_runtime = boto3.client('personalize-runtime')"
   ]
  },
  {
   "cell_type": "markdown",
   "metadata": {},
   "source": [
    "Una variación específica de un algoritmo se denomina receta en Amazon Personalize. Las diferentes recetas son adecuadas para diferentes situaciones. Un modelo entrenado se denomina solución, y cada solución puede tener muchas versiones relacionadas con un determinado volumen de datos cuando se entrenó el modelo.\n",
    "\n",
    "Para comenzar, enumeraremos todas las recetas que son compatibles. Esto le permitirá seleccionar una y utilizarla para crear el modelo."
   ]
  },
  {
   "cell_type": "code",
   "execution_count": 4,
   "metadata": {},
   "outputs": [
    {
     "data": {
      "text/plain": [
       "{'recipes': [{'name': 'aws-hrnn',\n",
       "   'recipeArn': 'arn:aws:personalize:::recipe/aws-hrnn',\n",
       "   'status': 'ACTIVE',\n",
       "   'creationDateTime': datetime.datetime(2019, 6, 10, 0, 0, tzinfo=tzlocal()),\n",
       "   'lastUpdatedDateTime': datetime.datetime(2020, 8, 25, 16, 57, 0, 148000, tzinfo=tzlocal())},\n",
       "  {'name': 'aws-hrnn-coldstart',\n",
       "   'recipeArn': 'arn:aws:personalize:::recipe/aws-hrnn-coldstart',\n",
       "   'status': 'ACTIVE',\n",
       "   'creationDateTime': datetime.datetime(2019, 6, 10, 0, 0, tzinfo=tzlocal()),\n",
       "   'lastUpdatedDateTime': datetime.datetime(2020, 8, 25, 16, 57, 0, 148000, tzinfo=tzlocal())},\n",
       "  {'name': 'aws-hrnn-metadata',\n",
       "   'recipeArn': 'arn:aws:personalize:::recipe/aws-hrnn-metadata',\n",
       "   'status': 'ACTIVE',\n",
       "   'creationDateTime': datetime.datetime(2019, 6, 10, 0, 0, tzinfo=tzlocal()),\n",
       "   'lastUpdatedDateTime': datetime.datetime(2020, 8, 25, 16, 57, 0, 148000, tzinfo=tzlocal())},\n",
       "  {'name': 'aws-personalized-ranking',\n",
       "   'recipeArn': 'arn:aws:personalize:::recipe/aws-personalized-ranking',\n",
       "   'status': 'ACTIVE',\n",
       "   'creationDateTime': datetime.datetime(2019, 6, 10, 0, 0, tzinfo=tzlocal()),\n",
       "   'lastUpdatedDateTime': datetime.datetime(2020, 8, 25, 16, 57, 0, 148000, tzinfo=tzlocal())},\n",
       "  {'name': 'aws-popularity-count',\n",
       "   'recipeArn': 'arn:aws:personalize:::recipe/aws-popularity-count',\n",
       "   'status': 'ACTIVE',\n",
       "   'creationDateTime': datetime.datetime(2019, 6, 10, 0, 0, tzinfo=tzlocal()),\n",
       "   'lastUpdatedDateTime': datetime.datetime(2020, 8, 25, 16, 57, 0, 148000, tzinfo=tzlocal())},\n",
       "  {'name': 'aws-sims',\n",
       "   'recipeArn': 'arn:aws:personalize:::recipe/aws-sims',\n",
       "   'status': 'ACTIVE',\n",
       "   'creationDateTime': datetime.datetime(2019, 6, 10, 0, 0, tzinfo=tzlocal()),\n",
       "   'lastUpdatedDateTime': datetime.datetime(2020, 8, 25, 16, 57, 0, 148000, tzinfo=tzlocal())},\n",
       "  {'name': 'aws-user-personalization',\n",
       "   'recipeArn': 'arn:aws:personalize:::recipe/aws-user-personalization',\n",
       "   'status': 'ACTIVE',\n",
       "   'creationDateTime': datetime.datetime(2019, 6, 10, 0, 0, tzinfo=tzlocal()),\n",
       "   'lastUpdatedDateTime': datetime.datetime(2020, 8, 25, 16, 57, 0, 148000, tzinfo=tzlocal())}],\n",
       " 'ResponseMetadata': {'RequestId': 'ea9dca58-d8d5-4886-a432-a74cc2499619',\n",
       "  'HTTPStatusCode': 200,\n",
       "  'HTTPHeaders': {'content-type': 'application/x-amz-json-1.1',\n",
       "   'date': 'Wed, 16 Sep 2020 23:47:52 GMT',\n",
       "   'x-amzn-requestid': 'ea9dca58-d8d5-4886-a432-a74cc2499619',\n",
       "   'content-length': '1259',\n",
       "   'connection': 'keep-alive'},\n",
       "  'RetryAttempts': 0}}"
      ]
     },
     "execution_count": 4,
     "metadata": {},
     "output_type": "execute_result"
    }
   ],
   "source": [
    "personalize.list_recipes()"
   ]
  },
  {
   "cell_type": "markdown",
   "metadata": {},
   "source": [
    "El resultado es solo una representación JSON de todos los algoritmos mencionados en la introducción.\n",
    "\n",
    "A continuación, seleccionaremos recetas específicas y crearemos modelos con ellas.\n",
    "\n",
    "### Personalización del usuario\n",
    "La receta User-Personalization (aws-user-personalization) está optimizada para todos los escenarios de recomendación USER_PERSONALIZATION. Utiliza la exploración automática de elementos para hacer recomendaciones.\n",
    "\n",
    "Con la exploración automática, Amazon Personalize prueba automáticamente diferentes recomendaciones de elementos, aprende de la forma en que los usuarios interactúan con estos elementos recomendados y potencia las recomendaciones de elementos que impulsan un mejor compromiso y conversión. Esto mejora el descubrimiento de elementos y la participación cuando tiene un catálogo que cambia rápidamente, o cuando los nuevos elementos, como las noticias o las promociones, son más relevantes para los usuarios cuando están frescos.\n",
    "\n",
    "Puede equilibrar cuánto explorar (donde los elementos con menos datos de interacciones o relevancia se recomiendan con más frecuencia) frente a cuánto explotar (donde las recomendaciones se basan en lo que conocemos o en la relevancia). Amazon Personalize ajusta automáticamente las futuras recomendaciones en función de los comentarios implícitos de los usuarios.\n",
    "\n",
    "En primer lugar, seleccione la receta buscando el ARN en la lista de recetas anterior."
   ]
  },
  {
   "cell_type": "code",
   "execution_count": 5,
   "metadata": {},
   "outputs": [],
   "source": [
    "user_personalization_recipe_arn = \"arn:aws:personalize:::recipe/aws-user-personalization\""
   ]
  },
  {
   "cell_type": "markdown",
   "metadata": {},
   "source": [
    "#### Crear la solución\n",
    "\n",
    "Primero cree una solución con la receta. Aunque en este paso se proporciona el conjunto de datos ARN, el modelo aún no está entrenado. Véalo como un identificador en lugar de un modelo entrenado."
   ]
  },
  {
   "cell_type": "code",
   "execution_count": 6,
   "metadata": {},
   "outputs": [],
   "source": [
    "user_personalization_create_solution_response = personalize.create_solution(\n",
    "    name = \"personalize-poc-userpersonalization\",\n",
    "    datasetGroupArn = dataset_group_arn,\n",
    "    recipeArn = user_personalization_recipe_arn\n",
    ")\n",
    "\n",
    "user_personalization_solution_arn = user_personalization_create_solution_response['solutionArn']\n"
   ]
  },
  {
   "cell_type": "code",
   "execution_count": 7,
   "metadata": {},
   "outputs": [
    {
     "name": "stdout",
     "output_type": "stream",
     "text": [
      "\"arn:aws:personalize:us-east-1:451584754870:solution/personalize-poc-userpersonalization\"\n"
     ]
    }
   ],
   "source": [
    "print(json.dumps(user_personalization_solution_arn, indent=2))"
   ]
  },
  {
   "cell_type": "markdown",
   "metadata": {},
   "source": [
    "#### Crear la versión de la solución\n",
    "\n",
    "Una vez que tenga una solución, deberá crear una versión a fin de completar el entrenamiento del modelo. Completar el entrenamiento puede llevar un tiempo, más de 25 minutos, y un promedio de 90 minutos para esta receta con nuestro conjunto de datos. Por lo general, utilizaríamos un bucle while para hacer un seguimiento hasta que se complete la tarea. Sin embargo, la tarea bloquearía la ejecución de otras celdas, y el objetivo aquí es crear muchos modelos e implementarlos rápidamente. Así que estableceremos el bucle while para todas las soluciones más adelante en el cuaderno. Allí, también encontrará instrucciones para ver el progreso en la consola de AWS."
   ]
  },
  {
   "cell_type": "code",
   "execution_count": 7,
   "metadata": {},
   "outputs": [],
   "source": [
    "userpersonalization_create_solution_version_response = personalize.create_solution_version(\n",
    "    solutionArn = user_personalization_solution_arn\n",
    ")"
   ]
  },
  {
   "cell_type": "code",
   "execution_count": 8,
   "metadata": {},
   "outputs": [
    {
     "name": "stdout",
     "output_type": "stream",
     "text": [
      "{\n",
      "  \"solutionArn\": \"arn:aws:personalize:us-east-1:136455442858:solution/personalize-poc-userpersonalization\",\n",
      "  \"ResponseMetadata\": {\n",
      "    \"RequestId\": \"11f510f4-f6da-4419-a0e4-567a504c5f9c\",\n",
      "    \"HTTPStatusCode\": 200,\n",
      "    \"HTTPHeaders\": {\n",
      "      \"content-type\": \"application/x-amz-json-1.1\",\n",
      "      \"date\": \"Wed, 16 Sep 2020 23:47:58 GMT\",\n",
      "      \"x-amzn-requestid\": \"11f510f4-f6da-4419-a0e4-567a504c5f9c\",\n",
      "      \"content-length\": \"105\",\n",
      "      \"connection\": \"keep-alive\"\n",
      "    },\n",
      "    \"RetryAttempts\": 0\n",
      "  }\n",
      "}\n"
     ]
    }
   ],
   "source": [
    "userpersonalization_solution_version_arn = userpersonalization_create_solution_version_response['solutionVersionArn']\n",
    "print(json.dumps(user_personalization_create_solution_response, indent=2))"
   ]
  },
  {
   "cell_type": "markdown",
   "metadata": {},
   "source": [
    "### SIMS\n",
    "\n",
    "\n",
    "SIMS es uno de los algoritmos más antiguos utilizados en Amazon para los sistemas de recomendación. Un caso de uso básico es cuando se tiene un elemento y se quiere recomendar elementos con los que se ha interactuado de forma similar en toda la base de usuarios. Esto significa que el resultado no se personaliza por usuario. A veces, esto hace que se recomienden sobre todo elementos populares, por eso hay un hiperparámetro que puede ajustarse para reducir los elementos populares en los resultados. \n",
    "\n",
    "Para nuestro caso de uso, a partir de los datos de MovieLens, supongamos que elegimos una película concreta. A continuación, podemos utilizar SIMS para recomendar otras películas basándonos en el comportamiento de interacción de toda la base de usuarios. Los resultados no son personalizados por usuario, sino que difieren en función de la película que hayamos elegido como entrada.\n",
    "\n",
    "Al igual que la última vez, empezamos por seleccionar la receta."
   ]
  },
  {
   "cell_type": "code",
   "execution_count": 9,
   "metadata": {},
   "outputs": [],
   "source": [
    "SIMS_recipe_arn = \"arn:aws:personalize:::recipe/aws-sims\""
   ]
  },
  {
   "cell_type": "markdown",
   "metadata": {},
   "source": [
    "#### Crear la solución\n",
    "\n",
    "Al igual que con la HRNN, hay que empezar por crear la solución primero. Aunque en este paso se proporciona el conjunto de datos ARN, el modelo aún no está entrenado. Véalo como un identificador en lugar de un modelo entrenado."
   ]
  },
  {
   "cell_type": "code",
   "execution_count": 10,
   "metadata": {},
   "outputs": [
    {
     "name": "stdout",
     "output_type": "stream",
     "text": [
      "{\n",
      "  \"solutionArn\": \"arn:aws:personalize:us-east-1:136455442858:solution/personalize-poc-sims\",\n",
      "  \"ResponseMetadata\": {\n",
      "    \"RequestId\": \"14c2cab0-6b36-4122-8f71-402acfa0c5e3\",\n",
      "    \"HTTPStatusCode\": 200,\n",
      "    \"HTTPHeaders\": {\n",
      "      \"content-type\": \"application/x-amz-json-1.1\",\n",
      "      \"date\": \"Wed, 16 Sep 2020 23:48:12 GMT\",\n",
      "      \"x-amzn-requestid\": \"14c2cab0-6b36-4122-8f71-402acfa0c5e3\",\n",
      "      \"content-length\": \"90\",\n",
      "      \"connection\": \"keep-alive\"\n",
      "    },\n",
      "    \"RetryAttempts\": 0\n",
      "  }\n",
      "}\n"
     ]
    }
   ],
   "source": [
    "sims_create_solution_response = personalize.create_solution(\n",
    "    name = \"personalize-poc-sims\",\n",
    "    datasetGroupArn = dataset_group_arn,\n",
    "    recipeArn = SIMS_recipe_arn\n",
    ")\n",
    "\n",
    "sims_solution_arn = sims_create_solution_response['solutionArn']\n",
    "print(json.dumps(sims_create_solution_response, indent=2))"
   ]
  },
  {
   "cell_type": "markdown",
   "metadata": {},
   "source": [
    "#### Crear la versión de la solución\n",
    "\n",
    "Una vez que tenga una solución, deberá crear una versión a fin de completar el entrenamiento del modelo. Completar el entrenamiento puede llevar un tiempo, más de 25 minutos, y un promedio de 35 minutos para esta receta con nuestro conjunto de datos. Por lo general, utilizaríamos un bucle while para hacer un seguimiento hasta que se complete la tarea. Sin embargo, la tarea bloquearía la ejecución de otras celdas, y el objetivo aquí es crear muchos modelos e implementarlos rápidamente. Así que estableceremos el bucle while para todas las soluciones más adelante en el cuaderno. Allí, también encontrará instrucciones para ver el progreso en la consola de AWS."
   ]
  },
  {
   "cell_type": "code",
   "execution_count": 11,
   "metadata": {},
   "outputs": [],
   "source": [
    "sims_create_solution_version_response = personalize.create_solution_version(\n",
    "    solutionArn = sims_solution_arn\n",
    ")"
   ]
  },
  {
   "cell_type": "code",
   "execution_count": 12,
   "metadata": {},
   "outputs": [
    {
     "name": "stdout",
     "output_type": "stream",
     "text": [
      "{\n",
      "  \"solutionVersionArn\": \"arn:aws:personalize:us-east-1:136455442858:solution/personalize-poc-sims/c1a33236\",\n",
      "  \"ResponseMetadata\": {\n",
      "    \"RequestId\": \"57e5bcee-b7cf-4eaf-8768-7f81c084232a\",\n",
      "    \"HTTPStatusCode\": 200,\n",
      "    \"HTTPHeaders\": {\n",
      "      \"content-type\": \"application/x-amz-json-1.1\",\n",
      "      \"date\": \"Wed, 16 Sep 2020 23:48:15 GMT\",\n",
      "      \"x-amzn-requestid\": \"57e5bcee-b7cf-4eaf-8768-7f81c084232a\",\n",
      "      \"content-length\": \"106\",\n",
      "      \"connection\": \"keep-alive\"\n",
      "    },\n",
      "    \"RetryAttempts\": 0\n",
      "  }\n",
      "}\n"
     ]
    }
   ],
   "source": [
    "sims_solution_version_arn = sims_create_solution_version_response['solutionVersionArn']\n",
    "print(json.dumps(sims_create_solution_version_response, indent=2))"
   ]
  },
  {
   "cell_type": "markdown",
   "metadata": {},
   "source": [
    "### Clasificación personalizada\n",
    "\n",
    "La clasificación personalizada es una aplicación interesante de la HRNN. En lugar de limitarse a recomendar lo más probable para el usuario en cuestión, este algoritmo toma un usuario y también una lista de elementos. A continuación, los elementos se vuelven a presentar en el orden de relevancia más probable para el usuario. El caso de uso aquí es para filtrar en categorías únicas que no tiene metadatos de elementos para crear un filtro, o cuando tiene una amplia colección que le gustaría ordenar mejor para un usuario en particular.\n",
    "\n",
    "Para nuestro caso de uso, por medio de los datos de MovieLens, podríamos imaginar que una aplicación de video bajo demanda (VOD) podría querer crear un estante de películas de cómics, o películas de un director específico. Lo más probable es que tengamos estas listas basadas en los metadatos de los títulos que tenemos. Utilizaríamos la clasificación personalizada para reordenar la lista de películas de cada usuario, basándonos en su historial de etiquetado anterior. \n",
    "\n",
    "Al igual que la última vez, empezamos por seleccionar la receta."
   ]
  },
  {
   "cell_type": "code",
   "execution_count": 13,
   "metadata": {},
   "outputs": [],
   "source": [
    "rerank_recipe_arn = \"arn:aws:personalize:::recipe/aws-personalized-ranking\""
   ]
  },
  {
   "cell_type": "markdown",
   "metadata": {},
   "source": [
    "#### Crear la solución\n",
    "\n",
    "Al igual que con la solución anterior, comience por crear la solución primero. Aunque en este paso se proporciona el conjunto de datos ARN, el modelo aún no está entrenado. Véalo como un identificador en lugar de un modelo entrenado."
   ]
  },
  {
   "cell_type": "code",
   "execution_count": 14,
   "metadata": {},
   "outputs": [
    {
     "name": "stdout",
     "output_type": "stream",
     "text": [
      "{\n",
      "  \"solutionArn\": \"arn:aws:personalize:us-east-1:136455442858:solution/personalize-poc-rerank\",\n",
      "  \"ResponseMetadata\": {\n",
      "    \"RequestId\": \"932af10c-a961-41a1-bd53-079141b054c8\",\n",
      "    \"HTTPStatusCode\": 200,\n",
      "    \"HTTPHeaders\": {\n",
      "      \"content-type\": \"application/x-amz-json-1.1\",\n",
      "      \"date\": \"Wed, 16 Sep 2020 23:48:26 GMT\",\n",
      "      \"x-amzn-requestid\": \"932af10c-a961-41a1-bd53-079141b054c8\",\n",
      "      \"content-length\": \"92\",\n",
      "      \"connection\": \"keep-alive\"\n",
      "    },\n",
      "    \"RetryAttempts\": 0\n",
      "  }\n",
      "}\n"
     ]
    }
   ],
   "source": [
    "rerank_create_solution_response = personalize.create_solution(\n",
    "    name = \"personalize-poc-rerank\",\n",
    "    datasetGroupArn = dataset_group_arn,\n",
    "    recipeArn = rerank_recipe_arn\n",
    ")\n",
    "\n",
    "rerank_solution_arn = rerank_create_solution_response['solutionArn']\n",
    "print(json.dumps(rerank_create_solution_response, indent=2))"
   ]
  },
  {
   "cell_type": "markdown",
   "metadata": {},
   "source": [
    "#### Crear la versión de la solución\n",
    "\n",
    "Una vez que tenga una solución, deberá crear una versión a fin de completar el entrenamiento del modelo. Completar el entrenamiento puede llevar un tiempo, más de 25 minutos, y un promedio de 35 minutos para esta receta con nuestro conjunto de datos. Por lo general, utilizaríamos un bucle while para hacer un seguimiento hasta que se complete la tarea. Sin embargo, la tarea bloquearía la ejecución de otras celdas, y el objetivo aquí es crear muchos modelos e implementarlos rápidamente. Así que estableceremos el bucle while para todas las soluciones más adelante en el cuaderno. Allí, también encontrará instrucciones para ver el progreso en la consola de AWS."
   ]
  },
  {
   "cell_type": "code",
   "execution_count": 15,
   "metadata": {},
   "outputs": [],
   "source": [
    "rerank_create_solution_version_response = personalize.create_solution_version(\n",
    "    solutionArn = rerank_solution_arn\n",
    ")"
   ]
  },
  {
   "cell_type": "code",
   "execution_count": 16,
   "metadata": {},
   "outputs": [
    {
     "name": "stdout",
     "output_type": "stream",
     "text": [
      "{\n",
      "  \"solutionVersionArn\": \"arn:aws:personalize:us-east-1:136455442858:solution/personalize-poc-rerank/eae37049\",\n",
      "  \"ResponseMetadata\": {\n",
      "    \"RequestId\": \"6799b3db-d3ef-4686-8a1f-05b22b42ab28\",\n",
      "    \"HTTPStatusCode\": 200,\n",
      "    \"HTTPHeaders\": {\n",
      "      \"content-type\": \"application/x-amz-json-1.1\",\n",
      "      \"date\": \"Wed, 16 Sep 2020 23:48:28 GMT\",\n",
      "      \"x-amzn-requestid\": \"6799b3db-d3ef-4686-8a1f-05b22b42ab28\",\n",
      "      \"content-length\": \"108\",\n",
      "      \"connection\": \"keep-alive\"\n",
      "    },\n",
      "    \"RetryAttempts\": 0\n",
      "  }\n",
      "}\n"
     ]
    }
   ],
   "source": [
    "rerank_solution_version_arn = rerank_create_solution_version_response['solutionVersionArn']\n",
    "print(json.dumps(rerank_create_solution_version_response, indent=2))"
   ]
  },
  {
   "cell_type": "markdown",
   "metadata": {},
   "source": [
    "### Ver el estado de creación de la solución\n",
    "\n",
    "Según lo prometido, veremos cómo se pueden observar las actualizaciones de estado en la consola:\n",
    "\n",
    "* En otra pestaña del navegador, ya debería tener la consola de AWS activa desde la apertura de esta instancia de cuaderno. \n",
    "* Cambie a esa pestaña y busque en la parte superior el servicio `Personalize`, luego diríjase a la página de ese servicio. \n",
    "* Haga clic en `View dataset groups` (Ver grupos de conjuntos de datos).\n",
    "* Haga clic en el nombre de su grupo de conjuntos de datos, probablemente contenga POC en el nombre.\n",
    "* Haga clic en `Solutions and recipes` (Ver grupos de conjuntos de datos).\n",
    "* Ahora verá una lista de todas las soluciones que creó anteriormente, incluida una columna con el estado de las versiones de la solución. Una vez que esté `Active` (ACTIVA), su solución estará lista para la revisión. También es capaz de implementarse.\n",
    "\n",
    "O simplemente ejecute la celda a continuación para seguir el estado de creación de la versión de la solución."
   ]
  },
  {
   "cell_type": "code",
   "execution_count": 22,
   "metadata": {},
   "outputs": [
    {
     "name": "stdout",
     "output_type": "stream",
     "text": [
      "Build succeeded for arn:aws:personalize:us-east-1:136455442858:solution/personalize-poc-userpersonalization/236f000b\n",
      "Build succeeded for arn:aws:personalize:us-east-1:136455442858:solution/personalize-poc-rerank/eae37049\n",
      "At least one solution build is still in progress\n",
      "Build succeeded for arn:aws:personalize:us-east-1:136455442858:solution/personalize-poc-sims/c1a33236\n"
     ]
    }
   ],
   "source": [
    "in_progress_solution_versions = [\n",
    "    userpersonalization_solution_version_arn,\n",
    "    sims_solution_version_arn,\n",
    "    rerank_solution_version_arn\n",
    "]\n",
    "\n",
    "max_time = time.time() + 10*60*60 # 10 hours\n",
    "while time.time() < max_time:\n",
    "    for solution_version_arn in in_progress_solution_versions:\n",
    "        version_response = personalize.describe_solution_version(\n",
    "            solutionVersionArn = solution_version_arn\n",
    "        )\n",
    "        status = version_response[\"solutionVersion\"][\"status\"]\n",
    "        \n",
    "        if status == \"ACTIVE\":\n",
    "            print(\"Build succeeded for {}\".format(solution_version_arn))\n",
    "            in_progress_solution_versions.remove(solution_version_arn)\n",
    "        elif status == \"CREATE FAILED\":\n",
    "            print(\"Build failed for {}\".format(solution_version_arn))\n",
    "            in_progress_solution_versions.remove(solution_version_arn)\n",
    "    \n",
    "    if len(in_progress_solution_versions) <= 0:\n",
    "        break\n",
    "    else:\n",
    "        print(\"At least one solution build is still in progress\")\n",
    "        \n",
    "    time.sleep(60)"
   ]
  },
  {
   "cell_type": "markdown",
   "metadata": {},
   "source": [
    "### Ajuste de hiperparámetros\n",
    "\n",
    "Personalize ofrece la opción de ejecutar el ajuste de hiperparámetros cuando crea una solución. Debido al cálculo adicional necesario para realizar el ajuste de los hiperparámetros, esta función está desactivada por defecto. Por lo tanto, las soluciones que creamos anteriormente, simplemente utilizarán los valores por defecto de los hiperparámetros para cada receta. Para obtener más información sobre el ajuste de los hiperparámetros, consulte la [documentación](https://docs.aws.amazon.com/personalize/latest/dg/customizing-solution-config-hpo.html).\n",
    "\n",
    "Si optó por la receta correcta a utilizar y está listo para ejecutar el ajuste de hiperparámetros, el siguiente código muestra cómo lo haría, utilizando SIMS como ejemplo.\n",
    "\n",
    "```python\n",
    "sims_create_solution_response = personalize.create_solution(\n",
    "    name = \"personalize-poc-sims-hpo\",\n",
    "    datasetGroupArn = dataset_group_arn,\n",
    "    recipeArn = SIMS_recipe_arn,\n",
    "    performHPO=True\n",
    ")\n",
    "\n",
    "sims_solution_arn = sims_create_solution_response['solutionArn']\n",
    "print(json.dumps(sims_create_solution_response, indent=2))\n",
    "```\n",
    "\n",
    "Si ya conoce los valores que desea utilizar para un hiperparámetro específico, también puede establecer este valor al crear la solución. El siguiente código muestra cómo se puede establecer el valor de `popularity_discount_factor` para la receta de SIMS.\n",
    "\n",
    "```python\n",
    "sims_create_solution_response = personalize.create_solution(\n",
    "    name = \"personalize-poc-sims-set-hp\",\n",
    "    datasetGroupArn = dataset_group_arn,\n",
    "    recipeArn = SIMS_recipe_arn,\n",
    "    solutionConfig = {\n",
    "        'algorithmHyperParameters': {\n",
    "            'popularity_discount_factor': '0.7'\n",
    "        }\n",
    "    }\n",
    ")\n",
    "\n",
    "sims_solution_arn = sims_create_solution_response['solutionArn']\n",
    "print(json.dumps(sims_create_solution_response, indent=2))\n",
    "```"
   ]
  },
  {
   "cell_type": "markdown",
   "metadata": {},
   "source": [
    "## Evaluar las versiones de las soluciones<a class=\"anchor\" id=\"eval\"></a>\n",
    "[Regresar al principio](#top)\n",
    "\n",
    "No debería tardar más de una hora en entrenar todas las soluciones de este cuaderno. Mientras se realiza el entrenamiento, se recomienda dedicar tiempo a leer en detalle los distintos algoritmos (recetas) y su comportamiento. Este es también un buen momento para considerar alternativas a la forma en que los datos se introdujeron en el sistema y el tipo de resultados que espera ver.\n",
    "\n",
    "Cuando las soluciones terminan de crearse, el siguiente paso es obtener las métricas de evaluación. Personalize calcula estas métricas basándose en un subconjunto de los datos de entrenamiento. La siguiente imagen muestra cómo Personalize divide los datos. Dados 10 usuarios, con 10 interacciones cada uno (un círculo representa una interacción), las interacciones se ordenan de la más antigua a la más reciente en función de la marca temporal. Personalize utiliza todos los datos de interacción del 90 % de los usuarios (círculos azules) para entrenar la versión de la solución, y el 10 % restante para la evaluación. Para cada uno de los usuarios del 10 % restante, el 90 % de sus datos de interacción (círculos verdes) se utiliza como entrada para la llamada al modelo entrenado. El 10 % restante de sus datos (círculo naranja) se compara con la salida producida por el modelo y se utiliza para calcular las métricas de evaluación.\n",
    "\n",
    "![métricas de personalize](static/imgs/personalize_metrics.png)\n",
    "\n",
    "Recomendamos leer [la documentación](https://docs.aws.amazon.com/personalize/latest/dg/working-with-training-metrics.html) para comprender las métricas, pero, además, copiamos partes de la documentación a continuación para mayor comodidad.\n",
    "\n",
    "Es necesario que comprenda los siguientes términos relativos a la evaluación en Personalize:\n",
    "\n",
    "* *Recomendación relevante* se refiere a una recomendación que coincide con un valor en los datos de prueba para el usuario en particular.\n",
    "* *Rango* se refiere a la posición de un elemento recomendado en la lista de recomendaciones. Se supone que la posición 1 (la primera de la lista) es la más relevante para el usuario.\n",
    "* *Consulta* se refiere al equivalente interno de una llamada a GetRecommendations.\n",
    "\n",
    "Las métricas producidas por Personalize son las siguientes:\n",
    "* **coverage**: La proporción de elementos únicos recomendados de todas las consultas sobre el número total de elementos únicos en los datos de entrenamiento (incluye tanto los conjuntos de datos de elementos como de interacciones).\n",
    "* **mean_reciprocal_rank_at_25**: La [media de los rangos recíprocos](https://en.wikipedia.org/wiki/Mean_reciprocal_rank) de la primera recomendación relevante entre las 25 primeras recomendaciones sobre todas las consultas. Esta métrica es apropiada si está interesado en la recomendación de mayor rango.\n",
    "* **normalized_discounted_cumulative_gain_at_K**: La ganancia descontada supone que las recomendaciones más bajas de una lista de recomendaciones son menos relevantes que las más altas. Por lo tanto, cada recomendación se descuenta (se le da un peso menor) por un factor que depende de su posición. A fin de obtener la [ganancia descontada acumulada](https://en.wikipedia.org/wiki/Discounted_cumulative_gain) (DCG) en K, se suma cada recomendación descontada relevante en las  recomendaciones más importantes de K. La ganancia acumulada descontada normalizada (NDCG) es la DCG dividida por la DCG ideal, de manera que la NDCG está entre 0 y 1. (El DCG ideal es aquel en el que las recomendaciones más importantes de K están ordenadas por relevancia). Amazon Personalize utiliza un factor de ponderación de 1/log (1 + posición), donde la parte superior de la lista es la posición 1. Esta métrica recompensa los elementos relevantes que aparecen cerca de la parte superior de la lista, porque la parte superior de una lista suele llamar más la atención.\n",
    "* **precision_at_K**: El número de recomendaciones relevantes de las principales recomendaciones de K dividido por K. Esta métrica recompensa la recomendación precisa de los elementos relevantes.\n",
    "\n",
    "Veamos las métricas de evaluación de cada una de las soluciones elaboradas en este cuaderno. *Tenga en cuenta que sus resultados pueden diferir de los descritos en este cuaderno debido a la calidad del conjunto de datos de Movielens.* \n",
    "\n",
    "### Métricas de personalización del usuario\n",
    "\n",
    "En primer lugar, recupere las métricas de evaluación para la versión de la solución de personalización de usuarios."
   ]
  },
  {
   "cell_type": "code",
   "execution_count": 23,
   "metadata": {},
   "outputs": [
    {
     "name": "stdout",
     "output_type": "stream",
     "text": [
      "{\n",
      "  \"solutionVersionArn\": \"arn:aws:personalize:us-east-1:136455442858:solution/personalize-poc-userpersonalization/236f000b\",\n",
      "  \"metrics\": {\n",
      "    \"coverage\": 0.0791,\n",
      "    \"mean_reciprocal_rank_at_25\": 0.269,\n",
      "    \"normalized_discounted_cumulative_gain_at_10\": 0.2687,\n",
      "    \"normalized_discounted_cumulative_gain_at_25\": 0.3321,\n",
      "    \"normalized_discounted_cumulative_gain_at_5\": 0.2279,\n",
      "    \"precision_at_10\": 0.0571,\n",
      "    \"precision_at_25\": 0.0379,\n",
      "    \"precision_at_5\": 0.075\n",
      "  },\n",
      "  \"ResponseMetadata\": {\n",
      "    \"RequestId\": \"fa6f0e49-b87d-48ce-ab27-80e61a1ab395\",\n",
      "    \"HTTPStatusCode\": 200,\n",
      "    \"HTTPHeaders\": {\n",
      "      \"content-type\": \"application/x-amz-json-1.1\",\n",
      "      \"date\": \"Thu, 17 Sep 2020 00:41:11 GMT\",\n",
      "      \"x-amzn-requestid\": \"fa6f0e49-b87d-48ce-ab27-80e61a1ab395\",\n",
      "      \"content-length\": \"417\",\n",
      "      \"connection\": \"keep-alive\"\n",
      "    },\n",
      "    \"RetryAttempts\": 0\n",
      "  }\n",
      "}\n"
     ]
    }
   ],
   "source": [
    "user_personalization_solution_metrics_response = personalize.get_solution_metrics(\n",
    "    solutionVersionArn = userpersonalization_solution_version_arn\n",
    ")\n",
    "\n",
    "print(json.dumps(user_personalization_solution_metrics_response, indent=2))"
   ]
  },
  {
   "cell_type": "markdown",
   "metadata": {},
   "source": [
    "La ganancia acumulada descontada normalizada que se menciona anteriormente nos dice que a 5 elementos tenemos menos de una probabilidad del (38 % para los completos 22 % para los pequeños) en una recomendación que forma parte del historial de interacción de un usuario (en la fase de retención del entrenamiento y la validación). Alrededor del 13 % de los elementos recomendados son únicos, y tenemos una precisión de solo (14 % para los completos, 7,5 % para los pequeños) en los 5 primeros elementos recomendados. \n",
    "\n",
    "Está claro que no es un gran modelo, pero hay que tener en cuenta que hemos tenido que utilizar datos de valoración para nuestras interacciones porque MovieLens es un conjunto de datos explícito basado en valoraciones. Las marcas temporales también son del momento en que se calificó la película, no del momento en que se vio, por lo que el orden no es el mismo en que un espectador vería las películas.\n",
    "\n",
    "### Métricas SIMS\n",
    "\n",
    "Ahora, recupere las métricas de evaluación para la versión de la solución SIMS."
   ]
  },
  {
   "cell_type": "code",
   "execution_count": 24,
   "metadata": {},
   "outputs": [
    {
     "name": "stdout",
     "output_type": "stream",
     "text": [
      "{\n",
      "  \"solutionVersionArn\": \"arn:aws:personalize:us-east-1:136455442858:solution/personalize-poc-sims/c1a33236\",\n",
      "  \"metrics\": {\n",
      "    \"coverage\": 0.1861,\n",
      "    \"mean_reciprocal_rank_at_25\": 0.1669,\n",
      "    \"normalized_discounted_cumulative_gain_at_10\": 0.2234,\n",
      "    \"normalized_discounted_cumulative_gain_at_25\": 0.2895,\n",
      "    \"normalized_discounted_cumulative_gain_at_5\": 0.1889,\n",
      "    \"precision_at_10\": 0.0588,\n",
      "    \"precision_at_25\": 0.0418,\n",
      "    \"precision_at_5\": 0.0824\n",
      "  },\n",
      "  \"ResponseMetadata\": {\n",
      "    \"RequestId\": \"662598d1-86f0-49a1-98a9-1c3924882f4b\",\n",
      "    \"HTTPStatusCode\": 200,\n",
      "    \"HTTPHeaders\": {\n",
      "      \"content-type\": \"application/x-amz-json-1.1\",\n",
      "      \"date\": \"Thu, 17 Sep 2020 00:41:11 GMT\",\n",
      "      \"x-amzn-requestid\": \"662598d1-86f0-49a1-98a9-1c3924882f4b\",\n",
      "      \"content-length\": \"404\",\n",
      "      \"connection\": \"keep-alive\"\n",
      "    },\n",
      "    \"RetryAttempts\": 0\n",
      "  }\n",
      "}\n"
     ]
    }
   ],
   "source": [
    "sims_solution_metrics_response = personalize.get_solution_metrics(\n",
    "    solutionVersionArn = sims_solution_version_arn\n",
    ")\n",
    "\n",
    "print(json.dumps(sims_solution_metrics_response, indent=2))"
   ]
  },
  {
   "cell_type": "markdown",
   "metadata": {},
   "source": [
    "En este ejemplo, vemos una precisión ligeramente elevada a 5 elementos, un poco más del (4,5 % para los completos, 6,4 % para los pequeños) esta vez. Efectivamente, esto está quizás dentro del margen de error, pero dado que no se ha hecho ningún esfuerzo por enmascarar la popularidad, puede ser que simplemente se devuelvan resultados muy populares con los que un gran volumen de usuarios ha interactuado de alguna manera. \n",
    "\n",
    "### Métricas de clasificación personalizadas\n",
    "\n",
    "Ahora, recupere las métricas de evaluación para la versión de la solución de clasificación personalizada."
   ]
  },
  {
   "cell_type": "code",
   "execution_count": 25,
   "metadata": {},
   "outputs": [
    {
     "name": "stdout",
     "output_type": "stream",
     "text": [
      "{\n",
      "  \"solutionVersionArn\": \"arn:aws:personalize:us-east-1:136455442858:solution/personalize-poc-rerank/eae37049\",\n",
      "  \"metrics\": {\n",
      "    \"coverage\": 0.0038,\n",
      "    \"mean_reciprocal_rank_at_25\": 0.0537,\n",
      "    \"normalized_discounted_cumulative_gain_at_10\": 0.0707,\n",
      "    \"normalized_discounted_cumulative_gain_at_25\": 0.0956,\n",
      "    \"normalized_discounted_cumulative_gain_at_5\": 0.0578,\n",
      "    \"precision_at_10\": 0.0132,\n",
      "    \"precision_at_25\": 0.0113,\n",
      "    \"precision_at_5\": 0.0189\n",
      "  },\n",
      "  \"ResponseMetadata\": {\n",
      "    \"RequestId\": \"01f86e05-9408-4456-97d3-2548d2cc998e\",\n",
      "    \"HTTPStatusCode\": 200,\n",
      "    \"HTTPHeaders\": {\n",
      "      \"content-type\": \"application/x-amz-json-1.1\",\n",
      "      \"date\": \"Thu, 17 Sep 2020 00:41:11 GMT\",\n",
      "      \"x-amzn-requestid\": \"01f86e05-9408-4456-97d3-2548d2cc998e\",\n",
      "      \"content-length\": \"406\",\n",
      "      \"connection\": \"keep-alive\"\n",
      "    },\n",
      "    \"RetryAttempts\": 0\n",
      "  }\n",
      "}\n"
     ]
    }
   ],
   "source": [
    "rerank_solution_metrics_response = personalize.get_solution_metrics(\n",
    "    solutionVersionArn = rerank_solution_version_arn\n",
    ")\n",
    "\n",
    "print(json.dumps(rerank_solution_metrics_response, indent=2))"
   ]
  },
  {
   "cell_type": "markdown",
   "metadata": {},
   "source": [
    "Simplemente un comentario rápido sobre esto, aquí vemos de nuevo una precisión de cerca del (2,7 % para el completo, 2,2 % para el pequeño), ya que esto se basa en la personalización del usuario, que es de esperar. Sin embargo, los elementos de la muestra no son los mismos para la validación, de ahí la baja puntuación.\n",
    "\n",
    "## Uso de métricas de evaluación <a class=\"anchor\" id=\"use\"></a>\n",
    "[Regresar al principio](#top)\n",
    "\n",
    "Es importante utilizar cuidadosamente los parámetros de evaluación. Es necesario tener en cuenta una serie de factores.\n",
    "\n",
    "* Si ya existe un sistema de recomendación, este habrá influido en el historial de interacción del usuario, que se utilizará para entrenar las nuevas soluciones. Esto significa que las métricas de evaluación están condicionadas a favorecer la solución existente. Si usted procura que las métricas de evaluación sean iguales o superiores a las de la solución existente, es posible que sólo esté empujando la personalización del usuario para que se comporte como la solución existente y que no termine con algo mejor.\n",
    "* La receta HRNN Coldstart es difícil de evaluar con las métricas producidas por Amazon Personalize. El objetivo de la receta es recomendar elementos nuevos para su negocio. Por lo tanto, estos elementos no aparecerán en los datos de transacciones de los usuarios existentes que se utilizan para calcular las métricas de evaluación. Como resultado, cuando se comparan únicamente las métricas de la evaluación, no se podrá observar que el Coldstart de HRNN tenga un mejor rendimiento que las otras recetas. Nota: La receta de personalización del usuario también incluye una funcionalidad mejorada de arranque en frío.\n",
    "\n",
    "Teniendo en cuenta estos factores, las métricas de evaluación producidas por Personalize son generalmente útiles para dos casos:\n",
    "1. La comparación del rendimiento de las versiones de la solución entrenadas con la misma receta, pero con diferentes valores para los hiperparámetros y las características (datos de impresión, etc.).\n",
    "1. La comparación del rendimiento de las versiones de la solución entrenadas en diferentes recetas (excepto HRNN Coldstart).\n",
    "\n",
    "La mejor forma de evaluar adecuadamente un sistema de recomendación es siempre a través de pruebas A/B mientras se miden los resultados reales del negocio. Dado que las recomendaciones generadas por un sistema suelen influir en el comportamiento del usuario en el que se basan, es mejor realizar pequeños experimentos y aplicar pruebas A/B durante periodos de tiempo más largos. Con el tiempo, el predominio del modelo existente disminuirá."
   ]
  },
  {
   "cell_type": "markdown",
   "metadata": {},
   "source": [
    "## Almacenamiento de variables útiles <a class=\"anchor\" id=\"vars\"></a>\n",
    "[Regresar al principio](#top)\n",
    "\n",
    "Antes de salir de este cuaderno, ejecute las siguientes celdas para guardar los ARN de la versión y utilizarlos en el siguiente cuaderno."
   ]
  },
  {
   "cell_type": "code",
   "execution_count": 26,
   "metadata": {},
   "outputs": [
    {
     "name": "stdout",
     "output_type": "stream",
     "text": [
      "Stored 'userpersonalization_solution_version_arn' (str)\n",
      "Stored 'sims_solution_version_arn' (str)\n",
      "Stored 'rerank_solution_version_arn' (str)\n",
      "Stored 'user_personalization_solution_arn' (str)\n",
      "Stored 'sims_solution_arn' (str)\n",
      "Stored 'rerank_solution_arn' (str)\n"
     ]
    }
   ],
   "source": [
    "%store userpersonalization_solution_version_arn\n",
    "%store sims_solution_version_arn\n",
    "%store rerank_solution_version_arn\n",
    "%store user_personalization_solution_arn\n",
    "%store sims_solution_arn\n",
    "%store rerank_solution_arn"
   ]
  },
  {
   "cell_type": "code",
   "execution_count": null,
   "metadata": {},
   "outputs": [],
   "source": []
  }
 ],
 "metadata": {
  "kernelspec": {
   "display_name": "conda_python3",
   "language": "python",
   "name": "conda_python3"
  },
  "language_info": {
   "codemirror_mode": {
    "name": "ipython",
    "version": 3
   },
   "file_extension": ".py",
   "mimetype": "text/x-python",
   "name": "python",
   "nbconvert_exporter": "python",
   "pygments_lexer": "ipython3",
   "version": "3.6.10"
  }
 },
 "nbformat": 4,
 "nbformat_minor": 4
}
