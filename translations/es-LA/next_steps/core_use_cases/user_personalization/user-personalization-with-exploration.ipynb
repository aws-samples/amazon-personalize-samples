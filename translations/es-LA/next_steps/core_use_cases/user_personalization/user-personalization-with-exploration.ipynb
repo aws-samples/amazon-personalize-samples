{
 "cells": [
  {
   "cell_type": "markdown",
   "metadata": {},
   "source": [
    "## Pasos\n",
    "\n",
    "Este cuaderno muestra cómo utilizar la nueva receta de personalización de usuarios de Amazon Personalize (aws-user-personalization). Esta receta equilibra las recomendaciones entre los artículos nuevos y los antiguos, permitiéndole ajustar el balance a favor de artículos más nuevos o más antiguos.\n",
    "\n",
    "A grandes rasgos, la utilización de la nueva receta de personalización del USUARIO implica los siguientes pasos:  \n",
    "\n",
    "1. Configurar clientes de Personalize\n",
    "2. Crear un grupo de conjunto de datos, definir un esquema, importar conjuntos de datos e incorporar interacciones en tiempo real\n",
    "4. Crear una campaña con una nueva configuración `campaignConfig`\n",
    "5. Crear un rastreador de eventos para incorporar los eventos enviados por PutEvents\n",
    "6. Llamar a GetRecommendations. Se devuelve un nuevo campo `RecommendationId` en la respuesta.\n",
    "7. Llamar a putEvents con `RecommendationId` o una lista personalizada de artículos de impresión\n",
    "8. Esperar a que se actualice la campaña\n",
    "9. Actualizar la campaña para detener la actualización automática\n",
    "10. Limpiar\n",
    "\n",
    "\n",
    "> **NOTA:**: **La elaboración de este cuaderno llevará un par de horas.**"
   ]
  },
  {
   "cell_type": "markdown",
   "metadata": {},
   "source": [
    "### Configuración de la clave de acceso/clave secreta para el acceso a la API de AWS.\n",
    "\n",
    "Asegúrese de que la clave de acceso/clave secreta que utiliza tiene los permisos adecuados. Elija también la región en la que desea ejecutar esta demostración"
   ]
  },
  {
   "cell_type": "code",
   "execution_count": null,
   "metadata": {},
   "outputs": [],
   "source": [
    "accessKeyId = \"\"\n",
    "secretAccessKey = \"\"\n",
    "region_name = \"\""
   ]
  },
  {
   "cell_type": "code",
   "execution_count": null,
   "metadata": {},
   "outputs": [],
   "source": [
    "import os\n",
    "import boto3\n",
    "from botocore.exceptions import ClientError\n",
    "import time\n",
    "import numpy as np\n",
    "import pandas as pd\n",
    "import json\n",
    "from datetime import datetime"
   ]
  },
  {
   "cell_type": "code",
   "execution_count": null,
   "metadata": {},
   "outputs": [],
   "source": [
    "suffix = str(np.random.uniform())[4:9]\n",
    "prefix = 'user-personalization-'\n",
    "print('prefix+suffix:{}{}'.format(prefix, suffix))\n",
    "s3_bucket_name = (prefix + suffix).lower()\n",
    "interaction_schema_name = prefix + 'interaction-'  + suffix\n",
    "item_metadata_schema_name = prefix + 'items-'  + suffix\n",
    "dataset_group_name = prefix + suffix\n",
    "interaction_dataset_name = prefix + 'interactions-' + suffix\n",
    "item_metadata_dataset_name = prefix + 'items-' + suffix\n",
    "event_tracker_name = prefix + suffix\n",
    "solution_name = prefix + suffix\n",
    "event_tracker_name = prefix + suffix\n",
    "campaign_name = prefix + suffix"
   ]
  },
  {
   "cell_type": "markdown",
   "metadata": {},
   "source": [
    "### 1. Configuración del cliente\n",
    "Primero, configuraremos el cliente para Personalize y S3."
   ]
  },
  {
   "cell_type": "code",
   "execution_count": null,
   "metadata": {},
   "outputs": [],
   "source": [
    "# Public s3 bucket owned by Personalize service which used to store the example dataset.\n",
    "\n",
    "personalize_s3_bucket = \"personalize-cli-json-models\"\n",
    "s3_client = boto3.Session(aws_access_key_id=accessKeyId,\n",
    "                           aws_secret_access_key=secretAccessKey, region_name=region_name).client('s3')\n",
    "\n"
   ]
  },
  {
   "cell_type": "markdown",
   "metadata": {},
   "source": [
    "####  Iniciar clientes de personalize"
   ]
  },
  {
   "cell_type": "code",
   "execution_count": null,
   "metadata": {},
   "outputs": [],
   "source": [
    "\n",
    "personalize = boto3.Session(aws_access_key_id=accessKeyId,\n",
    "                           aws_secret_access_key=secretAccessKey, region_name=region_name).client('personalize')\n",
    "personalize_runtime = boto3.Session(aws_access_key_id=accessKeyId,\n",
    "                           aws_secret_access_key=secretAccessKey, region_name=region_name).client('personalize-runtime')\n",
    "personalize_events = boto3.Session(aws_access_key_id=accessKeyId,\n",
    "                           aws_secret_access_key=secretAccessKey, region_name=region_name).client('personalize-events')"
   ]
  },
  {
   "cell_type": "markdown",
   "metadata": {},
   "source": [
    "### Conjuntos de datos de muestra\n",
    "\n",
    "Por comodidad y para los fines de esta demostración, utilizaremos los conjuntos de datos de muestra proporcionados por Personalize.\n",
    "Proporcionamos dos conjuntos de datos, uno de ellos son los metadatos de los artículos y el otro es un conjunto de datos de interacción. Primero los descargaremos de forma local."
   ]
  },
  {
   "cell_type": "code",
   "execution_count": null,
   "metadata": {},
   "outputs": [],
   "source": [
    "interaction_dataset_key = \"sample-dataset/interactions-sample.csv\"\n",
    "items_dataset_key = \"sample-dataset/items-with-creation-timestamp-sample.csv\"\n",
    "interactions_file = os.getcwd() + \"/interaction_raw.csv\"\n",
    "items_metadata_file = os.getcwd() + \"/items_raw.csv\"\n",
    "s3_client.download_file(personalize_s3_bucket, interaction_dataset_key, interactions_file)\n",
    "s3_client.download_file(personalize_s3_bucket, items_dataset_key, items_metadata_file)"
   ]
  },
  {
   "cell_type": "code",
   "execution_count": null,
   "metadata": {},
   "outputs": [],
   "source": [
    "interactions_df = pd.read_csv(interactions_file)\n",
    "items_df = pd.read_csv(items_metadata_file)"
   ]
  },
  {
   "cell_type": "markdown",
   "metadata": {},
   "source": [
    "#### Echemos un vistazo al marco de datos de la interacción."
   ]
  },
  {
   "cell_type": "code",
   "execution_count": null,
   "metadata": {},
   "outputs": [],
   "source": [
    "interactions_df.head(2)"
   ]
  },
  {
   "cell_type": "markdown",
   "metadata": {},
   "source": [
    "#### Conjunto de datos de interacciones\n",
    "**ITEM_ID**: Elemento correspondiente al EVENT_TYPE.\n",
    "\n",
    "**EVENT_TYPE**: Tipo de evento.  \n",
    "\n",
    "**TIMESTAMP (MARCA TEMPORAL)**: Marca temporal de la interacción en milisegundos. (Tenga en cuenta que está en milisegundos) \n",
    "\n",
    "**USER_ID**: Identificación de usuario correspondiente a esta impresión.  \n",
    "\n",
    "**IMPRESIÓN:**  Ahora podría pasar opcionalmente los datos de la impresión junto con los datos del evento en el conjunto de datos de la interacción. Esto se pasa en un nuevo campo `IMPRESSION` como puede ver anteriormente, que toma una concatenación de los artículos con los que el usuario interactuó (por ejemplo, los artículos que se mostraron al usuario). Las impresiones también incluyen los artículos en los que se hizo clic.  \n"
   ]
  },
  {
   "cell_type": "code",
   "execution_count": null,
   "metadata": {},
   "outputs": [],
   "source": [
    "items_df.head(2)"
   ]
  },
  {
   "cell_type": "markdown",
   "metadata": {},
   "source": [
    "#### Conjunto de datos de artículos\n",
    "\n",
    "El conjunto de datos de los artículos contiene los ID de los artículos y los metadatos asociados.\n",
    "\n",
    "**ITEM_ID**: Identificación del artículo  \n",
    "\n",
    "**géneros** Metadatos del elemento, si hay varias clasificaciones categóricas para el mismo elemento, utilice una canalización \" | \" para concatenar.\n",
    "\n",
    "**creation_timestamp** Fecha en la que se agregó el elemento.\n",
    "\n",
    "Puede encontrar más detalles sobre los conjuntos de datos en la documentación\n",
    "https://docs.aws.amazon.com/personalize/latest/dg/how-it-works-dataset-schema.html"
   ]
  },
  {
   "cell_type": "markdown",
   "metadata": {},
   "source": [
    "#### Actualizar la marca temporal\n",
    "\n",
    "Aquí, vamos a actualizar la marca de nuestro conjunto de datos a 8 días a partir de hoy para mostrar el impacto de las interacciones en tiempo real en nuestras recomendaciones"
   ]
  },
  {
   "cell_type": "code",
   "execution_count": null,
   "metadata": {},
   "outputs": [],
   "source": [
    "current_time = int(time.time())\n",
    "one_hour_ago = current_time - 8 * 24 * 60 * 60\n",
    "# Get the time gap between the latest timestamp in the interaction and the current time \n",
    "interactions_df = interactions_df.astype({\"TIMESTAMP\": 'int64'})\n",
    "latest_time_in_csv = interactions_df[\"TIMESTAMP\"].max()\n",
    "delta = one_hour_ago - latest_time_in_csv"
   ]
  },
  {
   "cell_type": "code",
   "execution_count": null,
   "metadata": {},
   "outputs": [],
   "source": [
    "# shift the latest timestamp in the interactions_df to be the last hour timestamp\n",
    "interactions_df.TIMESTAMP = interactions_df.TIMESTAMP + delta\n",
    "interactions_df.to_csv(os.getcwd() + \"/interaction.csv\", index = False)\n",
    "\n",
    "# shift the latest timestamp in the items_df to be the last hour timestamp\n",
    "items_df = items_df.astype({\"creation_timestamp\": 'int64'})\n",
    "items_df.creation_timestamp = items_df.creation_timestamp + delta\n",
    "items_df.to_csv(os.getcwd() + \"/items.csv\", index = False)"
   ]
  },
  {
   "cell_type": "markdown",
   "metadata": {},
   "source": [
    "#### Después de la actualización, comprobaremos el conjunto de datos de interacción y de artículos una vez más"
   ]
  },
  {
   "cell_type": "code",
   "execution_count": null,
   "metadata": {},
   "outputs": [],
   "source": [
    "interactions_df.head(2)"
   ]
  },
  {
   "cell_type": "code",
   "execution_count": null,
   "metadata": {},
   "outputs": [],
   "source": [
    "items_df.head(2)"
   ]
  },
  {
   "cell_type": "markdown",
   "metadata": {},
   "source": [
    "\n",
    "### 2. Incorporar datos a Amazon Personalize\n",
    "Ahora, crearemos un grupo de conjunto de datos, un esquema y un trabajo de importación de conjuntos de datos y cargaremos los conjuntos de datos. Esto no ha cambiado."
   ]
  },
  {
   "cell_type": "markdown",
   "metadata": {},
   "source": [
    "#### a. Crear grupo de conjuntos de datos\n",
    "\n",
    "Esto es similar a la receta existente, la documentación completa se puede encontrar [aquí](https://docs.aws.amazon.com/personalize/latest/dg/API_DatasetGroup.html)"
   ]
  },
  {
   "cell_type": "code",
   "execution_count": null,
   "metadata": {},
   "outputs": [],
   "source": [
    "create_dataset_group_response = personalize.create_dataset_group(\n",
    "    name = dataset_group_name\n",
    ")\n",
    "dataset_group_arn = create_dataset_group_response['datasetGroupArn']"
   ]
  },
  {
   "cell_type": "code",
   "execution_count": null,
   "metadata": {},
   "outputs": [],
   "source": [
    "\n",
    "print('dataset_group_arn : {}'.format(dataset_group_arn))"
   ]
  },
  {
   "cell_type": "code",
   "execution_count": null,
   "metadata": {},
   "outputs": [],
   "source": [
    "status = None\n",
    "max_time = time.time() + 3*60*60 # 3 hours\n",
    "while time.time() < max_time:\n",
    "    describe_dataset_group_response = personalize.describe_dataset_group(\n",
    "        datasetGroupArn = dataset_group_arn\n",
    "    )\n",
    "    status = describe_dataset_group_response[\"datasetGroup\"][\"status\"]\n",
    "    print(\"DatasetGroup: {}\".format(status))\n",
    "    \n",
    "    if status == \"ACTIVE\" or status == \"CREATE FAILED\":\n",
    "        break\n",
    "        \n",
    "    time.sleep(20)"
   ]
  },
  {
   "cell_type": "markdown",
   "metadata": {},
   "source": [
    "#### b. Crear esquemas de conjuntos de datos\n",
    "\n",
    "> **_NOTA:_**: `Impression` El campo tiene un tipo de cadena y utiliza una concatenación de canalizaciones para múltiples valores."
   ]
  },
  {
   "cell_type": "code",
   "execution_count": null,
   "metadata": {},
   "outputs": [],
   "source": [
    "interaction_schema = {\n",
    "    \"type\": \"record\",\n",
    "    \"name\": \"Interactions\",\n",
    "    \"namespace\": \"com.amazonaws.personalize.schema\",\n",
    "    \"fields\": [\n",
    "        { \n",
    "            \"name\": \"EVENT_TYPE\",\n",
    "            \"type\": \"string\"\n",
    "        },\n",
    "        {\n",
    "            \"name\": \"IMPRESSION\",\n",
    "            \"type\": \"string\"\n",
    "        },\n",
    "        {\n",
    "            \"name\": \"ITEM_ID\",\n",
    "            \"type\": \"string\"\n",
    "        },\n",
    "        {\n",
    "            \"name\": \"TIMESTAMP\",\n",
    "            \"type\": \"long\"\n",
    "        },\n",
    "        {\n",
    "            \"name\": \"USER_ID\",\n",
    "            \"type\": \"string\"\n",
    "        },\n",
    "    ],\n",
    "    \"version\": \"1.0\"\n",
    "}"
   ]
  },
  {
   "cell_type": "code",
   "execution_count": null,
   "metadata": {},
   "outputs": [],
   "source": [
    "interaction_schema_response = personalize.create_schema(\n",
    "    name = interaction_schema_name,\n",
    "    schema = json.dumps(interaction_schema)\n",
    ")\n",
    "# print(json.dumps(create_schema_response, indent=2))\n",
    "interaction_schema_arn = interaction_schema_response['schemaArn']\n",
    "print('interaction_schema_arn:\\n', interaction_schema_arn)"
   ]
  },
  {
   "cell_type": "code",
   "execution_count": null,
   "metadata": {},
   "outputs": [],
   "source": [
    "item_metadata_schema = {\n",
    "    \"type\": \"record\",\n",
    "    \"name\": \"Items\",\n",
    "    \"namespace\": \"com.amazonaws.personalize.schema\",\n",
    "    \"fields\": [\n",
    "    {\n",
    "        \"name\": \"ITEM_ID\",\n",
    "        \"type\": \"string\"\n",
    "    },\n",
    "    {\n",
    "        \"name\": \"GENRES\",\n",
    "        \"type\": \"string\",\n",
    "        \"categorical\": True\n",
    "    },\n",
    "    {\n",
    "        \"name\": \"CREATION_TIMESTAMP\",\n",
    "        \"type\": \"long\"\n",
    "    }\n",
    "    ],\n",
    "    \"version\": \"1.0\"\n",
    "}\n",
    "\n",
    "item_metadata_schema_response = personalize.create_schema(\n",
    "    name = item_metadata_schema_name,\n",
    "    schema = json.dumps(item_metadata_schema)\n",
    ")\n",
    "\n",
    "# print(json.dumps(create_schema_response, indent=2))\n",
    "item_metadata_schema_arn = item_metadata_schema_response['schemaArn']\n",
    "print('item_metadata_schema_arn:\\n', item_metadata_schema_arn)"
   ]
  },
  {
   "cell_type": "markdown",
   "metadata": {},
   "source": [
    "#### c. Crear conjuntos de datos"
   ]
  },
  {
   "cell_type": "code",
   "execution_count": null,
   "metadata": {},
   "outputs": [],
   "source": [
    "interactions_dataset_response = personalize.create_dataset(\n",
    "    datasetType = 'INTERACTIONS',\n",
    "    datasetGroupArn = dataset_group_arn,\n",
    "    schemaArn = interaction_schema_arn,\n",
    "    name = interaction_dataset_name\n",
    ")\n",
    "interaction_dataset_arn = interactions_dataset_response['datasetArn']\n",
    "#print(json.dumps(create_dataset_response, indent=2))\n",
    "print('interaction_dataset_arn:\\n', interaction_dataset_arn)\n",
    "\n",
    "items_dataset_response = personalize.create_dataset(\n",
    "    datasetType = 'ITEMS',\n",
    "    datasetGroupArn = dataset_group_arn,\n",
    "    schemaArn = item_metadata_schema_arn,\n",
    "    name = item_metadata_dataset_name\n",
    ")\n",
    "item_metadata_dataset_arn = items_dataset_response['datasetArn']\n",
    "#print(json.dumps(create_dataset_response, indent=2))\n",
    "print('item_metadata_dataset_arn:\\n', item_metadata_dataset_arn)"
   ]
  },
  {
   "cell_type": "markdown",
   "metadata": {},
   "source": [
    "#### d. Cargar los conjuntos de datos al bucket de S3, configurar la política del bucket de S3 adecuada, la función de IAM, etc.\n",
    "\n",
    "Necesitamos cargar estos conjuntos de datos o puede proporcionar el nombre del bucket donde ya tiene los conjuntos de datos."
   ]
  },
  {
   "cell_type": "code",
   "execution_count": null,
   "metadata": {},
   "outputs": [],
   "source": [
    "#!aws s3 mb s3://{s3_bucket_name}\n",
    "s3_bucket_name"
   ]
  },
  {
   "cell_type": "code",
   "execution_count": null,
   "metadata": {},
   "outputs": [],
   "source": [
    "s3_client.create_bucket(Bucket=s3_bucket_name,\n",
    "                          CreateBucketConfiguration={\n",
    "                              'LocationConstraint': region_name})"
   ]
  },
  {
   "cell_type": "code",
   "execution_count": null,
   "metadata": {},
   "outputs": [],
   "source": [
    "interactions_file = os.getcwd() + \"/interaction.csv\"\n",
    "items_metadata_file = os.getcwd() + \"/items.csv\""
   ]
  },
  {
   "cell_type": "code",
   "execution_count": null,
   "metadata": {},
   "outputs": [],
   "source": [
    "s3_client.upload_file(Filename=interactions_file, Bucket=s3_bucket_name,\n",
    "    Key=\"interaction.csv\")\n",
    "s3_client.upload_file(Filename=items_metadata_file, Bucket=s3_bucket_name,\n",
    "    Key=\"items.csv\")"
   ]
  },
  {
   "cell_type": "markdown",
   "metadata": {},
   "source": [
    "#### e. Adjuntar la política a su bucket de S3"
   ]
  },
  {
   "cell_type": "code",
   "execution_count": null,
   "metadata": {},
   "outputs": [],
   "source": [
    "policy = {\n",
    "    \"Version\": \"2012-10-17\",\n",
    "    \"Id\": \"PersonalizeS3BucketAccessPolicy\",\n",
    "    \"Statement\": [\n",
    "        {\n",
    "            \"Sid\": \"PersonalizeS3BucketAccessPolicy\",\n",
    "            \"Effect\": \"Allow\",\n",
    "            \"Principal\": {\n",
    "                \"Service\": \"personalize.amazonaws.com\"\n",
    "            },\n",
    "            \"Action\": [\n",
    "                \"s3:GetObject\",\n",
    "                \"s3:ListBucket\"\n",
    "            ],\n",
    "            \"Resource\": [\n",
    "                \"arn:aws:s3:::{}\".format(s3_bucket_name),\n",
    "                \"arn:aws:s3:::{}/*\".format(s3_bucket_name)\n",
    "            ]\n",
    "        }\n",
    "    ]\n",
    "}\n",
    "\n",
    "s3_client.put_bucket_policy(Bucket=s3_bucket_name, Policy=json.dumps(policy));"
   ]
  },
  {
   "cell_type": "markdown",
   "metadata": {},
   "source": [
    "#### f. Configurar el rol IAM apropiado para que Personalize pueda acceder a los conjuntos de datos"
   ]
  },
  {
   "cell_type": "code",
   "execution_count": null,
   "metadata": {},
   "outputs": [],
   "source": [
    "iam = boto3.client(service_name='iam', \n",
    "                         aws_access_key_id = accessKeyId, \n",
    "                         aws_secret_access_key = secretAccessKey)   \n",
    "\n",
    "\n",
    "role_name = \"PersonalizeS3Role-\"+suffix\n",
    "assume_role_policy_document = {\n",
    "    \"Version\": \"2012-10-17\",\n",
    "    \"Statement\": [\n",
    "        {\n",
    "          \"Effect\": \"Allow\",\n",
    "          \"Principal\": {\n",
    "            \"Service\": \"personalize.amazonaws.com\"\n",
    "          },\n",
    "          \"Action\": \"sts:AssumeRole\"\n",
    "        }\n",
    "    ]\n",
    "}\n",
    "try:\n",
    "    create_role_response = iam.create_role(\n",
    "        RoleName = role_name,\n",
    "        AssumeRolePolicyDocument = json.dumps(assume_role_policy_document)\n",
    "    );\n",
    "\n",
    "    iam.attach_role_policy(\n",
    "        RoleName = role_name,\n",
    "        PolicyArn = \"arn:aws:iam::aws:policy/AmazonS3ReadOnlyAccess\"\n",
    "    );\n",
    "\n",
    "    role_arn = create_role_response[\"Role\"][\"Arn\"]\n",
    "except ClientError as e:\n",
    "    if e.response['Error']['Code'] == 'EntityAlreadyExists':\n",
    "        role_arn = iam.get_role(RoleName=role_name)['Role']['Arn']\n",
    "    else:\n",
    "        raise"
   ]
  },
  {
   "cell_type": "code",
   "execution_count": null,
   "metadata": {},
   "outputs": [],
   "source": [
    "print('role_arn:', role_arn)"
   ]
  },
  {
   "cell_type": "markdown",
   "metadata": {},
   "source": [
    "#### g. Crear trabajos de importación de conjuntos de datos para cargarlos"
   ]
  },
  {
   "cell_type": "code",
   "execution_count": null,
   "metadata": {},
   "outputs": [],
   "source": [
    "time.sleep(20) # wait for RoleARN completion\n",
    "interactions_dij_response = personalize.create_dataset_import_job(\n",
    "    jobName =  prefix + 'interactions-dij-' + suffix,\n",
    "    datasetArn = interaction_dataset_arn,\n",
    "    dataSource = {\n",
    "        \"dataLocation\": \"s3://{}/{}\".format(s3_bucket_name, 'interaction.csv')\n",
    "    },\n",
    "    roleArn = role_arn\n",
    ")\n",
    "\n",
    "interactions_dij_arn = interactions_dij_response['datasetImportJobArn']\n",
    "print('interactions_dij_arn: ', interactions_dij_arn)\n",
    "#print(json.dumps(interactions_dij_arn, indent=2))\n",
    "\n",
    "items_dij_response = personalize.create_dataset_import_job(\n",
    "    jobName =  prefix + 'items-dij-' + suffix,\n",
    "    datasetArn = item_metadata_dataset_arn,\n",
    "    dataSource = {\n",
    "        \"dataLocation\": \"s3://{}/{}\".format(s3_bucket_name, 'items.csv')\n",
    "    },\n",
    "    roleArn = role_arn\n",
    ")\n",
    "\n",
    "items_dij_arn = items_dij_response['datasetImportJobArn']\n",
    "print('items_dij_arn:', items_dij_arn)"
   ]
  },
  {
   "cell_type": "code",
   "execution_count": null,
   "metadata": {},
   "outputs": [],
   "source": [
    "dataset_job_arns = [interactions_dij_arn, items_dij_arn]\n",
    "\n",
    "max_time = time.time() + 3*60*60 # 3 hours\n",
    "while time.time() < max_time and len(dataset_job_arns) != 0:\n",
    "    time.sleep(60)    \n",
    "    for dij_arn in dataset_job_arns:\n",
    "        describe_dataset_import_job_response = personalize.describe_dataset_import_job(\n",
    "            datasetImportJobArn = dij_arn\n",
    "        )\n",
    "        dataset_import_job = describe_dataset_import_job_response[\"datasetImportJob\"]\n",
    "        status = None\n",
    "        if \"latestDatasetImportJobRun\" not in dataset_import_job:\n",
    "            status = dataset_import_job[\"status\"]\n",
    "            print(\"{} : {}\".format(dij_arn, status))\n",
    "        else:\n",
    "            status = dataset_import_job[\"latestDatasetImportJobRun\"][\"status\"]\n",
    "            print(\"DIJ_ARN: {}, LatestDatasetImportJobRun: {}\".format(dij_arn, status))\n",
    "    \n",
    "        if status == \"ACTIVE\" or status == \"CREATE FAILED\":\n",
    "            dataset_job_arns.remove(dij_arn)\n"
   ]
  },
  {
   "cell_type": "markdown",
   "metadata": {},
   "source": [
    "### 3. Crear solución, SolutionVersion\n",
    "\n",
    "Crearemos una solución con 'aws-user-personalization'. Esta receta equilibra las recomendaciones de artículos nuevos y antiguos que se entregan a los usuarios"
   ]
  },
  {
   "cell_type": "code",
   "execution_count": null,
   "metadata": {},
   "outputs": [],
   "source": [
    "recipe_arn = \"arn:aws:personalize:::recipe/aws-user-personalization\"\n",
    "max_time = time.time() + 3*60*60 # 3 hours\n",
    "create_solution_response = None\n",
    "while time.time() < max_time:\n",
    "\n",
    "    try:\n",
    "        create_solution_response = personalize.create_solution(name=solution_name, \n",
    "                                    recipeArn= recipe_arn, \n",
    "                                    datasetGroupArn = dataset_group_arn)\n",
    "\n",
    "        solution_arn = create_solution_response['solutionArn']\n",
    "        print('solution_arn: ', solution_arn)\n",
    "        break;\n",
    "    except personalize.exceptions.ClientError as e:\n",
    "        if 'EVENT_INTERACTIONS' not in str(e):\n",
    "            print(json.dumps(create_solution_response, indent=2))\n",
    "            print(e)\n",
    "            break"
   ]
  },
  {
   "cell_type": "markdown",
   "metadata": {},
   "source": [
    "#### Crear SolutionVersion"
   ]
  },
  {
   "cell_type": "code",
   "execution_count": null,
   "metadata": {},
   "outputs": [],
   "source": [
    "create_solution_version_response = personalize.create_solution_version(solutionArn = solution_arn)\n",
    "\n",
    "solution_version_arn = create_solution_version_response['solutionVersionArn']\n",
    "print('solution_version_arn:', solution_version_arn)"
   ]
  },
  {
   "cell_type": "code",
   "execution_count": null,
   "metadata": {},
   "outputs": [],
   "source": [
    "status = None\n",
    "max_time = time.time() + 3*60*60 # 3 hours\n",
    "while time.time() < max_time:\n",
    "    describe_solution_version_response = personalize.describe_solution_version(\n",
    "        solutionVersionArn = solution_version_arn\n",
    "    )\n",
    "    status = describe_solution_version_response[\"solutionVersion\"][\"status\"]\n",
    "    print(\"SolutionVersion: {}\".format(status))\n",
    "    \n",
    "    if status == \"ACTIVE\" or status == \"CREATE FAILED\":\n",
    "        break\n",
    "        \n",
    "    time.sleep(60)"
   ]
  },
  {
   "cell_type": "markdown",
   "metadata": {},
   "source": [
    "### 4. Crear una campaña\n",
    "Cuando se crea la campaña, podemos establecer el valor itemExplorationConfig para configurar el peso de exploración de los artículos fríos y también el límite de edad de exploración. Por ahora, podemos establecer el peso de exploración en 0,9 y el límite de edad de exploración en 7, por lo que pensamos que todo el tiempo de creación de artículos en menos de 7 días se consideraría como artículo frío y haríamos una mayor exploración en esos nuevos artículos."
   ]
  },
  {
   "cell_type": "markdown",
   "metadata": {},
   "source": [
    "#### Crear una campaña"
   ]
  },
  {
   "cell_type": "code",
   "execution_count": null,
   "metadata": {
    "scrolled": true
   },
   "outputs": [],
   "source": [
    "create_campaign_response = personalize.create_campaign(\n",
    "    name = prefix + suffix,\n",
    "    solutionVersionArn = solution_version_arn,\n",
    "    minProvisionedTPS = 1,\n",
    "    campaignConfig = {\n",
    "        \"itemExplorationConfig\": {\n",
    "            \"explorationWeight\": \"0.9\",\n",
    "            \"explorationItemAgeCutOff\": \"7\"\n",
    "        }\n",
    "    }\n",
    ")\n",
    "\n",
    "campaign_arn = create_campaign_response['campaignArn']\n",
    "print('campaign_arn:', campaign_arn)"
   ]
  },
  {
   "cell_type": "code",
   "execution_count": null,
   "metadata": {},
   "outputs": [],
   "source": [
    "status = None\n",
    "max_time = time.time() + 3*60*60 # 3 hours\n",
    "while time.time() < max_time:\n",
    "    describe_campaign_response = personalize.describe_campaign(\n",
    "        campaignArn = campaign_arn\n",
    "    )\n",
    "    status = describe_campaign_response[\"campaign\"][\"status\"]\n",
    "    print(\"Campaign: {}\".format(status))\n",
    "    \n",
    "    if status == \"ACTIVE\" or status == \"CREATE FAILED\":\n",
    "        break\n",
    "        \n",
    "    time.sleep(60)"
   ]
  },
  {
   "cell_type": "code",
   "execution_count": null,
   "metadata": {},
   "outputs": [],
   "source": [
    "describe_campaign_response = personalize.describe_campaign(campaignArn = campaign_arn)\n",
    "campaign_summary = describe_campaign_response[\"campaign\"]\n",
    "campaign_summary"
   ]
  },
  {
   "cell_type": "markdown",
   "metadata": {},
   "source": [
    "### 5. Llamar a GetRecommendations\n",
    "A los efectos de la demostración, utilizaremos las identificaciones de usuario en el conjunto de datos de entrada para hacer las llamadas getRecommendation. \n",
    "> **_NOTA:_**: En la respuesta, tiene un nuevo campo `RecommendationId` que corresponde a la lista de artículos devueltos por Personalize GetRecommendations. Puede pasar este RecommendationId para indicar las impresiones.  \n",
    "También podría pasar el valor Impression como una concatenación de cadenas de elementos. Si pasa tanto RecommendationId como ImpressionList, ImpressionList tendría prioridad y se utilizaría en el sistema."
   ]
  },
  {
   "cell_type": "code",
   "execution_count": null,
   "metadata": {
    "scrolled": false
   },
   "outputs": [],
   "source": [
    "rec_response = personalize_runtime.get_recommendations(campaignArn = campaign_arn, userId = '101')\n",
    "print(rec_response['recommendationId'])"
   ]
  },
  {
   "cell_type": "code",
   "execution_count": null,
   "metadata": {},
   "outputs": [],
   "source": [
    "rec_response['itemList']"
   ]
  },
  {
   "cell_type": "markdown",
   "metadata": {},
   "source": [
    "### 6. Crear rastreador de eventos\n",
    "\n",
    "Crea un rastreador de eventos que se utiliza cuando se envían datos de eventos al grupo de conjuntos de datos especificado mediante la API PutEvents."
   ]
  },
  {
   "cell_type": "code",
   "execution_count": null,
   "metadata": {
    "scrolled": true
   },
   "outputs": [],
   "source": [
    "even_tracker_response = personalize.create_event_tracker( \n",
    "    name=event_tracker_name,\n",
    "    datasetGroupArn=dataset_group_arn\n",
    ")\n",
    "event_tracker_arn  = even_tracker_response['eventTrackerArn']\n",
    "event_tracking_id = even_tracker_response['trackingId']\n",
    "#print(json.dumps(even_tracker_response,indent=2))\n",
    "print('eventTrackerArn:{},\\n eventTrackingId:{}'.format(event_tracker_arn, event_tracking_id))"
   ]
  },
  {
   "cell_type": "markdown",
   "metadata": {},
   "source": [
    "### 7. Enviar los datos de impresión a Personalize a través de PutEvents\n",
    "Amazon Personalize puede modelar dos tipos de impresiones:  \n",
    "1. Impresiones implícitas e impresiones explícitas. Las impresiones implícitas son aquellas que se producen durante la sesión de un usuario y son registradas automáticamente por Amazon Personalize cada vez que al usuario se le muestra un artículo. Puede integrarlos en su flujo de trabajo de recomendación incluyendo el ID de recomendación (devuelto por las operaciones) como entrada para futuras peticiones PutEvents.  \n",
    "\n",
    "\n",
    "2. Las impresiones explícitas son aquellas que se introducen manualmente cuando realiza una solicitud de PutEvents. Utilizaría impresiones explícitas cuando, por ejemplo, no muestre algunos de los elementos devueltos por GetRecommendations debido a la falta de disponibilidad, etc.   \n",
    "\n",
    "> **NOTA:**: Si ha definido `impression` en su esquema de interacción como lo hizo anteriormente, necesita enviar la lista de impresiones (ya sea los artículos devueltos por GetRecommendations o los suyos).  \n",
    "**Cuando el ID de las recomendaciones como las impresiones son , Amazon Personalize utilizará las impresiones explícitas por defecto.**\n",
    "\n"
   ]
  },
  {
   "cell_type": "markdown",
   "metadata": {},
   "source": [
    "#### Pongamos el artículo recomendado anteriormente como impresiones"
   ]
  },
  {
   "cell_type": "code",
   "execution_count": null,
   "metadata": {
    "scrolled": false
   },
   "outputs": [],
   "source": [
    "personalize_events.put_events(\n",
    "     trackingId = event_tracking_id,\n",
    "     userId= '101',\n",
    "     sessionId = '1',\n",
    "     eventList = [{\n",
    "     'sentAt': datetime.now().timestamp(),\n",
    "     'eventType' : 'click',\n",
    "     'itemId' : rec_response['itemList'][0]['itemId'],        \n",
    "     'recommendationId': rec_response['recommendationId'],\n",
    "     'impression': [item['itemId'] for item in rec_response['itemList']],\n",
    "     }]\n",
    "    )"
   ]
  },
  {
   "cell_type": "markdown",
   "metadata": {},
   "source": [
    "#### También podemos poner algunos artículos nuevos\n",
    "\n",
    "Pongamos un nuevo itemId '2xx' a Personalize."
   ]
  },
  {
   "cell_type": "code",
   "execution_count": null,
   "metadata": {},
   "outputs": [],
   "source": [
    "personalize_events.put_events(\n",
    "     trackingId = event_tracking_id,\n",
    "     userId= '101',\n",
    "     sessionId = '1',\n",
    "     eventList = [{\n",
    "         'sentAt': datetime.now().timestamp(),\n",
    "         'eventType' : 'click',\n",
    "         'itemId' : '240',\n",
    "     },\n",
    "     {\n",
    "         'sentAt': datetime.now().timestamp(),\n",
    "         'eventType' : 'click',\n",
    "         'itemId' : '241',\n",
    "     },\n",
    "     {\n",
    "         'sentAt': datetime.now().timestamp(),\n",
    "         'eventType' : 'click',\n",
    "         'itemId' : '242',\n",
    "     },\n",
    "     {\n",
    "         'sentAt': datetime.now().timestamp(),\n",
    "         'eventType' : 'click',\n",
    "         'itemId' : '243',\n",
    "     },\n",
    "     {\n",
    "         'sentAt': datetime.now().timestamp(),\n",
    "         'eventType' : 'click',\n",
    "         'itemId' : '244',\n",
    "     },\n",
    "     {\n",
    "         'sentAt': datetime.now().timestamp(),\n",
    "         'eventType' : 'click',\n",
    "         'itemId' : '245',\n",
    "     },\n",
    "     {\n",
    "         'sentAt': datetime.now().timestamp(),\n",
    "         'eventType' : 'click',\n",
    "         'itemId' : '246',\n",
    "     },\n",
    "     {\n",
    "         'sentAt': datetime.now().timestamp(),\n",
    "         'eventType' : 'click',\n",
    "         'itemId' : '247',\n",
    "     },\n",
    "     {\n",
    "         'sentAt': datetime.now().timestamp(),\n",
    "         'eventType' : 'click',\n",
    "         'itemId' : '248',\n",
    "     },\n",
    "     {\n",
    "         'sentAt': datetime.now().timestamp(),\n",
    "         'eventType' : 'click',\n",
    "         'itemId' : '249',\n",
    "     }]\n",
    "    )"
   ]
  },
  {
   "cell_type": "markdown",
   "metadata": {},
   "source": [
    "### 8. Crear una nueva SolutionVersion con updateMode\n",
    "\n",
    "Después de realizar la solicitud PutEvents, espere alrededor de 15 minutos para que Personalize incorpore los nuevos datos. Luego, cree una nueva solutionVersion con el modo de actualización."
   ]
  },
  {
   "cell_type": "code",
   "execution_count": null,
   "metadata": {},
   "outputs": [],
   "source": [
    "create_solution_version_response = personalize.create_solution_version(solutionArn = solution_arn, trainingMode = \"UPDATE\")\n",
    "\n",
    "solution_version_after_update = create_solution_version_response['solutionVersionArn']\n",
    "print('solution_version_after_update:', solution_version_arn)"
   ]
  },
  {
   "cell_type": "code",
   "execution_count": null,
   "metadata": {},
   "outputs": [],
   "source": [
    "status = None\n",
    "max_time = time.time() + 3*60*60 # 3 hours\n",
    "while time.time() < max_time:\n",
    "    describe_solution_version_response = personalize.describe_solution_version(\n",
    "        solutionVersionArn = solution_version_after_update\n",
    "    )\n",
    "    status = describe_solution_version_response[\"solutionVersion\"][\"status\"]\n",
    "    print(\"SolutionVersion: {}\".format(status))\n",
    "    \n",
    "    if status == \"ACTIVE\" or status == \"CREATE FAILED\":\n",
    "        break\n",
    "        \n",
    "    time.sleep(60)"
   ]
  },
  {
   "cell_type": "markdown",
   "metadata": {},
   "source": [
    "### 9. Actualizar la camapaña\n",
    "\n",
    "Actualice la campaña con la última versión de la solución arn de actualización."
   ]
  },
  {
   "cell_type": "code",
   "execution_count": null,
   "metadata": {},
   "outputs": [],
   "source": [
    "campaign_arn_response = personalize.update_campaign(campaignArn=campaign_arn, solutionVersionArn=solution_version_after_update)\n",
    "print('campaign_arn_response: ', campaign_arn_response)"
   ]
  },
  {
   "cell_type": "code",
   "execution_count": null,
   "metadata": {},
   "outputs": [],
   "source": [
    "# Wait for campaign update to reflect the new solution-version\n",
    "solutionVersionArn = None\n",
    "max_time = time.time() + 3*60*60 # 3 hours\n",
    "while time.time() < max_time:\n",
    "    describe_campaign_response = personalize.describe_campaign(\n",
    "        campaignArn = campaign_arn\n",
    "    )\n",
    "    solutionVersionArn = describe_campaign_response[\"campaign\"][\"solutionVersionArn\"]\n",
    "    print(\"Campaign solution version: {}\".format(solutionVersionArn))\n",
    "    \n",
    "    if solutionVersionArn == solution_version_after_update:\n",
    "        break\n",
    "        \n",
    "    time.sleep(60)\n",
    "\n",
    "# wait 1 minutes\n",
    "time.sleep(60)"
   ]
  },
  {
   "cell_type": "code",
   "execution_count": null,
   "metadata": {},
   "outputs": [],
   "source": [
    "desc_campaign_response = personalize.describe_campaign(campaignArn = campaign_arn)['campaign'][\"solutionVersionArn\"]\n",
    "desc_campaign_response"
   ]
  },
  {
   "cell_type": "markdown",
   "metadata": {},
   "source": [
    "### Después de actualizar la versión de la solución, hagamos la recomendación de nuevo\n",
    "\n",
    "Esperaríamos que los nuevos artículos aparecieran en la recomendación, ya que fijamos la exploración alta como 0,9."
   ]
  },
  {
   "cell_type": "code",
   "execution_count": null,
   "metadata": {},
   "outputs": [],
   "source": [
    "rec_response = personalize_runtime.get_recommendations(campaignArn = campaign_arn, userId = '101')"
   ]
  },
  {
   "cell_type": "code",
   "execution_count": null,
   "metadata": {},
   "outputs": [],
   "source": [
    "rec_response['itemList']"
   ]
  },
  {
   "cell_type": "markdown",
   "metadata": {},
   "source": [
    "### Actualizar la campaña con un peso de exploración diferente\n",
    "\n",
    "Esperaríamos que aparecieran más artículos antiguos en la lista de recomendaciones, ya que fijamos un peso de exploración bajo."
   ]
  },
  {
   "cell_type": "code",
   "execution_count": null,
   "metadata": {},
   "outputs": [],
   "source": [
    "desc_campaign_response = personalize.describe_campaign(campaignArn = campaign_arn)['campaign']\n",
    "desc_campaign_response"
   ]
  },
  {
   "cell_type": "code",
   "execution_count": null,
   "metadata": {},
   "outputs": [],
   "source": [
    "campaign_arn_response = personalize.update_campaign(campaignArn=campaign_arn, campaignConfig = {\n",
    "        \"itemExplorationConfig\": {\n",
    "            \"explorationWeight\": \"0.1\",\n",
    "            \"explorationItemAgeCutOff\": \"7\"\n",
    "        }\n",
    "    })\n"
   ]
  },
  {
   "cell_type": "code",
   "execution_count": null,
   "metadata": {},
   "outputs": [],
   "source": [
    "# Wait for campaign update to reflect the new explorationWeight\n",
    "explorationWeight = None\n",
    "max_time = time.time() + 3*60*60 # 3 hours\n",
    "while time.time() < max_time:\n",
    "    describe_campaign_response = personalize.describe_campaign(\n",
    "        campaignArn = campaign_arn\n",
    "    )\n",
    "    explorationWeight = describe_campaign_response[\"campaign\"][\"campaignConfig\"]['itemExplorationConfig']['explorationWeight']\n",
    "    print(\"Current Campaign  explorationWeight: {}\".format(explorationWeight))\n",
    "    \n",
    "    if explorationWeight == \"0.1\":\n",
    "        break\n",
    "        \n",
    "    time.sleep(60)\n",
    "\n",
    "# wait 1 minutes\n",
    "time.sleep(60)"
   ]
  },
  {
   "cell_type": "markdown",
   "metadata": {},
   "source": [
    "### Después de la exploración actualizada peso\n",
    "\n",
    "Hagamos la recomendación de nuevo, deberíamos ver más artículos antiguos aquí."
   ]
  },
  {
   "cell_type": "code",
   "execution_count": null,
   "metadata": {},
   "outputs": [],
   "source": [
    "rec_response = personalize_runtime.get_recommendations(campaignArn = campaign_arn, userId = '101')"
   ]
  },
  {
   "cell_type": "code",
   "execution_count": null,
   "metadata": {},
   "outputs": [],
   "source": [
    "rec_response"
   ]
  },
  {
   "cell_type": "markdown",
   "metadata": {},
   "source": [
    "#### 10. Eliminar recursos\n",
    "\n",
    "Después de crear todos los recursos, limpiaremos todos los recursos."
   ]
  },
  {
   "cell_type": "code",
   "execution_count": null,
   "metadata": {},
   "outputs": [],
   "source": [
    "personalize.delete_campaign(campaignArn=campaign_arn)\n",
    "while len(personalize.list_campaigns(solutionArn=solution_arn)['campaigns']):\n",
    "    time.sleep(5)\n",
    "\n",
    "personalize.delete_solution(solutionArn=solution_arn)\n",
    "while len(personalize.list_solutions(datasetGroupArn=dataset_group_arn)['solutions']):\n",
    "    time.sleep(5)\n",
    "\n",
    "for dataset in personalize.list_datasets(datasetGroupArn=dataset_group_arn)['datasets']:\n",
    "    personalize.delete_dataset(datasetArn=dataset['datasetArn'])\n",
    "while len(personalize.list_datasets(datasetGroupArn=dataset_group_arn)['datasets']):\n",
    "    time.sleep(5)\n",
    "    \n",
    "personalize.delete_event_tracker(eventTrackerArn=event_tracker_arn)\n",
    "personalize.delete_dataset_group(datasetGroupArn=dataset_group_arn)"
   ]
  }
 ],
 "metadata": {
  "kernelspec": {
   "display_name": "Python 3",
   "language": "python",
   "name": "python3"
  },
  "language_info": {
   "codemirror_mode": {
    "name": "ipython",
    "version": 3
   },
   "file_extension": ".py",
   "mimetype": "text/x-python",
   "name": "python",
   "nbconvert_exporter": "python",
   "pygments_lexer": "ipython3",
   "version": "3.7.7"
  }
 },
 "nbformat": 4,
 "nbformat_minor": 4
}
