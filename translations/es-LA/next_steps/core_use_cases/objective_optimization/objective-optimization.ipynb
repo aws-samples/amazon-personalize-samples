{
 "cells": [
  {
   "cell_type": "markdown",
   "metadata": {},
   "source": [
    "# Optimizaciones de objetivos\n",
    "\n",
    "Este cuaderno demuestra un caso de uso de la optimización de objetivos de Amazon Personalize. A menudo, hay otros factores que influyen en las recomendaciones y la optimización de objetivos puede utilizarse para proporcionar datos adicionales que impulsen el modelo.\n",
    "\n",
    "Este ejemplo supone que estamos proporcionando recomendaciones para un servicio de suscripción de video bajo demanda (VOD). El servicio permite a los usuarios un acceso ilimitado al catálogo de videos, aunque los títulos disponibles en su catálogo tienen diferentes condiciones de licencia en función del acuerdo con el propietario del contenido. Por medio de las recomendaciones que dan peso a los contenidos con menores costos de licencia, el servicio de streaming puede reducir los costos de las licencias sin dejar de satisfacer a los clientes.\n",
    "\n",
    "Una vez más, los datos provienen del proyecto [MovieLens](https://movielens.org/). Puede aprender más sobre los datos y los usos potenciales haciendo una búsqueda en la web durante cualquiera de los períodos de espera en las celdas a continuación. Complementará los datos de MovieLens con un campo adicional de regalías y generará los datos que proporcionarán los costos de regalías al conjunto de datos. "
   ]
  },
  {
   "cell_type": "markdown",
   "metadata": {},
   "source": [
    "## Cómo utilizar el cuaderno\n",
    "\n",
    "El código se divide en celdas como la siguiente. En la parte superior de esta página, se encuentra un botón triangular `Run` (Ejecutar) en el que puede hacer clic para ejecutar cada celda y pasar a la siguiente, o puede presionar `Shift` + `Enter`mientras está en la celda para ejecutarla y pasar a la siguiente.\n",
    "\n",
    "A medida que una celda se ejecuta, verá una línea al costado que muestra un `*` mientras la celda se está ejecutando o se actualizará a un número para indicar la última celda que terminó de ejecutarse luego de que haya terminado de ejecutar todo el código dentro de una celda.\n",
    "\n",
    "\n",
    "Solo debe seguir las instrucciones que aparecen a continuación y ejecutar las celdas para comenzar a utilizar la optimización de objetivos de Amazon Personalize."
   ]
  },
  {
   "cell_type": "markdown",
   "metadata": {},
   "source": [
    "## Importaciones \n",
    "\n",
    "Python viene con una amplia colección de bibliotecas y necesitamos importarlas, así como las que se instalan para ayudarnos, como [boto3](https://aws.amazon.com/sdk-for-python/) (AWS SDK para Python) y [Pandas](https://pandas.pydata.org/)/[Numpy](https://numpy.org/), que son herramientas básicas de la ciencia de datos."
   ]
  },
  {
   "cell_type": "code",
   "execution_count": null,
   "metadata": {},
   "outputs": [],
   "source": [
    "# Imports\n",
    "import boto3\n",
    "import json\n",
    "import numpy as np\n",
    "import pandas as pd\n",
    "import time\n",
    "from botocore.exceptions import ClientError\n",
    "\n",
    "!conda install -y -c conda-forge unzip\n",
    "\n",
    "pd.options.mode.chained_assignment = None"
   ]
  },
  {
   "cell_type": "markdown",
   "metadata": {},
   "source": [
    "A continuación, querrá validar que su entorno puede comunicarse correctamente con Amazon Personalize. Las líneas que figuran a continuación hacen precisamente eso."
   ]
  },
  {
   "cell_type": "code",
   "execution_count": null,
   "metadata": {},
   "outputs": [],
   "source": [
    "# Configure the SDK to Personalize:\n",
    "personalize = boto3.client('personalize')\n",
    "personalize_runtime = boto3.client('personalize-runtime')"
   ]
  },
  {
   "cell_type": "markdown",
   "metadata": {},
   "source": [
    "## Configurar los datos\n",
    "\n",
    "Los datos se importan a Amazon Personalize a través de Amazon S3. A continuación, especificaremos un nombre de archivo que se utiliza para escribir los archivos localmente antes de cargarlos a S3.\n"
   ]
  },
  {
   "cell_type": "code",
   "execution_count": null,
   "metadata": {},
   "outputs": [],
   "source": [
    "filename = \"movie-lens-100k.csv\"\n",
    "items_filename = \"movie-lens-items.csv\""
   ]
  },
  {
   "cell_type": "markdown",
   "metadata": {},
   "source": [
    "### Descargar, preparar y cargar los datos de entrenamiento\n",
    "\n",
    "En la actualidad, aún no tiene los datos de MovieLens cargados de forma local para examinarlos. Ejecute las siguientes líneas para descargar la última copia y examinarla rápidamente."
   ]
  },
  {
   "cell_type": "markdown",
   "metadata": {},
   "source": [
    "#### Descargar y explorar el conjunto de datos"
   ]
  },
  {
   "cell_type": "code",
   "execution_count": null,
   "metadata": {},
   "outputs": [],
   "source": [
    "!wget -N http://files.grouplens.org/datasets/movielens/ml-100k.zip\n",
    "!unzip -o ml-100k.zip\n",
    "data = pd.read_csv('./ml-100k/u.data', sep='\\t', names=['USER_ID', 'ITEM_ID', 'RATING', 'TIMESTAMP'])\n",
    "pd.set_option('display.max_rows', 5)\n",
    "data"
   ]
  },
  {
   "cell_type": "markdown",
   "metadata": {},
   "source": [
    "#### Preparar y cargar los datos\n",
    "\n",
    "El siguiente código carga la información de la película desde la descarga de MovieLens. Proporciona información sobre el título, la fecha de estreno, el enlace a IMDB y una lista de columnas para capturar los géneros que se aplican al título.\n",
    "\n",
    "No hay un campo de regalías, ya que el taller está generando una regalía ficticia y lo hará en el siguiente paso.\n",
    "\n",
    "\n",
    "\n",
    "\n",
    "\n",
    "\n"
   ]
  },
  {
   "cell_type": "code",
   "execution_count": null,
   "metadata": {},
   "outputs": [],
   "source": [
    "items = pd.read_csv('./ml-100k/u.item', sep='|',encoding='latin-1', names=['ITEM_ID', 'TITLE', 'RELEASE_DATE', 'VIDEO_RELEASE_DATE', 'IMDB_URL', 'MISC', 'ACTION_GENRE', 'ADVENTURE_GENRE', 'ANIMATION_GENRE', 'CHILDRENS_GENRE','COMEDY_GENRE', 'CRIME_GENRE', 'DOCUMENTARY_GENRE','DRAMA_GENRE','FANTASY_GENRE', 'FILMNOIR_GENRE','HORROR_GENRE', 'MUSICAL_GENRE','MYSTERY_GENRE', 'ROMANCE_GENRE', 'SCIFI_GENRE', 'THRILLER_GENRE', 'WAR_GENRE', 'WESTERN_GENRE'     ])\n",
    "items"
   ]
  },
  {
   "cell_type": "markdown",
   "metadata": {},
   "source": [
    "#### Agregar los datos de regalías y géneros\n",
    "Estamos asignando un valor al campo REGALÍA con una distribución uniforme de los valores 0,0, 0,005, 0,01, 0,015, 0,02, 0,025, 0,05, 0,10. Esto sitúa a la mayoría de las películas con una regalía relativamente baja o nula y a un pequeño número de películas con una regalía más alta. \n",
    "\n",
    "Observe en el gráfico de barras de abajo la distribución uniforme de los títulos con cada valor de regalía.\n",
    "\n",
    "El resultado del campo GÉNERO de MovieLens anterior es categórico y cada columna indica si el título pertenece al género, pero los elementos cargados en la personalización pueden aceptar matrices. Algunos códigos de panda para reunir los géneros en una columna delimitada por tuberías que enumera todos los géneros.\n",
    "\n"
   ]
  },
  {
   "cell_type": "code",
   "execution_count": null,
   "metadata": {},
   "outputs": [],
   "source": [
    "pd.set_option('display.max_rows', 10)\n",
    "\n",
    "royaltyvalues = [0, 0.005, 0.01, 0.015, 0.02, 0.025, 0.05, 0.10]\n",
    "items.loc[:,'ROYALTY'] = items['ITEM_ID'].map(lambda x: royaltyvalues[x%8])\n",
    "\n",
    "items.loc[:,'GENRE']='' \n",
    "\n",
    "for col_name in items.columns:\n",
    "    if col_name.endswith('_GENRE'):\n",
    "        items.loc[items[col_name]==1,'GENRE']= items['GENRE']+'|'+ col_name[:-6]\n",
    "\n",
    "items = items[['ITEM_ID', 'TITLE','ROYALTY', 'GENRE']]\n",
    "items.loc[:,'GENRE'] = items['GENRE'].str[1:]\n",
    "\n",
    "\n",
    "items.loc[:,'ROYALTY'].value_counts().plot.bar()\n",
    "items.head(10)\n"
   ]
  },
  {
   "cell_type": "markdown",
   "metadata": {},
   "source": [
    "#### Ajuste el valor de la regalía a un número negativo.\n",
    "\n",
    "La optimización del objetivo optimizará los valores más altos de un campo. En este caso, queremos equilibrar la relevancia de la película frente a los gastos de regalías en los que incurrirá el servicio de streaming.\n",
    "\n",
    "Para impulsar las películas con las regalías más bajas, las películas con las regalías más bajas necesitan los valores numéricos más altos. En este caso, convertiremos las regalías en un número negativo. Esto se hace multiplicando -1 por el valor absoluto de la regalía.\n",
    "\n",
    "Nota: El valor absoluto se utiliza para que esta celda pueda ejecutarse dos veces con los mismos resultados, lo cual es útil en un entorno de taller."
   ]
  },
  {
   "cell_type": "code",
   "execution_count": null,
   "metadata": {},
   "outputs": [],
   "source": [
    "items.loc[:,'ROYALTY'] = -1 * abs(items['ROYALTY'])\n",
    "items"
   ]
  },
  {
   "cell_type": "markdown",
   "metadata": {},
   "source": [
    "## Configurar un bucket de S3 y un rol de IAM <a class=\"anchor\" id=\"bucket_role\"></a>\n",
    "Hasta ahora, hemos descargado, manipulado y guardado los datos en la instancia de Amazon EBS adjunta a la instancia que ejecuta este cuaderno de Jupyter. Sin embargo, Amazon Personalize necesitará un bucket de S3 para actuar como origen de los datos, así como roles de IAM para acceder a ese bucket. Preparemos todo esto.\n",
    "\n",
    "Utilice los metadatos almacenados en la instancia subyacente a este cuaderno de Amazon SageMaker para determinar la región en la que opera. Si utiliza un cuaderno de Jupyter fuera de Amazon SageMaker, simplemente defina la región como una cadena a continuación. El bucket de Amazon S3 debe estar en la misma región que los recursos de Amazon Personalize que hemos creado hasta ahora."
   ]
  },
  {
   "cell_type": "code",
   "execution_count": null,
   "metadata": {},
   "outputs": [],
   "source": [
    "with open('/opt/ml/metadata/resource-metadata.json') as notebook_info:\n",
    "    notebook_data = json.load(notebook_info)\n",
    "    resource_arn = notebook_data['ResourceArn']\n",
    "    region = resource_arn.split(':')[3]\n",
    "print(region)"
   ]
  },
  {
   "cell_type": "markdown",
   "metadata": {},
   "source": [
    "Los nombres de los buckets de Amazon S3 son exclusivos a nivel global. Para crear un nombre de bucket exclusivo, el siguiente código agregará la cadena `personalize-objective-optimization-` a su número de cuenta de AWS. Luego, crea un bucket con este nombre en la región descubierta en la celda anterior."
   ]
  },
  {
   "cell_type": "code",
   "execution_count": null,
   "metadata": {},
   "outputs": [],
   "source": [
    "s3 = boto3.client('s3')\n",
    "suffix = str(np.random.uniform())[4:9]\n",
    "bucket_name = \"personalize-objective-optimization-\"+   suffix        # replace with the name of your S3 bucket\n",
    "print(bucket_name)\n",
    "if region != \"us-east-1\":\n",
    "    s3.create_bucket(Bucket=bucket_name, CreateBucketConfiguration={'LocationConstraint': region})\n",
    "else:\n",
    "    s3.create_bucket(Bucket=bucket_name)"
   ]
  },
  {
   "cell_type": "markdown",
   "metadata": {},
   "source": [
    "### Cargar los datos a S3\n",
    "\n",
    "Ahora que creó su bucket de Amazon S3, cargue el archivo CSV de nuestros datos de los elementos. "
   ]
  },
  {
   "cell_type": "code",
   "execution_count": null,
   "metadata": {},
   "outputs": [],
   "source": [
    "items = items[['ITEM_ID', 'TITLE', 'GENRE', 'ROYALTY']]\n",
    "items_dataset = items[['ITEM_ID','ROYALTY', 'GENRE']]\n",
    "\n",
    "items_dataset.to_csv(items_filename, index=False)\n",
    "boto3.Session().resource('s3').Bucket(bucket_name).Object(items_filename).upload_file(items_filename)"
   ]
  },
  {
   "cell_type": "markdown",
   "metadata": {},
   "source": [
    "### Establecer la política del bucket de S3\n",
    "Amazon Personalize debe ser capaz de leer el contenido de su bucket de S3. Así que agregue una política de bucket que lo permita."
   ]
  },
  {
   "cell_type": "code",
   "execution_count": null,
   "metadata": {},
   "outputs": [],
   "source": [
    "policy = {\n",
    "    \"Version\": \"2012-10-17\",\n",
    "    \"Id\": \"PersonalizeS3BucketAccessPolicy\",\n",
    "    \"Statement\": [\n",
    "        {\n",
    "            \"Sid\": \"PersonalizeS3BucketAccessPolicy\",\n",
    "            \"Effect\": \"Allow\",\n",
    "            \"Principal\": {\n",
    "                \"Service\": \"personalize.amazonaws.com\"\n",
    "            },\n",
    "            \"Action\": [\n",
    "                \"s3:*Object\",\n",
    "                \"s3:ListBucket\"\n",
    "            ],\n",
    "            \"Resource\": [\n",
    "                \"arn:aws:s3:::{}\".format(bucket_name),\n",
    "                \"arn:aws:s3:::{}/*\".format(bucket_name)\n",
    "            ]\n",
    "        }\n",
    "    ]\n",
    "}\n",
    "\n",
    "s3.put_bucket_policy(Bucket=bucket_name, Policy=json.dumps(policy))"
   ]
  },
  {
   "cell_type": "markdown",
   "metadata": {},
   "source": [
    "#### Crear el esquema de elementos del título de la película\n",
    "Necesitaremos dos esquemas, uno para los títulos de las películas, que será del tipo elementos, y un segundo que definirá la estructura de las interacciones."
   ]
  },
  {
   "cell_type": "code",
   "execution_count": null,
   "metadata": {},
   "outputs": [],
   "source": [
    "schema = {\n",
    "    \"type\": \"record\",\n",
    "    \"name\": \"Items\",\n",
    "    \"namespace\": \"com.amazonaws.personalize.schema\",\n",
    "    \"fields\": [\n",
    "        {\n",
    "            \"name\": \"ITEM_ID\",\n",
    "            \"type\": \"string\"\n",
    "        },\n",
    "        {\n",
    "            \"name\": \"ROYALTY\",\n",
    "            \"type\": \"float\"\n",
    "        },        {\n",
    "            \"name\": \"GENRE\",\n",
    "            \"type\": [\n",
    "                \"null\",\n",
    "                \"string\"\n",
    "              ],\n",
    "            \"categorical\": True\n",
    "        }\n",
    "    ],\n",
    "    \"version\": \"1.0\"\n",
    "}\n",
    "\n",
    "create_item_schema_response = personalize.create_schema(\n",
    "    name = \"personalize-objective-optmization-item-schema\"+suffix,\n",
    "    schema = json.dumps(schema)\n",
    ")\n",
    "\n",
    "item_schema_arn = create_item_schema_response['schemaArn']\n",
    "print(json.dumps(create_item_schema_response, indent=2))"
   ]
  },
  {
   "cell_type": "markdown",
   "metadata": {},
   "source": [
    "A partir de aquí, seguiremos el mismo proceso de la [primera campaña](https://github.com/aws-samples/amazon-personalize-samples/blob/master/getting_started/notebooks/1.Building_Your_First_Campaign.ipynb), cargando las interacciones. Solo queremos incluir interacciones con al menos una calificación de tres y no queremos recomendar películas que no gusten a los espectadores."
   ]
  },
  {
   "cell_type": "code",
   "execution_count": null,
   "metadata": {},
   "outputs": [],
   "source": [
    "data = data[data['RATING'] > 3]                # Keep only movies rated higher than 3 out of 5.\n",
    "data = data[['USER_ID', 'ITEM_ID', 'TIMESTAMP']] # select columns that match the columns in the schema below\n",
    "data.to_csv(filename, index=False)\n",
    "boto3.Session().resource('s3').Bucket(bucket_name).Object(filename).upload_file(filename)"
   ]
  },
  {
   "cell_type": "markdown",
   "metadata": {},
   "source": [
    "### Crear un esquema de interacciones\n",
    "\n",
    "Un componente central de cómo Personalize entiende sus datos proviene del esquema que se define a continuación. Esta configuración indica al servicio cómo digerir los datos proporcionados a través de su archivo CSV. Observe que las columnas y los tipos se alinean con lo que había en el archivo que creó anteriormente."
   ]
  },
  {
   "cell_type": "code",
   "execution_count": null,
   "metadata": {},
   "outputs": [],
   "source": [
    "schema = {\n",
    "    \"type\": \"record\",\n",
    "    \"name\": \"Interactions\",\n",
    "    \"namespace\": \"com.amazonaws.personalize.schema\",\n",
    "    \"fields\": [\n",
    "        {\n",
    "            \"name\": \"USER_ID\",\n",
    "            \"type\": \"string\"\n",
    "        },\n",
    "        {\n",
    "            \"name\": \"ITEM_ID\",\n",
    "            \"type\": \"string\"\n",
    "        },\n",
    "        {\n",
    "            \"name\": \"TIMESTAMP\",\n",
    "            \"type\": \"long\"\n",
    "        }\n",
    "    ],\n",
    "    \"version\": \"1.0\"\n",
    "}\n",
    "\n",
    "create_schema_response = personalize.create_schema(\n",
    "    name = \"personalize-objective-optmization-schema\"+suffix,\n",
    "    schema = json.dumps(schema)\n",
    ")\n",
    "\n",
    "schema_arn = create_schema_response['schemaArn']\n",
    "print(json.dumps(create_schema_response, indent=2))"
   ]
  },
  {
   "cell_type": "markdown",
   "metadata": {},
   "source": [
    "### Crear y esperar el grupo de conjuntos de datos\n",
    "\n",
    "La agrupación más grande en Personalize es un grupo de conjuntos de datos, esto aislará sus datos, rastreadores de eventos, soluciones y campañas. Agrupe elementos que comparten una colección de datos común. Siéntase libre de modificar el nombre que aparece a continuación si lo desea."
   ]
  },
  {
   "cell_type": "markdown",
   "metadata": {},
   "source": [
    "#### Crear un grupo de conjuntos de datos"
   ]
  },
  {
   "cell_type": "code",
   "execution_count": null,
   "metadata": {},
   "outputs": [],
   "source": [
    "create_dataset_group_response = personalize.create_dataset_group(\n",
    "    name = \"personalize-objective-optmization-demo-\"+suffix\n",
    ")\n",
    "\n",
    "dataset_group_arn = create_dataset_group_response['datasetGroupArn']\n",
    "print(json.dumps(create_dataset_group_response, indent=2))"
   ]
  },
  {
   "cell_type": "markdown",
   "metadata": {},
   "source": [
    "#### Esperar a que el grupo de conjunto de datos tenga estado ACTIVO\n",
    "\n",
    "Debe estar activo antes de que podamos utilizar el grupo de conjunto de datos en cualquiera de los siguientes artículos. Ejecute la celda a continuación y espere a que se muestre activo."
   ]
  },
  {
   "cell_type": "code",
   "execution_count": null,
   "metadata": {},
   "outputs": [],
   "source": [
    "max_time = time.time() + 3*60*60 # 3 hours\n",
    "while time.time() < max_time:\n",
    "    describe_dataset_group_response = personalize.describe_dataset_group(\n",
    "        datasetGroupArn = dataset_group_arn\n",
    "    )\n",
    "    status = describe_dataset_group_response[\"datasetGroup\"][\"status\"]\n",
    "    print(\"DatasetGroup: {}\".format(status))\n",
    "    \n",
    "    if status == \"ACTIVE\" or status == \"CREATE FAILED\":\n",
    "        break\n",
    "        \n",
    "    time.sleep(60)"
   ]
  },
  {
   "cell_type": "markdown",
   "metadata": {},
   "source": [
    "#### Crear conjuntos de datos\n",
    "\n",
    "Después del grupo, el próximo paso es crear los conjuntos de datos reales, en este ejemplo crearemos 1 para los datos de las interacciones y otro para los datos de los elementos. Ejecute las celdas a continuación para crearlo."
   ]
  },
  {
   "cell_type": "code",
   "execution_count": null,
   "metadata": {},
   "outputs": [],
   "source": [
    "def create_dataset(dataset_type, schema_arn, name):\n",
    "    create_dataset_response = personalize.create_dataset(\n",
    "        name = name,\n",
    "        datasetType = dataset_type,\n",
    "        datasetGroupArn = dataset_group_arn,\n",
    "        schemaArn = schema_arn\n",
    "    )\n",
    "    dataset_arn = create_dataset_response['datasetArn']\n",
    "\n",
    "    max_time = time.time() + 3*60*60 # 3 hours\n",
    "    while time.time() < max_time:\n",
    "        describe_dataset_response = personalize.describe_dataset(\n",
    "            datasetArn = dataset_arn\n",
    "        )\n",
    "        status = describe_dataset_response[\"dataset\"][\"status\"]\n",
    "        print(\"Dataset: {} {}\".format(name, status))\n",
    "\n",
    "        if status == \"ACTIVE\" or status == \"CREATE FAILED\":\n",
    "            break\n",
    "\n",
    "        time.sleep(10)\n",
    "    return dataset_arn\n"
   ]
  },
  {
   "cell_type": "code",
   "execution_count": null,
   "metadata": {},
   "outputs": [],
   "source": [
    "interaction_dataset_arn = create_dataset(\"INTERACTIONS\", schema_arn, 'personalize-objective-optmization-interactions-'+suffix)\n",
    "\n",
    "\n",
    "print('interaction_dataset_arn: ' + interaction_dataset_arn)\n"
   ]
  },
  {
   "cell_type": "code",
   "execution_count": null,
   "metadata": {},
   "outputs": [],
   "source": [
    "item_dataset_arn = create_dataset(\"ITEMS\", item_schema_arn, 'personalize-objective-optmization-items-'+suffix)\n",
    "print('item_dataset_arn: ' + item_dataset_arn)"
   ]
  },
  {
   "cell_type": "markdown",
   "metadata": {},
   "source": [
    "#### Crear un rol de Personalize\n",
    "\n",
    "Además, Amazon Personalize necesita la capacidad de asumir roles en AWS de modo que tenga los permisos para ejecutar ciertas tareas. Las líneas que aparecen a continuación otorgan eso."
   ]
  },
  {
   "cell_type": "code",
   "execution_count": null,
   "metadata": {},
   "outputs": [],
   "source": [
    "iam = boto3.client(\"iam\")\n",
    "\n",
    "role_name = \"PersonalizeRoleDemo\"+suffix\n",
    "assume_role_policy_document = {\n",
    "    \"Version\": \"2012-10-17\",\n",
    "    \"Statement\": [\n",
    "        {\n",
    "          \"Effect\": \"Allow\",\n",
    "          \"Principal\": {\n",
    "            \"Service\": \"personalize.amazonaws.com\"\n",
    "          },\n",
    "          \"Action\": \"sts:AssumeRole\"\n",
    "        }\n",
    "    ]\n",
    "}\n",
    "\n",
    "create_role_response = iam.create_role(\n",
    "    RoleName = role_name,\n",
    "    AssumeRolePolicyDocument = json.dumps(assume_role_policy_document)\n",
    ")\n",
    "\n",
    "# AmazonPersonalizeFullAccess provides access to any S3 bucket with a name that includes \"personalize\" or \"Personalize\" \n",
    "# if you would like to use a bucket with a different name, please consider creating and attaching a new policy\n",
    "# that provides read access to your bucket or attaching the AmazonS3ReadOnlyAccess policy to the role\n",
    "policy_arn = \"arn:aws:iam::aws:policy/service-role/AmazonPersonalizeFullAccess\"\n",
    "iam.attach_role_policy(\n",
    "    RoleName = role_name,\n",
    "    PolicyArn = policy_arn\n",
    ")\n",
    "\n",
    "# Now add S3 support\n",
    "iam.attach_role_policy(\n",
    "    PolicyArn='arn:aws:iam::aws:policy/AmazonS3FullAccess',\n",
    "    RoleName=role_name\n",
    ")\n",
    "time.sleep(60) # wait for a minute to allow IAM role policy attachment to propagate\n",
    "\n",
    "role_arn = create_role_response[\"Role\"][\"Arn\"]\n",
    "print(role_arn)"
   ]
  },
  {
   "cell_type": "markdown",
   "metadata": {},
   "source": [
    "## Importar los datos\n",
    "\n",
    "Anteriormente, creó el grupo de conjunto de datos y el conjunto de datos para alojar su información. Ahora ejecutará un trabajo de importación que cargará los datos de S3 en Amazon Personalize para su uso, a medida que crea su modelo. Cargaremos múltiples importaciones, por lo que se llamará a la función que aparece a continuación para iniciar el trabajo de importación y, a continuación, supervisar la finalización del trabajo de importación."
   ]
  },
  {
   "cell_type": "markdown",
   "metadata": {},
   "source": [
    "#### Crear un trabajo de importación de conjuntos de datos"
   ]
  },
  {
   "cell_type": "code",
   "execution_count": null,
   "metadata": {},
   "outputs": [],
   "source": [
    "def create_dataset_import_job(dataset_arn, dataLocation, name):\n",
    "    create_dataset_import_job_response = personalize.create_dataset_import_job(\n",
    "        jobName = name,\n",
    "        datasetArn = dataset_arn,\n",
    "        dataSource = {\n",
    "            \"dataLocation\": dataLocation\n",
    "        },\n",
    "        roleArn = role_arn\n",
    "    )\n",
    "\n",
    "    dataset_import_job_arn = create_dataset_import_job_response['datasetImportJobArn']\n",
    "    \n",
    "    max_time = time.time() + 3*60*60 # 3 hours\n",
    "    while time.time() < max_time:\n",
    "        describe_dataset_import_job_response = personalize.describe_dataset_import_job(\n",
    "            datasetImportJobArn = dataset_import_job_arn\n",
    "        )\n",
    "        status = describe_dataset_import_job_response[\"datasetImportJob\"]['status']\n",
    "        print(\"DatasetImportJob: {} {}\".format(name, status))\n",
    "\n",
    "        if status == \"ACTIVE\" or status == \"CREATE FAILED\":\n",
    "            break\n",
    "\n",
    "        time.sleep(60)\n",
    "    return dataset_import_job_arn"
   ]
  },
  {
   "cell_type": "markdown",
   "metadata": {},
   "source": [
    "#### Cargar las interacciones\n",
    "El siguiente trabajo de importación cargará el conjunto de datos de interacción."
   ]
  },
  {
   "cell_type": "code",
   "execution_count": null,
   "metadata": {},
   "outputs": [],
   "source": [
    "dataset_import_job_arn = create_dataset_import_job(interaction_dataset_arn, \"s3://{}/{}\".format(bucket_name, filename), \"personalize-objective-optimization-interaction-\"+suffix)\n",
    "print('dataset_import_job_arn: ' + dataset_import_job_arn)"
   ]
  },
  {
   "cell_type": "markdown",
   "metadata": {},
   "source": [
    "#### Cargar los títulos de las películas en el conjunto de datos de elementos\n",
    "\n",
    "Puede pasar un tiempo antes de que el trabajo de importación se complete. Espere hasta que vea que está activo a continuación."
   ]
  },
  {
   "cell_type": "code",
   "execution_count": null,
   "metadata": {},
   "outputs": [],
   "source": [
    "item_dataset_import_job_arn = create_dataset_import_job(item_dataset_arn, \"s3://{}/{}\".format(bucket_name, items_filename), \"personalize-objective-optimization-item-\"+suffix)\n",
    "print('item_dataset_import_job_arn: ' + item_dataset_import_job_arn)"
   ]
  },
  {
   "cell_type": "markdown",
   "metadata": {},
   "source": [
    "## Crear la solución y la versión\n",
    "\n",
    "En Amazon Personalize, un modelo entrenado se denomina solución, cada solución puede tener muchas versiones específicas relacionadas con un volumen determinado de datos cuando se entrenó el modelo.\n",
    "\n",
    "Para comenzar, enumeraremos todas las recetas que se admiten. Una receta es un algoritmo que aún no ha sido entrenado en sus datos. Después del listado, seleccionará uno y lo utilizará para construir su modelo."
   ]
  },
  {
   "cell_type": "markdown",
   "metadata": {},
   "source": [
    "### Seleccionar receta"
   ]
  },
  {
   "cell_type": "markdown",
   "metadata": {},
   "source": [
    "#### Personalización del usuario\n",
    "La receta [User-Personalization](https://docs.aws.amazon.com/personalize/latest/dg/native-recipe-new-item-USER_PERSONALIZATION.html) (aws-user-personalization) está optimizada para todos los escenarios de recomendación USER_PERSONALIZATION. Utiliza la exploración automática de elementos para hacer recomendaciones.\n",
    "\n",
    "Con la exploración automática, Amazon Personalize prueba automáticamente diferentes recomendaciones de elementos, aprende de la forma en que los usuarios interactúan con estos elementos recomendados y potencia las recomendaciones de elementos que impulsan un mejor compromiso y conversión. Esto mejora el descubrimiento de elementos y la participación cuando tiene un catálogo que cambia rápidamente, o cuando los nuevos elementos, como las noticias o las promociones, son más relevantes para los usuarios cuando están frescos.\n",
    "\n",
    "Puede equilibrar cuánto explorar (donde los elementos con menos datos de interacciones o relevancia se recomiendan con más frecuencia) frente a cuánto explotar (donde las recomendaciones se basan en lo que conocemos o en la relevancia). Amazon Personalize ajusta automáticamente las futuras recomendaciones en función de los comentarios implícitos de los usuarios.\n",
    "\n",
    "En primer lugar, seleccione la receta buscando el ARN en la lista de recetas anterior."
   ]
  },
  {
   "cell_type": "code",
   "execution_count": null,
   "metadata": {},
   "outputs": [],
   "source": [
    "recipe_arn = \"arn:aws:personalize:::recipe/aws-user-personalization\" # aws-user-personalization selected for demo purposes"
   ]
  },
  {
   "cell_type": "markdown",
   "metadata": {},
   "source": [
    "### Crear y esperar una solución\n",
    "\n",
    "Primero creará la solución con la API, luego creará una versión. Tardará varios minutos en entrenar el modelo y crear así su versión de una solución. Una vez que se pone en marcha y se ven las notificaciones en curso es un buen momento para tomar un descanso, tomar un café, etc.\n",
    "\n",
    "La función acepta el ajuste de sensibilidad del objetivo, que puede ser APAGADO, BAJO, MEDIO o ALTO. Esto ajustará la ponderación que impulsa el impacto del objetivo en el modelo.\n",
    "\n",
    "La función crea la solución y la versión de la solución inicial para esa solución."
   ]
  },
  {
   "cell_type": "markdown",
   "metadata": {},
   "source": [
    "#### Crear una solución"
   ]
  },
  {
   "cell_type": "code",
   "execution_count": null,
   "metadata": {},
   "outputs": [],
   "source": [
    "def create_solution(name, objectiveSensitivity):\n",
    "    create_solution_response = personalize.create_solution(\n",
    "        name = name,\n",
    "        datasetGroupArn = dataset_group_arn,\n",
    "        recipeArn = recipe_arn,\n",
    "        solutionConfig = {\n",
    "            \"optimizationObjective\": {\n",
    "                \"itemAttribute\": \"ROYALTY\",\n",
    "                \"objectiveSensitivity\":objectiveSensitivity\n",
    "            }\n",
    "        }\n",
    "    )\n",
    "    \n",
    "    solution_arn = create_solution_response['solutionArn']\n",
    "    \n",
    "    print('solutionArn:' + solution_arn)\n",
    "\n",
    "    create_solution_version_response = personalize.create_solution_version(\n",
    "        solutionArn = solution_arn\n",
    "    )\n",
    "\n",
    "    solution_version_arn = create_solution_version_response['solutionVersionArn']\n",
    "    print('solution_version_arn: ' + solution_version_arn)\n",
    "\n",
    "    return {\n",
    "        \"solution_arn\": solution_arn,\n",
    "        \"solution_version_arn\": solution_version_arn\n",
    "    }\n",
    "    \n",
    "def waitForSolutionVersion(solution_version_arn):\n",
    "    max_time = time.time() + 3*60*60 # 3 hours\n",
    "    while time.time() < max_time:\n",
    "        describe_solution_version_response = personalize.describe_solution_version(\n",
    "            solutionVersionArn = solution_version_arn\n",
    "        )\n",
    "        status = describe_solution_version_response[\"solutionVersion\"][\"status\"]\n",
    "        print(\"SolutionVersion: {} {}\".format(solution_version_arn, status))\n",
    "\n",
    "        if status == \"ACTIVE\" or status == \"CREATE FAILED\"  or status == \"CREATE STOPPING\":\n",
    "            break\n",
    "\n",
    "        time.sleep(60)"
   ]
  },
  {
   "cell_type": "markdown",
   "metadata": {},
   "source": [
    "#### Crear versiones de la solución\n",
    "Cree 3 soluciones diferentes, una con la optimización de objetivos desactivada, otra con un ajuste BAJO y otra con un ajuste ALTO. Esto pondrá en marcha 3 soluciones en paralelo, y el siguiente paso esperará a que se completen."
   ]
  },
  {
   "cell_type": "code",
   "execution_count": null,
   "metadata": {},
   "outputs": [],
   "source": [
    "high_solution = create_solution('movie-recommendation-low-royalties-'+suffix, 'HIGH')\n",
    "low_solution = create_solution('movie-recommendation-medium-royalties-'+suffix, 'LOW')\n",
    "no_objective_optimization_solution = create_solution('movie-recommendation-max-relevance-'+suffix, 'OFF')"
   ]
  },
  {
   "cell_type": "markdown",
   "metadata": {},
   "source": [
    "#### Esperar a que las versiones de la solución tenga un estado ACTIVO.\n",
    "\n",
    "Esto tardará entre 40y 50 minutos aproximadamente."
   ]
  },
  {
   "cell_type": "code",
   "execution_count": null,
   "metadata": {},
   "outputs": [],
   "source": [
    "waitForSolutionVersion(low_solution['solution_version_arn'])\n",
    "waitForSolutionVersion(no_objective_optimization_solution['solution_version_arn'])\n",
    "waitForSolutionVersion(high_solution['solution_version_arn'])"
   ]
  },
  {
   "cell_type": "markdown",
   "metadata": {},
   "source": [
    "#### Obtener las métricas de las versiones de la solución\n",
    "\n",
    "Una vez que disponga de su solución y de su versión, puede obtener las métricas para juzgar su rendimiento. Estas métricas no son especialmente buenas, ya que se trata de un conjunto de datos de demostración, pero con conjuntos de datos más grandes y complejos se deberían ver mejoras.\n",
    "\n",
    "Puede ver las diferencias en la calidad del modelo en función del impacto de las optimizaciones de los objetivos."
   ]
  },
  {
   "cell_type": "code",
   "execution_count": null,
   "metadata": {},
   "outputs": [],
   "source": [
    "def get_solution_metrics(solutions):\n",
    "    metricdata = { \"name\": []}\n",
    "    \n",
    "    for key in solutions:\n",
    "        solution = solutions[key]\n",
    "        \n",
    "        metricdata[\"name\"].append(key)\n",
    "        \n",
    "        get_solution_metrics_response = personalize.get_solution_metrics(\n",
    "            solutionVersionArn = solution['solution_version_arn']\n",
    "        )\n",
    "\n",
    "        for metricname in get_solution_metrics_response['metrics']:\n",
    "            if not metricname in metricdata:\n",
    "                metricdata[metricname] = []\n",
    "                \n",
    "            metricdata[metricname].append( get_solution_metrics_response['metrics'][metricname])\n",
    "            \n",
    "        # print(json.dumps(get_solution_metrics_response, indent=2))\n",
    "    return pd.DataFrame.from_dict(metricdata);\n",
    "\n",
    "metrics = get_solution_metrics({\n",
    "    \"no-optimization\": no_objective_optimization_solution,\n",
    "    \"low-optimization\": low_solution,\n",
    "    \"high-optimization\": high_solution,\n",
    "})\n",
    "\n",
    "metrics"
   ]
  },
  {
   "cell_type": "markdown",
   "metadata": {},
   "source": [
    "Recomendamos leer [la documentación](https://docs.aws.amazon.com/personalize/latest/dg/working-with-training-metrics.html) para comprender las métricas, pero, además, copiamos partes de la documentación a continuación para mayor comodidad.\n",
    "\n",
    "Es necesario que comprenda los siguientes términos relativos a la evaluación en Personalize:\n",
    "\n",
    "- *Recomendación relevante* se refiere a una recomendación que coincide con un valor en los datos de prueba para el usuario en particular.\n",
    "- *Rango* se refiere a la posición de un elemento recomendado en la lista de recomendaciones. Se supone que la posición 1 (la primera de la lista) es la más relevante para el usuario.\n",
    "- *Consulta* se refiere al equivalente interno de una llamada a GetRecommendations.\n",
    "\n",
    "Las métricas producidas por Personalize son las siguientes:\n",
    "\n",
    "- coverage: La proporción de elementos únicos recomendados de todas las consultas sobre el número total de elementos únicos en los datos de entrenamiento (incluye tanto los conjuntos de datos de elementos como de interacciones).\n",
    "- mean_reciprocal_rank_at_25: La [media de los rangos recíprocos](https://en.wikipedia.org/wiki/Mean_reciprocal_rank) de la primera recomendación relevante entre las 25 primeras recomendaciones sobre todas las consultas. Esta métrica es apropiada si está interesado en la recomendación de mayor rango.\n",
    "- normalized_discounted_cumulative_gain_at_K: La ganancia descontada supone que las recomendaciones más bajas de una lista de recomendaciones son menos relevantes que las más altas. Por lo tanto, cada recomendación se descuenta (se le da un peso menor) por un factor que depende de su posición. A fin de obtener la [ganancia descontada acumulada](https://en.wikipedia.org/wiki/Discounted_cumulative_gain) (DCG) en K, se suma cada recomendación descontada relevante en las  recomendaciones más importantes de K. La ganancia acumulada descontada normalizada (NDCG) es la DCG dividida por la DCG ideal, de manera que la NDCG está entre 0 y 1. (El DCG ideal es aquel en el que las recomendaciones más importantes de K están ordenadas por relevancia). Amazon Personalize utiliza un factor de ponderación de 1/log (1 + posición), donde la parte superior de la lista es la posición 1. Esta métrica recompensa los elementos relevantes que aparecen cerca de la parte superior de la lista, porque la parte superior de una lista suele llamar más la atención.\n",
    "- precision_at_K: El número de recomendaciones relevantes de las principales recomendaciones de K dividido por K. Esta métrica recompensa la recomendación precisa de los elementos relevantes."
   ]
  },
  {
   "cell_type": "markdown",
   "metadata": {},
   "source": [
    "## Crear y esperar una campaña\n",
    "\n",
    "Ahora que tiene una versión de la solución que funciona, tendrá que crear una campaña para utilizarla con sus aplicaciones. Una campaña es una versión de la solución alojada; un punto de conexión que puede consultar para obtener recomendaciones. El precio se fija estimando la capacidad de rendimiento (solicitudes de personalización de los usuarios por segundo). Cuando implementa una campaña, se establece un valor mínimo de transacciones por segundo (TPS) (`minProvisionedTPS`). Este servicio, como muchos dentro de AWS, se escalará automáticamente en función de la demanda, pero si la latencia es crítica, es posible que desee aprovisionar por adelantado para una mayor demanda. Para esta demostración, todos los límites mínimos de rendimiento se establecen en 1. Para obtener más información, consulte la página de [precios](https://aws.amazon.com/personalize/pricing/).\n",
    "\n",
    "Como se ha mencionado anteriormente, la receta de personalización del usuario utilizada para nuestra solución admite la exploración automática de elementos \"fríos\". Puede controlar el grado de exploración que se realiza cuando crea su campaña. El tipo de datos `itemExplorationConfig` admite parámetros `explorationWeight` y `explorationItemAgeCutOff`. El peso de la exploración determina la frecuencia con la que las recomendaciones incluyen elementos con menos datos de interacción o relevancia. Cuanto más se acerque el valor a 1,0, mayor será la exploración. A cero, no se produce ninguna exploración y las recomendaciones se basan en los datos actuales (relevancia). El límite de antigüedad de los elementos de exploración determina los elementos que deben explorarse en función del tiempo transcurrido desde la última interacción. Proporcione la antigüedad máxima del elemento, en días desde la última interacción, para definir el alcance de la exploración del elemento. Cuanto mayor sea el valor, más elementos se tendrán en cuenta durante la exploración. Para nuestra campaña, especificaremos un peso de exploración de 0,5."
   ]
  },
  {
   "cell_type": "markdown",
   "metadata": {},
   "source": [
    "#### Crear una campaña"
   ]
  },
  {
   "cell_type": "code",
   "execution_count": null,
   "metadata": {},
   "outputs": [],
   "source": [
    "def create_campaign(solution, name):\n",
    "    create_campaign_response = personalize.create_campaign(\n",
    "        name = \"personalize-demo-\" + name + '-' + suffix,\n",
    "        solutionVersionArn = solution['solution_version_arn'],\n",
    "        minProvisionedTPS = 1,\n",
    "        campaignConfig = {\n",
    "            \"itemExplorationConfig\": {\n",
    "                \"explorationWeight\": \"0.5\"\n",
    "            }\n",
    "        }\n",
    "    )\n",
    "\n",
    "    campaign_arn = create_campaign_response['campaignArn']\n",
    "    print('campaign_arn:' + campaign_arn)\n",
    "    return campaign_arn\n",
    "\n",
    "def waitForCampaign(solution):\n",
    "    max_time = time.time() + 3*60*60 # 3 hours\n",
    "    while time.time() < max_time:\n",
    "        describe_campaign_response = personalize.describe_campaign(\n",
    "            campaignArn = solution['campaign_arn']\n",
    "        )\n",
    "        status = describe_campaign_response[\"campaign\"][\"status\"]\n",
    "        print(\"Campaign: {} {}\".format(solution['campaign_arn'], status))\n",
    "\n",
    "        if status == \"ACTIVE\" or status == \"CREATE FAILED\":\n",
    "            break\n",
    "\n",
    "        time.sleep(60)"
   ]
  },
  {
   "cell_type": "markdown",
   "metadata": {},
   "source": [
    "#### Crear 3 campañas\n",
    "Cree una campaña para cada una de las optimizaciones de objetivos, pero mantenga todas las demás configuraciones iguales para demostrar el impacto de la optimización de objetivos."
   ]
  },
  {
   "cell_type": "code",
   "execution_count": null,
   "metadata": {},
   "outputs": [],
   "source": [
    "high_solution['campaign_arn'] = create_campaign(high_solution, 'high')\n",
    "low_solution['campaign_arn'] = create_campaign(low_solution, 'low')\n",
    "no_objective_optimization_solution['campaign_arn'] = create_campaign(no_objective_optimization_solution, 'max_relevance')\n"
   ]
  },
  {
   "cell_type": "markdown",
   "metadata": {},
   "source": [
    "#### Esperar a que la campaña tenga un estado ACTIVO\n",
    "\n",
    "Esto debería llevar unos 10 minutos."
   ]
  },
  {
   "cell_type": "code",
   "execution_count": null,
   "metadata": {},
   "outputs": [],
   "source": [
    "waitForCampaign(high_solution)\n",
    "waitForCampaign(low_solution)\n",
    "waitForCampaign(no_objective_optimization_solution)"
   ]
  },
  {
   "cell_type": "markdown",
   "metadata": {},
   "source": [
    "## Obtener muestras de recomendaciones\n",
    "\n",
    "Cuando la campaña esté activa, estará lista para recibir recomendaciones. Primero tenemos que seleccionar un usuario de la colección al azar. A continuación, crearemos algunas funciones de ayuda para obtener la información de la película que se mostrará para las recomendaciones en vez de mostrar únicamente los ID."
   ]
  },
  {
   "cell_type": "code",
   "execution_count": null,
   "metadata": {},
   "outputs": [],
   "source": [
    "# Getting a random user:\n",
    "user_id, item_id, _ = data.sample().values[0]\n",
    "print(\"USER: {}\".format(user_id))"
   ]
  },
  {
   "cell_type": "code",
   "execution_count": null,
   "metadata": {},
   "outputs": [],
   "source": [
    "\n",
    "def get_movie_title(movie_id):\n",
    "    \"\"\"\n",
    "    Takes in an ID, returns a title\n",
    "    \"\"\"\n",
    "    movie_id = int(movie_id)-1\n",
    "    return items.iloc[movie_id]['TITLE'] + '(' + f'{-1*items.iloc[movie_id][\"ROYALTY\"]:.2f}'+ ')'\n",
    "\n",
    "def get_movie_royalty(movie_id):\n",
    "    \"\"\"\n",
    "    Takes in an ID, returns a title\n",
    "    \"\"\"\n",
    "    movie_id = int(movie_id)-1\n",
    "    return -1*items.iloc[movie_id][\"ROYALTY\"]"
   ]
  },
  {
   "cell_type": "markdown",
   "metadata": {},
   "source": [
    "#### Llamar a GetRecommendations\n",
    "\n",
    "Con el usuario que obtuvo anteriormente, las líneas siguientes le proporcionarán recomendaciones y le mostrarán la lista de películas recomendadas.\n"
   ]
  },
  {
   "cell_type": "code",
   "execution_count": null,
   "metadata": {},
   "outputs": [],
   "source": [
    "def get_recommendations(solution):\n",
    "    get_recommendations_response = personalize_runtime.get_recommendations(\n",
    "        campaignArn = solution['campaign_arn'],\n",
    "        userId = str(user_id),\n",
    "    )\n",
    "    # Update DF rendering\n",
    "    pd.set_option('display.max_rows', 30)\n",
    "\n",
    "    item_list = get_recommendations_response['itemList']\n",
    "\n",
    "    recommendation_list = []\n",
    "\n",
    "    total_royalties = 0.0\n",
    "    \n",
    "    for item in item_list:\n",
    "        title = get_movie_title(item['itemId'])\n",
    "        total_royalties = total_royalties + get_movie_royalty(item['itemId'])\n",
    "        recommendation_list.append(title)\n",
    "        \n",
    "    recommendation_list.append('TOTAL ROYALTIES: '+ f'{total_royalties:.2f}')\n",
    "    return recommendation_list"
   ]
  },
  {
   "cell_type": "markdown",
   "metadata": {},
   "source": [
    "#### Comparar las recomendaciones\n",
    "Crear un conjunto de recomendaciones para el mismo usuario a fin de comparar el impacto de la optimización del objetivo.\n",
    "\n",
    "Observe el impacto del valor de la regalía que aparece entre paréntesis después del título y el año. Las películas más valoradas y con un alto nivel de regalías con la optimización objetiva desactivada tienden a aparecer más abajo en la lista, si es que aparecen, cuando la optimización objetiva está activada. \n",
    "\n",
    "Tenga en cuenta, también, el total de regalías de todos los títulos de cada conjunto de recomendaciones."
   ]
  },
  {
   "cell_type": "code",
   "execution_count": null,
   "metadata": {},
   "outputs": [],
   "source": [
    "recommendations_df = pd.DataFrame(get_recommendations(no_objective_optimization_solution), columns = ['ObjectiveOff'])\n",
    "recommendations_df['LowObjective'] = get_recommendations(low_solution)\n",
    "recommendations_df['HighObjective'] = get_recommendations(high_solution)\n",
    "recommendations_df"
   ]
  },
  {
   "cell_type": "markdown",
   "metadata": {},
   "source": [
    "## Revisión\n",
    "\n",
    "El cuaderno mostró un ejemplo en el que el motor de recomendación de películas tenía en cuenta las regalías necesarias para pagar un título determinado. Si incluimos esta consideración en el algoritmo de recomendación, el servicio de streaming puede ofrecer buenas recomendaciones a un usuario, pero también minimizar los derechos que hay que pagar a los creadores de contenidos.\n",
    "\n",
    "Observe que en el gráfico anterior, con la optimización de objetivos desactivada, la tasa de regalías entre paréntesis se distribuye de forma bastante uniforme, como cabría esperar, ya que no se tiene en cuenta. Sin embargo, en la columna de objetivo bajo, los valores son más bajos y la suma de las regalías es menor para la configuración de optimización de objetivo más alto."
   ]
  },
  {
   "cell_type": "markdown",
   "metadata": {},
   "source": [
    "## Limpiar\n",
    "\n",
    "Limpiar recursos"
   ]
  },
  {
   "cell_type": "code",
   "execution_count": null,
   "metadata": {},
   "outputs": [],
   "source": [
    "def delete_campaign(campaign_arn):\n",
    "    delete_campaign_result = personalize.delete_campaign(campaignArn=campaign_arn )\n",
    "    \n",
    "\n",
    "def wait_for_delete_campaign(campaign_arn):\n",
    "    max_time = time.time() + 3*60*60 # 3 hours\n",
    "    while time.time() < max_time:\n",
    "        try:\n",
    "            describe_campaign_response = personalize.describe_campaign(\n",
    "                campaignArn = campaign_arn\n",
    "            )\n",
    "            status = describe_campaign_response[\"campaign\"][\"status\"]\n",
    "            print(\"campaign: {}\".format(status))\n",
    "\n",
    "        except ClientError as e:\n",
    "            print(e)\n",
    "            break\n",
    "\n",
    "        time.sleep(10)\n",
    "    print('campaign ' + campaign_arn + ' deleted')\n",
    "    \n",
    "def delete_solution(solution_arn):\n",
    "    delete_solution_result = personalize.delete_solution(solutionArn=solution_arn )\n",
    "    \n",
    "    max_time = time.time() + 3*60*60 # 3 hours\n",
    "\n",
    "def wait_for_delete_solution(solution_arn):\n",
    "    while time.time() < max_time:\n",
    "        \n",
    "        try:\n",
    "            describe_solution_response = personalize.describe_solution(\n",
    "                solutionArn = solution_arn\n",
    "            )\n",
    "            status = describe_solution_response[\"solution\"][\"status\"]\n",
    "            print(\"Solution: {}\".format(status))\n",
    "\n",
    "        except ClientError:\n",
    "            break\n",
    "        time.sleep(10)\n",
    "    print('Solution ' + solution_arn + ' deleted')\n",
    "    \n",
    "def delete_dataset(dataset_arn):\n",
    "    delete_dataset_result = personalize.delete_dataset(datasetArn=dataset_arn )\n",
    "    \n",
    "    max_time = time.time() + 3*60*60 # 3 hours\n",
    "    while time.time() < max_time:\n",
    "        try:\n",
    "            describe_dataset_response = personalize.describe_dataset(\n",
    "                datasetArn = dataset_arn\n",
    "            )\n",
    "            status = describe_dataset_response[\"dataset\"][\"status\"]\n",
    "            print(\"dataset: {}\".format(status))\n",
    "\n",
    "        except ClientError:\n",
    "            break\n",
    "        time.sleep(10)\n",
    "    print('dataset ' + dataset_arn + ' deleted')\n",
    "    \n",
    "def delete_schema(schema_arn):\n",
    "    delete_schema_result = personalize.delete_schema(schemaArn=schema_arn )\n",
    "    \n",
    "\n",
    "    print('schema ' + schema_arn + ' deleted')\n",
    "    \n",
    "def delete_dataset_group(dataset_group_arn):\n",
    "    delete_dataset_group_result = personalize.delete_dataset_group(datasetGroupArn=dataset_group_arn )\n",
    "    \n",
    "    max_time = time.time() + 3*60*60 # 3 hours\n",
    "    while time.time() < max_time:\n",
    "        try:\n",
    "            describe_dataset_group_response = personalize.describe_dataset_group(\n",
    "                datasetGroupArn = dataset_group_arn\n",
    "            )\n",
    "            status = describe_dataset_group_response[\"datasetGroup\"][\"status\"]\n",
    "            print(\"dataset_group: {}\".format(status))\n",
    "\n",
    "        except ClientError:\n",
    "            break\n",
    "        time.sleep(10)\n",
    "    print('dataset_group ' + dataset_group_arn + ' deleted')\n",
    "    \n",
    "def delete_all(solutions):\n",
    "    for solution in solutions:\n",
    "        delete_campaign(solution['campaign_arn'])\n",
    "        \n",
    "    for solution in solutions:\n",
    "        wait_for_delete_campaign(solution['campaign_arn'])\n",
    "    for solution in solutions:\n",
    "        delete_solution(solution['solution_arn'])\n",
    "    for solution in solutions:\n",
    "        wait_for_delete_solution(solution['solution_arn'])\n",
    "\n",
    "\n",
    "    "
   ]
  },
  {
   "cell_type": "code",
   "execution_count": null,
   "metadata": {},
   "outputs": [],
   "source": [
    "delete_all([no_objective_optimization_solution, low_solution, high_solution] )"
   ]
  },
  {
   "cell_type": "code",
   "execution_count": null,
   "metadata": {},
   "outputs": [],
   "source": [
    "delete_dataset(item_dataset_arn)\n",
    "delete_dataset(interaction_dataset_arn)"
   ]
  },
  {
   "cell_type": "code",
   "execution_count": null,
   "metadata": {},
   "outputs": [],
   "source": [
    "delete_schema(item_schema_arn)\n",
    "delete_schema(schema_arn)"
   ]
  },
  {
   "cell_type": "code",
   "execution_count": null,
   "metadata": {},
   "outputs": [],
   "source": [
    "delete_dataset_group(dataset_group_arn)"
   ]
  },
  {
   "cell_type": "code",
   "execution_count": null,
   "metadata": {},
   "outputs": [],
   "source": [
    "iam = boto3.client(\"iam\")\n",
    "\n",
    "iam.detach_role_policy(RoleName=role_name, PolicyArn='arn:aws:iam::aws:policy/service-role/AmazonPersonalizeFullAccess')\n",
    "iam.detach_role_policy(RoleName=role_name, PolicyArn='arn:aws:iam::aws:policy/AmazonS3FullAccess')\n",
    "time.sleep(10) # propogation time\n",
    "\n",
    "iam.delete_role(RoleName=role_name)"
   ]
  },
  {
   "cell_type": "code",
   "execution_count": null,
   "metadata": {},
   "outputs": [],
   "source": [
    "! aws s3 rm --recursive s3://$bucket_name"
   ]
  },
  {
   "cell_type": "code",
   "execution_count": null,
   "metadata": {},
   "outputs": [],
   "source": [
    "s3.delete_bucket(Bucket=bucket_name)"
   ]
  },
  {
   "cell_type": "code",
   "execution_count": null,
   "metadata": {},
   "outputs": [],
   "source": []
  }
 ],
 "metadata": {
  "kernelspec": {
   "display_name": "conda_python3",
   "language": "python",
   "name": "conda_python3"
  },
  "language_info": {
   "codemirror_mode": {
    "name": "ipython",
    "version": 3
   },
   "file_extension": ".py",
   "mimetype": "text/x-python",
   "name": "python",
   "nbconvert_exporter": "python",
   "pygments_lexer": "ipython3",
   "version": "3.6.13"
  }
 },
 "nbformat": 4,
 "nbformat_minor": 4
}
