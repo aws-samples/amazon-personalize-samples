{
 "cells": [
  {
   "cell_type": "markdown",
   "metadata": {},
   "source": [
    "# Segmentación de usuarios de Amazon Personalize"
   ]
  },
  {
   "cell_type": "markdown",
   "metadata": {},
   "source": [
    "Amazon Personalize ofrece dos recetas que segmentan a los usuarios basados en su interés en diferentes categorías de productos y marcas, entre otros. \n",
    "1. La receta de afinidad de elemento `aws-item-affinity` identifica a los usuarios basados en su interés en elementos individuales en un catálogo, como películas, canciones o productos. \n",
    "1. La receta de afinidad de atributos de elemento `aws-item-attribute` identifica a los usuarios basados en los atributos de los elementos en un catálogo, como género o marca. Esto permite captar a los usuarios de una mejor manera a través de las campañas de marketing y mejorar la retención de esos clientes mediante mensajes orientados.\n",
    "\n",
    "Este cuaderno demuestra cómo utilizar las recetas de `aws-item-affinity` y `aws-item-attribute` para crear segmentaciones basadas en las preferencias para productos comestibles en un conjunto de datos de Amazon Prime Pantry. Utilizamos un grupo de conjunto de datos que contiene datos de interacción de los usuarios con los elementos y metadatos de elementos. Utilizamos estos conjuntos de datos para entrenar soluciones mediante las dos recetas y crear segmentaciones de usuario por lotes.\n"
   ]
  },
  {
   "cell_type": "markdown",
   "metadata": {},
   "source": [
    "Este cuaderno lo guía por la implementación de la siguiente arquitectura. \n",
    "\n",
    "![](user_segmentation.png)\n",
    "\n",
    "Como podemos ver arriba, implementaremos los siguientes recursos:\n",
    "1. Un bucket de S3 para almacenar los archivos de prueba, más nuestros archivos de entrada y salida de inferencia\n",
    "1. Un grupo de conjunto de datos\n",
    "1. Dos conjuntos de datos: interacciones y elementos\n",
    "1. Dos soluciones y versiones de solución, cada una configurada con nuestras recetas nuevas de segmentación de usuario\n",
    "1. Dos trabajos de inferencia por lotes\n",
    "\n",
    "Cuando tengamos los resultados de los trabajos de inferencia por lotes, analizaremos los resultados."
   ]
  },
  {
   "cell_type": "markdown",
   "metadata": {},
   "source": [
    "## Carga y procesamiento previo de los datos\n",
    "Comenzaremos cargando el conjunto de datos de Prime Pantry. Deberá completar el formulario para acceder a los archivos de datos:\n",
    "\n",
    "http://deepyeti.ucsd.edu/jianmo/amazon/index.html\n",
    "\n",
    "Cita:\n",
    "\n",
    "    Justifying recommendations using distantly-labeled reviews and fined-grained aspects (Justificación de recomendaciones mediante reseñas etiquetadas remotamente conectadas y aspectos detallados)\n",
    "    Jianmo Ni, Jiacheng Li, Julian McAuley\n",
    "    Empirical Methods in Natural Language Processing (EMNLP)(Métodos empíricos en el procesamiento del lenguaje natural [EMNLP]), 2019 pdf"
   ]
  },
  {
   "cell_type": "code",
   "execution_count": 1,
   "metadata": {},
   "outputs": [],
   "source": [
    "import pandas as pd\n",
    "import json\n",
    "import numpy as np\n",
    "from datetime import datetime\n",
    "import boto3\n",
    "import time\n",
    "from time import sleep\n",
    "from lxml import html\n",
    "import seaborn as sns\n",
    "import matplotlib.pyplot as plt\n",
    "import sys\n",
    "from tqdm import tqdm\n",
    "import datetime as dt"
   ]
  },
  {
   "cell_type": "code",
   "execution_count": 2,
   "metadata": {},
   "outputs": [
    {
     "name": "stdout",
     "output_type": "stream",
     "text": [
      "--2021-11-26 02:58:20--  http://deepyeti.ucsd.edu/jianmo/amazon/categoryFiles/Grocery_and_Gourmet_Food.json.gz\n",
      "Resolving deepyeti.ucsd.edu (deepyeti.ucsd.edu)... 169.228.63.50\n",
      "Connecting to deepyeti.ucsd.edu (deepyeti.ucsd.edu)|169.228.63.50|:80... connected.\n",
      "HTTP request sent, awaiting response... 200 OK\n",
      "Length: 586910426 (560M) [application/octet-stream]\n",
      "Saving to: ‘Grocery_and_Gourmet_Food.json.gz’\n",
      "\n",
      "Grocery_and_Gourmet 100%[===================>] 559.72M  83.2MB/s    in 7.0s    \n",
      "\n",
      "2021-11-26 02:58:27 (80.3 MB/s) - ‘Grocery_and_Gourmet_Food.json.gz’ saved [586910426/586910426]\n",
      "\n",
      "--2021-11-26 02:58:27--  http://deepyeti.ucsd.edu/jianmo/amazon/metaFiles2/meta_Grocery_and_Gourmet_Food.json.gz\n",
      "Resolving deepyeti.ucsd.edu (deepyeti.ucsd.edu)... 169.228.63.50\n",
      "Connecting to deepyeti.ucsd.edu (deepyeti.ucsd.edu)|169.228.63.50|:80... connected.\n",
      "HTTP request sent, awaiting response... 200 OK\n",
      "Length: 109586529 (105M) [application/octet-stream]\n",
      "Saving to: ‘meta_Grocery_and_Gourmet_Food.json.gz’\n",
      "\n",
      "meta_Grocery_and_Go 100%[===================>] 104.51M  71.8MB/s    in 1.5s    \n",
      "\n",
      "2021-11-26 02:58:29 (71.8 MB/s) - ‘meta_Grocery_and_Gourmet_Food.json.gz’ saved [109586529/109586529]\n",
      "\n"
     ]
    }
   ],
   "source": [
    "data_dir = 'raw_data'\n",
    "!mkdir $data_dir\n",
    "\n",
    "!cd $data_dir && \\\n",
    "    wget http://deepyeti.ucsd.edu/jianmo/amazon/categoryFiles/Grocery_and_Gourmet_Food.json.gz && \\\n",
    "    wget http://deepyeti.ucsd.edu/jianmo/amazon/metaFiles2/meta_Grocery_and_Gourmet_Food.json.gz"
   ]
  },
  {
   "cell_type": "markdown",
   "metadata": {},
   "source": [
    "### Cargar y revisar los metadatos de elementos\n",
    "Comenzaremos con la carga de los metadatos de elementos para los productos de Prime Pantry y la ejecución de algunos comandos para analizar con qué estamos trabajando."
   ]
  },
  {
   "cell_type": "code",
   "execution_count": 9,
   "metadata": {},
   "outputs": [
    {
     "name": "stdout",
     "output_type": "stream",
     "text": [
      "After removing items without title: (283354, 19)\n"
     ]
    }
   ],
   "source": [
    "meta=pd.read_json(data_dir + '/meta_Grocery_and_Gourmet_Food.json.gz',lines=True,compression='infer')\n",
    "#remove duplicated items and items without item title\n",
    "meta=meta.rename(columns={'asin':'ITEM_ID'}).drop_duplicates(subset=['ITEM_ID'], keep='last')\n",
    "meta = meta[meta.title.notnull()]\n",
    "print('After removing items without title: {}'.format(meta.shape))"
   ]
  },
  {
   "cell_type": "markdown",
   "metadata": {},
   "source": [
    "Hay 283 354 registros y 19 columnas\n",
    "\n",
    "Entonces, formatearemos la descripción de los elementos y la combinaremos con el título para utilizarla como característica de texto y solo reservaremos los elementos que tengan esta característica textual."
   ]
  },
  {
   "cell_type": "code",
   "execution_count": 10,
   "metadata": {},
   "outputs": [
    {
     "name": "stdout",
     "output_type": "stream",
     "text": [
      "Done cleaning the description\n"
     ]
    }
   ],
   "source": [
    "def process_description(description):    \n",
    "    description = description.replace('<p>&nbsp;</p>', '') # remove &nbsp from the text\n",
    "    description = description.replace('<p></p>', '') # remove <p></p> from the text\n",
    "    description = description.replace('<p> </p>', '') # remove <p> </p> from the text\n",
    "    \n",
    "    # remove hyper links form the text\n",
    "    import re\n",
    "    a_pattern = re.compile('<a.*?>')\n",
    "    description = re.sub(a_pattern, '', description)\n",
    "    description = description.replace('</a>', '')\n",
    "    \n",
    "    # remove spans from the text\n",
    "    span_pattern = re.compile('<span.*?>')\n",
    "    description = re.sub(span_pattern, '', description)\n",
    "    description = description.replace('</span>', '')\n",
    "    \n",
    "    # remove <b> and </b> from the text\n",
    "    description = description.replace('<b>', '')\n",
    "    description = description.replace('</b>', '')\n",
    "    \n",
    "    # remove .  . and \\n from the text\n",
    "    description = description.replace('\\n', '')\n",
    "    \n",
    "    # remove HTML\n",
    "    cleanr = re.compile('<.*?>|&([a-z0-9]+|#[0-9]{1,6}|#x[0-9a-f]{1,6});')\n",
    "    description = re.sub(cleanr, '', description)\n",
    "    \n",
    "    # remove extra space etc.\n",
    "    description = ' '.join(description.split())\n",
    "    \n",
    "    # specifics for Amazon dataset\n",
    "    description = description.replace('.  .', '')\n",
    "    \n",
    "    from bs4 import BeautifulSoup\n",
    "    soup = BeautifulSoup(description)\n",
    "    text = soup.find_all(text = True)\n",
    "    \n",
    "    for index, t in enumerate(text):\n",
    "        if t[-1] != '.':\n",
    "            text[index] += '.'\n",
    "    \n",
    "    return ' '.join(text).strip()\n",
    "meta['description']=meta.apply(lambda x:process_description(x['title']+' '+' '.join(x['description'])),axis=1)\n",
    "meta=meta[meta['description'].apply(len)>0]\n",
    "print(\"Done cleaning the description\")"
   ]
  },
  {
   "cell_type": "markdown",
   "metadata": {},
   "source": [
    "A continuación, formatearemos el precio de los elementos, omitiremos y renombraremos las columnas de datos e imprimiremos la forma del marco de datos de los metadatos."
   ]
  },
  {
   "cell_type": "code",
   "execution_count": 11,
   "metadata": {},
   "outputs": [
    {
     "name": "stdout",
     "output_type": "stream",
     "text": [
      "Items with non-empty description+title: (283352, 5)\n"
     ]
    }
   ],
   "source": [
    "#formatting price\n",
    "def convert_price(row):\n",
    "    v = str(row['price']).strip().replace('$', '')\n",
    "    if v == '' or not v.lstrip('-').replace('.', '').isdigit():\n",
    "        return np.nan\n",
    "    return v\n",
    "meta['price'] = meta.apply(convert_price, axis=1)\n",
    "meta=meta[['category','brand','main_cat','description','price','ITEM_ID']].set_index('ITEM_ID')\n",
    "meta.rename(columns = {'category':'CATEGORY', 'brand':'BRAND', 'main_cat':'MAIN_CAT',\n",
    "                              'price':'PRICE', 'description': 'DESCRIPTION'}, inplace = True)\n",
    "print('Items with non-empty description+title: {}'.format(meta.shape))"
   ]
  },
  {
   "cell_type": "markdown",
   "metadata": {},
   "source": [
    "No omitimos demasiados elementos, pero ahora solo tenemos 5 columnas.\n",
    "Creemos una columna de categoría y limpiemos los datos un poco más."
   ]
  },
  {
   "cell_type": "code",
   "execution_count": 12,
   "metadata": {},
   "outputs": [
    {
     "data": {
      "text/html": [
       "<div>\n",
       "<style scoped>\n",
       "    .dataframe tbody tr th:only-of-type {\n",
       "        vertical-align: middle;\n",
       "    }\n",
       "\n",
       "    .dataframe tbody tr th {\n",
       "        vertical-align: top;\n",
       "    }\n",
       "\n",
       "    .dataframe thead th {\n",
       "        text-align: right;\n",
       "    }\n",
       "</style>\n",
       "<table border=\"1\" class=\"dataframe\">\n",
       "  <thead>\n",
       "    <tr style=\"text-align: right;\">\n",
       "      <th></th>\n",
       "      <th>CATEGORY</th>\n",
       "      <th>BRAND</th>\n",
       "      <th>MAIN_CAT</th>\n",
       "      <th>DESCRIPTION</th>\n",
       "      <th>PRICE</th>\n",
       "    </tr>\n",
       "    <tr>\n",
       "      <th>ITEM_ID</th>\n",
       "      <th></th>\n",
       "      <th></th>\n",
       "      <th></th>\n",
       "      <th></th>\n",
       "      <th></th>\n",
       "    </tr>\n",
       "  </thead>\n",
       "  <tbody>\n",
       "    <tr>\n",
       "      <th>B00BRAY3KK</th>\n",
       "      <td>Grocery &amp; Gourmet Food|Cooking &amp; Baking|Xylito...</td>\n",
       "      <td>Xyla Brand</td>\n",
       "      <td>Grocery</td>\n",
       "      <td>Xyla Brand Erythritol Sweetener, 1 Pound 1lb E...</td>\n",
       "      <td>NaN</td>\n",
       "    </tr>\n",
       "    <tr>\n",
       "      <th>B010PABSO6</th>\n",
       "      <td>Snack Foods|Grocery &amp; Gourmet Food|Potato|Chip...</td>\n",
       "      <td>Special K</td>\n",
       "      <td>Grocery</td>\n",
       "      <td>Kellogg's Special K, Cracker Chips, Sour Cream...</td>\n",
       "      <td>NaN</td>\n",
       "    </tr>\n",
       "    <tr>\n",
       "      <th>B00GQSX5MK</th>\n",
       "      <td>Cooking &amp; Baking|Extracts &amp; Flavoring|Grocery ...</td>\n",
       "      <td>Chef O Van</td>\n",
       "      <td>Grocery</td>\n",
       "      <td>Chef-O-Van Natural Flavoring Extracts, Pure Va...</td>\n",
       "      <td>NaN</td>\n",
       "    </tr>\n",
       "  </tbody>\n",
       "</table>\n",
       "</div>"
      ],
      "text/plain": [
       "                                                     CATEGORY       BRAND  \\\n",
       "ITEM_ID                                                                     \n",
       "B00BRAY3KK  Grocery & Gourmet Food|Cooking & Baking|Xylito...  Xyla Brand   \n",
       "B010PABSO6  Snack Foods|Grocery & Gourmet Food|Potato|Chip...   Special K   \n",
       "B00GQSX5MK  Cooking & Baking|Extracts & Flavoring|Grocery ...  Chef O Van   \n",
       "\n",
       "           MAIN_CAT                                        DESCRIPTION PRICE  \n",
       "ITEM_ID                                                                       \n",
       "B00BRAY3KK  Grocery  Xyla Brand Erythritol Sweetener, 1 Pound 1lb E...   NaN  \n",
       "B010PABSO6  Grocery  Kellogg's Special K, Cracker Chips, Sour Cream...   NaN  \n",
       "B00GQSX5MK  Grocery  Chef-O-Van Natural Flavoring Extracts, Pure Va...   NaN  "
      ]
     },
     "execution_count": 12,
     "metadata": {},
     "output_type": "execute_result"
    }
   ],
   "source": [
    "unique_category=meta['CATEGORY'].explode().value_counts()\n",
    "popular_category=unique_category[unique_category>1].reset_index()\n",
    "\n",
    "#remove category values with longer than 38 char\n",
    "popular_category=popular_category[popular_category['index'].apply(len)<38]\n",
    "valid_category=set(popular_category['index'].values)\n",
    "meta['CATEGORY']=meta['CATEGORY'].apply(lambda x:list(set(x)& valid_category))\n",
    "\n",
    "#format category values into single string separated by |\n",
    "meta['CATEGORY']=meta['CATEGORY'].apply(lambda x:'|'.join(x))\n",
    "meta.sample(3)"
   ]
  },
  {
   "cell_type": "markdown",
   "metadata": {},
   "source": [
    "Ahora, almacenemos nuestros elementos de forma local para poder utilizarlos luego para probar nuestra implementación de Amazon Personalize."
   ]
  },
  {
   "cell_type": "code",
   "execution_count": 13,
   "metadata": {},
   "outputs": [],
   "source": [
    "## Storing items with description only\n",
    "items_with_desc_only_filename = \"items-only-desc.csv\"\n",
    "meta[['DESCRIPTION']].to_csv(items_with_desc_only_filename, index=True, float_format='%.2f')\n",
    "\n",
    "## Storing items with all the metadata\n",
    "items_fullmeta_filename = \"items-full-meta.csv\"\n",
    "meta.to_csv(items_fullmeta_filename, index=True, float_format='%.2f')\n",
    "\n",
    "## Storing items without description\n",
    "items_meta_filename = \"items-nontextual-meta.csv\"\n",
    "meta.drop(columns=['DESCRIPTION']).to_csv(items_meta_filename, index=True, float_format='%.2f')\n"
   ]
  },
  {
   "cell_type": "markdown",
   "metadata": {},
   "source": [
    "### Cargar datos revisados y crear un conjunto de datos de interacción\n",
    "A continuación, cargaremos nuestros datos revisados y crearemos nuestro conjunto de datos de interacciones mediante la eliminación de las columnas que ya no necesitamos y la creación del formato específico para el esquema de conjunto de datos."
   ]
  },
  {
   "cell_type": "code",
   "execution_count": 14,
   "metadata": {},
   "outputs": [
    {
     "data": {
      "text/html": [
       "<div>\n",
       "<style scoped>\n",
       "    .dataframe tbody tr th:only-of-type {\n",
       "        vertical-align: middle;\n",
       "    }\n",
       "\n",
       "    .dataframe tbody tr th {\n",
       "        vertical-align: top;\n",
       "    }\n",
       "\n",
       "    .dataframe thead th {\n",
       "        text-align: right;\n",
       "    }\n",
       "</style>\n",
       "<table border=\"1\" class=\"dataframe\">\n",
       "  <thead>\n",
       "    <tr style=\"text-align: right;\">\n",
       "      <th></th>\n",
       "      <th>USER_ID</th>\n",
       "      <th>ITEM_ID</th>\n",
       "      <th>TIMESTAMP</th>\n",
       "    </tr>\n",
       "  </thead>\n",
       "  <tbody>\n",
       "    <tr>\n",
       "      <th>2731959</th>\n",
       "      <td>AU3BUD6KKPM20</td>\n",
       "      <td>B00H3TBDE8</td>\n",
       "      <td>1409961600</td>\n",
       "    </tr>\n",
       "    <tr>\n",
       "      <th>1651923</th>\n",
       "      <td>A1N9W68A44N3NK</td>\n",
       "      <td>B0050WVLII</td>\n",
       "      <td>1504396800</td>\n",
       "    </tr>\n",
       "    <tr>\n",
       "      <th>2851971</th>\n",
       "      <td>A1KAAIOTWIEDHD</td>\n",
       "      <td>B00ISL461C</td>\n",
       "      <td>1445904000</td>\n",
       "    </tr>\n",
       "  </tbody>\n",
       "</table>\n",
       "</div>"
      ],
      "text/plain": [
       "                USER_ID     ITEM_ID   TIMESTAMP\n",
       "2731959   AU3BUD6KKPM20  B00H3TBDE8  1409961600\n",
       "1651923  A1N9W68A44N3NK  B0050WVLII  1504396800\n",
       "2851971  A1KAAIOTWIEDHD  B00ISL461C  1445904000"
      ]
     },
     "execution_count": 14,
     "metadata": {},
     "output_type": "execute_result"
    }
   ],
   "source": [
    "events_df = pd.read_json(data_dir + '/Grocery_and_Gourmet_Food.json.gz', lines=True, compression='infer')\n",
    "events_df = events_df[['reviewerID', 'asin', 'unixReviewTime']].rename(columns = {'reviewerID':'USER_ID', 'asin':'ITEM_ID', \n",
    "                              'unixReviewTime':'TIMESTAMP'})\n",
    "events_df.drop_duplicates(inplace=True)\n",
    "events_df.sample(3)"
   ]
  },
  {
   "cell_type": "markdown",
   "metadata": {},
   "source": [
    "Reservaremos usuarios con más de 3 interacciones."
   ]
  },
  {
   "cell_type": "code",
   "execution_count": 15,
   "metadata": {},
   "outputs": [
    {
     "name": "stdout",
     "output_type": "stream",
     "text": [
      "number of total interactions:1701476 num users:230558 num items:187437 \n"
     ]
    }
   ],
   "source": [
    "events_df = events_df[events_df.ITEM_ID.isin(set(meta.index))]\n",
    "user_len=events_df.groupby(by='USER_ID')['TIMESTAMP'].count()\n",
    "valid_users=set(user_len[user_len>3].index)\n",
    "events_df=events_df[events_df.USER_ID.isin(valid_users)]\n",
    "print(\"number of total interactions:{} num users:{} num items:{} \".format(len(events_df),len(events_df['USER_ID'].unique()),len(events_df['ITEM_ID'].unique())))"
   ]
  },
  {
   "cell_type": "markdown",
   "metadata": {},
   "source": [
    "Por último, guardamos los datos de interacción procesados en un archivo CSV."
   ]
  },
  {
   "cell_type": "code",
   "execution_count": 16,
   "metadata": {},
   "outputs": [],
   "source": [
    "events_df = events_df.sort_values(['USER_ID', 'TIMESTAMP'], kind='mergesort')\n",
    "events_df.to_csv(\"all_interactions.csv\", index=False)"
   ]
  },
  {
   "cell_type": "markdown",
   "metadata": {},
   "source": [
    "### División de datos de prueba y evaluación"
   ]
  },
  {
   "cell_type": "markdown",
   "metadata": {},
   "source": [
    "Para probar el rendimiento de las soluciones, separamos los datos de interacciones en un conjunto de prueba y uno de reserva. El conjunto de datos de Amazon PrimePantry tiene aproximadamente 18 años de datos de interacciones, desde el 09/08/2000 al 05/10/2018 con un aproximado de 1,7 millones de interacciones. Reservamos el 5 % de las interacciones más recientes y realizaremos la prueba en el 95 % restante. Esto resulta en una división dónde utilizamos las interacciones desde el 09/08/2000 al 01/02/2018 para entrenar la solución y utilizamos los 8 meses restantes de interacciones para estimular actividad futura como verdad fundamental."
   ]
  },
  {
   "cell_type": "code",
   "execution_count": 17,
   "metadata": {},
   "outputs": [
    {
     "data": {
      "text/plain": [
       "Text(0.5, 1.0, 'num interactions over time')"
      ]
     },
     "execution_count": 17,
     "metadata": {},
     "output_type": "execute_result"
    },
    {
     "data": {
      "image/png": "[encoded data removed]",
      "text/plain": [
       "<Figure size 720x360 with 1 Axes>"
      ]
     },
     "metadata": {
      "needs_background": "light"
     },
     "output_type": "display_data"
    }
   ],
   "source": [
    "plt.figure(figsize=(10,5))\n",
    "events_df['TIMESTAMP'].astype('datetime64[s]').hist(bins=100,xrot=90)\n",
    "plt.title('num interactions over time')"
   ]
  },
  {
   "cell_type": "code",
   "execution_count": 18,
   "metadata": {},
   "outputs": [
    {
     "name": "stdout",
     "output_type": "stream",
     "text": [
      "number of train users:226200\n",
      "number of warm test users who have non-empty interaction in TRAIN:51254\n",
      "number of total users in TEST:55612, removed 4358 cold users from TEST\n"
     ]
    }
   ],
   "source": [
    "test_start_date  = [2018,2,1]\n",
    "test_start  = dt.datetime(*test_start_date).timestamp()\n",
    "train_df=events_df[events_df['TIMESTAMP']<test_start]\n",
    "test_df=events_df[events_df['TIMESTAMP']>=test_start]\n",
    "warm_user=set(train_df['USER_ID'].unique())&set(test_df['USER_ID'].unique())\n",
    "print('number of train users:{}'.format(len(train_df['USER_ID'].unique())))\n",
    "print('number of warm test users who have non-empty interaction in TRAIN:{}'.format(len(warm_user)))\n",
    "print('number of total users in TEST:{}, removed {} cold users from TEST'.format(len(test_df['USER_ID'].unique()),len(test_df['USER_ID'].unique())-len(warm_user)))\n",
    "test_df=test_df[test_df['USER_ID'].isin(warm_user)]"
   ]
  },
  {
   "cell_type": "markdown",
   "metadata": {},
   "source": [
    "Guarde los datos de interacción de prueba procesados en un archivo CSV."
   ]
  },
  {
   "cell_type": "code",
   "execution_count": 19,
   "metadata": {},
   "outputs": [],
   "source": [
    "interactions_filename = \"interactions.csv\"\n",
    "train_df.to_csv(interactions_filename, index=False)"
   ]
  },
  {
   "cell_type": "markdown",
   "metadata": {},
   "source": [
    "### Prepare el modelo JSON de la API de Personalize y el Boto3 Client de Personalize."
   ]
  },
  {
   "cell_type": "code",
   "execution_count": 21,
   "metadata": {},
   "outputs": [],
   "source": [
    "# Copy personalize.normal.json to the same directly\n",
    "# the file can be found from drive: https://drive.corp.amazon.com/documents/hydro@/personalize.normal.json\n",
    "!aws configure add-model --service-model file://`pwd`/personalize.normal.json --service-name personalize"
   ]
  },
  {
   "cell_type": "code",
   "execution_count": 99,
   "metadata": {},
   "outputs": [],
   "source": [
    "import boto3\n",
    "import json\n",
    "import numpy as np\n",
    "import pandas as pd\n",
    "import time\n",
    "\n",
    "personalize = boto3.client(service_name = 'personalize')\n",
    "s3 =boto3.client('s3')"
   ]
  },
  {
   "cell_type": "markdown",
   "metadata": {},
   "source": [
    "### Funciones de asistencia\n",
    "Las siguientes funciones de asistencia se utilizarán más adelante en el cuaderno."
   ]
  },
  {
   "cell_type": "code",
   "execution_count": 23,
   "metadata": {},
   "outputs": [],
   "source": [
    "def print_s3_file_content(bucket, key, limit=None):\n",
    "    obj = s3.get_object(Bucket=bucket, Key=key)\n",
    "\n",
    "    i = 0\n",
    "    for line in obj['Body'].read().decode(\"utf-8\").split(\"\\n\"):\n",
    "        print(line)\n",
    "        i+=1\n",
    "        if limit is not None and i > limit:\n",
    "            break\n",
    "\n",
    "max_time = time.time() + 3 * 60 * 60 # 3 hours\n",
    "\n",
    "def wait_for_dataset_group_job(dataset_group_arn):\n",
    "    max_time = time.time() + 3 * 60 * 60\n",
    "    while time.time() < max_time:\n",
    "        describe_dataset_group_response = personalize.describe_dataset_group(\n",
    "            datasetGroupArn = dataset_group_arn\n",
    "        )\n",
    "        status = describe_dataset_group_response[\"datasetGroup\"][\"status\"]\n",
    "        print(\"DatasetGroup: {}\".format(status))\n",
    "\n",
    "        if status == \"ACTIVE\" or status == \"CREATE FAILED\":\n",
    "            break\n",
    "\n",
    "        time.sleep(60)\n",
    "        \n",
    "def wait_for_dataset_import_job(dataset_import_job_arn):\n",
    "    max_time = time.time() + 3 * 60 * 60\n",
    "    while time.time() < max_time:\n",
    "        describe_dataset_import_job_response = personalize.describe_dataset_import_job(\n",
    "            datasetImportJobArn = dataset_import_job_arn\n",
    "        )\n",
    "        status = describe_dataset_import_job_response[\"datasetImportJob\"]['status']\n",
    "        print(\"DatasetImportJob: {}\".format(status))\n",
    "\n",
    "        if status == \"ACTIVE\" or status == \"CREATE FAILED\":\n",
    "            break\n",
    "\n",
    "        time.sleep(120)\n",
    "            \n",
    "def wait_for_solution_version_job(solution_version_arn):\n",
    "    max_time = time.time() + 3 * 60 * 60\n",
    "    while time.time() < max_time:\n",
    "        describe_solution_version_response = personalize.describe_solution_version(\n",
    "            solutionVersionArn = solution_version_arn\n",
    "        )\n",
    "        status = describe_solution_version_response[\"solutionVersion\"][\"status\"]\n",
    "        print(\"SolutionVersion: {}\".format(status))\n",
    "\n",
    "        start = describe_solution_version_response[\"solutionVersion\"][\"creationDateTime\"]\n",
    "        end = describe_solution_version_response[\"solutionVersion\"][\"lastUpdatedDateTime\"]\n",
    "        if status == \"ACTIVE\":\n",
    "            print(\"Time took: {}\".format(end - start))\n",
    "            break\n",
    "        if status == \"CREATE FAILED\":\n",
    "            print(\"Time took: {}\".format(end - start))\n",
    "            print(\"Job Failed: {}\".format(describe_solution_version_response[\"solutionVersion\"][\"failureReason\"]))\n",
    "            break\n",
    "\n",
    "        time.sleep(180)\n",
    "        \n",
    "def wait_for_batch_segment_job(batch_segment_job_arn):\n",
    "    max_time = time.time() + 3 * 60 * 60\n",
    "    while time.time() < max_time:\n",
    "        describe_job_response = personalize.describe_batch_segment_job(\n",
    "            batchSegmentJobArn = batch_segment_job_arn\n",
    "        )\n",
    "        status = describe_job_response[\"batchSegmentJob\"][\"status\"]\n",
    "        print(\"Batch Segment Job: {}\".format(status))\n",
    "\n",
    "        start = describe_job_response[\"batchSegmentJob\"][\"creationDateTime\"]\n",
    "        end = describe_job_response[\"batchSegmentJob\"][\"lastUpdatedDateTime\"]\n",
    "        if status == \"ACTIVE\":\n",
    "            print(\"Time took: {}\".format(end - start))\n",
    "            break\n",
    "        if status == \"CREATE FAILED\":\n",
    "            print(\"Time took: {}\".format(end - start))\n",
    "            print(\"Job Failed: {}\".format(describe_job_response[\"batchSegmentJob\"][\"failureReason\"]))\n",
    "            break\n",
    "\n",
    "        time.sleep(180)\n",
    "        \n",
    "        \n",
    "def import_dataset(job_name, dataset_arn, data_s3_url, role_arn):\n",
    "    max_time = time.time() + 3 * 60 * 60\n",
    "    dataset_import_job_response = personalize.create_dataset_import_job(\n",
    "        jobName = job_name,\n",
    "        datasetArn = dataset_arn,\n",
    "        dataSource = {\n",
    "            \"dataLocation\": data_s3_url \n",
    "        },\n",
    "        roleArn = role_arn\n",
    "    )\n",
    "\n",
    "    dataset_import_job_arn = dataset_import_job_response['datasetImportJobArn']\n",
    "    print(dataset_import_job_arn)\n",
    "    \n",
    "    wait_for_dataset_import_job(dataset_import_job_arn)"
   ]
  },
  {
   "cell_type": "markdown",
   "metadata": {},
   "source": [
    "# Receta de afinidad de elemento"
   ]
  },
  {
   "cell_type": "markdown",
   "metadata": {},
   "source": [
    "La receta de afinidad de elemento recomendará a los usuarios que son más propensos a interactuar con un elemento dado.\n",
    "### Notas:\n",
    "* Salte al paso 2. Cree una solución si ya tiene un grupo de conjunto de datos creado.\n",
    "* Salte al paso 3. Cree la segmentación por lotes si ya tiene una versión de solución entrenada y desea buscar sin filtros.\n",
    "* Salte al paso 4. Filtre, si ya tiene una versión de solución entrenar y desea probar con filtros."
   ]
  },
  {
   "cell_type": "markdown",
   "metadata": {},
   "source": [
    "## 1. Crear un grupo de conjunto de datos, conjuntos de datos y conjuntos de datos de carga"
   ]
  },
  {
   "cell_type": "markdown",
   "metadata": {},
   "source": [
    "### 1.1 Cree un esquema"
   ]
  },
  {
   "cell_type": "code",
   "execution_count": 24,
   "metadata": {},
   "outputs": [
    {
     "name": "stdout",
     "output_type": "stream",
     "text": [
      "arn:aws:personalize:us-west-2:144386903708:schema/notebook-amazon-grocery-meta-interaction-schema-demo\n"
     ]
    }
   ],
   "source": [
    "interactions_schema = {\n",
    "  \"type\": \"record\",\n",
    "  \"name\": \"Interactions\",\n",
    "  \"namespace\": \"com.amazonaws.personalize.schema\",\n",
    "  \"fields\": [\n",
    "    {\n",
    "      \"name\": \"USER_ID\",\n",
    "      \"type\": \"string\"\n",
    "    },\n",
    "    {\n",
    "      \"name\": \"ITEM_ID\",\n",
    "      \"type\": \"string\"\n",
    "    },\n",
    "    {\n",
    "      \"name\": \"TIMESTAMP\",\n",
    "      \"type\": \"long\"\n",
    "    }\n",
    "  ],\n",
    "  \"version\": 1\n",
    "}\n",
    "\n",
    "create_schema_response = personalize.create_schema(\n",
    "    name = \"notebook-amazon-grocery-meta-interaction-schema-demo\",\n",
    "    schema = json.dumps(interactions_schema)\n",
    ")\n",
    "\n",
    "interactions_schema_arn = create_schema_response['schemaArn']\n",
    "print(interactions_schema_arn)"
   ]
  },
  {
   "cell_type": "code",
   "execution_count": 25,
   "metadata": {},
   "outputs": [
    {
     "name": "stdout",
     "output_type": "stream",
     "text": [
      "arn:aws:personalize:us-west-2:144386903708:schema/notebook-amazon-grocery-meta-item-schema-demo\n"
     ]
    }
   ],
   "source": [
    "items_schema = {\n",
    "  \"type\": \"record\",\n",
    "  \"name\": \"Items\",\n",
    "  \"namespace\": \"com.amazonaws.personalize.schema\",\n",
    "  \"fields\": [\n",
    "    {\n",
    "      \"name\": \"ITEM_ID\",\n",
    "      \"type\": \"string\"\n",
    "    },\n",
    "    {\n",
    "      \"name\": \"DESCRIPTION\",\n",
    "      \"type\": [\n",
    "        \"string\",\n",
    "        \"null\"\n",
    "      ],\n",
    "      \"textual\": True\n",
    "    }\n",
    "  ],\n",
    "  \"version\": 1\n",
    "}\n",
    "\n",
    "create_schema_response = personalize.create_schema(\n",
    "    name = \"notebook-amazon-grocery-meta-item-schema-demo\",\n",
    "    schema = json.dumps(items_schema)\n",
    ")\n",
    "\n",
    "items_schema_arn = create_schema_response['schemaArn']\n",
    "print(items_schema_arn)"
   ]
  },
  {
   "cell_type": "markdown",
   "metadata": {},
   "source": [
    "### 1.2 Cree un grupo de conjunto de datos"
   ]
  },
  {
   "cell_type": "code",
   "execution_count": 26,
   "metadata": {},
   "outputs": [
    {
     "name": "stdout",
     "output_type": "stream",
     "text": [
      "arn:aws:personalize:us-west-2:144386903708:dataset-group/notebook-amazon-grocery-meta-demo\n"
     ]
    }
   ],
   "source": [
    "create_dataset_group_response = personalize.create_dataset_group(\n",
    "    name = \"notebook-amazon-grocery-meta-demo\"\n",
    ")\n",
    "\n",
    "dataset_group_arn = create_dataset_group_response['datasetGroupArn']\n",
    "print(dataset_group_arn)"
   ]
  },
  {
   "cell_type": "markdown",
   "metadata": {},
   "source": [
    "#### Esperar a que el grupo de conjunto de datos tenga estado ACTIVO"
   ]
  },
  {
   "cell_type": "code",
   "execution_count": 27,
   "metadata": {},
   "outputs": [
    {
     "name": "stdout",
     "output_type": "stream",
     "text": [
      "DatasetGroup: CREATE PENDING\n",
      "DatasetGroup: ACTIVE\n"
     ]
    }
   ],
   "source": [
    "wait_for_dataset_group_job(dataset_group_arn)"
   ]
  },
  {
   "cell_type": "markdown",
   "metadata": {},
   "source": [
    "### 1.3 Cree conjuntos de datos"
   ]
  },
  {
   "cell_type": "code",
   "execution_count": 28,
   "metadata": {},
   "outputs": [
    {
     "name": "stdout",
     "output_type": "stream",
     "text": [
      "arn:aws:personalize:us-west-2:144386903708:dataset/notebook-amazon-grocery-meta-demo/INTERACTIONS\n"
     ]
    }
   ],
   "source": [
    "create_dataset_response = personalize.create_dataset(\n",
    "    name = \"interactions\",\n",
    "    datasetType = \"INTERACTIONS\",\n",
    "    datasetGroupArn = dataset_group_arn,\n",
    "    schemaArn = interactions_schema_arn\n",
    ")\n",
    "\n",
    "interactions_dataset_arn = create_dataset_response['datasetArn']\n",
    "print(interactions_dataset_arn)"
   ]
  },
  {
   "cell_type": "code",
   "execution_count": 29,
   "metadata": {},
   "outputs": [
    {
     "name": "stdout",
     "output_type": "stream",
     "text": [
      "arn:aws:personalize:us-west-2:144386903708:dataset/notebook-amazon-grocery-meta-demo/ITEMS\n"
     ]
    }
   ],
   "source": [
    "create_dataset_response = personalize.create_dataset(\n",
    "    name = \"items\",\n",
    "    datasetType = \"ITEMS\",\n",
    "    datasetGroupArn = dataset_group_arn,\n",
    "    schemaArn = items_schema_arn\n",
    ")\n",
    "\n",
    "items_dataset_arn = create_dataset_response['datasetArn']\n",
    "print(items_dataset_arn)"
   ]
  },
  {
   "cell_type": "markdown",
   "metadata": {},
   "source": [
    "### 1.4 Cree un trabajo de importación de conjuntos de datos"
   ]
  },
  {
   "cell_type": "code",
   "execution_count": 30,
   "metadata": {},
   "outputs": [
    {
     "name": "stdout",
     "output_type": "stream",
     "text": [
      "us-west-2\n"
     ]
    }
   ],
   "source": [
    "# Determine the current S3 region where this notebook is being hosted in SageMaker.\n",
    "with open('/opt/ml/metadata/resource-metadata.json') as notebook_info:\n",
    "    data = json.load(notebook_info)\n",
    "    resource_arn = data['ResourceArn']\n",
    "    region = resource_arn.split(':')[3]\n",
    "print(region)"
   ]
  },
  {
   "cell_type": "markdown",
   "metadata": {},
   "source": [
    "#### 1.4.1 [Opcional si ya lo creó] Cree un bucket de S3"
   ]
  },
  {
   "cell_type": "code",
   "execution_count": 31,
   "metadata": {},
   "outputs": [
    {
     "name": "stdout",
     "output_type": "stream",
     "text": [
      "144386903708-us-west-2-personalize-user-segmentation-demo\n"
     ]
    }
   ],
   "source": [
    "account_id = boto3.client('sts').get_caller_identity().get('Account')\n",
    "bucket_name = account_id + \"-\" + region + \"-\" + \"personalize-user-segmentation-demo\"\n",
    "print(bucket_name)\n",
    "if region == \"us-east-1\":\n",
    "    s3.create_bucket(Bucket=bucket_name)\n",
    "else:\n",
    "    s3.create_bucket(\n",
    "        Bucket=bucket_name,\n",
    "        CreateBucketConfiguration={'LocationConstraint': region}\n",
    "    )"
   ]
  },
  {
   "cell_type": "markdown",
   "metadata": {},
   "source": [
    "#### Cargar solo el archivo CSV con las interacciones y los elementos con descripciones a S3"
   ]
  },
  {
   "cell_type": "code",
   "execution_count": 32,
   "metadata": {},
   "outputs": [],
   "source": [
    "boto3.Session().resource('s3').Bucket(bucket_name).Object(interactions_filename).upload_file(interactions_filename)\n",
    "boto3.Session().resource('s3').Bucket(bucket_name).Object(items_with_desc_only_filename).upload_file(items_with_desc_only_filename)"
   ]
  },
  {
   "cell_type": "markdown",
   "metadata": {},
   "source": [
    "#### 1.4.2 [Opcional si ya lo adjuntó] Adjunte la política del bucket para que Personalize pueda tener acceso"
   ]
  },
  {
   "cell_type": "code",
   "execution_count": 33,
   "metadata": {},
   "outputs": [
    {
     "data": {
      "text/plain": [
       "{'ResponseMetadata': {'RequestId': '1W51Y6AMS72DV9QW',\n",
       "  'HostId': 'O4tTBmulKx+gz0htR7Xf7/PtBLYAB64BA+elATp6utWjbU0BmLy5Mb/O3hd/UfOHVaVJdRnsG8U=',\n",
       "  'HTTPStatusCode': 204,\n",
       "  'HTTPHeaders': {'x-amz-id-2': 'O4tTBmulKx+gz0htR7Xf7/PtBLYAB64BA+elATp6utWjbU0BmLy5Mb/O3hd/UfOHVaVJdRnsG8U=',\n",
       "   'x-amz-request-id': '1W51Y6AMS72DV9QW',\n",
       "   'date': 'Fri, 26 Nov 2021 03:26:11 GMT',\n",
       "   'server': 'AmazonS3'},\n",
       "  'RetryAttempts': 0}}"
      ]
     },
     "execution_count": 33,
     "metadata": {},
     "output_type": "execute_result"
    }
   ],
   "source": [
    "s3 = boto3.client(\"s3\")\n",
    "bucket = bucket_name\n",
    "policy = {\n",
    "    \"Version\": \"2012-10-17\",\n",
    "    \"Id\": \"PersonalizeS3BucketAccessPolicy\",\n",
    "    \"Statement\": [\n",
    "        {\n",
    "            \"Sid\": \"PersonalizeS3BucketAccessPolicy\",\n",
    "            \"Effect\": \"Allow\",\n",
    "            \"Principal\": {\n",
    "                \"Service\": \"personalize.amazonaws.com\"\n",
    "            },\n",
    "            \"Action\": [\n",
    "                \"s3:GetObject\",\n",
    "                \"s3:ListBucket\",\n",
    "                \"s3:PutObject\"\n",
    "            ],\n",
    "            \"Resource\": [\n",
    "                \"arn:aws:s3:::{}\".format(bucket),\n",
    "                \"arn:aws:s3:::{}/*\".format(bucket)\n",
    "            ]\n",
    "        }\n",
    "    ]\n",
    "}\n",
    "# uncomment if this policy has not been attached to the bucket\n",
    "s3.put_bucket_policy(Bucket=bucket, Policy=json.dumps(policy))"
   ]
  },
  {
   "cell_type": "markdown",
   "metadata": {},
   "source": [
    "#### 1.4.3 [Opcional si ya lo creó] Cree un rol de Personalize con FullAccess de Personalize y FullAccess de S3"
   ]
  },
  {
   "cell_type": "code",
   "execution_count": 34,
   "metadata": {},
   "outputs": [
    {
     "name": "stdout",
     "output_type": "stream",
     "text": [
      "arn:aws:iam::144386903708:role/MyNotebookPersonalizeRoleDemo144386903708\n"
     ]
    }
   ],
   "source": [
    "iam = boto3.client(\"iam\")\n",
    "role_name = \"MyNotebookPersonalizeRoleDemo\"+account_id\n",
    "assume_role_policy_document = {\n",
    "    \"Version\": \"2012-10-17\",\n",
    "    \"Statement\": [\n",
    "        {\n",
    "          \"Effect\": \"Allow\",\n",
    "          \"Principal\": {\n",
    "            \"Service\": \"personalize.amazonaws.com\"\n",
    "          },\n",
    "          \"Action\": \"sts:AssumeRole\"\n",
    "        }\n",
    "    ]\n",
    "}\n",
    "\n",
    "create_role_response = iam.create_role(\n",
    "    RoleName = role_name,\n",
    "    AssumeRolePolicyDocument = json.dumps(assume_role_policy_document)\n",
    ")\n",
    "\n",
    "# AmazonPersonalizeFullAccess provides access to any S3 bucket with a name that includes \"personalize\" or \"Personalize\" \n",
    "# if you would like to use a bucket with a different name, please consider creating and attaching a new policy\n",
    "# that provides read access to your bucket or attaching the AmazonS3ReadOnlyAccess policy to the role\n",
    "policy_arn = iam.attach_role_policy(\n",
    "    RoleName = role_name,\n",
    "    PolicyArn = \"arn:aws:iam::aws:policy/service-role/AmazonPersonalizeFullAccess\"\n",
    ")\n",
    "\n",
    "# Now add S3 support\n",
    "iam.attach_role_policy(\n",
    "    PolicyArn='arn:aws:iam::aws:policy/AmazonS3FullAccess',\n",
    "    RoleName=role_name\n",
    ")\n",
    "time.sleep(60) # wait for a minute to allow IAM role policy attachment to propagate\n",
    "\n",
    "role_arn = create_role_response[\"Role\"][\"Arn\"]\n",
    "print(role_arn)"
   ]
  },
  {
   "cell_type": "markdown",
   "metadata": {},
   "source": [
    "### 1.5 Cree un trabajo de importación de conjuntos de datos"
   ]
  },
  {
   "cell_type": "markdown",
   "metadata": {},
   "source": [
    "#### 1.5.1 Cree un trabajo de importación con el rol especificado en 1.4.2 y los datos preparados en 1.4.3"
   ]
  },
  {
   "cell_type": "code",
   "execution_count": null,
   "metadata": {},
   "outputs": [],
   "source": [
    "interactions_s3_url = \"s3://\"+bucket_name+\"/\"+interactions_filename\n",
    "import_dataset(\"notebook-ag-inters-import\", interactions_dataset_arn, interactions_s3_url, role_arn)"
   ]
  },
  {
   "cell_type": "code",
   "execution_count": null,
   "metadata": {},
   "outputs": [],
   "source": [
    "items_s3_url =        \"s3://\"+bucket_name+\"/\"+items_with_desc_only_filename\n",
    "import_dataset(\"notebook-items-textual-import\", items_dataset_arn, items_s3_url, role_arn)"
   ]
  },
  {
   "cell_type": "markdown",
   "metadata": {},
   "source": [
    "## 2. Cree una solución"
   ]
  },
  {
   "cell_type": "markdown",
   "metadata": {},
   "source": [
    "#### 2.1 Seleccione la receta de afinidad de elementos"
   ]
  },
  {
   "cell_type": "code",
   "execution_count": 38,
   "metadata": {},
   "outputs": [],
   "source": [
    "item_user_recipe = 'arn:aws:personalize:::recipe/aws-item-affinity'"
   ]
  },
  {
   "cell_type": "markdown",
   "metadata": {},
   "source": [
    "### 2.2 Cree la solución"
   ]
  },
  {
   "cell_type": "code",
   "execution_count": 39,
   "metadata": {},
   "outputs": [],
   "source": [
    "create_solution_response = personalize.create_solution(\n",
    "    name = \"item-affinity-amazon-grocery-meta-demo\",\n",
    "    datasetGroupArn = dataset_group_arn,\n",
    "    recipeArn = item_user_recipe,\n",
    ")\n",
    "solution_arn = create_solution_response['solutionArn']"
   ]
  },
  {
   "cell_type": "code",
   "execution_count": 40,
   "metadata": {},
   "outputs": [
    {
     "data": {
      "text/plain": [
       "{'solution': {'name': 'item-affinity-amazon-grocery-meta-demo',\n",
       "  'solutionArn': 'arn:aws:personalize:us-west-2:144386903708:solution/item-affinity-amazon-grocery-meta-demo',\n",
       "  'performHPO': False,\n",
       "  'performAutoML': False,\n",
       "  'recipeArn': 'arn:aws:personalize:::recipe/aws-item-affinity',\n",
       "  'datasetGroupArn': 'arn:aws:personalize:us-west-2:144386903708:dataset-group/notebook-amazon-grocery-meta-demo',\n",
       "  'status': 'ACTIVE',\n",
       "  'creationDateTime': datetime.datetime(2021, 11, 26, 3, 38, 23, 645000, tzinfo=tzlocal()),\n",
       "  'lastUpdatedDateTime': datetime.datetime(2021, 11, 26, 3, 38, 23, 645000, tzinfo=tzlocal())},\n",
       " 'ResponseMetadata': {'RequestId': 'e0d5e15c-7a5d-42b9-a37a-a30500d9afe7',\n",
       "  'HTTPStatusCode': 200,\n",
       "  'HTTPHeaders': {'content-type': 'application/x-amz-json-1.1',\n",
       "   'date': 'Fri, 26 Nov 2021 03:38:24 GMT',\n",
       "   'x-amzn-requestid': 'e0d5e15c-7a5d-42b9-a37a-a30500d9afe7',\n",
       "   'content-length': '475',\n",
       "   'connection': 'keep-alive'},\n",
       "  'RetryAttempts': 0}}"
      ]
     },
     "execution_count": 40,
     "metadata": {},
     "output_type": "execute_result"
    }
   ],
   "source": [
    "personalize.describe_solution(solutionArn = solution_arn)"
   ]
  },
  {
   "cell_type": "markdown",
   "metadata": {},
   "source": [
    "### 2.3 Cree la versión de la solución"
   ]
  },
  {
   "cell_type": "code",
   "execution_count": 41,
   "metadata": {},
   "outputs": [
    {
     "name": "stdout",
     "output_type": "stream",
     "text": [
      "arn:aws:personalize:us-west-2:144386903708:solution/item-affinity-amazon-grocery-meta-demo/e27b6a08\n"
     ]
    }
   ],
   "source": [
    "create_solution_version_response = personalize.create_solution_version(\n",
    "    solutionArn = solution_arn\n",
    ")\n",
    "solution_version_arn = create_solution_version_response['solutionVersionArn']\n",
    "print(solution_version_arn)"
   ]
  },
  {
   "cell_type": "markdown",
   "metadata": {},
   "source": [
    "#### Esperar a que la versión de la solución esté ACTIVA"
   ]
  },
  {
   "cell_type": "code",
   "execution_count": 43,
   "metadata": {},
   "outputs": [
    {
     "name": "stdout",
     "output_type": "stream",
     "text": [
      "SolutionVersion: ACTIVE\n",
      "Time took: 2:15:34.850000\n"
     ]
    }
   ],
   "source": [
    "wait_for_solution_version_job(solution_version_arn)"
   ]
  },
  {
   "cell_type": "markdown",
   "metadata": {},
   "source": [
    "### 2.4 Obtenga las métricas\n",
    "Nota: Estas notas de métricas son las métricas sin conexión de Amazon Personalize que se utilizan para evaluar los resultados de las versiones de solución. No deben confundirse con las métricas que derivaremos del conjunto de datos de prueba que creamos cuando preprocesamos los datos."
   ]
  },
  {
   "cell_type": "code",
   "execution_count": 44,
   "metadata": {},
   "outputs": [
    {
     "name": "stdout",
     "output_type": "stream",
     "text": [
      "{'coverage': 0.6835, 'hits_at_1_percent': 0.323, 'recall_at_1_percent': 0.0752}\n"
     ]
    }
   ],
   "source": [
    "get_solution_metrics_response = personalize.get_solution_metrics(solutionVersionArn=solution_version_arn)\n",
    "print(get_solution_metrics_response['metrics'])"
   ]
  },
  {
   "cell_type": "markdown",
   "metadata": {},
   "source": [
    "## 3. Cree un trabajo de segmentación por lotes\n",
    "Ejecutamos la solución aws-item-affinity en 500 elementos seleccionados al azar que aparecen en el conjunto de prueba para buscar una lista de 2262 usuarios (1 % de los usuarios en el conjunto de datos). A continuación, utilizamos el conjunto de prueba para evaluar la frecuencia con la que estos 2262 usuarios compraron elementos dentro del periodo de prueba. Para comparar, también evaluamos la frecuencia con la que los usuarios más activos, dentro de este grupo de 2262 usuarios, compraron elementos dentro del periodo de prueba."
   ]
  },
  {
   "cell_type": "markdown",
   "metadata": {},
   "source": [
    "### 3.1 Prepare los datos de búsqueda de entrada a partir de conjunto verdad fundamental de prueba"
   ]
  },
  {
   "cell_type": "code",
   "execution_count": 45,
   "metadata": {},
   "outputs": [
    {
     "data": {
      "text/html": [
       "<div>\n",
       "<style scoped>\n",
       "    .dataframe tbody tr th:only-of-type {\n",
       "        vertical-align: middle;\n",
       "    }\n",
       "\n",
       "    .dataframe tbody tr th {\n",
       "        vertical-align: top;\n",
       "    }\n",
       "\n",
       "    .dataframe thead th {\n",
       "        text-align: right;\n",
       "    }\n",
       "</style>\n",
       "<table border=\"1\" class=\"dataframe\">\n",
       "  <thead>\n",
       "    <tr style=\"text-align: right;\">\n",
       "      <th></th>\n",
       "      <th>target_users</th>\n",
       "    </tr>\n",
       "    <tr>\n",
       "      <th>ITEM_ID</th>\n",
       "      <th></th>\n",
       "    </tr>\n",
       "  </thead>\n",
       "  <tbody>\n",
       "    <tr>\n",
       "      <th>B00DIBYDCY</th>\n",
       "      <td>[A12E83IRM13GQW]</td>\n",
       "    </tr>\n",
       "    <tr>\n",
       "      <th>B007JCXVF8</th>\n",
       "      <td>[A171SOU49WBY9Q, A1NBWNGTFAVQ35, A2BDPU4K4RIQH...</td>\n",
       "    </tr>\n",
       "    <tr>\n",
       "      <th>B00IEGNPTA</th>\n",
       "      <td>[A1QBYVDQ0V6HAR]</td>\n",
       "    </tr>\n",
       "    <tr>\n",
       "      <th>B00FQR6IDU</th>\n",
       "      <td>[A1Y7YWTOLRWTDJ]</td>\n",
       "    </tr>\n",
       "    <tr>\n",
       "      <th>B00OLDP5KC</th>\n",
       "      <td>[A3GAHEYWEGLYS1]</td>\n",
       "    </tr>\n",
       "    <tr>\n",
       "      <th>...</th>\n",
       "      <td>...</td>\n",
       "    </tr>\n",
       "    <tr>\n",
       "      <th>B01F192YFI</th>\n",
       "      <td>[A28RBB909ZNR8F]</td>\n",
       "    </tr>\n",
       "    <tr>\n",
       "      <th>B00099XLEE</th>\n",
       "      <td>[A2R9Z7VI5GAQGR]</td>\n",
       "    </tr>\n",
       "    <tr>\n",
       "      <th>B00V8B5RXK</th>\n",
       "      <td>[ANW9IX7324JYR]</td>\n",
       "    </tr>\n",
       "    <tr>\n",
       "      <th>B01F7TYL5I</th>\n",
       "      <td>[A11WX8MONC0BP0, A3P7CBH2VTWOGC, A9QOJ6KOJVWIA]</td>\n",
       "    </tr>\n",
       "    <tr>\n",
       "      <th>B00C7BLNTM</th>\n",
       "      <td>[A2I0X28L5E42VU, A2QSB1ZYF50DKL, A3K5IV04UXYCYB]</td>\n",
       "    </tr>\n",
       "  </tbody>\n",
       "</table>\n",
       "<p>500 rows × 1 columns</p>\n",
       "</div>"
      ],
      "text/plain": [
       "                                                 target_users\n",
       "ITEM_ID                                                      \n",
       "B00DIBYDCY                                   [A12E83IRM13GQW]\n",
       "B007JCXVF8  [A171SOU49WBY9Q, A1NBWNGTFAVQ35, A2BDPU4K4RIQH...\n",
       "B00IEGNPTA                                   [A1QBYVDQ0V6HAR]\n",
       "B00FQR6IDU                                   [A1Y7YWTOLRWTDJ]\n",
       "B00OLDP5KC                                   [A3GAHEYWEGLYS1]\n",
       "...                                                       ...\n",
       "B01F192YFI                                   [A28RBB909ZNR8F]\n",
       "B00099XLEE                                   [A2R9Z7VI5GAQGR]\n",
       "B00V8B5RXK                                    [ANW9IX7324JYR]\n",
       "B01F7TYL5I    [A11WX8MONC0BP0, A3P7CBH2VTWOGC, A9QOJ6KOJVWIA]\n",
       "B00C7BLNTM   [A2I0X28L5E42VU, A2QSB1ZYF50DKL, A3K5IV04UXYCYB]\n",
       "\n",
       "[500 rows x 1 columns]"
      ]
     },
     "execution_count": 45,
     "metadata": {},
     "output_type": "execute_result"
    }
   ],
   "source": [
    "groundtruth=test_df.groupby('ITEM_ID')['USER_ID'].unique()\n",
    "#sample 500 items from test data as test queries\n",
    "test_labels=groundtruth.sample(n=500,random_state=10)\n",
    "test_labels.reset_index()[['ITEM_ID']].rename(columns={'ITEM_ID':'itemId'}).to_json('query-amazon-grocery.json',orient='records',lines=True)\n",
    "test_labels=test_labels.to_frame('target_users')\n",
    "test_labels"
   ]
  },
  {
   "cell_type": "code",
   "execution_count": 46,
   "metadata": {},
   "outputs": [
    {
     "name": "stdout",
     "output_type": "stream",
     "text": [
      "{\"itemId\":\"B00DIBYDCY\"}\n",
      "{\"itemId\":\"B007JCXVF8\"}\n",
      "{\"itemId\":\"B00IEGNPTA\"}\n",
      "{\"itemId\":\"B00FQR6IDU\"}\n"
     ]
    }
   ],
   "source": [
    "# example json lines in the input file:\n",
    "# {\"itemId\": \"1\"}\n",
    "# {\"itemId\": \"2\"}\n",
    "# {\"itemId\": \"3\"}\n",
    "# ...\n",
    "batch_file_name = 'query-amazon-grocery.json'\n",
    "boto3.Session().resource('s3').Bucket(bucket_name).Object(batch_file_name).upload_file(batch_file_name)\n",
    "batch_input_path = \"s3://\"+bucket_name+\"/\"+batch_file_name\n",
    "batch_output_path = \"s3://\"+bucket_name+\"/output/\"\n",
    "print_s3_file_content(bucket=bucket_name, key=batch_file_name,limit=3)\n",
    "# these are the file contents"
   ]
  },
  {
   "cell_type": "markdown",
   "metadata": {},
   "source": [
    "**Imprimamos el número de usuarios únicos**"
   ]
  },
  {
   "cell_type": "code",
   "execution_count": 47,
   "metadata": {},
   "outputs": [
    {
     "data": {
      "text/plain": [
       "2262"
      ]
     },
     "execution_count": 47,
     "metadata": {},
     "output_type": "execute_result"
    }
   ],
   "source": [
    "topk=len(train_df['USER_ID'].unique())//100\n",
    "topk"
   ]
  },
  {
   "cell_type": "markdown",
   "metadata": {},
   "source": [
    "### 3.2 Cree un trabajo de segmentación por lotes"
   ]
  },
  {
   "cell_type": "code",
   "execution_count": 48,
   "metadata": {},
   "outputs": [
    {
     "name": "stdout",
     "output_type": "stream",
     "text": [
      "arn:aws:personalize:us-west-2:144386903708:batch-segment-job/notebook-query-demo-500\n"
     ]
    }
   ],
   "source": [
    "# change the jobName if already exists\n",
    "create_batch_segment_response = personalize.create_batch_segment_job(\n",
    "    jobName = \"notebook-query-demo-500\",\n",
    "    solutionVersionArn = solution_version_arn,\n",
    "    numResults = topk,\n",
    "    jobInput =  {\n",
    "        \"s3DataSource\": {\n",
    "            \"path\": batch_input_path\n",
    "        }\n",
    "    },\n",
    "    jobOutput = {\n",
    "        \"s3DataDestination\": {\n",
    "            \"path\": batch_output_path\n",
    "        }\n",
    "    },\n",
    "    roleArn = role_arn # defined in Step 1.4.2\n",
    "    )\n",
    "\n",
    "batch_segment_job_arn = create_batch_segment_response['batchSegmentJobArn']\n",
    "print(batch_segment_job_arn)"
   ]
  },
  {
   "cell_type": "code",
   "execution_count": 50,
   "metadata": {},
   "outputs": [
    {
     "name": "stdout",
     "output_type": "stream",
     "text": [
      "Batch Segment Job: ACTIVE\n",
      "Time took: 0:33:11.414000\n"
     ]
    }
   ],
   "source": [
    "wait_for_batch_segment_job(batch_segment_job_arn)"
   ]
  },
  {
   "cell_type": "markdown",
   "metadata": {},
   "source": [
    "#### Cálculo de métricas de evaluación en datos de prueba"
   ]
  },
  {
   "cell_type": "code",
   "execution_count": 51,
   "metadata": {},
   "outputs": [],
   "source": [
    "def get_hit_recall_k(k, topk, grndtruth):\n",
    "    \"\"\" compare topk and gnd; \n",
    "    \"\"\"\n",
    "    df = grndtruth.join(topk.reindex(grndtruth.index, fill_value=[]).to_frame('pred'))\n",
    "    hit = df.apply(lambda x: len(set(x['pred']).intersection(x['target_users'])),axis=1)\n",
    "    recall = hit / grndtruth['target_users'].apply(lambda x:min(len(x),k))\n",
    "    hit_recall = pd.DataFrame({'hit': hit, 'recall': recall}).rename(columns={'hit':'hits @ top-{}'.format(k),'recall':'recall @ top-{}'.format(k)}) # item by metric_name\n",
    "    return hit_recall"
   ]
  },
  {
   "cell_type": "code",
   "execution_count": 52,
   "metadata": {},
   "outputs": [
    {
     "data": {
      "text/html": [
       "<div>\n",
       "<style scoped>\n",
       "    .dataframe tbody tr th:only-of-type {\n",
       "        vertical-align: middle;\n",
       "    }\n",
       "\n",
       "    .dataframe tbody tr th {\n",
       "        vertical-align: top;\n",
       "    }\n",
       "\n",
       "    .dataframe thead th {\n",
       "        text-align: right;\n",
       "    }\n",
       "</style>\n",
       "<table border=\"1\" class=\"dataframe\">\n",
       "  <thead>\n",
       "    <tr style=\"text-align: right;\">\n",
       "      <th></th>\n",
       "      <th>input</th>\n",
       "      <th>output</th>\n",
       "      <th>error</th>\n",
       "    </tr>\n",
       "  </thead>\n",
       "  <tbody>\n",
       "    <tr>\n",
       "      <th>156</th>\n",
       "      <td>{'itemId': 'B00D97LWTE'}</td>\n",
       "      <td>{'usersList': ['A3Q4NULWZU3RI', 'A1GGOC9PVDXW7...</td>\n",
       "      <td>NaN</td>\n",
       "    </tr>\n",
       "    <tr>\n",
       "      <th>99</th>\n",
       "      <td>{'itemId': 'B00N3F2U5W'}</td>\n",
       "      <td>{'usersList': ['AZM4OOWFEFPS7', 'A1D4FARNGLSPG...</td>\n",
       "      <td>NaN</td>\n",
       "    </tr>\n",
       "    <tr>\n",
       "      <th>53</th>\n",
       "      <td>{'itemId': 'B00S7NAY0I'}</td>\n",
       "      <td>{'usersList': ['A3NLJZI5NEOT0K', 'ALQ4USPEQ9L5...</td>\n",
       "      <td>NaN</td>\n",
       "    </tr>\n",
       "  </tbody>\n",
       "</table>\n",
       "</div>"
      ],
      "text/plain": [
       "                        input  \\\n",
       "156  {'itemId': 'B00D97LWTE'}   \n",
       "99   {'itemId': 'B00N3F2U5W'}   \n",
       "53   {'itemId': 'B00S7NAY0I'}   \n",
       "\n",
       "                                                output  error  \n",
       "156  {'usersList': ['A3Q4NULWZU3RI', 'A1GGOC9PVDXW7...    NaN  \n",
       "99   {'usersList': ['AZM4OOWFEFPS7', 'A1D4FARNGLSPG...    NaN  \n",
       "53   {'usersList': ['A3NLJZI5NEOT0K', 'ALQ4USPEQ9L5...    NaN  "
      ]
     },
     "execution_count": 52,
     "metadata": {},
     "output_type": "execute_result"
    }
   ],
   "source": [
    "batch_file_name = \"query-amazon-grocery.json\"\n",
    "output_file_name_s3 = batch_output_path+batch_file_name+\".out\"\n",
    "output=pd.read_json(output_file_name_s3, lines = True)\n",
    "prediction=output.apply(lambda x:pd.Series({'ITEM_ID':x['input']['itemId'],'USER_ID':x['output']['usersList']}),axis=1).set_index('ITEM_ID')['USER_ID']\n",
    "output.sample(3)"
   ]
  },
  {
   "cell_type": "markdown",
   "metadata": {},
   "source": [
    "#### En primer lugar, evaluamos el rendimiento de la solución de afinidad de elementos:"
   ]
  },
  {
   "cell_type": "code",
   "execution_count": 53,
   "metadata": {},
   "outputs": [
    {
     "name": "stdout",
     "output_type": "stream",
     "text": [
      "Test metrics for Personalized-item-affinity\n"
     ]
    },
    {
     "data": {
      "text/plain": [
       "hits @ top-2262      0.266000\n",
       "recall @ top-2262    0.120578\n",
       "dtype: float64"
      ]
     },
     "execution_count": 53,
     "metadata": {},
     "output_type": "execute_result"
    }
   ],
   "source": [
    "print('Test metrics for Personalized-item-affinity')\n",
    "get_hit_recall_k(topk,prediction,test_labels).mean()"
   ]
  },
  {
   "cell_type": "markdown",
   "metadata": {},
   "source": [
    "#### Para comparar, evaluamos con qué frecuencia los 2262 usuarios más activos compraron los elementos que buscamos."
   ]
  },
  {
   "cell_type": "code",
   "execution_count": 54,
   "metadata": {},
   "outputs": [
    {
     "name": "stdout",
     "output_type": "stream",
     "text": [
      "Test metrics for Popularity baseline\n"
     ]
    },
    {
     "data": {
      "text/plain": [
       "hits @ top-2262      0.072000\n",
       "recall @ top-2262    0.032023\n",
       "dtype: float64"
      ]
     },
     "execution_count": 54,
     "metadata": {},
     "output_type": "execute_result"
    }
   ],
   "source": [
    "#implement popularity baseline\n",
    "pop_users=train_df.groupby('USER_ID')['TIMESTAMP'].count()\n",
    "prediction_pop=pd.Series([pop_users.sort_values(ascending=False).index.values[:topk].tolist()\n",
    "                            for _ in range(len(test_labels))],\n",
    "                        index=test_labels.index)\n",
    "print('Test metrics for Popularity baseline')\n",
    "get_hit_recall_k(topk,prediction_pop,test_labels).mean()"
   ]
  },
  {
   "cell_type": "markdown",
   "metadata": {},
   "source": [
    "¡Podemos observar que la solución de afinidad de elementos es 4 veces mejor para identificar usuarios que comprarían un elemento dado!"
   ]
  },
  {
   "cell_type": "markdown",
   "metadata": {},
   "source": [
    "## Inspección editorial\n",
    "Queremos, también, inspeccionar algunos ejemplos para ver si se alinean con nuestra opinión editorial."
   ]
  },
  {
   "cell_type": "code",
   "execution_count": 55,
   "metadata": {},
   "outputs": [],
   "source": [
    "import pandas as pd, io\n",
    "obj = s3.get_object(Bucket=bucket_name,Key=interactions_filename)\n",
    "df = pd.read_csv(io.BytesIO(obj['Body'].read()))\n",
    "obj = s3.get_object(Bucket=bucket_name,Key=items_with_desc_only_filename)\n",
    "df_items = pd.read_csv(io.BytesIO(obj['Body'].read()))"
   ]
  },
  {
   "cell_type": "markdown",
   "metadata": {},
   "source": [
    "Ahora, crearemos un archivo JSON con 10 elementos para buscar y cargarlo al bucket de S3. También, crearemos una ruta de salida para guardar los resultados."
   ]
  },
  {
   "cell_type": "code",
   "execution_count": 56,
   "metadata": {},
   "outputs": [
    {
     "name": "stdout",
     "output_type": "stream",
     "text": [
      "{\"itemId\":\"0853347867\"}\n",
      "{\"itemId\":\"1888861118\"}\n",
      "{\"itemId\":\"1888861614\"}\n",
      "{\"itemId\":\"B0000CEUSQ\"}\n",
      "{\"itemId\":\"B0000CNU3F\"}\n",
      "{\"itemId\":\"B0000DBN1H\"}\n",
      "{\"itemId\":\"B0000DG5CD\"}\n",
      "{\"itemId\":\"B0000TA3SK\"}\n",
      "{\"itemId\":\"B0001AVSRI\"}\n",
      "{\"itemId\":\"B0005YXXDC\"}\n"
     ]
    }
   ],
   "source": [
    "editorial_test_item_ids = [{\"itemId\": \"0853347867\"},{\"itemId\": \"1888861118\"},{\"itemId\": \"1888861614\"},{\"itemId\": \"B0000CEUSQ\"},{\"itemId\": \"B0000CNU3F\"},{\"itemId\": \"B0000DBN1H\"},{\"itemId\": \"B0000DG5CD\"},{\"itemId\": \"B0000TA3SK\"},{\"itemId\": \"B0001AVSRI\"},{\"itemId\": \"B0005YXXDC\"}]\n",
    "editorial_batch_file_name = 'editorial_test_item_ids.json'\n",
    "editorial_test_item_ids_sr= pd.Series(editorial_test_item_ids)\n",
    "editorial_test_item_ids_sr.to_json(editorial_batch_file_name,orient='records',lines=True)\n",
    "boto3.Session().resource('s3').Bucket(bucket_name).Object(editorial_batch_file_name).upload_file(editorial_batch_file_name)\n",
    "editorial_batch_input_path = \"s3://\"+bucket_name+\"/\"+editorial_batch_file_name\n",
    "editorial_batch_output_path = \"s3://\"+bucket_name+\"/output/\"\n",
    "print_s3_file_content(bucket=bucket_name, key=editorial_batch_file_name,limit=10)"
   ]
  },
  {
   "cell_type": "markdown",
   "metadata": {},
   "source": [
    "Creemos un trabajo de segmentación por lotes para los ID de estos 10 elementos. *Nota: Este proceso demorará alrededor de 10 minutos en ejecutarse*"
   ]
  },
  {
   "cell_type": "code",
   "execution_count": 58,
   "metadata": {},
   "outputs": [
    {
     "name": "stdout",
     "output_type": "stream",
     "text": [
      "arn:aws:personalize:us-west-2:144386903708:batch-segment-job/notebook-query-editorial-demo\n"
     ]
    }
   ],
   "source": [
    "create_batch_segment_response = personalize.create_batch_segment_job(\n",
    "    jobName = \"notebook-query-editorial-demo\",\n",
    "    solutionVersionArn = solution_version_arn,\n",
    "    numResults = 10,\n",
    "    jobInput =  {\n",
    "        \"s3DataSource\": {\n",
    "            \"path\": editorial_batch_input_path\n",
    "        }\n",
    "    },\n",
    "    jobOutput = {\n",
    "        \"s3DataDestination\": {\n",
    "            \"path\": editorial_batch_output_path\n",
    "        }\n",
    "    },\n",
    "    roleArn = role_arn \n",
    "    )\n",
    "\n",
    "batch_segment_job_arn = create_batch_segment_response['batchSegmentJobArn']\n",
    "print(batch_segment_job_arn)"
   ]
  },
  {
   "cell_type": "code",
   "execution_count": 59,
   "metadata": {},
   "outputs": [
    {
     "name": "stdout",
     "output_type": "stream",
     "text": [
      "Batch Segment Job: CREATE IN_PROGRESS\n",
      "Batch Segment Job: CREATE IN_PROGRESS\n",
      "Batch Segment Job: ACTIVE\n",
      "Time took: 0:06:42.365000\n"
     ]
    }
   ],
   "source": [
    "wait_for_batch_segment_job(batch_segment_job_arn)"
   ]
  },
  {
   "cell_type": "markdown",
   "metadata": {},
   "source": [
    "**Definamos algunas funciones de asistencia**"
   ]
  },
  {
   "cell_type": "code",
   "execution_count": 60,
   "metadata": {},
   "outputs": [],
   "source": [
    "def print_query_item_user_len_user_last(itemId, usersList):\n",
    "    print(df_items.set_index('ITEM_ID').loc[itemId].DESCRIPTION)\n",
    "    user_list_df = []\n",
    "    for userId in usersList:\n",
    "        user_hist = df[df['USER_ID']==userId].join(\n",
    "            df_items.set_index('ITEM_ID'), on='ITEM_ID'\n",
    "        ).sort_values('TIMESTAMP', kind='mergesort')\n",
    "        user_list_df.append([userId,\n",
    "            len(user_hist)]+user_hist.iloc[-1:-4:-1].DESCRIPTION.apply(lambda x:x.split(',')[0][0:50]).to_list())\n",
    "    display(pd.DataFrame(user_list_df, columns=['USER_ID','len', 'last purchase','last but 1 purchase','last but 2 purchase']).set_index('USER_ID'))\n",
    "    \n",
    "def print_query_item_user_last10(itemId, userId, k=10):\n",
    "    print(df_items.set_index('ITEM_ID').loc[itemId].DESCRIPTION)\n",
    "    user_list_df = []\n",
    "    user_hist = df[df['USER_ID']==userId].join(\n",
    "            df_items.set_index('ITEM_ID'), on='ITEM_ID'\n",
    "        ).sort_values('TIMESTAMP', kind='mergesort')\n",
    "    print('\\n'.join(user_hist.iloc[-1:(-1-k):-1].DESCRIPTION.apply(lambda x:x.split(',')[0][0:50]).to_list()))"
   ]
  },
  {
   "cell_type": "markdown",
   "metadata": {},
   "source": [
    "**Recuperemos nuestro archivo de salida y procesémoslo**"
   ]
  },
  {
   "cell_type": "code",
   "execution_count": 61,
   "metadata": {},
   "outputs": [],
   "source": [
    "editorial_batch_file_name = \"editorial_test_item_ids.json\"\n",
    "output_file_name_s3 = batch_output_path+editorial_batch_file_name+\".out\"\n",
    "output=pd.read_json(output_file_name_s3, lines = True)\n",
    "detail=output.apply(lambda x:pd.Series({'ITEM_ID':x['input']['itemId'],'USER_ID':x['output']['usersList']}),axis=1).set_index('ITEM_ID')['USER_ID']\n",
    "pd.options.display.max_colwidth=250"
   ]
  },
  {
   "cell_type": "markdown",
   "metadata": {},
   "source": [
    "Ejecutamos una búsqueda de segmentación en los elementos y hemos identificado los primeros 10 usuarios identificados para cada uno de ellos. También, buscamos los últimos 3 elementos para cada usuario identificado. Primero, miremos a los tres elementos que evaluamos en la publicación del blog adjunta:"
   ]
  },
  {
   "cell_type": "code",
   "execution_count": 62,
   "metadata": {},
   "outputs": [
    {
     "name": "stdout",
     "output_type": "stream",
     "text": [
      "Gingerbread Coffee, 1 lb Whole Bean FlavorSeal Vacuum Bag Bite into a freshly basked Gingerbread Coffee Statements regarding dietary supplements have not been evaluated by the FDA and are not intended to diagnose, treat, cure, or prevent any disease or health condition.\n"
     ]
    },
    {
     "data": {
      "text/html": [
       "<div>\n",
       "<style scoped>\n",
       "    .dataframe tbody tr th:only-of-type {\n",
       "        vertical-align: middle;\n",
       "    }\n",
       "\n",
       "    .dataframe tbody tr th {\n",
       "        vertical-align: top;\n",
       "    }\n",
       "\n",
       "    .dataframe thead th {\n",
       "        text-align: right;\n",
       "    }\n",
       "</style>\n",
       "<table border=\"1\" class=\"dataframe\">\n",
       "  <thead>\n",
       "    <tr style=\"text-align: right;\">\n",
       "      <th></th>\n",
       "      <th>len</th>\n",
       "      <th>last purchase</th>\n",
       "      <th>last but 1 purchase</th>\n",
       "      <th>last but 2 purchase</th>\n",
       "    </tr>\n",
       "    <tr>\n",
       "      <th>USER_ID</th>\n",
       "      <th></th>\n",
       "      <th></th>\n",
       "      <th></th>\n",
       "      <th></th>\n",
       "    </tr>\n",
       "  </thead>\n",
       "  <tbody>\n",
       "    <tr>\n",
       "      <th>APHFL4MDJRGWB</th>\n",
       "      <td>35</td>\n",
       "      <td>Dunkin' Donuts Original Blend Ground Coffee</td>\n",
       "      <td>Coffee-Mate Coffee Mix</td>\n",
       "      <td>Folgers Gourmet Selections Coconut Cream Pie Flavo</td>\n",
       "    </tr>\n",
       "    <tr>\n",
       "      <th>A13YHYM6FA6VJO</th>\n",
       "      <td>14</td>\n",
       "      <td>Lola Savannah Triple Vanilla Whole Bean</td>\n",
       "      <td>Lola Savannah Vanilla Cinnamon Pecan Whole Bean</td>\n",
       "      <td>Pecan Maple Nut</td>\n",
       "    </tr>\n",
       "    <tr>\n",
       "      <th>ANEDXRFDZDL18</th>\n",
       "      <td>46</td>\n",
       "      <td>Orange Flavored Coconut Patties Dipped in Chocolat</td>\n",
       "      <td>SToK Cold-Brew Iced Coffee</td>\n",
       "      <td>SToK Cold-Brew Iced Coffee</td>\n",
       "    </tr>\n",
       "    <tr>\n",
       "      <th>A1H3ATRIQ098I7</th>\n",
       "      <td>39</td>\n",
       "      <td>Brew La La Red Velvet Cupcake Coffee</td>\n",
       "      <td>Ola's Exotic Super Premium Coffee Organic Uganda B</td>\n",
       "      <td>Coffee Masters Gourmet Coffee</td>\n",
       "    </tr>\n",
       "    <tr>\n",
       "      <th>A3N8JE6CVB5YA4</th>\n",
       "      <td>17</td>\n",
       "      <td>Christopher Bean Coffee Whole Bean Coffee</td>\n",
       "      <td>Christopher Bean Coffee Decaffeinated Whole Bean C</td>\n",
       "      <td>Christopher Bean Coffee Decaffeinated Whole Bean F</td>\n",
       "    </tr>\n",
       "    <tr>\n",
       "      <th>A1D4FARNGLSPGW</th>\n",
       "      <td>38</td>\n",
       "      <td>Large Bahamian Rum Cake</td>\n",
       "      <td>Sincerely Nuts Sesame Sticks - One Lb. Bag - Fiber</td>\n",
       "      <td>Kirkland Signature Cashews</td>\n",
       "    </tr>\n",
       "    <tr>\n",
       "      <th>A2EUS0XXJUDBLS</th>\n",
       "      <td>24</td>\n",
       "      <td>Christopher Bean Coffee Ground Coffee</td>\n",
       "      <td>Hawaiian Isles Kona Coffee Co. Kona Classic Ground</td>\n",
       "      <td>Dark Chocolate Flavored Coating Chocolate Truffle</td>\n",
       "    </tr>\n",
       "    <tr>\n",
       "      <th>A2NLJJVA0IEK2S</th>\n",
       "      <td>21</td>\n",
       "      <td>Coffee Masters Flavored Coffee</td>\n",
       "      <td>Lays 15pk Hickory Sticks Original (47g / 1.6oz per</td>\n",
       "      <td>Albanese Confectionery Sugar Free Gummy Bears</td>\n",
       "    </tr>\n",
       "    <tr>\n",
       "      <th>A2LK2DENORQI8S</th>\n",
       "      <td>21</td>\n",
       "      <td>The Bean Coffee Company Organic Holiday Bean (Vani</td>\n",
       "      <td>Lola Savannah Angel Dust Ground</td>\n",
       "      <td>New England Coffee Blueberry Cobbler</td>\n",
       "    </tr>\n",
       "    <tr>\n",
       "      <th>A64LEAZ2QF8L2</th>\n",
       "      <td>24</td>\n",
       "      <td>Overcaf Coffee - Medium Roast Ground - High Caffei</td>\n",
       "      <td>Overcaf Coffee - Dark Roast Espresso Grind - High</td>\n",
       "      <td>Manischewitz Dark Chocolate Coins 0.53-Ounce Boxes</td>\n",
       "    </tr>\n",
       "  </tbody>\n",
       "</table>\n",
       "</div>"
      ],
      "text/plain": [
       "                len                                       last purchase  \\\n",
       "USER_ID                                                                   \n",
       "APHFL4MDJRGWB    35         Dunkin' Donuts Original Blend Ground Coffee   \n",
       "A13YHYM6FA6VJO   14             Lola Savannah Triple Vanilla Whole Bean   \n",
       "ANEDXRFDZDL18    46  Orange Flavored Coconut Patties Dipped in Chocolat   \n",
       "A1H3ATRIQ098I7   39                Brew La La Red Velvet Cupcake Coffee   \n",
       "A3N8JE6CVB5YA4   17           Christopher Bean Coffee Whole Bean Coffee   \n",
       "A1D4FARNGLSPGW   38                             Large Bahamian Rum Cake   \n",
       "A2EUS0XXJUDBLS   24               Christopher Bean Coffee Ground Coffee   \n",
       "A2NLJJVA0IEK2S   21                      Coffee Masters Flavored Coffee   \n",
       "A2LK2DENORQI8S   21  The Bean Coffee Company Organic Holiday Bean (Vani   \n",
       "A64LEAZ2QF8L2    24  Overcaf Coffee - Medium Roast Ground - High Caffei   \n",
       "\n",
       "                                               last but 1 purchase  \\\n",
       "USER_ID                                                              \n",
       "APHFL4MDJRGWB                               Coffee-Mate Coffee Mix   \n",
       "A13YHYM6FA6VJO     Lola Savannah Vanilla Cinnamon Pecan Whole Bean   \n",
       "ANEDXRFDZDL18                           SToK Cold-Brew Iced Coffee   \n",
       "A1H3ATRIQ098I7  Ola's Exotic Super Premium Coffee Organic Uganda B   \n",
       "A3N8JE6CVB5YA4  Christopher Bean Coffee Decaffeinated Whole Bean C   \n",
       "A1D4FARNGLSPGW  Sincerely Nuts Sesame Sticks - One Lb. Bag - Fiber   \n",
       "A2EUS0XXJUDBLS  Hawaiian Isles Kona Coffee Co. Kona Classic Ground   \n",
       "A2NLJJVA0IEK2S  Lays 15pk Hickory Sticks Original (47g / 1.6oz per   \n",
       "A2LK2DENORQI8S                     Lola Savannah Angel Dust Ground   \n",
       "A64LEAZ2QF8L2   Overcaf Coffee - Dark Roast Espresso Grind - High    \n",
       "\n",
       "                                               last but 2 purchase  \n",
       "USER_ID                                                             \n",
       "APHFL4MDJRGWB   Folgers Gourmet Selections Coconut Cream Pie Flavo  \n",
       "A13YHYM6FA6VJO                                     Pecan Maple Nut  \n",
       "ANEDXRFDZDL18                           SToK Cold-Brew Iced Coffee  \n",
       "A1H3ATRIQ098I7                       Coffee Masters Gourmet Coffee  \n",
       "A3N8JE6CVB5YA4  Christopher Bean Coffee Decaffeinated Whole Bean F  \n",
       "A1D4FARNGLSPGW                          Kirkland Signature Cashews  \n",
       "A2EUS0XXJUDBLS   Dark Chocolate Flavored Coating Chocolate Truffle  \n",
       "A2NLJJVA0IEK2S       Albanese Confectionery Sugar Free Gummy Bears  \n",
       "A2LK2DENORQI8S                New England Coffee Blueberry Cobbler  \n",
       "A64LEAZ2QF8L2   Manischewitz Dark Chocolate Coins 0.53-Ounce Boxes  "
      ]
     },
     "metadata": {},
     "output_type": "display_data"
    },
    {
     "name": "stdout",
     "output_type": "stream",
     "text": [
      "Wright's Natural Hickory Seasoning Liquid Smoke, 128 Ounce This seasoning is produced by burning fresh cut hickory chips, then condensing the smoke into a liquid form. The liquid smoke is then scrubbed and filtered to remove all impurities. Modern ovens and condensers are used to ensure consistent quality. This product is used in many top rate restaurants and dinners across the US. Statements regarding dietary supplements have not been evaluated by the FDA and are not intended to diagnose, treat, cure, or prevent any disease or health condition.\n"
     ]
    },
    {
     "data": {
      "text/html": [
       "<div>\n",
       "<style scoped>\n",
       "    .dataframe tbody tr th:only-of-type {\n",
       "        vertical-align: middle;\n",
       "    }\n",
       "\n",
       "    .dataframe tbody tr th {\n",
       "        vertical-align: top;\n",
       "    }\n",
       "\n",
       "    .dataframe thead th {\n",
       "        text-align: right;\n",
       "    }\n",
       "</style>\n",
       "<table border=\"1\" class=\"dataframe\">\n",
       "  <thead>\n",
       "    <tr style=\"text-align: right;\">\n",
       "      <th></th>\n",
       "      <th>len</th>\n",
       "      <th>last purchase</th>\n",
       "      <th>last but 1 purchase</th>\n",
       "      <th>last but 2 purchase</th>\n",
       "    </tr>\n",
       "    <tr>\n",
       "      <th>USER_ID</th>\n",
       "      <th></th>\n",
       "      <th></th>\n",
       "      <th></th>\n",
       "      <th></th>\n",
       "    </tr>\n",
       "  </thead>\n",
       "  <tbody>\n",
       "    <tr>\n",
       "      <th>A1MHK19QSCV8SY</th>\n",
       "      <td>41</td>\n",
       "      <td>Hoosier Hill Farm Prague Powder No.1 Pink Curing S</td>\n",
       "      <td>APPLE CIDER VINEGAR</td>\n",
       "      <td>Fleischmann's Instant Dry Yeast 1lb bag Dry Yeast.</td>\n",
       "    </tr>\n",
       "    <tr>\n",
       "      <th>A3F7NO1Q3RQ9Y0</th>\n",
       "      <td>24</td>\n",
       "      <td>Yankee Traders Brand Whole Allspice</td>\n",
       "      <td>Aji No Moto Ajinomoto Monosodium Glutamate Umami S</td>\n",
       "      <td>Hoosier Hill Farm Prague Powder No.1 Pink Curing S</td>\n",
       "    </tr>\n",
       "    <tr>\n",
       "      <th>A3N7L1ATRNRT8N</th>\n",
       "      <td>18</td>\n",
       "      <td>Hoosier Hill Farm Whole Caraway Seeds 1 lb Caraway</td>\n",
       "      <td>Hoosier Hill Farm Mustard Powder</td>\n",
       "      <td>McCormick Ground Cinnamon</td>\n",
       "    </tr>\n",
       "    <tr>\n",
       "      <th>AN1YQBPJ56SVV</th>\n",
       "      <td>27</td>\n",
       "      <td>Frontier Co-op Smoked Paprika Organic</td>\n",
       "      <td>Hoosier Hill Farm Chipotle Morita Powder</td>\n",
       "      <td>Singsong Korean Hot Pepper Coarse Type Powder</td>\n",
       "    </tr>\n",
       "    <tr>\n",
       "      <th>A3HLXZUVXPY6FJ</th>\n",
       "      <td>18</td>\n",
       "      <td>NESTLE COFFEE-MATE Coffee Creamer</td>\n",
       "      <td>Spiceology Ground Ancho Chile Powder | All-Natural</td>\n",
       "      <td>Spice Appeal Chipotle Chili Ground</td>\n",
       "    </tr>\n",
       "    <tr>\n",
       "      <th>A12MSGE788YU1O</th>\n",
       "      <td>7</td>\n",
       "      <td>Best Naturals Extra Virgin Coconut Oil 1300 mg 180</td>\n",
       "      <td>Wright's Natural Hickory Seasoning Liquid Smoke</td>\n",
       "      <td>20 Seeds Bhut Jolokia chilli Ghost Chilli Ghost Ch</td>\n",
       "    </tr>\n",
       "    <tr>\n",
       "      <th>A2U77Z3Z7DC9T9</th>\n",
       "      <td>124</td>\n",
       "      <td>Food to Live Yellow Mustard Seeds (Kosher) 5 Pound</td>\n",
       "      <td>100 Sheets (6.7oz) Dried Kelp Seaweed Nori Raw Uns</td>\n",
       "      <td>SB Oriental Hot Mustard Powder</td>\n",
       "    </tr>\n",
       "    <tr>\n",
       "      <th>A2WW9T8EEI8NU4</th>\n",
       "      <td>35</td>\n",
       "      <td>Frontier Garlic Powder</td>\n",
       "      <td>Wolf Chili Without Beans</td>\n",
       "      <td>Crystallized Ginger by D'Allesandro</td>\n",
       "    </tr>\n",
       "    <tr>\n",
       "      <th>A386U8H1AC4OI0</th>\n",
       "      <td>11</td>\n",
       "      <td>Colgin Liquid Smoke</td>\n",
       "      <td>Lee Kum Kee Hoisin Sauce</td>\n",
       "      <td>Badia Chili Powder Spice</td>\n",
       "    </tr>\n",
       "    <tr>\n",
       "      <th>A2XKW9FQRPPCHP</th>\n",
       "      <td>10</td>\n",
       "      <td>LEM Backwoods Cured Sausage Seasoning with Cure Pa</td>\n",
       "      <td>LEM Backwoods Cured Sausage Seasoning with Cure Pa</td>\n",
       "      <td>A.C. Legg Chorizo Sausage Seasoning {Chorizo is a</td>\n",
       "    </tr>\n",
       "  </tbody>\n",
       "</table>\n",
       "</div>"
      ],
      "text/plain": [
       "                len                                       last purchase  \\\n",
       "USER_ID                                                                   \n",
       "A1MHK19QSCV8SY   41  Hoosier Hill Farm Prague Powder No.1 Pink Curing S   \n",
       "A3F7NO1Q3RQ9Y0   24                 Yankee Traders Brand Whole Allspice   \n",
       "A3N7L1ATRNRT8N   18  Hoosier Hill Farm Whole Caraway Seeds 1 lb Caraway   \n",
       "AN1YQBPJ56SVV    27               Frontier Co-op Smoked Paprika Organic   \n",
       "A3HLXZUVXPY6FJ   18                   NESTLE COFFEE-MATE Coffee Creamer   \n",
       "A12MSGE788YU1O    7  Best Naturals Extra Virgin Coconut Oil 1300 mg 180   \n",
       "A2U77Z3Z7DC9T9  124  Food to Live Yellow Mustard Seeds (Kosher) 5 Pound   \n",
       "A2WW9T8EEI8NU4   35                              Frontier Garlic Powder   \n",
       "A386U8H1AC4OI0   11                                 Colgin Liquid Smoke   \n",
       "A2XKW9FQRPPCHP   10  LEM Backwoods Cured Sausage Seasoning with Cure Pa   \n",
       "\n",
       "                                               last but 1 purchase  \\\n",
       "USER_ID                                                              \n",
       "A1MHK19QSCV8SY                                 APPLE CIDER VINEGAR   \n",
       "A3F7NO1Q3RQ9Y0  Aji No Moto Ajinomoto Monosodium Glutamate Umami S   \n",
       "A3N7L1ATRNRT8N                    Hoosier Hill Farm Mustard Powder   \n",
       "AN1YQBPJ56SVV             Hoosier Hill Farm Chipotle Morita Powder   \n",
       "A3HLXZUVXPY6FJ  Spiceology Ground Ancho Chile Powder | All-Natural   \n",
       "A12MSGE788YU1O     Wright's Natural Hickory Seasoning Liquid Smoke   \n",
       "A2U77Z3Z7DC9T9  100 Sheets (6.7oz) Dried Kelp Seaweed Nori Raw Uns   \n",
       "A2WW9T8EEI8NU4                            Wolf Chili Without Beans   \n",
       "A386U8H1AC4OI0                            Lee Kum Kee Hoisin Sauce   \n",
       "A2XKW9FQRPPCHP  LEM Backwoods Cured Sausage Seasoning with Cure Pa   \n",
       "\n",
       "                                               last but 2 purchase  \n",
       "USER_ID                                                             \n",
       "A1MHK19QSCV8SY  Fleischmann's Instant Dry Yeast 1lb bag Dry Yeast.  \n",
       "A3F7NO1Q3RQ9Y0  Hoosier Hill Farm Prague Powder No.1 Pink Curing S  \n",
       "A3N7L1ATRNRT8N                           McCormick Ground Cinnamon  \n",
       "AN1YQBPJ56SVV        Singsong Korean Hot Pepper Coarse Type Powder  \n",
       "A3HLXZUVXPY6FJ                  Spice Appeal Chipotle Chili Ground  \n",
       "A12MSGE788YU1O  20 Seeds Bhut Jolokia chilli Ghost Chilli Ghost Ch  \n",
       "A2U77Z3Z7DC9T9                      SB Oriental Hot Mustard Powder  \n",
       "A2WW9T8EEI8NU4                 Crystallized Ginger by D'Allesandro  \n",
       "A386U8H1AC4OI0                            Badia Chili Powder Spice  \n",
       "A2XKW9FQRPPCHP  A.C. Legg Chorizo Sausage Seasoning {Chorizo is a   "
      ]
     },
     "metadata": {},
     "output_type": "display_data"
    },
    {
     "name": "stdout",
     "output_type": "stream",
     "text": [
      "Letter C - Swarovski Crystal Monogram Wedding Cake Topper Letter Jazz up your cakes with a sparkling monogram from our Sparkling collection! These single letter monograms are silver plated covered in crystal rhinestones and come in several sizes for your convenience. You can use these simple yet elegant monogram cake toppers to make a Sweet 16 even sweeter or use them for a wedding cake to make the cake more special.\n"
     ]
    },
    {
     "data": {
      "text/html": [
       "<div>\n",
       "<style scoped>\n",
       "    .dataframe tbody tr th:only-of-type {\n",
       "        vertical-align: middle;\n",
       "    }\n",
       "\n",
       "    .dataframe tbody tr th {\n",
       "        vertical-align: top;\n",
       "    }\n",
       "\n",
       "    .dataframe thead th {\n",
       "        text-align: right;\n",
       "    }\n",
       "</style>\n",
       "<table border=\"1\" class=\"dataframe\">\n",
       "  <thead>\n",
       "    <tr style=\"text-align: right;\">\n",
       "      <th></th>\n",
       "      <th>len</th>\n",
       "      <th>last purchase</th>\n",
       "      <th>last but 1 purchase</th>\n",
       "      <th>last but 2 purchase</th>\n",
       "    </tr>\n",
       "    <tr>\n",
       "      <th>USER_ID</th>\n",
       "      <th></th>\n",
       "      <th></th>\n",
       "      <th></th>\n",
       "      <th></th>\n",
       "    </tr>\n",
       "  </thead>\n",
       "  <tbody>\n",
       "    <tr>\n",
       "      <th>AC7O52PQ4HPYR</th>\n",
       "      <td>6</td>\n",
       "      <td>Rhinestone Cake Topper Number 7 by other This deli</td>\n",
       "      <td>Rhinestone Cake Topper Number 5 This delicate and</td>\n",
       "      <td>Rhinestone Cake Topper Number 8 by other This deli</td>\n",
       "    </tr>\n",
       "    <tr>\n",
       "      <th>A2814L9UEC63JC</th>\n",
       "      <td>14</td>\n",
       "      <td>Oasis Supply Swimming Pool Cake Decorating Kit</td>\n",
       "      <td>SAILOR MOON 8 Piece CUPCAKE Topper Set Featuring 6</td>\n",
       "      <td>Lucky Beckoning Cat Maneki Neko Fortune Japanese K</td>\n",
       "    </tr>\n",
       "    <tr>\n",
       "      <th>A3RLEN577P4E3M</th>\n",
       "      <td>23</td>\n",
       "      <td>All About Details Black Happy-75th-birthday Cake T</td>\n",
       "      <td>Grocery Gourmet Food\" /&gt; Spend the morning with th</td>\n",
       "      <td>Hinterland Trading Five Pack Guatemalan Air Plants</td>\n",
       "    </tr>\n",
       "    <tr>\n",
       "      <th>A2XZ57YVN4SLOG</th>\n",
       "      <td>12</td>\n",
       "      <td>Finally 21 Girl - 21st Birthday Cupcake Wrapper an</td>\n",
       "      <td>Lorann Oils Meringue Powder</td>\n",
       "      <td>12 Food Color Chefmaster by US Cake Supply 2.3-Oun</td>\n",
       "    </tr>\n",
       "    <tr>\n",
       "      <th>A2XERDJ6I2K38U</th>\n",
       "      <td>19</td>\n",
       "      <td>Wilton Decorator Preferred Green Fondant</td>\n",
       "      <td>Wilton Decorator Preferred Red Fondant</td>\n",
       "      <td>Wilton Decorator Preferred Red Fondant</td>\n",
       "    </tr>\n",
       "    <tr>\n",
       "      <th>A35JVJVRFVWGH3</th>\n",
       "      <td>10</td>\n",
       "      <td>Rhinestone Cake Topper Number 1 This delicate and</td>\n",
       "      <td>Skratch Labs Cookie Mix 13.9oz (393g) Wyoming's Wi</td>\n",
       "      <td>Fondarific Cherry Fondant</td>\n",
       "    </tr>\n",
       "    <tr>\n",
       "      <th>A275LX4CBRALIX</th>\n",
       "      <td>18</td>\n",
       "      <td>Carma Massa Ticcino - Rolling Fondant</td>\n",
       "      <td>Unflavored Gelatin - 1 lb An odorless</td>\n",
       "      <td>Ultra-Moist Super Chocolate Cake Mix</td>\n",
       "    </tr>\n",
       "    <tr>\n",
       "      <th>A1474SH2RB49MP</th>\n",
       "      <td>5</td>\n",
       "      <td>Assorted Snowflake Sugar Decorations Disney Movie</td>\n",
       "      <td>Darice VL3L Mirror Acrylic Initial Letter Cake Top</td>\n",
       "      <td>Edible Snowflakes Sugar Decorations (15 pc).</td>\n",
       "    </tr>\n",
       "    <tr>\n",
       "      <th>A2HYNYUT5WAQQD</th>\n",
       "      <td>11</td>\n",
       "      <td>Large Gold 50 th Birthday Wedding Anniversary Numb</td>\n",
       "      <td>Music Notes Edible Cake Border Decoration Edible c</td>\n",
       "      <td>RuiChy Fondant Silicone Cake Decoration Mould Pack</td>\n",
       "    </tr>\n",
       "    <tr>\n",
       "      <th>A15HEQMAEIBWYZ</th>\n",
       "      <td>4</td>\n",
       "      <td>MagiDeal MrMrs Wooden Cake Toppers Wedding Party C</td>\n",
       "      <td>Lulu Sparkles LLC Gold Tone Mr Mrs Rhinestone Crys</td>\n",
       "      <td>Custom Personalized Mr Mrs Wedding Cake Topper Wit</td>\n",
       "    </tr>\n",
       "  </tbody>\n",
       "</table>\n",
       "</div>"
      ],
      "text/plain": [
       "                len                                       last purchase  \\\n",
       "USER_ID                                                                   \n",
       "AC7O52PQ4HPYR     6  Rhinestone Cake Topper Number 7 by other This deli   \n",
       "A2814L9UEC63JC   14      Oasis Supply Swimming Pool Cake Decorating Kit   \n",
       "A3RLEN577P4E3M   23  All About Details Black Happy-75th-birthday Cake T   \n",
       "A2XZ57YVN4SLOG   12  Finally 21 Girl - 21st Birthday Cupcake Wrapper an   \n",
       "A2XERDJ6I2K38U   19            Wilton Decorator Preferred Green Fondant   \n",
       "A35JVJVRFVWGH3   10  Rhinestone Cake Topper Number 1 This delicate and    \n",
       "A275LX4CBRALIX   18               Carma Massa Ticcino - Rolling Fondant   \n",
       "A1474SH2RB49MP    5  Assorted Snowflake Sugar Decorations Disney Movie    \n",
       "A2HYNYUT5WAQQD   11  Large Gold 50 th Birthday Wedding Anniversary Numb   \n",
       "A15HEQMAEIBWYZ    4  MagiDeal MrMrs Wooden Cake Toppers Wedding Party C   \n",
       "\n",
       "                                               last but 1 purchase  \\\n",
       "USER_ID                                                              \n",
       "AC7O52PQ4HPYR   Rhinestone Cake Topper Number 5 This delicate and    \n",
       "A2814L9UEC63JC  SAILOR MOON 8 Piece CUPCAKE Topper Set Featuring 6   \n",
       "A3RLEN577P4E3M  Grocery Gourmet Food\" /> Spend the morning with th   \n",
       "A2XZ57YVN4SLOG                         Lorann Oils Meringue Powder   \n",
       "A2XERDJ6I2K38U              Wilton Decorator Preferred Red Fondant   \n",
       "A35JVJVRFVWGH3  Skratch Labs Cookie Mix 13.9oz (393g) Wyoming's Wi   \n",
       "A275LX4CBRALIX               Unflavored Gelatin - 1 lb An odorless   \n",
       "A1474SH2RB49MP  Darice VL3L Mirror Acrylic Initial Letter Cake Top   \n",
       "A2HYNYUT5WAQQD  Music Notes Edible Cake Border Decoration Edible c   \n",
       "A15HEQMAEIBWYZ  Lulu Sparkles LLC Gold Tone Mr Mrs Rhinestone Crys   \n",
       "\n",
       "                                               last but 2 purchase  \n",
       "USER_ID                                                             \n",
       "AC7O52PQ4HPYR   Rhinestone Cake Topper Number 8 by other This deli  \n",
       "A2814L9UEC63JC  Lucky Beckoning Cat Maneki Neko Fortune Japanese K  \n",
       "A3RLEN577P4E3M  Hinterland Trading Five Pack Guatemalan Air Plants  \n",
       "A2XZ57YVN4SLOG  12 Food Color Chefmaster by US Cake Supply 2.3-Oun  \n",
       "A2XERDJ6I2K38U              Wilton Decorator Preferred Red Fondant  \n",
       "A35JVJVRFVWGH3                           Fondarific Cherry Fondant  \n",
       "A275LX4CBRALIX                Ultra-Moist Super Chocolate Cake Mix  \n",
       "A1474SH2RB49MP        Edible Snowflakes Sugar Decorations (15 pc).  \n",
       "A2HYNYUT5WAQQD  RuiChy Fondant Silicone Cake Decoration Mould Pack  \n",
       "A15HEQMAEIBWYZ  Custom Personalized Mr Mrs Wedding Cake Topper Wit  "
      ]
     },
     "metadata": {},
     "output_type": "display_data"
    }
   ],
   "source": [
    "for item in [\"B0000CEUSQ\",\"B0000TA3SK\",\"1888861118\"]:\n",
    "    print_query_item_user_len_user_last(\n",
    "    item,detail.loc[item])"
   ]
  },
  {
   "cell_type": "markdown",
   "metadata": {},
   "source": [
    "La primera tabla muestra los resultados de una búsqueda de segmentación para café de pan de jengibre, un elemento que podríamos querer promocionar en la época de festividades. La mayor parte de los usuarios que identificamos son, evidentemente, bebedores de café y compraron café y sustitutos de crema para café hace poco. De manera interesante, el elemento que buscamos es café de grano entero, no café molido. Vemos en el historial del elemento que, donde la información está disponible, los usuarios compraron un café de grano entero hace poco. \n",
    "\n",
    "La tabla siguiente muestra una búsqueda de segmentación para humo líquido de nogal americano, un condimento utilizado para barbacoas y curado de tocino. Vemos una cantidad de productos alimenticios diferentes que pueden acompañar a la barbacoa en las compras recientes de estos usuarios: salsas para barbacoa, condimentos y salsa picante. Dos de los usuarios compraron hace poco polvo de Praga nro. 1, una sal rosa de curado, un producto que se utiliza para curar tocino. Estos dos usuarios podrían no haber aparecido si dependiéramos de reglas para identificar a personas interesadas en asar a la parrilla.\n",
    "\n",
    "El tercer ejemplo muestra una búsqueda de segmentación para una decoración utilizada para cubrir tortas. Observamos que los usuarios identificados no solo son pasteleros, sino que, claramente, están interesados en decorar sus productos horneados. Vemos otras compras recientes como muñecos para tortas, decoraciones comestibles y fondant (una pasta para recubrir tortas)."
   ]
  },
  {
   "cell_type": "markdown",
   "metadata": {},
   "source": [
    "También, podemos ejecutar la misma búsqueda en los 10 elementos:"
   ]
  },
  {
   "cell_type": "code",
   "execution_count": 63,
   "metadata": {},
   "outputs": [],
   "source": [
    "# this prints results for all 10 query items\n",
    "# for item in detail.index:\n",
    "#     print_query_item_user_len_user_last(\n",
    "#     item,detail.loc[item])"
   ]
  },
  {
   "cell_type": "markdown",
   "metadata": {},
   "source": [
    "## 4. Filtre\n",
    "Para completitud, mostraremos un ejemplo con filtros."
   ]
  },
  {
   "cell_type": "code",
   "execution_count": 65,
   "metadata": {},
   "outputs": [],
   "source": [
    "# create_filter_response = personalize.create_filter(\n",
    "#     name = \"notebook-sample-user-filter\",\n",
    "#     datasetGroupArn = dataset_group_arn,\n",
    "#     filterExpression = \"exclude UserId where users.country in (\\\"England\\\", \\\"Japan購入\\\")\"\n",
    "# )\n",
    "# filter_arn = create_filter_response['filterArn']\n",
    "# print(filter_arn)"
   ]
  },
  {
   "cell_type": "markdown",
   "metadata": {},
   "source": [
    "### explicación:\n",
    "\n",
    "Sin filtrar: \n",
    "```\n",
    "{\"input\": {\"itemId\": \"1\"}, \"output\": {\"usersList\": [\"61\",\"22\",\"57\",\"72\",\"26\",\"41\",\"33\",\"4\",\"34\",\"43\"]}, \"error\": null}\n",
    "{\"input\": {\"itemId\": \"110\"}, \"output\": {\"usersList\": [\"34\",\"72\",\"41\",\"26\",\"21\",\"22\",\"4\",\"61\",\"57\",\"38\"]}, \"error\": null}\n",
    "{\"input\": {\"itemId\": \"235\"}, \"output\": {\"usersList\": [\"57\",\"61\",\"33\",\"22\",\"4\",\"34\",\"26\",\"72\",\"8\",\"5\"]}, \"error\": null}\n",
    "```\n",
    "\n",
    "El filtro es para `exclude user.Country in 'England' or 'Japan購入'`\n",
    "```\n",
    "61         : Japón購入\n",
    "4, 22, 72  : Inglaterra\n",
    "```\n"
   ]
  },
  {
   "cell_type": "markdown",
   "metadata": {},
   "source": [
    "# Afinidad de atributos de elementos\n",
    "\n",
    "A continuación, utilizaremos los mismos datos de Amazon Prime Pantry para ejecutar la receta de afinidad de atributos de elementos. El proceso ser verá familiar; sin embargo, esta vez en vez de buscar un elemento en particular, buscaremos un atributo en los metadatos de elementos. La solución identificará a los usuarios que son más propensos a interactuar con los elementos que tienen ese atributo."
   ]
  },
  {
   "cell_type": "markdown",
   "metadata": {},
   "source": [
    "## 1. Crear un grupo de conjunto de datos, conjuntos de datos y conjuntos de datos de carga"
   ]
  },
  {
   "cell_type": "markdown",
   "metadata": {},
   "source": [
    "### 1.1 Cree un esquema"
   ]
  },
  {
   "cell_type": "markdown",
   "metadata": {},
   "source": [
    "El esquema de datos de interacción para la receta de atributos de elementos es el mismo que el que creamos para la receta de elementos. Solo necesitamos crear un esquema para los metadatos para que incluyan características categóricas para usarlas como atributos que emplearemos para buscar resultados. Incluiremos la marca, la categoría principal, la categoría y el precio."
   ]
  },
  {
   "cell_type": "code",
   "execution_count": 66,
   "metadata": {},
   "outputs": [
    {
     "name": "stdout",
     "output_type": "stream",
     "text": [
      "arn:aws:personalize:us-west-2:144386903708:schema/amazon-grocery-meta-item-schema-demo\n"
     ]
    }
   ],
   "source": [
    "items_schema = {\n",
    "    \"type\": \"record\",\n",
    "    \"name\": \"Items\",\n",
    "    \"namespace\": \"com.amazonaws.personalize.schema\",\n",
    "    \"fields\": [\n",
    "        {\n",
    "            \"name\": \"ITEM_ID\",\n",
    "            \"type\": \"string\"\n",
    "        },\n",
    "        {\n",
    "            \"name\": \"CATEGORY\",\n",
    "            \"type\": [\"null\", \"string\"],\n",
    "            \"categorical\": True\n",
    "        },\n",
    "        {\n",
    "            \"name\": \"BRAND\",\n",
    "            \"type\": [\"null\", \"string\"],\n",
    "            \"categorical\": True\n",
    "        },\n",
    "        {\n",
    "            \"name\": \"MAIN_CAT\",\n",
    "            \"type\": [\"null\", \"string\"],\n",
    "            \"categorical\": True\n",
    "        },\n",
    "        {\n",
    "            \"name\": \"PRICE\",\n",
    "            \"type\": [ \"null\", \"float\" ],\n",
    "        }\n",
    "    ],\n",
    "    \"version\": \"1.0\"\n",
    "}\n",
    "create_schema_response = personalize.create_schema(\n",
    "    name = \"amazon-grocery-meta-item-schema-demo\",\n",
    "    schema = json.dumps(items_schema)\n",
    ")\n",
    "\n",
    "items_schema_arn = create_schema_response['schemaArn']\n",
    "print(items_schema_arn)"
   ]
  },
  {
   "cell_type": "markdown",
   "metadata": {},
   "source": [
    "### 1.2 Cree un grupo de conjunto de datos"
   ]
  },
  {
   "cell_type": "code",
   "execution_count": null,
   "metadata": {},
   "outputs": [],
   "source": [
    "create_dataset_group_response = personalize.create_dataset_group(\n",
    "    name = \"amazon-grocery-attr-meta-demo\"\n",
    ")\n",
    "\n",
    "dataset_group_arn = create_dataset_group_response['datasetGroupArn']\n",
    "print(dataset_group_arn)"
   ]
  },
  {
   "cell_type": "markdown",
   "metadata": {},
   "source": [
    "#### Esperar a que el grupo de conjunto de datos tenga estado ACTIVO"
   ]
  },
  {
   "cell_type": "code",
   "execution_count": 68,
   "metadata": {},
   "outputs": [
    {
     "name": "stdout",
     "output_type": "stream",
     "text": [
      "DatasetGroup: CREATE PENDING\n",
      "DatasetGroup: ACTIVE\n"
     ]
    }
   ],
   "source": [
    "wait_for_dataset_group_job(dataset_group_arn)"
   ]
  },
  {
   "cell_type": "markdown",
   "metadata": {},
   "source": [
    "### 1.3 Cree conjuntos de datos"
   ]
  },
  {
   "cell_type": "code",
   "execution_count": 70,
   "metadata": {},
   "outputs": [
    {
     "name": "stdout",
     "output_type": "stream",
     "text": [
      "arn:aws:personalize:us-west-2:144386903708:dataset/amazon-grocery-attr-meta-demo/INTERACTIONS\n"
     ]
    }
   ],
   "source": [
    "create_dataset_response = personalize.create_dataset(\n",
    "    name = \"interactions\",\n",
    "    datasetType = \"INTERACTIONS\",\n",
    "    datasetGroupArn = dataset_group_arn,\n",
    "    schemaArn = interactions_schema_arn\n",
    ")\n",
    "\n",
    "interactions_dataset_arn = create_dataset_response['datasetArn']\n",
    "print(interactions_dataset_arn)"
   ]
  },
  {
   "cell_type": "code",
   "execution_count": 71,
   "metadata": {},
   "outputs": [
    {
     "name": "stdout",
     "output_type": "stream",
     "text": [
      "arn:aws:personalize:us-west-2:144386903708:dataset/amazon-grocery-attr-meta-demo/ITEMS\n"
     ]
    }
   ],
   "source": [
    "create_dataset_response = personalize.create_dataset(\n",
    "    name = \"items\",\n",
    "    datasetType = \"ITEMS\",\n",
    "    datasetGroupArn = dataset_group_arn,\n",
    "    schemaArn = items_schema_arn\n",
    ")\n",
    "\n",
    "items_dataset_arn = create_dataset_response['datasetArn']\n",
    "print(items_dataset_arn)"
   ]
  },
  {
   "cell_type": "markdown",
   "metadata": {},
   "source": [
    "### 1.4 Cree un trabajo de importación de conjuntos de datos"
   ]
  },
  {
   "cell_type": "code",
   "execution_count": 72,
   "metadata": {},
   "outputs": [],
   "source": [
    "#Lets upload the dataset into S3\n",
    "\n",
    "boto3.Session().resource('s3').Bucket(bucket_name).Object(items_meta_filename).upload_file(items_meta_filename)\n",
    "items_s3_url = \"s3://\"+bucket_name+\"/\"+items_meta_filename"
   ]
  },
  {
   "cell_type": "markdown",
   "metadata": {},
   "source": [
    "### 1.5 Cree un trabajo de importación de conjuntos de datos"
   ]
  },
  {
   "cell_type": "markdown",
   "metadata": {},
   "source": [
    "#### 1.5.1 Cree un trabajo de importación con el rol especificado en 1.4.2 y los datos preparados en 1.4.3"
   ]
  },
  {
   "cell_type": "code",
   "execution_count": 75,
   "metadata": {},
   "outputs": [
    {
     "name": "stdout",
     "output_type": "stream",
     "text": [
      "arn:aws:personalize:us-west-2:144386903708:dataset-import-job/notebook-item-attr-inters-import\n",
      "DatasetImportJob: CREATE PENDING\n",
      "DatasetImportJob: CREATE IN_PROGRESS\n",
      "DatasetImportJob: CREATE IN_PROGRESS\n",
      "DatasetImportJob: ACTIVE\n"
     ]
    }
   ],
   "source": [
    "import_dataset(\"notebook-item-attr-inters-import\", interactions_dataset_arn, interactions_s3_url, role_arn)"
   ]
  },
  {
   "cell_type": "code",
   "execution_count": null,
   "metadata": {},
   "outputs": [
    {
     "name": "stdout",
     "output_type": "stream",
     "text": [
      "arn:aws:personalize:us-west-2:144386903708:dataset-import-job/notebook-item-attr-meta-import\n",
      "DatasetImportJob: CREATE PENDING\n",
      "DatasetImportJob: CREATE IN_PROGRESS\n"
     ]
    }
   ],
   "source": [
    "import_dataset(\"notebook-item-attr-meta-import\", items_dataset_arn, items_s3_url, role_arn)"
   ]
  },
  {
   "cell_type": "markdown",
   "metadata": {},
   "source": [
    "## 2. Cree la solución"
   ]
  },
  {
   "cell_type": "markdown",
   "metadata": {},
   "source": [
    "### 2.1 Seleccione la receta de afinidad de elementos"
   ]
  },
  {
   "cell_type": "code",
   "execution_count": 78,
   "metadata": {},
   "outputs": [],
   "source": [
    "item_attri_user_recipe = 'arn:aws:personalize:::recipe/aws-item-attribute-affinity'"
   ]
  },
  {
   "cell_type": "markdown",
   "metadata": {},
   "source": [
    "### 2.2 Cree la solución"
   ]
  },
  {
   "cell_type": "code",
   "execution_count": 79,
   "metadata": {},
   "outputs": [],
   "source": [
    "create_solution_response = personalize.create_solution(\n",
    "    name = \"item-attr-affinity-amazon-grocery-demo\",\n",
    "    datasetGroupArn = dataset_group_arn,\n",
    "    recipeArn = item_attri_user_recipe,\n",
    ")\n",
    "solution_arn = create_solution_response['solutionArn']"
   ]
  },
  {
   "cell_type": "code",
   "execution_count": 80,
   "metadata": {},
   "outputs": [
    {
     "data": {
      "text/plain": [
       "{'solution': {'name': 'item-attr-affinity-amazon-grocery-demo',\n",
       "  'solutionArn': 'arn:aws:personalize:us-west-2:144386903708:solution/item-attr-affinity-amazon-grocery-demo',\n",
       "  'performHPO': False,\n",
       "  'performAutoML': False,\n",
       "  'recipeArn': 'arn:aws:personalize:::recipe/aws-item-attribute-affinity',\n",
       "  'datasetGroupArn': 'arn:aws:personalize:us-west-2:144386903708:dataset-group/amazon-grocery-attr-meta-demo',\n",
       "  'status': 'ACTIVE',\n",
       "  'creationDateTime': datetime.datetime(2021, 11, 28, 22, 24, 39, 700000, tzinfo=tzlocal()),\n",
       "  'lastUpdatedDateTime': datetime.datetime(2021, 11, 28, 22, 24, 39, 700000, tzinfo=tzlocal())},\n",
       " 'ResponseMetadata': {'RequestId': '8bd97721-a8c3-4c70-8820-4c3131e600a6',\n",
       "  'HTTPStatusCode': 200,\n",
       "  'HTTPHeaders': {'content-type': 'application/x-amz-json-1.1',\n",
       "   'date': 'Sun, 28 Nov 2021 22:24:41 GMT',\n",
       "   'x-amzn-requestid': '8bd97721-a8c3-4c70-8820-4c3131e600a6',\n",
       "   'content-length': '477',\n",
       "   'connection': 'keep-alive'},\n",
       "  'RetryAttempts': 0}}"
      ]
     },
     "execution_count": 80,
     "metadata": {},
     "output_type": "execute_result"
    }
   ],
   "source": [
    "personalize.describe_solution(solutionArn = solution_arn)"
   ]
  },
  {
   "cell_type": "markdown",
   "metadata": {},
   "source": [
    "### 2.3 Cree la versión de la solución"
   ]
  },
  {
   "cell_type": "code",
   "execution_count": 81,
   "metadata": {},
   "outputs": [
    {
     "name": "stdout",
     "output_type": "stream",
     "text": [
      "arn:aws:personalize:us-west-2:144386903708:solution/item-attr-affinity-amazon-grocery-demo/9bb1bcbb\n"
     ]
    }
   ],
   "source": [
    "create_solution_version_response = personalize.create_solution_version(\n",
    "    solutionArn = solution_arn\n",
    ")\n",
    "solution_version_arn = create_solution_version_response['solutionVersionArn']\n",
    "print(solution_version_arn)"
   ]
  },
  {
   "cell_type": "markdown",
   "metadata": {},
   "source": [
    "#### Esperar a que la versión de la solución esté ACTIVA"
   ]
  },
  {
   "cell_type": "code",
   "execution_count": 83,
   "metadata": {},
   "outputs": [
    {
     "name": "stdout",
     "output_type": "stream",
     "text": [
      "SolutionVersion: ACTIVE\n",
      "Time took: 3:41:37.548000\n"
     ]
    }
   ],
   "source": [
    "wait_for_solution_version_job(solution_version_arn)"
   ]
  },
  {
   "cell_type": "markdown",
   "metadata": {},
   "source": [
    "### 2.4 Obtenga las métricas"
   ]
  },
  {
   "cell_type": "code",
   "execution_count": 84,
   "metadata": {},
   "outputs": [
    {
     "name": "stdout",
     "output_type": "stream",
     "text": [
      "{'coverage': 0.2886, 'hits_at_1_percent': 19.7648, 'recall_at_1_percent': 0.0674}\n"
     ]
    }
   ],
   "source": [
    "get_solution_metrics_response = personalize.get_solution_metrics(solutionVersionArn=solution_version_arn)\n",
    "print(get_solution_metrics_response['metrics'])"
   ]
  },
  {
   "cell_type": "markdown",
   "metadata": {},
   "source": [
    "## 3. Cree un trabajo de segmentación por lotes"
   ]
  },
  {
   "cell_type": "markdown",
   "metadata": {},
   "source": [
    "### 3.1 Prepare los datos de búsqueda de entrada"
   ]
  },
  {
   "cell_type": "markdown",
   "metadata": {},
   "source": [
    "Veamos algunos ejemplos de búsquedas"
   ]
  },
  {
   "cell_type": "code",
   "execution_count": 85,
   "metadata": {},
   "outputs": [
    {
     "data": {
      "text/plain": [
       "'{\"itemAttributes\":\"ITEMS.CATEGORY = \\\\\"Candy & Chocolate\\\\\"\"}\\n{\"itemAttributes\":\"ITEMS.CATEGORY = \\\\\"Coffee, Tea & Cocoa\\\\\"\"}\\n{\"itemAttributes\":\"ITEMS.CATEGORY = \\\\\"Dried Vegetables\\\\\"\"}\\n{\"itemAttributes\":\"ITEMS.BRAND = \\\\\"Starbucks\\\\\"\"}\\n{\"itemAttributes\":\"ITEMS.BRAND = \\\\\"Jelly Belly\\\\\"\"}'"
      ]
     },
     "execution_count": 85,
     "metadata": {},
     "output_type": "execute_result"
    }
   ],
   "source": [
    "attr_query='{\"itemAttributes\":\"ITEMS.CATEGORY = \\\\\"Candy & Chocolate\\\\\"\"}\\n{\"itemAttributes\":\"ITEMS.CATEGORY = \\\\\"Coffee, Tea & Cocoa\\\\\"\"}\\n{\"itemAttributes\":\"ITEMS.CATEGORY = \\\\\"Dried Vegetables\\\\\"\"}\\n{\"itemAttributes\":\"ITEMS.BRAND = \\\\\"Starbucks\\\\\"\"}\\n{\"itemAttributes\":\"ITEMS.BRAND = \\\\\"Jelly Belly\\\\\"\"}'\n",
    "attr_query"
   ]
  },
  {
   "cell_type": "code",
   "execution_count": 86,
   "metadata": {},
   "outputs": [],
   "source": [
    "with open(\"query-amazon-grocery-attribute.json\", \"w\") as f:\n",
    "    f.write(attr_query)"
   ]
  },
  {
   "cell_type": "code",
   "execution_count": 87,
   "metadata": {},
   "outputs": [
    {
     "data": {
      "text/html": [
       "<div>\n",
       "<style scoped>\n",
       "    .dataframe tbody tr th:only-of-type {\n",
       "        vertical-align: middle;\n",
       "    }\n",
       "\n",
       "    .dataframe tbody tr th {\n",
       "        vertical-align: top;\n",
       "    }\n",
       "\n",
       "    .dataframe thead th {\n",
       "        text-align: right;\n",
       "    }\n",
       "</style>\n",
       "<table border=\"1\" class=\"dataframe\">\n",
       "  <thead>\n",
       "    <tr style=\"text-align: right;\">\n",
       "      <th></th>\n",
       "      <th>itemAttributes</th>\n",
       "    </tr>\n",
       "  </thead>\n",
       "  <tbody>\n",
       "    <tr>\n",
       "      <th>0</th>\n",
       "      <td>ITEMS.CATEGORY = \"Candy &amp; Chocolate\"</td>\n",
       "    </tr>\n",
       "    <tr>\n",
       "      <th>1</th>\n",
       "      <td>ITEMS.CATEGORY = \"Coffee, Tea &amp; Cocoa\"</td>\n",
       "    </tr>\n",
       "    <tr>\n",
       "      <th>2</th>\n",
       "      <td>ITEMS.CATEGORY = \"Dried Vegetables\"</td>\n",
       "    </tr>\n",
       "    <tr>\n",
       "      <th>3</th>\n",
       "      <td>ITEMS.BRAND = \"Starbucks\"</td>\n",
       "    </tr>\n",
       "    <tr>\n",
       "      <th>4</th>\n",
       "      <td>ITEMS.BRAND = \"Jelly Belly\"</td>\n",
       "    </tr>\n",
       "  </tbody>\n",
       "</table>\n",
       "</div>"
      ],
      "text/plain": [
       "                           itemAttributes\n",
       "0    ITEMS.CATEGORY = \"Candy & Chocolate\"\n",
       "1  ITEMS.CATEGORY = \"Coffee, Tea & Cocoa\"\n",
       "2     ITEMS.CATEGORY = \"Dried Vegetables\"\n",
       "3               ITEMS.BRAND = \"Starbucks\"\n",
       "4             ITEMS.BRAND = \"Jelly Belly\""
      ]
     },
     "execution_count": 87,
     "metadata": {},
     "output_type": "execute_result"
    }
   ],
   "source": [
    "pd.read_json(\"query-amazon-grocery-attribute.json\",lines = True)"
   ]
  },
  {
   "cell_type": "code",
   "execution_count": 88,
   "metadata": {},
   "outputs": [
    {
     "name": "stdout",
     "output_type": "stream",
     "text": [
      "{\"itemAttributes\":\"ITEMS.CATEGORY = \\\"Candy & Chocolate\\\"\"}\n",
      "{\"itemAttributes\":\"ITEMS.CATEGORY = \\\"Coffee, Tea & Cocoa\\\"\"}\n",
      "{\"itemAttributes\":\"ITEMS.CATEGORY = \\\"Dried Vegetables\\\"\"}\n",
      "{\"itemAttributes\":\"ITEMS.BRAND = \\\"Starbucks\\\"\"}\n",
      "{\"itemAttributes\":\"ITEMS.BRAND = \\\"Jelly Belly\\\"\"}\n"
     ]
    }
   ],
   "source": [
    "batch_file_name = 'query-amazon-grocery-attribute.json'\n",
    "boto3.Session().resource('s3').Bucket(bucket_name).Object(batch_file_name).upload_file(batch_file_name)\n",
    "batch_input_path = \"s3://\"+bucket_name+\"/\"+batch_file_name\n",
    "batch_output_path = \"s3://\"+bucket_name+\"/output/\"\n",
    "print_s3_file_content(bucket=bucket_name, key=batch_file_name,limit=10)\n",
    "# these are the file contents"
   ]
  },
  {
   "cell_type": "markdown",
   "metadata": {},
   "source": [
    "### 3.2 Cree un trabajo de segmentación por lotes\n",
    "Tenga en cuenta que limitamos los resultados a 10 usuarios por trabajo de segmentación."
   ]
  },
  {
   "cell_type": "code",
   "execution_count": 90,
   "metadata": {},
   "outputs": [
    {
     "name": "stdout",
     "output_type": "stream",
     "text": [
      "arn:aws:personalize:us-west-2:144386903708:batch-segment-job/amazon-grocery-attribute-demo\n"
     ]
    }
   ],
   "source": [
    "# change the jobName if already exists\n",
    "create_batch_segment_response = personalize.create_batch_segment_job(\n",
    "    jobName = \"amazon-grocery-attribute-demo\",\n",
    "    solutionVersionArn = solution_version_arn,\n",
    "    numResults = 10,\n",
    "    jobInput =  {\n",
    "        \"s3DataSource\": {\n",
    "            \"path\": batch_input_path\n",
    "        }\n",
    "    },\n",
    "    jobOutput = {\n",
    "        \"s3DataDestination\": {\n",
    "            \"path\": batch_output_path\n",
    "        }\n",
    "    },\n",
    "    roleArn = role_arn\n",
    "    )\n",
    "\n",
    "batch_segment_job_arn = create_batch_segment_response['batchSegmentJobArn']\n",
    "print(batch_segment_job_arn)"
   ]
  },
  {
   "cell_type": "code",
   "execution_count": 94,
   "metadata": {},
   "outputs": [
    {
     "name": "stdout",
     "output_type": "stream",
     "text": [
      "Batch Segment Job: ACTIVE\n",
      "Time took: 0:46:50.477000\n"
     ]
    }
   ],
   "source": [
    "wait_for_batch_segment_job(batch_segment_job_arn)"
   ]
  },
  {
   "cell_type": "markdown",
   "metadata": {},
   "source": [
    "### 3.3 Inspeccione los resultados de forma visual\n",
    "\n",
    "Podemos inspeccionar los datos de forma visual otra vez para ver si se alinean con nuestra opinión editorial. Ejecutamos 5 búsquedas. Las primeras tres categorías de búsqueda serán \"Dulces y chocolate\", \"Café, té y cocoa\", y \"Vegetales deshidratados\". Las otras dos búsquedas estarán basadas en las marcas \"Starbucks\" y \"Jelly Belly\". Para cada una, buscaremos 10 usuarios e imprimiremos sus últimas 5 compras para ver si se alinean con nuestras expectativas."
   ]
  },
  {
   "cell_type": "code",
   "execution_count": 95,
   "metadata": {},
   "outputs": [
    {
     "data": {
      "text/html": [
       "<div>\n",
       "<style scoped>\n",
       "    .dataframe tbody tr th:only-of-type {\n",
       "        vertical-align: middle;\n",
       "    }\n",
       "\n",
       "    .dataframe tbody tr th {\n",
       "        vertical-align: top;\n",
       "    }\n",
       "\n",
       "    .dataframe thead th {\n",
       "        text-align: right;\n",
       "    }\n",
       "</style>\n",
       "<table border=\"1\" class=\"dataframe\">\n",
       "  <thead>\n",
       "    <tr style=\"text-align: right;\">\n",
       "      <th></th>\n",
       "      <th>Attribute_type</th>\n",
       "      <th>Attribute_value</th>\n",
       "      <th>USER_ID</th>\n",
       "    </tr>\n",
       "  </thead>\n",
       "  <tbody>\n",
       "    <tr>\n",
       "      <th>0</th>\n",
       "      <td>CATEGORY</td>\n",
       "      <td>Candy &amp; Chocolate</td>\n",
       "      <td>[A2OJCTT5WLB2HR, AWOLMIWF4MJZI, A2JV72VRGJ72Q3, A2R819E0C80FXW, A11T807LX2EF00, AKKDQAA03M9NH, A72BDEVIOBZRO, A12BTR2MVK2BR5, AEKP7A8H094IG, A176ZM97SEMIR4]</td>\n",
       "    </tr>\n",
       "    <tr>\n",
       "      <th>1</th>\n",
       "      <td>CATEGORY</td>\n",
       "      <td>Coffee, Tea &amp; Cocoa</td>\n",
       "      <td>[A1LAJUIT0GEKQ1, A9WMK10TEUNAY, A30SAL8NKD9MTN, A3SV4DQ288XPCU, A3Q2G7GDHO5S5C, ASXR713XF62FO, AHWRHD316AFXM, A3CZTYO4HU5X62, AQMSEHIO1A5SA, AINGNE1J86KTH]</td>\n",
       "    </tr>\n",
       "    <tr>\n",
       "      <th>2</th>\n",
       "      <td>CATEGORY</td>\n",
       "      <td>Dried Vegetables</td>\n",
       "      <td>[AWM9DF2UPCLKZ, A37UVOOY0U44HK, A1EQ5G6Q41RNZY, AB2YZA2HLY75H, A1AV4IGPFXVHPH, A1L3PBI5E6ON82, A1DBSZIM8ETOOC, A3GDJ6ZAYUA8XI, A27U28CZXVJP3P, A2UOW4RNW59W8S]</td>\n",
       "    </tr>\n",
       "    <tr>\n",
       "      <th>3</th>\n",
       "      <td>BRAND</td>\n",
       "      <td>Starbucks</td>\n",
       "      <td>[A1FRYXDQJ66R45, A3LWV4B2ZTBDQ0, A1XKXHUUHKCBZ3, A3CLV7MN1YYES6, A2RXT4TK1VHHJY, A17HWBGWWR3AK2, A3AGQAXTX6VRJ3, A1G6XMQ7M3NTOM, A2GI6B0IEGMZUN, A2UE90SLOT9LND]</td>\n",
       "    </tr>\n",
       "    <tr>\n",
       "      <th>4</th>\n",
       "      <td>BRAND</td>\n",
       "      <td>Jelly Belly</td>\n",
       "      <td>[A27K45M7G0IHPN, A2O1AZ59TMNLJQ, AJK7ZHBJS7HBL, A325EVMUTLRF22, AB9MK8L0HWRAG, A26QUS2F52TCO5, A38RUWO3OQ47D4, A10V87VADEF4MG, ATV2QZ3VQU0ED, A3F7KH5X7OVC94]</td>\n",
       "    </tr>\n",
       "  </tbody>\n",
       "</table>\n",
       "</div>"
      ],
      "text/plain": [
       "  Attribute_type      Attribute_value  \\\n",
       "0       CATEGORY    Candy & Chocolate   \n",
       "1       CATEGORY  Coffee, Tea & Cocoa   \n",
       "2       CATEGORY     Dried Vegetables   \n",
       "3          BRAND            Starbucks   \n",
       "4          BRAND          Jelly Belly   \n",
       "\n",
       "                                                                                                                                                            USER_ID  \n",
       "0      [A2OJCTT5WLB2HR, AWOLMIWF4MJZI, A2JV72VRGJ72Q3, A2R819E0C80FXW, A11T807LX2EF00, AKKDQAA03M9NH, A72BDEVIOBZRO, A12BTR2MVK2BR5, AEKP7A8H094IG, A176ZM97SEMIR4]  \n",
       "1       [A1LAJUIT0GEKQ1, A9WMK10TEUNAY, A30SAL8NKD9MTN, A3SV4DQ288XPCU, A3Q2G7GDHO5S5C, ASXR713XF62FO, AHWRHD316AFXM, A3CZTYO4HU5X62, AQMSEHIO1A5SA, AINGNE1J86KTH]  \n",
       "2    [AWM9DF2UPCLKZ, A37UVOOY0U44HK, A1EQ5G6Q41RNZY, AB2YZA2HLY75H, A1AV4IGPFXVHPH, A1L3PBI5E6ON82, A1DBSZIM8ETOOC, A3GDJ6ZAYUA8XI, A27U28CZXVJP3P, A2UOW4RNW59W8S]  \n",
       "3  [A1FRYXDQJ66R45, A3LWV4B2ZTBDQ0, A1XKXHUUHKCBZ3, A3CLV7MN1YYES6, A2RXT4TK1VHHJY, A17HWBGWWR3AK2, A3AGQAXTX6VRJ3, A1G6XMQ7M3NTOM, A2GI6B0IEGMZUN, A2UE90SLOT9LND]  \n",
       "4     [A27K45M7G0IHPN, A2O1AZ59TMNLJQ, AJK7ZHBJS7HBL, A325EVMUTLRF22, AB9MK8L0HWRAG, A26QUS2F52TCO5, A38RUWO3OQ47D4, A10V87VADEF4MG, ATV2QZ3VQU0ED, A3F7KH5X7OVC94]  "
      ]
     },
     "execution_count": 95,
     "metadata": {},
     "output_type": "execute_result"
    }
   ],
   "source": [
    "batch_file_name = 'query-amazon-grocery-attribute.json'\n",
    "batch_output_path = \"s3://\"+bucket_name+\"/output/\"+batch_file_name+\".out\"\n",
    "\n",
    "output=pd.read_json(batch_output_path, lines = True)\n",
    "detail=output.apply(lambda x:pd.Series({'query':x['input']['itemAttributes'],'USER_ID':x['output']['usersList'][0:10]}),axis=1)\n",
    "detail['Attribute_type']=detail['query'].apply(lambda x:x.split(' = ')[0].split('.')[1])\n",
    "detail['Attribute_value']=detail['query'].apply(lambda x:x.split(' = ')[1].strip('\"'))\n",
    "detail[['Attribute_type','Attribute_value','USER_ID']]"
   ]
  },
  {
   "cell_type": "markdown",
   "metadata": {},
   "source": [
    "**Definamos algunas funciones de asistencia**"
   ]
  },
  {
   "cell_type": "code",
   "execution_count": 96,
   "metadata": {},
   "outputs": [],
   "source": [
    "obj = s3.get_object(Bucket=bucket_name,Key=interactions_filename)\n",
    "df2 = pd.read_csv(io.BytesIO(obj['Body'].read()))\n",
    "attr2item={}\n",
    "item2attr2={}\n",
    "meta=meta.fillna('nan')\n",
    "for attr_type in ['CATEGORY','BRAND','MAIN_CAT']:\n",
    "    item2attr2[attr_type]=meta[attr_type].apply(lambda x:str(x).split('|')).explode()\n",
    "    attr2item[attr_type]=item2attr2[attr_type].reset_index().set_index(attr_type)\n",
    "def print_analysis(attribute_type, attribute_value, usersList):\n",
    "    print('Recommended top 10 users for {}:{}'.format(attribute_type, attribute_value))\n",
    "    user_list_df = []\n",
    "    for userId in usersList:\n",
    "        user_hist = df2[df2['USER_ID']==userId].join(\n",
    "            meta, on='ITEM_ID'\n",
    "        ).sort_values('TIMESTAMP', kind='mergesort',ascending=False)\n",
    "#         print('last 5 purchases of user {}'.format(userId))\n",
    "#         display(user_hist.head(5))\n",
    "        past_count=item2attr2[attribute_type].loc[user_hist['ITEM_ID'].to_list()].value_counts()\n",
    "        if not attribute_value in past_count.index:\n",
    "            past_count.loc[attribute_value]=0\n",
    "        user_list_df.append([userId,\n",
    "            len(user_hist),past_count.loc[attribute_value]]+user_hist.iloc[-1:-4:-1].DESCRIPTION.apply(lambda x:x.split(',')[0][0:50]).to_list())\n",
    "    display(pd.DataFrame(user_list_df, columns=['USER_ID','history_len','num_visit_of_queried_attribute' ,'last purchase','last but 1 purchase','last but 2 purchase']).set_index('USER_ID'))\n",
    "    print('=======================================================================================')\n",
    "detail2=detail.set_index(['Attribute_type','Attribute_value'])"
   ]
  },
  {
   "cell_type": "markdown",
   "metadata": {},
   "source": [
    "**Analicemos una categoría y una marca**\n",
    "\n",
    "Si lo desea, puede analizar más si anula los comentarios en el código que aparece a continuación."
   ]
  },
  {
   "cell_type": "code",
   "execution_count": 97,
   "metadata": {},
   "outputs": [
    {
     "name": "stdout",
     "output_type": "stream",
     "text": [
      "Recommended top 10 users for CATEGORY:Dried Vegetables\n"
     ]
    },
    {
     "data": {
      "text/html": [
       "<div>\n",
       "<style scoped>\n",
       "    .dataframe tbody tr th:only-of-type {\n",
       "        vertical-align: middle;\n",
       "    }\n",
       "\n",
       "    .dataframe tbody tr th {\n",
       "        vertical-align: top;\n",
       "    }\n",
       "\n",
       "    .dataframe thead th {\n",
       "        text-align: right;\n",
       "    }\n",
       "</style>\n",
       "<table border=\"1\" class=\"dataframe\">\n",
       "  <thead>\n",
       "    <tr style=\"text-align: right;\">\n",
       "      <th></th>\n",
       "      <th>history_len</th>\n",
       "      <th>num_visit_of_queried_attribute</th>\n",
       "      <th>last purchase</th>\n",
       "      <th>last but 1 purchase</th>\n",
       "      <th>last but 2 purchase</th>\n",
       "    </tr>\n",
       "    <tr>\n",
       "      <th>USER_ID</th>\n",
       "      <th></th>\n",
       "      <th></th>\n",
       "      <th></th>\n",
       "      <th></th>\n",
       "      <th></th>\n",
       "    </tr>\n",
       "  </thead>\n",
       "  <tbody>\n",
       "    <tr>\n",
       "      <th>AWM9DF2UPCLKZ</th>\n",
       "      <td>38</td>\n",
       "      <td>1</td>\n",
       "      <td>Eat Natural Almond Apricot Bar with Yogurt Coating</td>\n",
       "      <td>Emperor's Kitchen Organic Pumpkin Seeds</td>\n",
       "      <td>Robinsons Barley Water</td>\n",
       "    </tr>\n",
       "    <tr>\n",
       "      <th>A37UVOOY0U44HK</th>\n",
       "      <td>7</td>\n",
       "      <td>1</td>\n",
       "      <td>Karen's Naturals Just Tomatoes</td>\n",
       "      <td>Karen's Naturals Just Tomatoes</td>\n",
       "      <td>Japan Kracie Happy kitchen Decoration cake KIT DIY</td>\n",
       "    </tr>\n",
       "    <tr>\n",
       "      <th>A1EQ5G6Q41RNZY</th>\n",
       "      <td>38</td>\n",
       "      <td>0</td>\n",
       "      <td>Wheat Thins Smoky BBQ Snacks</td>\n",
       "      <td>Buffalo Bob's Venison Beef Peppered Jerky 3 Pack s</td>\n",
       "      <td>Buffal Bob's Barbequed Flavor Alligator Jerky 3 Pa</td>\n",
       "    </tr>\n",
       "    <tr>\n",
       "      <th>AB2YZA2HLY75H</th>\n",
       "      <td>6</td>\n",
       "      <td>1</td>\n",
       "      <td>Hinterland Trading Air Plant Collector's Edition S</td>\n",
       "      <td>Assorted Japanese Junk Food Snack Dagashi Economic</td>\n",
       "      <td>Tesla's Tiny Twist Pops - 48-Piece Jar (Pink) Take</td>\n",
       "    </tr>\n",
       "    <tr>\n",
       "      <th>A1AV4IGPFXVHPH</th>\n",
       "      <td>16</td>\n",
       "      <td>0</td>\n",
       "      <td>GreenMax Boba Milk Tea Powder 24.5 Oz - Green Tea</td>\n",
       "      <td>Monin - Lavender Syrup</td>\n",
       "      <td>E-Fa Brand Bubble Tea Black Tapioca Pearl 2.2LB E-</td>\n",
       "    </tr>\n",
       "    <tr>\n",
       "      <th>A1L3PBI5E6ON82</th>\n",
       "      <td>7</td>\n",
       "      <td>1</td>\n",
       "      <td>Just Tomatoes Etc. Just Peas -- 8 oz Absolutely no</td>\n",
       "      <td>Karen's Naturals Organic Just Apples</td>\n",
       "      <td>Karen's Naturals Just Peas</td>\n",
       "    </tr>\n",
       "    <tr>\n",
       "      <th>A1DBSZIM8ETOOC</th>\n",
       "      <td>6</td>\n",
       "      <td>1</td>\n",
       "      <td>Karen's Naturals Just Peas</td>\n",
       "      <td>Garden of Life Raw Organic Protein Unflavored Powd</td>\n",
       "      <td>Karen's Naturals Just Tomatoes</td>\n",
       "    </tr>\n",
       "    <tr>\n",
       "      <th>A3GDJ6ZAYUA8XI</th>\n",
       "      <td>5</td>\n",
       "      <td>1</td>\n",
       "      <td>Wild Ride Beef Jerky Cowboy Strips</td>\n",
       "      <td>Primal Strips Meatless Vegan Jerky-Variety Gift Pa</td>\n",
       "      <td>Karen's Naturals Just Peas</td>\n",
       "    </tr>\n",
       "    <tr>\n",
       "      <th>A27U28CZXVJP3P</th>\n",
       "      <td>7</td>\n",
       "      <td>1</td>\n",
       "      <td>Kind Bars</td>\n",
       "      <td>KIND Bars</td>\n",
       "      <td>KIND Bars</td>\n",
       "    </tr>\n",
       "    <tr>\n",
       "      <th>A2UOW4RNW59W8S</th>\n",
       "      <td>4</td>\n",
       "      <td>1</td>\n",
       "      <td>The Switch Sparkling Juice</td>\n",
       "      <td>Karen's Naturals Just Peas</td>\n",
       "      <td>Karen's Naturals Just Corn</td>\n",
       "    </tr>\n",
       "  </tbody>\n",
       "</table>\n",
       "</div>"
      ],
      "text/plain": [
       "                history_len  num_visit_of_queried_attribute  \\\n",
       "USER_ID                                                       \n",
       "AWM9DF2UPCLKZ            38                               1   \n",
       "A37UVOOY0U44HK            7                               1   \n",
       "A1EQ5G6Q41RNZY           38                               0   \n",
       "AB2YZA2HLY75H             6                               1   \n",
       "A1AV4IGPFXVHPH           16                               0   \n",
       "A1L3PBI5E6ON82            7                               1   \n",
       "A1DBSZIM8ETOOC            6                               1   \n",
       "A3GDJ6ZAYUA8XI            5                               1   \n",
       "A27U28CZXVJP3P            7                               1   \n",
       "A2UOW4RNW59W8S            4                               1   \n",
       "\n",
       "                                                     last purchase  \\\n",
       "USER_ID                                                              \n",
       "AWM9DF2UPCLKZ   Eat Natural Almond Apricot Bar with Yogurt Coating   \n",
       "A37UVOOY0U44HK                      Karen's Naturals Just Tomatoes   \n",
       "A1EQ5G6Q41RNZY                        Wheat Thins Smoky BBQ Snacks   \n",
       "AB2YZA2HLY75H   Hinterland Trading Air Plant Collector's Edition S   \n",
       "A1AV4IGPFXVHPH  GreenMax Boba Milk Tea Powder 24.5 Oz - Green Tea    \n",
       "A1L3PBI5E6ON82  Just Tomatoes Etc. Just Peas -- 8 oz Absolutely no   \n",
       "A1DBSZIM8ETOOC                          Karen's Naturals Just Peas   \n",
       "A3GDJ6ZAYUA8XI                  Wild Ride Beef Jerky Cowboy Strips   \n",
       "A27U28CZXVJP3P                                           Kind Bars   \n",
       "A2UOW4RNW59W8S                          The Switch Sparkling Juice   \n",
       "\n",
       "                                               last but 1 purchase  \\\n",
       "USER_ID                                                              \n",
       "AWM9DF2UPCLKZ              Emperor's Kitchen Organic Pumpkin Seeds   \n",
       "A37UVOOY0U44HK                      Karen's Naturals Just Tomatoes   \n",
       "A1EQ5G6Q41RNZY  Buffalo Bob's Venison Beef Peppered Jerky 3 Pack s   \n",
       "AB2YZA2HLY75H   Assorted Japanese Junk Food Snack Dagashi Economic   \n",
       "A1AV4IGPFXVHPH                              Monin - Lavender Syrup   \n",
       "A1L3PBI5E6ON82                Karen's Naturals Organic Just Apples   \n",
       "A1DBSZIM8ETOOC  Garden of Life Raw Organic Protein Unflavored Powd   \n",
       "A3GDJ6ZAYUA8XI  Primal Strips Meatless Vegan Jerky-Variety Gift Pa   \n",
       "A27U28CZXVJP3P                                           KIND Bars   \n",
       "A2UOW4RNW59W8S                          Karen's Naturals Just Peas   \n",
       "\n",
       "                                               last but 2 purchase  \n",
       "USER_ID                                                             \n",
       "AWM9DF2UPCLKZ                               Robinsons Barley Water  \n",
       "A37UVOOY0U44HK  Japan Kracie Happy kitchen Decoration cake KIT DIY  \n",
       "A1EQ5G6Q41RNZY  Buffal Bob's Barbequed Flavor Alligator Jerky 3 Pa  \n",
       "AB2YZA2HLY75H   Tesla's Tiny Twist Pops - 48-Piece Jar (Pink) Take  \n",
       "A1AV4IGPFXVHPH  E-Fa Brand Bubble Tea Black Tapioca Pearl 2.2LB E-  \n",
       "A1L3PBI5E6ON82                          Karen's Naturals Just Peas  \n",
       "A1DBSZIM8ETOOC                      Karen's Naturals Just Tomatoes  \n",
       "A3GDJ6ZAYUA8XI                          Karen's Naturals Just Peas  \n",
       "A27U28CZXVJP3P                                           KIND Bars  \n",
       "A2UOW4RNW59W8S                          Karen's Naturals Just Corn  "
      ]
     },
     "metadata": {},
     "output_type": "display_data"
    },
    {
     "name": "stdout",
     "output_type": "stream",
     "text": [
      "=======================================================================================\n"
     ]
    }
   ],
   "source": [
    "print_analysis('CATEGORY', 'Dried Vegetables', detail2.loc[('CATEGORY', 'Dried Vegetables'),'USER_ID'])"
   ]
  },
  {
   "cell_type": "code",
   "execution_count": 98,
   "metadata": {},
   "outputs": [
    {
     "name": "stdout",
     "output_type": "stream",
     "text": [
      "Recommended top 10 users for BRAND:Starbucks\n"
     ]
    },
    {
     "data": {
      "text/html": [
       "<div>\n",
       "<style scoped>\n",
       "    .dataframe tbody tr th:only-of-type {\n",
       "        vertical-align: middle;\n",
       "    }\n",
       "\n",
       "    .dataframe tbody tr th {\n",
       "        vertical-align: top;\n",
       "    }\n",
       "\n",
       "    .dataframe thead th {\n",
       "        text-align: right;\n",
       "    }\n",
       "</style>\n",
       "<table border=\"1\" class=\"dataframe\">\n",
       "  <thead>\n",
       "    <tr style=\"text-align: right;\">\n",
       "      <th></th>\n",
       "      <th>history_len</th>\n",
       "      <th>num_visit_of_queried_attribute</th>\n",
       "      <th>last purchase</th>\n",
       "      <th>last but 1 purchase</th>\n",
       "      <th>last but 2 purchase</th>\n",
       "    </tr>\n",
       "    <tr>\n",
       "      <th>USER_ID</th>\n",
       "      <th></th>\n",
       "      <th></th>\n",
       "      <th></th>\n",
       "      <th></th>\n",
       "      <th></th>\n",
       "    </tr>\n",
       "  </thead>\n",
       "  <tbody>\n",
       "    <tr>\n",
       "      <th>A1FRYXDQJ66R45</th>\n",
       "      <td>17</td>\n",
       "      <td>5</td>\n",
       "      <td>Mayfair Sales Select Brands Candy Mix</td>\n",
       "      <td>Swiss Miss Keurig K-cups Milk Chocolate Hot Cocoa</td>\n",
       "      <td>Laffy Taffy Assorted Candy Jar</td>\n",
       "    </tr>\n",
       "    <tr>\n",
       "      <th>A3LWV4B2ZTBDQ0</th>\n",
       "      <td>8</td>\n",
       "      <td>7</td>\n",
       "      <td>Davidson's Tea Bulk</td>\n",
       "      <td>Starbucks Tribute0174; Blend</td>\n",
       "      <td>Starbucks Anniversary Blend Whole Bean Coffee - Sp</td>\n",
       "    </tr>\n",
       "    <tr>\n",
       "      <th>A1XKXHUUHKCBZ3</th>\n",
       "      <td>7</td>\n",
       "      <td>6</td>\n",
       "      <td>Ener G Foods - Bread Brown Rice Yeast Free 19 Oz.</td>\n",
       "      <td>2018 Starbucks Xmas Blend Ground Coffee - 1 Pound</td>\n",
       "      <td>Starbucks Christmas Blend Espresso Roast 1lb A tim</td>\n",
       "    </tr>\n",
       "    <tr>\n",
       "      <th>A3CLV7MN1YYES6</th>\n",
       "      <td>10</td>\n",
       "      <td>7</td>\n",
       "      <td>Starbucks VIA Ready Brew Coffee</td>\n",
       "      <td>Japanese Kit Kat Matcha Green Tea Flavor | Sweetne</td>\n",
       "      <td>ZonePerfect Nutrition Snack Bars</td>\n",
       "    </tr>\n",
       "    <tr>\n",
       "      <th>A2RXT4TK1VHHJY</th>\n",
       "      <td>18</td>\n",
       "      <td>6</td>\n",
       "      <td>Sparkling Ice Fruit Blends</td>\n",
       "      <td>Stretch Island Fruit Leather Variety Pack 48-Count</td>\n",
       "      <td>Naked Variety Pack Juice Smoothie 8 Mighty Mango</td>\n",
       "    </tr>\n",
       "    <tr>\n",
       "      <th>A17HWBGWWR3AK2</th>\n",
       "      <td>15</td>\n",
       "      <td>7</td>\n",
       "      <td>PALMETTO FARMS Stone Ground Yellow Grits</td>\n",
       "      <td>Starbucks House Blend</td>\n",
       "      <td>Starbucks House Blend Medium Roast Coffee Keurig K</td>\n",
       "    </tr>\n",
       "    <tr>\n",
       "      <th>A3AGQAXTX6VRJ3</th>\n",
       "      <td>11</td>\n",
       "      <td>5</td>\n",
       "      <td>Tassimo Cappuccino Creamer</td>\n",
       "      <td>Braun 67000-5PK Tassimo Starbucks House Blend</td>\n",
       "      <td>Carte Noir Kenya</td>\n",
       "    </tr>\n",
       "    <tr>\n",
       "      <th>A1G6XMQ7M3NTOM</th>\n",
       "      <td>20</td>\n",
       "      <td>4</td>\n",
       "      <td>Mars Real Chocolate Mixed Singles</td>\n",
       "      <td>Lipton K-Cup Packs</td>\n",
       "      <td>Caza Trail Tea</td>\n",
       "    </tr>\n",
       "    <tr>\n",
       "      <th>A2GI6B0IEGMZUN</th>\n",
       "      <td>8</td>\n",
       "      <td>2</td>\n",
       "      <td>Cayenne Pepper - 10 Lb Bag Our Ground Cayenne Pepp</td>\n",
       "      <td>Reed's Original Ginger Candy Chews</td>\n",
       "      <td>LARABAR uber</td>\n",
       "    </tr>\n",
       "    <tr>\n",
       "      <th>A2UE90SLOT9LND</th>\n",
       "      <td>6</td>\n",
       "      <td>6</td>\n",
       "      <td>Starbucks Holiday Blend Coffee Pods for Verismo Ma</td>\n",
       "      <td>Starbucks Verismo Espresso Roast Pods 12 Starbucks</td>\n",
       "      <td>Starbucks Pike Place Roast Coffee Verismo Pods</td>\n",
       "    </tr>\n",
       "  </tbody>\n",
       "</table>\n",
       "</div>"
      ],
      "text/plain": [
       "                history_len  num_visit_of_queried_attribute  \\\n",
       "USER_ID                                                       \n",
       "A1FRYXDQJ66R45           17                               5   \n",
       "A3LWV4B2ZTBDQ0            8                               7   \n",
       "A1XKXHUUHKCBZ3            7                               6   \n",
       "A3CLV7MN1YYES6           10                               7   \n",
       "A2RXT4TK1VHHJY           18                               6   \n",
       "A17HWBGWWR3AK2           15                               7   \n",
       "A3AGQAXTX6VRJ3           11                               5   \n",
       "A1G6XMQ7M3NTOM           20                               4   \n",
       "A2GI6B0IEGMZUN            8                               2   \n",
       "A2UE90SLOT9LND            6                               6   \n",
       "\n",
       "                                                     last purchase  \\\n",
       "USER_ID                                                              \n",
       "A1FRYXDQJ66R45               Mayfair Sales Select Brands Candy Mix   \n",
       "A3LWV4B2ZTBDQ0                                 Davidson's Tea Bulk   \n",
       "A1XKXHUUHKCBZ3  Ener G Foods - Bread Brown Rice Yeast Free 19 Oz.    \n",
       "A3CLV7MN1YYES6                     Starbucks VIA Ready Brew Coffee   \n",
       "A2RXT4TK1VHHJY                          Sparkling Ice Fruit Blends   \n",
       "A17HWBGWWR3AK2            PALMETTO FARMS Stone Ground Yellow Grits   \n",
       "A3AGQAXTX6VRJ3                          Tassimo Cappuccino Creamer   \n",
       "A1G6XMQ7M3NTOM                   Mars Real Chocolate Mixed Singles   \n",
       "A2GI6B0IEGMZUN  Cayenne Pepper - 10 Lb Bag Our Ground Cayenne Pepp   \n",
       "A2UE90SLOT9LND  Starbucks Holiday Blend Coffee Pods for Verismo Ma   \n",
       "\n",
       "                                               last but 1 purchase  \\\n",
       "USER_ID                                                              \n",
       "A1FRYXDQJ66R45  Swiss Miss Keurig K-cups Milk Chocolate Hot Cocoa    \n",
       "A3LWV4B2ZTBDQ0                        Starbucks Tribute0174; Blend   \n",
       "A1XKXHUUHKCBZ3  2018 Starbucks Xmas Blend Ground Coffee - 1 Pound    \n",
       "A3CLV7MN1YYES6  Japanese Kit Kat Matcha Green Tea Flavor | Sweetne   \n",
       "A2RXT4TK1VHHJY  Stretch Island Fruit Leather Variety Pack 48-Count   \n",
       "A17HWBGWWR3AK2                               Starbucks House Blend   \n",
       "A3AGQAXTX6VRJ3       Braun 67000-5PK Tassimo Starbucks House Blend   \n",
       "A1G6XMQ7M3NTOM                                  Lipton K-Cup Packs   \n",
       "A2GI6B0IEGMZUN                  Reed's Original Ginger Candy Chews   \n",
       "A2UE90SLOT9LND  Starbucks Verismo Espresso Roast Pods 12 Starbucks   \n",
       "\n",
       "                                               last but 2 purchase  \n",
       "USER_ID                                                             \n",
       "A1FRYXDQJ66R45                      Laffy Taffy Assorted Candy Jar  \n",
       "A3LWV4B2ZTBDQ0  Starbucks Anniversary Blend Whole Bean Coffee - Sp  \n",
       "A1XKXHUUHKCBZ3  Starbucks Christmas Blend Espresso Roast 1lb A tim  \n",
       "A3CLV7MN1YYES6                    ZonePerfect Nutrition Snack Bars  \n",
       "A2RXT4TK1VHHJY   Naked Variety Pack Juice Smoothie 8 Mighty Mango   \n",
       "A17HWBGWWR3AK2  Starbucks House Blend Medium Roast Coffee Keurig K  \n",
       "A3AGQAXTX6VRJ3                                    Carte Noir Kenya  \n",
       "A1G6XMQ7M3NTOM                                      Caza Trail Tea  \n",
       "A2GI6B0IEGMZUN                                        LARABAR uber  \n",
       "A2UE90SLOT9LND      Starbucks Pike Place Roast Coffee Verismo Pods  "
      ]
     },
     "metadata": {},
     "output_type": "display_data"
    },
    {
     "name": "stdout",
     "output_type": "stream",
     "text": [
      "=======================================================================================\n"
     ]
    }
   ],
   "source": [
    "print_analysis('BRAND', 'Starbucks', detail2.loc[('BRAND', 'Starbucks'),'USER_ID'])"
   ]
  },
  {
   "cell_type": "markdown",
   "metadata": {},
   "source": [
    "## Pruebas adicionales"
   ]
  },
  {
   "cell_type": "code",
   "execution_count": null,
   "metadata": {},
   "outputs": [],
   "source": [
    "# print_analysis('CATEGORY', 'Candy & Chocolate', detail2.loc[('CATEGORY', 'Candy & Chocolate'),'USER_ID'])\n",
    "# print_analysis('CATEGORY', 'Coffee, Tea & Cocoa', detail2.loc[('CATEGORY', 'Coffee, Tea & Cocoa'),'USER_ID'])\n",
    "# print_analysis('BRAND', 'Jelly Belly', detail2.loc[('BRAND', 'Jelly Belly'),'USER_ID'])"
   ]
  }
 ],
 "metadata": {
  "kernelspec": {
   "display_name": "conda_python3",
   "language": "python",
   "name": "conda_python3"
  },
  "language_info": {
   "codemirror_mode": {
    "name": "ipython",
    "version": 3
   },
   "file_extension": ".py",
   "mimetype": "text/x-python",
   "name": "python",
   "nbconvert_exporter": "python",
   "pygments_lexer": "ipython3",
   "version": "3.6.13"
  }
 },
 "nbformat": 4,
 "nbformat_minor": 4
}
