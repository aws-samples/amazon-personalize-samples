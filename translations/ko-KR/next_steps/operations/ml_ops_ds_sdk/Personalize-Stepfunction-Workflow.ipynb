{
 "cells": [
  {
   "cell_type": "markdown",
   "metadata": {},
   "source": [
    "# AWS Step Functions Data Science SDK를 사용하여 엔드 투 엔드 Amazon Personalize 모델 배포 프로세스를 운영합니다.\n",
    "\n",
    "1. [소개](#Introduction)\n",
    "2. [설정](#Setup)\n",
    "3. [작업-상태](#Task-States)\n",
    "4. [대기-상태](#Wait-States)\n",
    "5. [선택-상태](#Choice-States)\n",
    "6. [워크플로](#Workflow)\n",
    "7. [생성-추천](#Generate-Recommendations)\n",
    "\n"
   ]
  },
  {
   "cell_type": "markdown",
   "metadata": {},
   "source": [
    "## 소개\n",
    "\n",
    "이 노트북에서는 AWS Step Functions Data Science SDK를 사용하여 Amazon Personalize 워크플로를 만들고 관리하는 방법을 설명합니다. 이 Step Functions SDK는 데이터 사이언티스트가 AWS Step Functions를 사용하여 기계 학습 워크플로를 손쉽게 만들고 실행할 수 있는 오픈 소스 라이브러리입니다. Step Functions SDK에 대한 자세한 내용은 다음을 참조하세요.\n",
    "* [AWS Step Functions](https://aws.amazon.com/step-functions/)\n",
    "* [AWS Step Functions 개발자 가이드](https://docs.aws.amazon.com/step-functions/latest/dg/welcome.html)\n",
    "* [AWS Step Functions Data Science SDK](https://aws-step-functions-data-science-sdk.readthedocs.io)\n",
    "\n",
    "이 노트북에서는 이 SDK를 사용하여 Personalize 리소스를 생성하는 단계를 만들고, 리소스를 하나로 연결하여 워크플로를 만들고, AWS Step Functions에서 워크플로를 실행합니다.\n",
    "\n",
    "Amazon Personalize에 대한 자세한 내용은 다음을 참조하세요.\n",
    "\n",
    "* [Amazon Personalize](https://aws.amazon.com/personalize/)\n"
   ]
  },
  {
   "cell_type": "markdown",
   "metadata": {},
   "source": [
    "## 설정"
   ]
  },
  {
   "cell_type": "markdown",
   "metadata": {},
   "source": [
    "### SDK에서 필요한 모듈 가져오기"
   ]
  },
  {
   "cell_type": "code",
   "execution_count": null,
   "metadata": {},
   "outputs": [],
   "source": [
    "#import sys\n",
    "#!{sys.executable} -m pip install --upgrade stepfunctions"
   ]
  },
  {
   "cell_type": "code",
   "execution_count": null,
   "metadata": {},
   "outputs": [],
   "source": [
    "import boto3\n",
    "import json\n",
    "import numpy as np\n",
    "import pandas as pd\n",
    "import time\n",
    "\n",
    "personalize = boto3.client('personalize')\n",
    "personalize_runtime = boto3.client('personalize-runtime')\n",
    "\n",
    "\n",
    "import stepfunctions\n",
    "import logging\n",
    "\n",
    "from stepfunctions.steps import *\n",
    "from stepfunctions.workflow import Workflow\n",
    "\n",
    "stepfunctions.set_stream_logger(level=logging.INFO)\n",
    "\n",
    "workflow_execution_role = \"<Workflow exection role name>\" # paste the StepFunctionsWorkflowExecutionRole ARN from above"
   ]
  },
  {
   "cell_type": "markdown",
   "metadata": {},
   "source": [
    "### S3 위치 및 파일 이름 설정"
   ]
  },
  {
   "cell_type": "code",
   "execution_count": null,
   "metadata": {},
   "outputs": [],
   "source": [
    "bucket = \"<Bucket Name>\"       # replace with the name of your S3 bucket\n",
    "filename = \"<File Name>\"  # replace with a name that you want to save the dataset under"
   ]
  },
  {
   "cell_type": "markdown",
   "metadata": {},
   "source": [
    "### IAM 역할 설정\n",
    "\n",
    "#### Step Functions를 위한 실행 역할 생성\n",
    "\n",
    "Step Functions에서 워크플로를 생성하고 실행할 수 있는 실행 역할이 필요합니다.\n",
    "\n",
    "1. [IAM 콘솔](https://console.aws.amazon.com/iam/)로 이동합니다.\n",
    "2. **역할(Roles)**을 선택한 후 **역할 생성(Create role)**을 선택합니다.\n",
    "3. **이 역할을 사용할 서비스 선택(Choose the service that will use this role)**에서 **Step Functions**를 선택합니다.\n",
    "4. **역할 이름(Role name)**을 입력할 수 있을 때까지 **다음(Next)**을 선택합니다.\n",
    "5. `StepFunctionsWorkflowExecutionRole`과 같은 이름을 입력한 후 **역할 생성(Create role)**을 선택합니다.\n",
    "\n",
    "\n",
    "생성한 역할에 정책을 연결합니다. 다음 단계에서는 Step Functions에 대한 모든 권한을 제공하는 정책을 연결합니다. 단, 필요한 리소스에 대한 액세스 권한만 제공하는 것이 좋습니다.\n",
    "\n",
    "1. **권한(Permissions)** 탭에서 **인라인 정책 추가(Add inline policy)**를 클릭합니다.\n",
    "2. **JSON** 탭에 다음을 입력합니다.\n",
    "\n",
    "```json\n",
    "{\n",
    "    \"Version\": \"2012-10-17\",\n",
    "    \"Statement\": [\n",
    "    \n",
    "        {\n",
    "            \"Effect\": \"Allow\",\n",
    "            \"Action\": [\n",
    "                \"personalize:*\"\n",
    "            ],\n",
    "            \"Resource\": \"*\"\n",
    "        },   \n",
    "\n",
    "        {\n",
    "            \"Effect\": \"Allow\",\n",
    "            \"Action\": [\n",
    "                \"lambda:InvokeFunction\"\n",
    "            ],\n",
    "            \"Resource\": \"*\"\n",
    "        },\n",
    "        {\n",
    "            \"Effect\": \"Allow\",\n",
    "            \"Action\": [\n",
    "                \"iam:PassRole\"\n",
    "            ],\n",
    "            \"Resource\": \"*\",\n",
    "        },\n",
    "        {\n",
    "            \"Effect\": \"Allow\",\n",
    "            \"Action\": [\n",
    "                \"events:PutTargets\",\n",
    "                \"events:PutRule\",\n",
    "                \"events:DescribeRule\"\n",
    "            ],\n",
    "            \"Resource\": \"*\"\n",
    "        }\n",
    "    ]\n",
    "}\n",
    "```\n",
    "\n",
    "3. **정책 검토(Review policy)**를 선택하고 정책에 `StepFunctionsWorkflowExecutionPolicy`와 같은 이름을 지정합니다.\n",
    "4. **정책 생성(Create policy)**을 선택합니다. 역할의 세부 정보 페이지로 리디렉션됩니다.\n",
    "5. **요약(Summary)**의 상단에서 **역할 ARN(Role ARN)**을 복사합니다.\n",
    "\n"
   ]
  },
  {
   "cell_type": "code",
   "execution_count": null,
   "metadata": {},
   "outputs": [],
   "source": [
    "lambda_state_role = LambdaStep(\n",
    "    state_id=\"create bucket and role\",\n",
    "    parameters={  \n",
    "        \"FunctionName\": \"stepfunction_create_personalize_role\", #replace with the name of the function you created\n",
    "        \"Payload\": {  \n",
    "           \"bucket\": bucket\n",
    "        }\n",
    "    },\n",
    "    result_path='$'\n",
    " \n",
    ")\n",
    "\n",
    "lambda_state_role.add_retry(Retry(\n",
    "    error_equals=[\"States.TaskFailed\"],\n",
    "    interval_seconds=5,\n",
    "    max_attempts=1,\n",
    "    backoff_rate=4.0\n",
    "))\n",
    "\n",
    "lambda_state_role.add_catch(Catch(\n",
    "    error_equals=[\"States.TaskFailed\"],\n",
    "    next_step=Fail(\"CreateRoleTaskFailed\")\n",
    "))"
   ]
  },
  {
   "cell_type": "markdown",
   "metadata": {},
   "source": [
    "#### S3 버킷에 정책 연결"
   ]
  },
  {
   "cell_type": "code",
   "execution_count": null,
   "metadata": {},
   "outputs": [],
   "source": [
    "s3 = boto3.client(\"s3\")\n",
    "\n",
    "policy = {\n",
    "    \"Version\": \"2012-10-17\",\n",
    "    \"Id\": \"PersonalizeS3BucketAccessPolicy\",\n",
    "    \"Statement\": [\n",
    "        {\n",
    "            \"Sid\": \"PersonalizeS3BucketAccessPolicy\",\n",
    "            \"Effect\": \"Allow\",\n",
    "            \"Principal\": {\n",
    "                \"Service\": \"personalize.amazonaws.com\"\n",
    "            },\n",
    "            \"Action\": [\n",
    "                \"s3:GetObject\",\n",
    "                \"s3:ListBucket\"\n",
    "            ],\n",
    "            \"Resource\": [\n",
    "                \"arn:aws:s3:::{}\".format(bucket),\n",
    "                \"arn:aws:s3:::{}/*\".format(bucket)\n",
    "                \n",
    "            ]\n",
    "        }\n",
    "    ]\n",
    "}\n",
    "\n",
    "s3.put_bucket_policy(Bucket=bucket, Policy=json.dumps(policy))\n",
    "\n",
    "# AmazonPersonalizeFullAccess provides access to any S3 bucket with a name that includes \"personalize\" or \"Personalize\" \n",
    "# if you would like to use a bucket with a different name, please consider creating and attaching a new policy\n",
    "# that provides read access to your bucket or attaching the AmazonS3ReadOnlyAccess policy to the role\n"
   ]
  },
  {
   "cell_type": "markdown",
   "metadata": {},
   "source": [
    "#### Personalize 역할 생성\n"
   ]
  },
  {
   "cell_type": "code",
   "execution_count": null,
   "metadata": {},
   "outputs": [],
   "source": [
    "iam = boto3.client(\"iam\")\n",
    "\n",
    "role_name = \"<Role Name>\" # Create a personalize role\n",
    "\n",
    "\n",
    "assume_role_policy_document = {\n",
    "    \"Version\": \"2012-10-17\",\n",
    "    \"Statement\": [\n",
    "        {\n",
    "          \"Effect\": \"Allow\",\n",
    "          \"Principal\": {\n",
    "            \"Service\": \"personalize.amazonaws.com\"\n",
    "          },\n",
    "          \"Action\": \"sts:AssumeRole\"\n",
    "        }\n",
    "    ]\n",
    "}\n",
    "\n",
    "create_role_response = iam.create_role(\n",
    "    RoleName = role_name,\n",
    "    AssumeRolePolicyDocument = json.dumps(assume_role_policy_document)\n",
    ")\n",
    "\n",
    "\n",
    "\n",
    "policy_arn = \"arn:aws:iam::aws:policy/service-role/AmazonPersonalizeFullAccess\"\n",
    "iam.attach_role_policy(\n",
    "    RoleName = role_name,\n",
    "    PolicyArn = policy_arn\n",
    ")\n",
    "\n",
    "time.sleep(60) # wait for a minute to allow IAM role policy attachment to propagate\n",
    "\n",
    "role_arn = create_role_response[\"Role\"][\"Arn\"]\n"
   ]
  },
  {
   "cell_type": "markdown",
   "metadata": {},
   "source": [
    "## 데이터-준비"
   ]
  },
  {
   "cell_type": "markdown",
   "metadata": {},
   "source": [
    "### 훈련 데이터 다운로드, 준비 및 업로드"
   ]
  },
  {
   "cell_type": "code",
   "execution_count": null,
   "metadata": {},
   "outputs": [],
   "source": [
    "!pwd"
   ]
  },
  {
   "cell_type": "code",
   "execution_count": null,
   "metadata": {},
   "outputs": [],
   "source": [
    "!wget -N http://files.grouplens.org/datasets/movielens/ml-100k.zip\n",
    "!unzip -o ml-100k.zip\n",
    "data = pd.read_csv('./ml-100k/u.data', sep='\\t', names=['USER_ID', 'ITEM_ID', 'RATING', 'TIMESTAMP'])\n",
    "pd.set_option('display.max_rows', 5)\n",
    "data\n",
    "\n"
   ]
  },
  {
   "cell_type": "code",
   "execution_count": null,
   "metadata": {},
   "outputs": [],
   "source": [
    "data = data[data['RATING'] > 2]                # keep only movies rated 2 and above\n",
    "data2 = data[['USER_ID', 'ITEM_ID', 'TIMESTAMP']] \n",
    "data2.to_csv(filename, index=False)\n",
    "\n",
    "boto3.Session().resource('s3').Bucket(bucket).Object(filename).upload_file(filename)"
   ]
  },
  {
   "cell_type": "markdown",
   "metadata": {},
   "source": [
    "## 작업-상태"
   ]
  },
  {
   "cell_type": "markdown",
   "metadata": {},
   "source": [
    "### Lambda 작업 상태\n",
    "\n",
    "Step Functions에서 `Task` 상태는 워크플로에 의해 수행되는 단일 작업 단위를 나타냅니다. 작업은 Lambda 함수를 호출하고 다른 AWS 서비스를 오케스트레이션할 수 있습니다. AWS Step Functions 개발자 가이드에서 [AWS 서비스 통합](https://docs.aws.amazon.com/step-functions/latest/dg/concepts-service-integrations.html)을 참조하세요.\n",
    "\n",
    "다음은 `lambda_state`라는 [LambdaStep](https://aws-step-functions-data-science-sdk.readthedocs.io/en/latest/compute.html#stepfunctions.steps.compute.LambdaStep)을 생성한 다음 Lambda 함수가 실패할 경우에 적용할 재시도 옵션을 구성합니다.\n",
    "\n",
    "#### Lambda 함수 생성\n",
    "\n",
    "이 워크플로의 Lambda 작업 상태는 스키마, 데이터 세트 그룹, 데이터 세트, 솔루션, 솔루션 버전 등의 Personalize 리소스를 반환하는 Lambda 함수**(Python 3.x)**를 사용합니다. [Lambda 콘솔](https://console.aws.amazon.com/lambda/)에서 다음 함수를 생성합니다.\n",
    "\n",
    "1. stepfunction-create-schema\n",
    "2. stepfunctioncreatedatagroup\n",
    "3. stepfunctioncreatedataset\n",
    "4. stepfunction-createdatasetimportjob\n",
    "5. stepfunction_select-recipe_create-solution\n",
    "6. stepfunction_create_solution_version\n",
    "7. stepfunction_getsolution_metric_create_campaign\n",
    "\n",
    "./Lambda/ 폴더에서 해당 Lambda 함수 코드를 복사해 붙여 넣습니다.\n"
   ]
  },
  {
   "cell_type": "markdown",
   "metadata": {},
   "source": [
    "#### 스키마 생성"
   ]
  },
  {
   "cell_type": "code",
   "execution_count": null,
   "metadata": {},
   "outputs": [],
   "source": [
    "lambda_state_schema = LambdaStep(\n",
    "    state_id=\"create schema\",\n",
    "    parameters={  \n",
    "        \"FunctionName\": \"stepfunction-create-schema\", #replace with the name of the function you created\n",
    "        \"Payload\": {  \n",
    "           \"input\": \"personalize-stepfunction-schema263\"\n",
    "        }\n",
    "    },\n",
    "    result_path='$'    \n",
    ")\n",
    "\n",
    "lambda_state_schema.add_retry(Retry(\n",
    "    error_equals=[\"States.TaskFailed\"],\n",
    "    interval_seconds=5,\n",
    "    max_attempts=1,\n",
    "    backoff_rate=4.0\n",
    "))\n",
    "\n",
    "lambda_state_schema.add_catch(Catch(\n",
    "    error_equals=[\"States.TaskFailed\"],\n",
    "    next_step=Fail(\"CreateSchemaTaskFailed\")\n",
    "))"
   ]
  },
  {
   "cell_type": "markdown",
   "metadata": {},
   "source": [
    "#### 데이터 세트 그룹 생성"
   ]
  },
  {
   "cell_type": "code",
   "execution_count": null,
   "metadata": {},
   "outputs": [],
   "source": [
    "lambda_state_datasetgroup = LambdaStep(\n",
    "    state_id=\"create dataset Group\",\n",
    "    parameters={  \n",
    "        \"FunctionName\": \"stepfunctioncreatedatagroup\", #replace with the name of the function you created\n",
    "        \"Payload\": {  \n",
    "           \"input\": \"personalize-stepfunction-dataset-group\", \n",
    "           \"schemaArn.$\": '$.Payload.schemaArn'\n",
    "        }\n",
    "    },\n",
    "\n",
    "    result_path='$'\n",
    ")\n",
    "\n",
    "\n",
    "\n",
    "lambda_state_datasetgroup.add_retry(Retry(\n",
    "    error_equals=[\"States.TaskFailed\"],\n",
    "    interval_seconds=5,\n",
    "    max_attempts=1,\n",
    "    backoff_rate=4.0\n",
    "))\n",
    "\n",
    "\n",
    "lambda_state_datasetgroup.add_catch(Catch(\n",
    "    error_equals=[\"States.TaskFailed\"],\n",
    "    next_step=Fail(\"CreateDataSetGroupTaskFailed\")\n",
    "))"
   ]
  },
  {
   "cell_type": "markdown",
   "metadata": {},
   "source": [
    "#### 데이터 세트 생성"
   ]
  },
  {
   "cell_type": "code",
   "execution_count": null,
   "metadata": {},
   "outputs": [],
   "source": [
    "lambda_state_createdataset = LambdaStep(\n",
    "    state_id=\"create dataset\",\n",
    "    parameters={  \n",
    "        \"FunctionName\": \"stepfunctioncreatedataset\", #replace with the name of the function you created\n",
    "#        \"Payload\": {  \n",
    "#           \"schemaArn.$\": '$.Payload.schemaArn',\n",
    "#           \"datasetGroupArn.$\": '$.Payload.datasetGroupArn',\n",
    "            \n",
    "            \n",
    "#        }\n",
    "        \n",
    "        \"Payload\": {  \n",
    "           \"schemaArn.$\": '$.schemaArn',\n",
    "           \"datasetGroupArn.$\": '$.datasetGroupArn',        \n",
    "        } \n",
    "        \n",
    "        \n",
    "    },\n",
    "    result_path = '$'\n",
    ")\n",
    "\n",
    "lambda_state_createdataset.add_retry(Retry(\n",
    "    error_equals=[\"States.TaskFailed\"],\n",
    "    interval_seconds=5,\n",
    "    max_attempts=1,\n",
    "    backoff_rate=4.0\n",
    "))\n",
    "\n",
    "lambda_state_createdataset.add_catch(Catch(\n",
    "    error_equals=[\"States.TaskFailed\"],\n",
    "    next_step=Fail(\"CreateDataSetTaskFailed\")\n",
    "))"
   ]
  },
  {
   "cell_type": "markdown",
   "metadata": {},
   "source": [
    "#### 데이터 세트 가져오기 작업 생성"
   ]
  },
  {
   "cell_type": "code",
   "execution_count": null,
   "metadata": {},
   "outputs": [],
   "source": [
    "lambda_state_datasetimportjob = LambdaStep(\n",
    "    state_id=\"create dataset import job\",\n",
    "    parameters={  \n",
    "        \"FunctionName\": \"stepfunction-createdatasetimportjob\", #replace with the name of the function you created\n",
    "        \"Payload\": {  \n",
    "           \"datasetimportjob\": \"stepfunction-createdatasetimportjob\",\n",
    "           \"dataset_arn.$\": '$.Payload.dataset_arn',\n",
    "           \"datasetGroupArn.$\": '$.Payload.datasetGroupArn',\n",
    "           \"bucket_name\": bucket,\n",
    "           \"file_name\": filename,\n",
    "           \"role_arn\": role_arn\n",
    "            \n",
    "        }\n",
    "    },\n",
    "\n",
    "    result_path = '$'\n",
    ")\n",
    "\n",
    "lambda_state_datasetimportjob.add_retry(Retry(\n",
    "    error_equals=[\"States.TaskFailed\"],\n",
    "    interval_seconds=5,\n",
    "    max_attempts=1,\n",
    "    backoff_rate=4.0\n",
    "))\n",
    "\n",
    "lambda_state_datasetimportjob.add_catch(Catch(\n",
    "    error_equals=[\"States.TaskFailed\"],\n",
    "    next_step=Fail(\"DatasetImportJobTaskFailed\")\n",
    "))"
   ]
  },
  {
   "cell_type": "markdown",
   "metadata": {},
   "source": [
    "#### 레시피 및 솔루션 생성"
   ]
  },
  {
   "cell_type": "code",
   "execution_count": null,
   "metadata": {},
   "outputs": [],
   "source": [
    "lambda_state_select_receipe_create_solution = LambdaStep(\n",
    "    state_id=\"select receipe and create solution\",\n",
    "    parameters={  \n",
    "        \"FunctionName\": \"stepfunction_select-recipe_create-solution\", #replace with the name of the function you created\n",
    "        \"Payload\": {  \n",
    "           #\"dataset_group_arn.$\": '$.Payload.datasetGroupArn' \n",
    "            \"dataset_group_arn.$\": '$.datasetGroupArn'\n",
    "        }\n",
    "    },\n",
    "    result_path = '$'\n",
    ")\n",
    "\n",
    "lambda_state_select_receipe_create_solution.add_retry(Retry(\n",
    "    error_equals=[\"States.TaskFailed\"],\n",
    "    interval_seconds=5,\n",
    "    max_attempts=1,\n",
    "    backoff_rate=4.0\n",
    "))\n",
    "\n",
    "lambda_state_select_receipe_create_solution.add_catch(Catch(\n",
    "    error_equals=[\"States.TaskFailed\"],\n",
    "    next_step=Fail(\"DatasetReceiptCreateSolutionTaskFailed\")\n",
    "))"
   ]
  },
  {
   "cell_type": "markdown",
   "metadata": {},
   "source": [
    "#### 솔루션 버전 생성"
   ]
  },
  {
   "cell_type": "code",
   "execution_count": null,
   "metadata": {},
   "outputs": [],
   "source": [
    "lambda_create_solution_version = LambdaStep(\n",
    "    state_id=\"create solution version\",\n",
    "    parameters={  \n",
    "        \"FunctionName\": \"stepfunction_create_solution_version\", \n",
    "        \"Payload\": {  \n",
    "           \"solution_arn.$\": '$.Payload.solution_arn'           \n",
    "        }\n",
    "    },\n",
    "    result_path = '$'\n",
    ")\n",
    "\n",
    "lambda_create_solution_version.add_retry(Retry(\n",
    "    error_equals=[\"States.TaskFailed\"],\n",
    "    interval_seconds=5,\n",
    "    max_attempts=1,\n",
    "    backoff_rate=4.0\n",
    "))\n",
    "\n",
    "lambda_create_solution_version.add_catch(Catch(\n",
    "    error_equals=[\"States.TaskFailed\"],\n",
    "    next_step=Fail(\"CreateSolutionVersionTaskFailed\")\n",
    "))"
   ]
  },
  {
   "cell_type": "markdown",
   "metadata": {},
   "source": [
    "#### 캠페인 생성"
   ]
  },
  {
   "cell_type": "code",
   "execution_count": null,
   "metadata": {},
   "outputs": [],
   "source": [
    "lambda_create_campaign = LambdaStep(\n",
    "    state_id=\"create campaign\",\n",
    "    parameters={  \n",
    "        \"FunctionName\": \"stepfunction_getsolution_metric_create_campaign\", \n",
    "        \"Payload\": {  \n",
    "            #\"solution_version_arn.$\": '$.Payload.solution_version_arn'  \n",
    "            \"solution_version_arn.$\": '$.solution_version_arn'\n",
    "        }\n",
    "    },\n",
    "    result_path = '$'\n",
    ")\n",
    "\n",
    "lambda_create_campaign.add_retry(Retry(\n",
    "    error_equals=[\"States.TaskFailed\"],\n",
    "    interval_seconds=5,\n",
    "    max_attempts=1,\n",
    "    backoff_rate=4.0\n",
    "))\n",
    "\n",
    "lambda_create_campaign.add_catch(Catch(\n",
    "    error_equals=[\"States.TaskFailed\"],\n",
    "    next_step=Fail(\"CreateCampaignTaskFailed\")\n",
    "))"
   ]
  },
  {
   "cell_type": "markdown",
   "metadata": {},
   "source": [
    "## 대기-상태\n",
    "\n",
    "#### Step Functions의 `Wait` 상태는 일정 시간 동안 대기합니다. AWS Step Functions Data Science SDK 설명서에서 [대기](https://aws-step-functions-data-science-sdk.readthedocs.io/en/latest/states.html#stepfunctions.steps.states.Wait)를 참조하세요."
   ]
  },
  {
   "cell_type": "markdown",
   "metadata": {},
   "source": [
    "#### 스키마가 준비될 때까지 대기"
   ]
  },
  {
   "cell_type": "code",
   "execution_count": null,
   "metadata": {},
   "outputs": [],
   "source": [
    "wait_state_schema = Wait(\n",
    "    state_id=\"Wait for create schema - 5 secs\",\n",
    "    seconds=5\n",
    ")"
   ]
  },
  {
   "cell_type": "markdown",
   "metadata": {},
   "source": [
    "#### 데이터 세트 그룹이 준비될 때까지 대기"
   ]
  },
  {
   "cell_type": "code",
   "execution_count": null,
   "metadata": {},
   "outputs": [],
   "source": [
    "wait_state_datasetgroup = Wait(\n",
    "    state_id=\"Wait for datasetgroup - 30 secs\",\n",
    "    seconds=30\n",
    ")"
   ]
  },
  {
   "cell_type": "markdown",
   "metadata": {},
   "source": [
    "#### 데이터 세트가 준비될 때까지 대기"
   ]
  },
  {
   "cell_type": "code",
   "execution_count": null,
   "metadata": {},
   "outputs": [],
   "source": [
    "wait_state_dataset = Wait(\n",
    "    state_id=\"wait for dataset - 30 secs\",\n",
    "    seconds=30\n",
    ")"
   ]
  },
  {
   "cell_type": "markdown",
   "metadata": {},
   "source": [
    "#### 데이터 세트 가져오기 작업이 활성 상태가 될 때까지 대기"
   ]
  },
  {
   "cell_type": "code",
   "execution_count": null,
   "metadata": {},
   "outputs": [],
   "source": [
    "wait_state_datasetimportjob = Wait(\n",
    "    state_id=\"Wait for datasetimportjob - 30 secs\",\n",
    "    seconds=30\n",
    ")"
   ]
  },
  {
   "cell_type": "markdown",
   "metadata": {},
   "source": [
    "#### 레시피가 준비될 때까지 대기"
   ]
  },
  {
   "cell_type": "code",
   "execution_count": null,
   "metadata": {},
   "outputs": [],
   "source": [
    "wait_state_receipe = Wait(\n",
    "    state_id=\"Wait for receipe - 30 secs\",\n",
    "    seconds=30\n",
    ")"
   ]
  },
  {
   "cell_type": "markdown",
   "metadata": {},
   "source": [
    "#### 솔루션 버전이 활성 상태가 될 때까지 대기"
   ]
  },
  {
   "cell_type": "code",
   "execution_count": null,
   "metadata": {},
   "outputs": [],
   "source": [
    "wait_state_solutionversion = Wait(\n",
    "    state_id=\"Wait for solution version - 60 secs\",\n",
    "    seconds=60\n",
    ")"
   ]
  },
  {
   "cell_type": "markdown",
   "metadata": {},
   "source": [
    "#### 캠페인이 활성 상태가 될 때까지 대기"
   ]
  },
  {
   "cell_type": "code",
   "execution_count": null,
   "metadata": {},
   "outputs": [],
   "source": [
    "wait_state_campaign = Wait(\n",
    "    state_id=\"Wait for Campaign - 30 secs\",\n",
    "    seconds=30\n",
    ")"
   ]
  },
  {
   "cell_type": "markdown",
   "metadata": {},
   "source": [
    "\n",
    "\n",
    "### Lambda 작업의 상태를 확인하고 그에 따라 조치를 취합니다."
   ]
  },
  {
   "cell_type": "markdown",
   "metadata": {},
   "source": [
    "#### 상태가 실패하면 `Fail` 상태로 넘어갑니다. AWS Step Functions Data Science SDK 설명서에서 [실패](https://aws-step-functions-data-science-sdk.readthedocs.io/en/latest/states.html#stepfunctions.steps.states.Fail)를 참조하세요."
   ]
  },
  {
   "cell_type": "markdown",
   "metadata": {},
   "source": [
    "### 데이터 세트 그룹 상태 확인"
   ]
  },
  {
   "cell_type": "code",
   "execution_count": null,
   "metadata": {},
   "outputs": [],
   "source": [
    "lambda_state_datasetgroupstatus = LambdaStep(\n",
    "    state_id=\"check dataset Group status\",\n",
    "    parameters={  \n",
    "        \"FunctionName\": \"stepfunction_waitforDatasetGroup\", #replace with the name of the function you created\n",
    "        \"Payload\": {  \n",
    "           \"input.$\": '$.Payload.datasetGroupArn',\n",
    "           \"schemaArn.$\": '$.Payload.schemaArn'\n",
    "        }\n",
    "    },\n",
    "    result_path = '$'\n",
    ")\n",
    "\n",
    "lambda_state_datasetgroupstatus.add_retry(Retry(\n",
    "    error_equals=[\"States.TaskFailed\"],\n",
    "    interval_seconds=5,\n",
    "    max_attempts=1,\n",
    "    backoff_rate=4.0\n",
    "))\n",
    "\n",
    "lambda_state_datasetgroupstatus.add_catch(Catch(\n",
    "    error_equals=[\"States.TaskFailed\"],\n",
    "    next_step=Fail(\"DatasetGroupStatusTaskFailed\")\n",
    "))"
   ]
  },
  {
   "cell_type": "markdown",
   "metadata": {},
   "source": [
    "### 데이터 세트 가져오기 작업 상태 확인"
   ]
  },
  {
   "cell_type": "code",
   "execution_count": null,
   "metadata": {},
   "outputs": [],
   "source": [
    "lambda_state_datasetimportjob_status = LambdaStep(\n",
    "    state_id=\"check dataset import job status\",\n",
    "    parameters={  \n",
    "        \"FunctionName\": \"stepfunction_waitfordatasetimportjob\", #replace with the name of the function you created\n",
    "        \"Payload\": {  \n",
    "           \"dataset_import_job_arn.$\": '$.Payload.dataset_import_job_arn',\n",
    "           \"datasetGroupArn.$\": '$.Payload.datasetGroupArn'\n",
    "        }\n",
    "    },\n",
    "    result_path = '$'\n",
    ")\n",
    "\n",
    "lambda_state_datasetimportjob_status.add_retry(Retry(\n",
    "    error_equals=[\"States.TaskFailed\"],\n",
    "    interval_seconds=5,\n",
    "    max_attempts=1,\n",
    "    backoff_rate=4.0\n",
    "))\n",
    "\n",
    "lambda_state_datasetimportjob_status.add_catch(Catch(\n",
    "    error_equals=[\"States.TaskFailed\"],\n",
    "    next_step=Fail(\"DatasetImportJobStatusTaskFailed\")\n",
    "))"
   ]
  },
  {
   "cell_type": "markdown",
   "metadata": {},
   "source": [
    "### 솔루션 버전 상태 확인"
   ]
  },
  {
   "cell_type": "code",
   "execution_count": null,
   "metadata": {},
   "outputs": [],
   "source": [
    "\n",
    "solutionversion_succeed_state = Succeed(\n",
    "    state_id=\"The Solution Version ready?\"\n",
    ")"
   ]
  },
  {
   "cell_type": "code",
   "execution_count": null,
   "metadata": {},
   "outputs": [],
   "source": [
    "lambda_state_solutionversion_status = LambdaStep(\n",
    "    state_id=\"check solution version status\",\n",
    "    parameters={  \n",
    "        \"FunctionName\": \"stepfunction_waitforSolutionVersion\", #replace with the name of the function you created\n",
    "        \"Payload\": {  \n",
    "           \"solution_version_arn.$\": '$.Payload.solution_version_arn'           \n",
    "        }\n",
    "    },\n",
    "    result_path = '$'\n",
    ")\n",
    "\n",
    "lambda_state_solutionversion_status.add_retry(Retry(\n",
    "    error_equals=[\"States.TaskFailed\"],\n",
    "    interval_seconds=5,\n",
    "    max_attempts=1,\n",
    "    backoff_rate=4.0\n",
    "))\n",
    "\n",
    "lambda_state_solutionversion_status.add_catch(Catch(\n",
    "    error_equals=[\"States.TaskFailed\"],\n",
    "    next_step=Fail(\"SolutionVersionStatusTaskFailed\")\n",
    "))"
   ]
  },
  {
   "cell_type": "markdown",
   "metadata": {},
   "source": [
    "### 캠페인 상태 확인"
   ]
  },
  {
   "cell_type": "code",
   "execution_count": null,
   "metadata": {},
   "outputs": [],
   "source": [
    "lambda_state_campaign_status = LambdaStep(\n",
    "    state_id=\"check campaign status\",\n",
    "    parameters={  \n",
    "        \"FunctionName\": \"stepfunction_waitforCampaign\", #replace with the name of the function you created\n",
    "        \"Payload\": {  \n",
    "           \"campaign_arn.$\": '$.Payload.campaign_arn'           \n",
    "        }\n",
    "    },\n",
    "    result_path = '$'\n",
    ")\n",
    "\n",
    "lambda_state_campaign_status.add_retry(Retry(\n",
    "    error_equals=[\"States.TaskFailed\"],\n",
    "    interval_seconds=5,\n",
    "    max_attempts=1,\n",
    "    backoff_rate=4.0\n",
    "))\n",
    "\n",
    "lambda_state_campaign_status.add_catch(Catch(\n",
    "    error_equals=[\"States.TaskFailed\"],\n",
    "    next_step=Fail(\"CampaignStatusTaskFailed\")\n",
    "))"
   ]
  },
  {
   "cell_type": "markdown",
   "metadata": {},
   "source": [
    "## 선택-상태\n",
    "\n",
    "이제 앞서 생성한 선택 상태에 분기를 연결합니다. [AWS Step Functions Data Science SDK 설명서](https://aws-step-functions-data-science-sdk.readthedocs.io)에서 선택 규칙을 참조하세요."
   ]
  },
  {
   "cell_type": "markdown",
   "metadata": {},
   "source": [
    "#### 워크플로 경로를 정의하기 위한 단계를 하나로 연결합니다.\n",
    "\n",
    "다음 셀은 위에서 생성한 단계를 순차적 그룹으로 연결합니다. 새 경로에는 앞서 생성한 Lambda 상태, 대기 상태 및 성공 상태가 순차적으로 포함됩니다.\n",
    "\n",
    "#### 워크플로 경로의 단계를 하나로 연결한 후에는 워크플로를 정의하고 시각화합니다."
   ]
  },
  {
   "cell_type": "code",
   "execution_count": null,
   "metadata": {},
   "outputs": [],
   "source": [
    "create_campaign_choice_state = Choice(\n",
    "    state_id=\"Is the Campaign ready?\"\n",
    ")"
   ]
  },
  {
   "cell_type": "code",
   "execution_count": null,
   "metadata": {},
   "outputs": [],
   "source": [
    "create_campaign_choice_state.add_choice(\n",
    "    rule=ChoiceRule.StringEquals(variable=lambda_state_campaign_status.output()['Payload']['status'], value='ACTIVE'),\n",
    "    next_step=Succeed(\"CampaignCreatedSuccessfully\")     \n",
    ")\n",
    "create_campaign_choice_state.add_choice(\n",
    "    ChoiceRule.StringEquals(variable=lambda_state_campaign_status.output()['Payload']['status'], value='CREATE PENDING'),\n",
    "    next_step=wait_state_campaign\n",
    ")\n",
    "create_campaign_choice_state.add_choice(\n",
    "    ChoiceRule.StringEquals(variable=lambda_state_campaign_status.output()['Payload']['status'], value='CREATE IN_PROGRESS'),\n",
    "    next_step=wait_state_campaign\n",
    ")\n",
    "\n",
    "create_campaign_choice_state.default_choice(next_step=Fail(\"CreateCampaignFailed\"))\n"
   ]
  },
  {
   "cell_type": "code",
   "execution_count": null,
   "metadata": {},
   "outputs": [],
   "source": [
    "solutionversion_choice_state = Choice(\n",
    "    state_id=\"Is the Solution Version ready?\"\n",
    ")"
   ]
  },
  {
   "cell_type": "code",
   "execution_count": null,
   "metadata": {},
   "outputs": [],
   "source": [
    "solutionversion_succeed_state = Succeed(\n",
    "    state_id=\"The Solution Version ready?\"\n",
    ")"
   ]
  },
  {
   "cell_type": "code",
   "execution_count": null,
   "metadata": {},
   "outputs": [],
   "source": [
    "solutionversion_choice_state.add_choice(\n",
    "    rule=ChoiceRule.StringEquals(variable=lambda_state_solutionversion_status.output()['Payload']['status'], value='ACTIVE'),\n",
    "    next_step=solutionversion_succeed_state   \n",
    ")\n",
    "solutionversion_choice_state.add_choice(\n",
    "    ChoiceRule.StringEquals(variable=lambda_state_solutionversion_status.output()['Payload']['status'], value='CREATE PENDING'),\n",
    "    next_step=wait_state_solutionversion\n",
    ")\n",
    "solutionversion_choice_state.add_choice(\n",
    "    ChoiceRule.StringEquals(variable=lambda_state_solutionversion_status.output()['Payload']['status'], value='CREATE IN_PROGRESS'),\n",
    "    next_step=wait_state_solutionversion\n",
    ")\n",
    "\n",
    "solutionversion_choice_state.default_choice(next_step=Fail(\"create_solution_version_failed\"))\n"
   ]
  },
  {
   "cell_type": "code",
   "execution_count": null,
   "metadata": {},
   "outputs": [],
   "source": [
    "datasetimportjob_succeed_state = Succeed(\n",
    "    state_id=\"The Solution Version ready?\"\n",
    ")"
   ]
  },
  {
   "cell_type": "code",
   "execution_count": null,
   "metadata": {},
   "outputs": [],
   "source": [
    "datasetimportjob_choice_state = Choice(\n",
    "    state_id=\"Is the DataSet Import Job ready?\"\n",
    ")"
   ]
  },
  {
   "cell_type": "code",
   "execution_count": null,
   "metadata": {},
   "outputs": [],
   "source": [
    "datasetimportjob_choice_state.add_choice(\n",
    "    rule=ChoiceRule.StringEquals(variable=lambda_state_datasetimportjob_status.output()['Payload']['status'], value='ACTIVE'),\n",
    "    next_step=datasetimportjob_succeed_state   \n",
    ")\n",
    "datasetimportjob_choice_state.add_choice(\n",
    "    ChoiceRule.StringEquals(variable=lambda_state_datasetimportjob_status.output()['Payload']['status'], value='CREATE PENDING'),\n",
    "    next_step=wait_state_datasetimportjob\n",
    ")\n",
    "datasetimportjob_choice_state.add_choice(\n",
    "    ChoiceRule.StringEquals(variable=lambda_state_datasetimportjob_status.output()['Payload']['status'], value='CREATE IN_PROGRESS'),\n",
    "    next_step=wait_state_datasetimportjob\n",
    ")\n",
    "\n",
    "\n",
    "datasetimportjob_choice_state.default_choice(next_step=Fail(\"dataset_import_job_failed\"))\n"
   ]
  },
  {
   "cell_type": "code",
   "execution_count": null,
   "metadata": {},
   "outputs": [],
   "source": [
    "datasetgroupstatus_choice_state = Choice(\n",
    "    state_id=\"Is the DataSetGroup ready?\"\n",
    ")"
   ]
  },
  {
   "cell_type": "markdown",
   "metadata": {},
   "source": [
    "## 워크플로"
   ]
  },
  {
   "cell_type": "markdown",
   "metadata": {},
   "source": [
    "### 워크플로 정의\n",
    "\n",
    "다음 셀에서는 워크플로에서 사용할 단계를 정의합니다. 그런 다음 워크플로를 생성하고 시각화하고 실행합니다.\n",
    "\n",
    "단계는 AWS Step Functions의 상태와 관련이 있습니다. 자세한 내용은 AWS Step Functions 개발자 가이드에서 [상태](https://docs.aws.amazon.com/step-functions/latest/dg/concepts-states.html)를 참조하세요. AWS Step Functions Data Science SDK API에 대한 자세한 내용은 https://aws-step-functions-data-science-sdk.readthedocs.io를 참조하세요.\n",
    "\n",
    "\n"
   ]
  },
  {
   "cell_type": "markdown",
   "metadata": {},
   "source": [
    "### 데이터 세트 워크플로"
   ]
  },
  {
   "cell_type": "code",
   "execution_count": null,
   "metadata": {},
   "outputs": [],
   "source": [
    "Dataset_workflow_definition=Chain([lambda_state_schema,\n",
    "                                   wait_state_schema,\n",
    "                                   lambda_state_datasetgroup,\n",
    "                                   wait_state_datasetgroup,\n",
    "                                   lambda_state_datasetgroupstatus\n",
    "                                  ])"
   ]
  },
  {
   "cell_type": "code",
   "execution_count": null,
   "metadata": {},
   "outputs": [],
   "source": [
    "Dataset_workflow = Workflow(\n",
    "    name=\"Dataset-workflow\",\n",
    "    definition=Dataset_workflow_definition,\n",
    "    role=workflow_execution_role\n",
    ")"
   ]
  },
  {
   "cell_type": "code",
   "execution_count": null,
   "metadata": {},
   "outputs": [],
   "source": [
    "Dataset_workflow.render_graph()"
   ]
  },
  {
   "cell_type": "code",
   "execution_count": null,
   "metadata": {},
   "outputs": [],
   "source": [
    "DatasetWorkflowArn = Dataset_workflow.create()"
   ]
  },
  {
   "cell_type": "markdown",
   "metadata": {},
   "source": [
    "### 데이터 세트 가져오기 워크플로"
   ]
  },
  {
   "cell_type": "code",
   "execution_count": null,
   "metadata": {},
   "outputs": [],
   "source": [
    "DatasetImport_workflow_definition=Chain([lambda_state_createdataset,\n",
    "                                   wait_state_dataset,\n",
    "                                   lambda_state_datasetimportjob,\n",
    "                                   wait_state_datasetimportjob,\n",
    "                                   lambda_state_datasetimportjob_status,\n",
    "                                   datasetimportjob_choice_state\n",
    "                                  ])"
   ]
  },
  {
   "cell_type": "code",
   "execution_count": null,
   "metadata": {},
   "outputs": [],
   "source": [
    "DatasetImport_workflow = Workflow(\n",
    "    name=\"DatasetImport-workflow\",\n",
    "    definition=DatasetImport_workflow_definition,\n",
    "    role=workflow_execution_role\n",
    ")"
   ]
  },
  {
   "cell_type": "code",
   "execution_count": null,
   "metadata": {},
   "outputs": [],
   "source": [
    "DatasetImport_workflow.render_graph()"
   ]
  },
  {
   "cell_type": "code",
   "execution_count": null,
   "metadata": {},
   "outputs": [],
   "source": [
    "DatasetImportflowArn = DatasetImport_workflow.create()"
   ]
  },
  {
   "cell_type": "markdown",
   "metadata": {},
   "source": [
    "레시피 및 솔루션 워크플로"
   ]
  },
  {
   "cell_type": "code",
   "execution_count": null,
   "metadata": {},
   "outputs": [],
   "source": [
    "Create_receipe_sol_workflow_definition=Chain([lambda_state_select_receipe_create_solution,\n",
    "                                   wait_state_receipe,\n",
    "                                   lambda_create_solution_version,\n",
    "                                   wait_state_solutionversion,\n",
    "                                   lambda_state_solutionversion_status,\n",
    "                                   solutionversion_choice_state\n",
    "                                  ])"
   ]
  },
  {
   "cell_type": "code",
   "execution_count": null,
   "metadata": {},
   "outputs": [],
   "source": [
    "Create_receipe_sol_workflow = Workflow(\n",
    "    name=\"Create_receipe_sol-workflow\",\n",
    "    definition=Create_receipe_sol_workflow_definition,\n",
    "    role=workflow_execution_role\n",
    ")"
   ]
  },
  {
   "cell_type": "code",
   "execution_count": null,
   "metadata": {},
   "outputs": [],
   "source": [
    "Create_receipe_sol_workflow.render_graph()"
   ]
  },
  {
   "cell_type": "code",
   "execution_count": null,
   "metadata": {},
   "outputs": [],
   "source": [
    "CreateReceipeArn = Create_receipe_sol_workflow.create()"
   ]
  },
  {
   "cell_type": "markdown",
   "metadata": {},
   "source": [
    "캠페인 생성 워크플로"
   ]
  },
  {
   "cell_type": "code",
   "execution_count": null,
   "metadata": {},
   "outputs": [],
   "source": [
    "Create_Campaign_workflow_definition=Chain([lambda_create_campaign,\n",
    "                                   wait_state_campaign,\n",
    "                                   lambda_state_campaign_status,\n",
    "                                   wait_state_datasetimportjob,\n",
    "                                   create_campaign_choice_state\n",
    "                                  ])"
   ]
  },
  {
   "cell_type": "code",
   "execution_count": null,
   "metadata": {},
   "outputs": [],
   "source": [
    "Campaign_workflow = Workflow(\n",
    "    name=\"Campaign-workflow\",\n",
    "    definition=Create_Campaign_workflow_definition,\n",
    "    role=workflow_execution_role\n",
    ")"
   ]
  },
  {
   "cell_type": "code",
   "execution_count": null,
   "metadata": {},
   "outputs": [],
   "source": [
    "Campaign_workflow.render_graph()"
   ]
  },
  {
   "cell_type": "code",
   "execution_count": null,
   "metadata": {},
   "outputs": [],
   "source": [
    "CreateCampaignArn = Campaign_workflow.create()"
   ]
  },
  {
   "cell_type": "markdown",
   "metadata": {},
   "source": [
    "기본 워크플로"
   ]
  },
  {
   "cell_type": "code",
   "execution_count": null,
   "metadata": {},
   "outputs": [],
   "source": [
    "call_dataset_workflow_state = Task(\n",
    "    state_id=\"DataSetWorkflow\",\n",
    "    resource=\"arn:aws:states:::states:startExecution.sync:2\",\n",
    "    parameters={\n",
    "                                \"Input\": \"true\",\n",
    "                                #\"StateMachineArn\": \"arn:aws:states:us-east-1:444602785259:stateMachine:Dataset-workflow\",\n",
    "                                \"StateMachineArn\": DatasetWorkflowArn\n",
    "                }\n",
    ")"
   ]
  },
  {
   "cell_type": "code",
   "execution_count": null,
   "metadata": {},
   "outputs": [],
   "source": [
    "call_datasetImport_workflow_state = Task(\n",
    "    state_id=\"DataSetImportWorkflow\",\n",
    "    resource=\"arn:aws:states:::states:startExecution.sync:2\",\n",
    "    parameters={\n",
    "                                 \"Input\":{\n",
    "                                    \"schemaArn.$\": \"$.Output.Payload.schemaArn\",\n",
    "                                    \"datasetGroupArn.$\": \"$.Output.Payload.datasetGroupArn\"\n",
    "                                   },\n",
    "                                \"StateMachineArn\": DatasetImportflowArn,\n",
    "                }\n",
    ")"
   ]
  },
  {
   "cell_type": "code",
   "execution_count": null,
   "metadata": {},
   "outputs": [],
   "source": [
    "call_receipe_solution_workflow_state = Task(\n",
    "    state_id=\"ReceipeSolutionWorkflow\",\n",
    "    resource=\"arn:aws:states:::states:startExecution.sync:2\",\n",
    "    parameters={\n",
    "                                 \"Input\":{\n",
    "                                    \"datasetGroupArn.$\": \"$.Output.Payload.datasetGroupArn\"\n",
    "\n",
    "                                   },\n",
    "                                \"StateMachineArn\": CreateReceipeArn\n",
    "                }\n",
    ")"
   ]
  },
  {
   "cell_type": "code",
   "execution_count": null,
   "metadata": {},
   "outputs": [],
   "source": [
    "call_campaign_solution_workflow_state = Task(\n",
    "    state_id=\"CampaignWorkflow\",\n",
    "    resource=\"arn:aws:states:::states:startExecution.sync:2\",\n",
    "    parameters={\n",
    "                                 \"Input\":{\n",
    "                                    \"solution_version_arn.$\": \"$.Output.Payload.solution_version_arn\"\n",
    "\n",
    "                                   },\n",
    "                                \"StateMachineArn\": CreateCampaignArn\n",
    "                }\n",
    ")"
   ]
  },
  {
   "cell_type": "code",
   "execution_count": null,
   "metadata": {},
   "outputs": [],
   "source": [
    "Main_workflow_definition=Chain([call_dataset_workflow_state,\n",
    "                                call_datasetImport_workflow_state,\n",
    "                                call_receipe_solution_workflow_state,\n",
    "                                call_campaign_solution_workflow_state\n",
    "                               ])"
   ]
  },
  {
   "cell_type": "code",
   "execution_count": null,
   "metadata": {},
   "outputs": [],
   "source": [
    "Main_workflow = Workflow(\n",
    "    name=\"Main-workflow\",\n",
    "    definition=Main_workflow_definition,\n",
    "    role=workflow_execution_role\n",
    ")"
   ]
  },
  {
   "cell_type": "code",
   "execution_count": null,
   "metadata": {},
   "outputs": [],
   "source": [
    "Main_workflow.render_graph()"
   ]
  },
  {
   "cell_type": "code",
   "execution_count": null,
   "metadata": {},
   "outputs": [],
   "source": [
    "Main_workflow.create()"
   ]
  },
  {
   "cell_type": "code",
   "execution_count": null,
   "metadata": {},
   "outputs": [],
   "source": [
    "Main_workflow_execution = Main_workflow.execute()"
   ]
  },
  {
   "cell_type": "markdown",
   "metadata": {},
   "source": [
    "Main_workflow_execution = Workflow(\n",
    "    name=\"Campaign_Workflow\",\n",
    "    definition=path1,\n",
    "    role=workflow_execution_role\n",
    ")\n"
   ]
  },
  {
   "cell_type": "code",
   "execution_count": null,
   "metadata": {},
   "outputs": [],
   "source": []
  },
  {
   "cell_type": "code",
   "execution_count": null,
   "metadata": {},
   "outputs": [],
   "source": [
    "#Main_workflow_execution.render_graph()"
   ]
  },
  {
   "cell_type": "markdown",
   "metadata": {},
   "source": [
    "### 워크플로 생성 및 실행\n",
    "\n",
    "다음 셀에서는 AWS Step Functions에서 [create](https://aws-step-functions-data-science-sdk.readthedocs.io/en/latest/workflow.html#stepfunctions.workflow.Workflow.create)를 사용하여 분기하는 행복 워크플로를 생성하고 [execute](https://aws-step-functions-data-science-sdk.readthedocs.io/en/latest/workflow.html#stepfunctions.workflow.Workflow.execute)를 사용하여 실행합니다.\n"
   ]
  },
  {
   "cell_type": "code",
   "execution_count": null,
   "metadata": {},
   "outputs": [],
   "source": [
    "#personalize_workflow.create()"
   ]
  },
  {
   "cell_type": "code",
   "execution_count": null,
   "metadata": {},
   "outputs": [],
   "source": [
    "#personalize_workflow_execution = happy_workflow.execute()"
   ]
  },
  {
   "cell_type": "markdown",
   "metadata": {},
   "source": [
    "###  워크플로 진행 검토\n",
    "\n",
    "[render_progress](https://aws-step-functions-data-science-sdk.readthedocs.io/en/latest/workflow.html#stepfunctions.workflow.Execution.render_progress)를 사용하여 워크플로 진행을 검토합니다.\n",
    "\n",
    "[list_events](https://aws-step-functions-data-science-sdk.readthedocs.io/en/latest/workflow.html#stepfunctions.workflow.Execution.list_events)를 호출하여 워크플로 실행의 모든 이벤트를 나열하면서 실행 기록을 검토합니다."
   ]
  },
  {
   "cell_type": "code",
   "execution_count": null,
   "metadata": {},
   "outputs": [],
   "source": [
    "Main_workflow_execution.render_progress()"
   ]
  },
  {
   "cell_type": "code",
   "execution_count": null,
   "metadata": {},
   "outputs": [],
   "source": [
    "Main_workflow_execution.list_events(html=True)"
   ]
  },
  {
   "cell_type": "markdown",
   "metadata": {},
   "source": [
    "## 생성-추천"
   ]
  },
  {
   "cell_type": "markdown",
   "metadata": {},
   "source": [
    "### 이제 캠페인을 생성했으므로 캠페인에 대한 추천을 생성해 보겠습니다."
   ]
  },
  {
   "cell_type": "markdown",
   "metadata": {},
   "source": [
    "#### 사용자 및 항목 선택"
   ]
  },
  {
   "cell_type": "code",
   "execution_count": null,
   "metadata": {},
   "outputs": [],
   "source": [
    "items = pd.read_csv('./ml-100k/u.item', sep='|', usecols=[0,1], encoding='latin-1')\n",
    "items.columns = ['ITEM_ID', 'TITLE']\n",
    "\n",
    "\n",
    "user_id, item_id, rating, timestamp = data.sample().values[0]\n",
    "\n",
    "user_id = int(user_id)\n",
    "item_id = int(item_id)\n",
    "\n",
    "print(\"user_id\",user_id)\n",
    "print(\"items\",items)\n",
    "\n",
    "\n",
    "item_title = items.loc[items['ITEM_ID'] == item_id].values[0][-1]\n",
    "print(\"USER: {}\".format(user_id))\n",
    "print(\"ITEM: {}\".format(item_title))\n",
    "print(\"ITEM ID: {}\".format(item_id))\n"
   ]
  },
  {
   "cell_type": "code",
   "execution_count": null,
   "metadata": {},
   "outputs": [],
   "source": [
    "wait_recommendations = Wait(\n",
    "    state_id=\"Wait for recommendations - 10 secs\",\n",
    "    seconds=10\n",
    ")"
   ]
  },
  {
   "cell_type": "markdown",
   "metadata": {},
   "source": [
    "#### Lambda 작업"
   ]
  },
  {
   "cell_type": "code",
   "execution_count": null,
   "metadata": {},
   "outputs": [],
   "source": [
    "lambda_state_get_recommendations = LambdaStep(\n",
    "    state_id=\"get recommendations\",\n",
    "    parameters={  \n",
    "        \"FunctionName\": \"stepfunction_getRecommendations\", \n",
    "        \"Payload\": {  \n",
    "           \"campaign_arn\": 'arn:aws:personalize:us-east-1:261602857181:campaign/stepfunction-campaign',            \n",
    "           \"user_id\": user_id,  \n",
    "           \"item_id\": item_id             \n",
    "        }\n",
    "    },\n",
    "    result_path = '$'\n",
    ")\n",
    "\n",
    "lambda_state_get_recommendations.add_retry(Retry(\n",
    "    error_equals=[\"States.TaskFailed\"],\n",
    "    interval_seconds=5,\n",
    "    max_attempts=1,\n",
    "    backoff_rate=4.0\n",
    "))\n",
    "\n",
    "lambda_state_get_recommendations.add_catch(Catch(\n",
    "    error_equals=[\"States.TaskFailed\"],\n",
    "    next_step=Fail(\"GetRecommendationTaskFailed\")\n",
    "    #next_step=recommendation_path   \n",
    "))"
   ]
  },
  {
   "cell_type": "markdown",
   "metadata": {},
   "source": [
    "#### 성공 상태 생성"
   ]
  },
  {
   "cell_type": "code",
   "execution_count": null,
   "metadata": {},
   "outputs": [],
   "source": [
    "workflow_complete = Succeed(\"WorkflowComplete\")"
   ]
  },
  {
   "cell_type": "code",
   "execution_count": null,
   "metadata": {},
   "outputs": [],
   "source": [
    "recommendation_path = Chain([ \n",
    "lambda_state_get_recommendations,\n",
    "wait_recommendations,\n",
    "workflow_complete\n",
    "])"
   ]
  },
  {
   "cell_type": "markdown",
   "metadata": {},
   "source": [
    "### 추천 워크플로 정의, 생성, 렌더링 및 실행\n",
    "\n",
    "다음 셀에서는 AWS Step Functions에서 [create](https://aws-step-functions-data-science-sdk.readthedocs.io/en/latest/workflow.html#stepfunctions.workflow.Workflow.create)를 사용하여 워크플로를 생성하고 [execute](https://aws-step-functions-data-science-sdk.readthedocs.io/en/latest/workflow.html#stepfunctions.workflow.Workflow.execute)를 사용하여 실행합니다."
   ]
  },
  {
   "cell_type": "code",
   "execution_count": null,
   "metadata": {},
   "outputs": [],
   "source": [
    "recommendation_workflow = Workflow(\n",
    "    name=\"Recommendation_Workflow4\",\n",
    "    definition=recommendation_path,\n",
    "    role=workflow_execution_role\n",
    ")\n",
    "\n"
   ]
  },
  {
   "cell_type": "code",
   "execution_count": null,
   "metadata": {},
   "outputs": [],
   "source": [
    "recommendation_workflow.render_graph()"
   ]
  },
  {
   "cell_type": "code",
   "execution_count": null,
   "metadata": {},
   "outputs": [],
   "source": [
    "recommendation_workflow.create()"
   ]
  },
  {
   "cell_type": "code",
   "execution_count": null,
   "metadata": {},
   "outputs": [],
   "source": [
    "recommendation_workflow_execution = recommendation_workflow.execute()"
   ]
  },
  {
   "cell_type": "code",
   "execution_count": null,
   "metadata": {},
   "outputs": [],
   "source": []
  },
  {
   "cell_type": "markdown",
   "metadata": {},
   "source": [
    "### 진행 검토\n",
    "\n",
    "[render_progress](https://aws-step-functions-data-science-sdk.readthedocs.io/en/latest/workflow.html#stepfunctions.workflow.Execution.render_progress)를 사용하여 워크플로 진행을 검토합니다.\n",
    "\n",
    "[list_events](https://aws-step-functions-data-science-sdk.readthedocs.io/en/latest/workflow.html#stepfunctions.workflow.Execution.list_events)를 호출하여 워크플로 실행의 모든 이벤트를 나열하면서 실행 기록을 검토합니다."
   ]
  },
  {
   "cell_type": "code",
   "execution_count": null,
   "metadata": {},
   "outputs": [],
   "source": [
    "recommendation_workflow_execution.render_progress()"
   ]
  },
  {
   "cell_type": "code",
   "execution_count": null,
   "metadata": {
    "scrolled": false
   },
   "outputs": [],
   "source": [
    "recommendation_workflow_execution.list_events(html=True)\n"
   ]
  },
  {
   "cell_type": "code",
   "execution_count": null,
   "metadata": {},
   "outputs": [],
   "source": [
    "item_list = recommendation_workflow_execution.get_output()['Payload']['item_list']"
   ]
  },
  {
   "cell_type": "markdown",
   "metadata": {},
   "source": [
    "### 추천 받기"
   ]
  },
  {
   "cell_type": "code",
   "execution_count": null,
   "metadata": {},
   "outputs": [],
   "source": [
    "item_list = recommendation_workflow_execution.get_output()['Payload']['item_list']\n",
    "\n",
    "print(\"Recommendations:\")\n",
    "for item in item_list:\n",
    "    np.int(item['itemId'])\n",
    "    item_title = items.loc[items['ITEM_ID'] == np.int(item['itemId'])].values[0][-1]\n",
    "    print(item_title)\n"
   ]
  },
  {
   "cell_type": "markdown",
   "metadata": {},
   "source": [
    "## Amazon Personalize 리소스 정리"
   ]
  },
  {
   "cell_type": "markdown",
   "metadata": {},
   "source": [
    "Amazon Personalize 및 상태 시스템에서 생성된 블로그를 정리해야 합니다. Amazon Personalize 콘솔에 로그인하고 데이터 세트 그룹, 데이터 세트, 솔루션, 레시피, 캠페인 등의 리소스를 삭제합니다. "
   ]
  },
  {
   "cell_type": "markdown",
   "metadata": {},
   "source": [
    "## 상태 시스템 리소스 정리"
   ]
  },
  {
   "cell_type": "code",
   "execution_count": null,
   "metadata": {},
   "outputs": [],
   "source": [
    "Campaign_workflow.delete()\n",
    "\n",
    "recommendation_workflow.delete()\n",
    "\n",
    "Main_workflow.delete()\n",
    "\n",
    "Create_receipe_sol_workflow.delete()\n",
    "\n",
    "DatasetImport_workflow.delete()\n",
    "\n",
    "Dataset_workflow.delete()\n"
   ]
  },
  {
   "cell_type": "code",
   "execution_count": null,
   "metadata": {},
   "outputs": [],
   "source": []
  }
 ],
 "metadata": {
  "kernelspec": {
   "display_name": "conda_python3",
   "language": "python",
   "name": "conda_python3"
  },
  "language_info": {
   "codemirror_mode": {
    "name": "ipython",
    "version": 3
   },
   "file_extension": ".py",
   "mimetype": "text/x-python",
   "name": "python",
   "nbconvert_exporter": "python",
   "pygments_lexer": "ipython3",
   "version": "3.6.5"
  }
 },
 "nbformat": 4,
 "nbformat_minor": 2
}
