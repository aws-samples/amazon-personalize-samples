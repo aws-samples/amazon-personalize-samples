{
 "cells": [
  {
   "cell_type": "markdown",
   "metadata": {},
   "source": [
    "# S3로 이벤트 전송\n",
    "\n",
    "이 노트북은 매우 간단하며 Amazon Personalize를 위한 사용자 상호 작용을 기반으로 이벤트를 개별 JSON 파일로 S3로 보내는 코드만 제공합니다."
   ]
  },
  {
   "cell_type": "markdown",
   "metadata": {},
   "source": [
    "## 설정"
   ]
  },
  {
   "cell_type": "code",
   "execution_count": null,
   "metadata": {},
   "outputs": [],
   "source": [
    "# Imports\n",
    "import boto3\n",
    "import json\n",
    "import numpy as np\n",
    "import pandas as pd\n",
    "import time\n",
    "import uuid"
   ]
  },
  {
   "cell_type": "markdown",
   "metadata": {},
   "source": [
    "아래의 캠페인 및 데이터 세트 ARN을 업데이트해야 합니다."
   ]
  },
  {
   "cell_type": "code",
   "execution_count": null,
   "metadata": {},
   "outputs": [],
   "source": [
    "# Setup and Config\n",
    "# Recommendations from Event data\n",
    "personalize = boto3.client('personalize')\n",
    "personalize_runtime = boto3.client('personalize-runtime')\n",
    "\n",
    "# Campaign ARN\n",
    "Campaign_ARN = \"arn:aws:personalize:us-east-1:059124553121:campaign/personalize-demo-camp\"\n",
    "\n",
    "# Dataset Group Arn:\n",
    "datasetGroupArn = \"arn:aws:personalize:us-east-1:059124553121:dataset-group/personalize-lambda-demo\"\n",
    "\n",
    "# Establish a connection to Personalize's Event Streaming\n",
    "personalize_events = boto3.client(service_name='personalize-events')\n",
    "\n",
    "\n",
    "# S3 Configuration\n",
    "bucket = \"personalizedemo9000chris\""
   ]
  },
  {
   "cell_type": "markdown",
   "metadata": {},
   "source": [
    "## 가짜 이벤트\n",
    "\n",
    "이 코드에서는 MovieLens 데이터 세트에 존재하는 것으로 알려진 3명의 사용자를 사용합니다.\n",
    "\n",
    "1. 196\n",
    "2. 13\n",
    "3. 198\n",
    "\n",
    "이들 사용자는 무작위로 선택되었습니다. 이제 이들 사용자가 상호 작용할 수 있는 3편의 영화를 무작위로 선택하겠습니다.\n",
    "\n",
    "1. 225\n",
    "2. 203\n",
    "3. 242\n",
    "\n",
    "각 사용자는 각각의 영화와 상호 작용하며, 각 상호 작용은 S3에 고유한 JSON 파일로 기록됩니다."
   ]
  },
  {
   "cell_type": "code",
   "execution_count": null,
   "metadata": {},
   "outputs": [],
   "source": [
    "users = [\"196\", \"13\", \"198\"]\n",
    "items = [\"225\", \"203\", \"242\"]"
   ]
  },
  {
   "cell_type": "code",
   "execution_count": null,
   "metadata": {},
   "outputs": [],
   "source": [
    "def write_interaction_to_JSON(user, item):\n",
    "    # An event needs a user, session, time, type, and a properties dictionary.\n",
    "    time_of_interaction = int(time.time())\n",
    "    # This is set for simplification\n",
    "    session_id = user\n",
    "    user_id = user\n",
    "    event_type = \"watched\"\n",
    "    properties = {\n",
    "        'itemId': str(item)\n",
    "    }\n",
    "    properties = json.dumps(properties)\n",
    "    \n",
    "    event_headers = {\n",
    "        'userId': user,\n",
    "        'sessionId': session_id\n",
    "    }\n",
    "    \n",
    "    event_content = {\n",
    "        'sentAt': time_of_interaction,\n",
    "        'eventType': event_type,\n",
    "        'properties': properties\n",
    "    }\n",
    "    event_list = [event_content]\n",
    "    json_struct = [event_headers, event_content]\n",
    "    json_filename = str(time_of_interaction) + \".json\"\n",
    "    \n",
    "    with open(json_filename, 'w') as outfile:\n",
    "        json.dump(json_struct, outfile)\n",
    "    \n",
    "    return json_filename\n",
    "\n",
    "def send_interactions_to_s3():\n",
    "    for user in users:\n",
    "        for item in items:\n",
    "            filename = write_interaction_to_JSON(user, item)\n",
    "            boto3.Session().resource('s3').Bucket(bucket).Object(filename).upload_file(filename)\n",
    "            print(filename)\n",
    "            # Sleep needed to make sure everyone gets a nice new timestamp\n",
    "            time.sleep(2)\n",
    "            "
   ]
  },
  {
   "cell_type": "code",
   "execution_count": null,
   "metadata": {},
   "outputs": [],
   "source": [
    "send_interactions_to_s3()"
   ]
  },
  {
   "cell_type": "code",
   "execution_count": null,
   "metadata": {},
   "outputs": [],
   "source": [
    "# The code below is just to explore what to put in our Lambda:\n",
    "\n",
    "with open(\"1568076414.json\", 'r') as input_file:\n",
    "    content = json.loads(input_file.read())\n",
    "    # assume tracking ID was provided via an environment variable and replace\n",
    "    trackingId = \"a68baf70-f0f2-4c66-af2d-e11047a0372f\"\n",
    "    print(content[0]['userId'])\n",
    "    \n",
    "    personalize_events.put_events(\n",
    "        trackingId = trackingId,\n",
    "        userId = content[0]['userId'],\n",
    "        sessionId = content[0]['sessionId'],\n",
    "        eventList = [content[1]]\n",
    "    )"
   ]
  },
  {
   "cell_type": "code",
   "execution_count": null,
   "metadata": {},
   "outputs": [],
   "source": []
  }
 ],
 "metadata": {
  "kernelspec": {
   "display_name": "conda_python3",
   "language": "python",
   "name": "conda_python3"
  },
  "language_info": {
   "codemirror_mode": {
    "name": "ipython",
    "version": 3
   },
   "file_extension": ".py",
   "mimetype": "text/x-python",
   "name": "python",
   "nbconvert_exporter": "python",
   "pygments_lexer": "ipython3",
   "version": "3.6.5"
  }
 },
 "nbformat": 4,
 "nbformat_minor": 4
}
