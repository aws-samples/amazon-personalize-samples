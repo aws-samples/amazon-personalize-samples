{
 "cells": [
  {
   "cell_type": "markdown",
   "id": "73659180",
   "metadata": {},
   "source": [
    "# Créer votre premier mécanisme de recommandation pour le commerce électronique\n",
    "\n",
    "Ce bloc-notes vous guide dans les étapes de la création d'un groupe de jeux de données de domaine et d'un mécanisme de recommandation qui renvoie des recommandations de produits basées sur les données générées pour notre jeu de données de magasin de détail fictif. L'objectif est de recommander des produits pertinents en fonction d'un utilisateur donné.\n",
    "\n",
    "Ces données synthétiques proviennent du [projet Retail Demo Store](https://github.com/aws-samples/retail-demo-store). Suivez le lien pour en savoir plus sur les données et les utilisations potentielles.\n",
    "\n",
    "# Comment utiliser le bloc-notes\n",
    "\n",
    "Le code est divisé en cellules comme celui donné ci-dessous. Il y a un bouton Exécuter triangulaire en haut de cette page qui vous permet d'exécuter chaque cellule et de passer à la suivante, ou vous pouvez appuyer sur `Shift` + `Enter` lorsque vous êtes dans la cellule pour l'exécuter et passer à la suivante.\n",
    "\n",
    "Lorsqu'une cellule est en cours d'exécution, vous remarquerez une ligne sur le coté affichant une `*` pendant que la cellule est opérationnelle ou elle se mettra à jour sous forme de nombre pour indiquer la dernière cellule qui a terminé l'exécution après avoir achevé l'exécution de tous les codes dans une cellule.\n",
    "\n",
    "Il suffit de suivre les instructions ci-dessous et d'exécuter les cellules pour commencer avec Amazon Personalize en utilisant des mécanismes de recommandation optimisés pour les cas."
   ]
  },
  {
   "cell_type": "markdown",
   "id": "d8e03886",
   "metadata": {},
   "source": [
    "## Importations\n",
    "Python est livré avec une large gamme de bibliothèques. Nous devons les importer, ainsi que celles qui sont installées pour nous aider, comme [boto3](https://aws.amazon.com/sdk-for-python/) (AWS SDK pour python) et [Pandas](https://pandas.pydata.org/)/[Numpy](https://numpy.org/), qui sont des outils essentiels pour la science des données."
   ]
  },
  {
   "cell_type": "code",
   "execution_count": null,
   "id": "209102c8",
   "metadata": {},
   "outputs": [],
   "source": [
    "# Imports\n",
    "import boto3\n",
    "import json\n",
    "import numpy as np\n",
    "import pandas as pd\n",
    "import time\n",
    "import datetime"
   ]
  },
  {
   "cell_type": "markdown",
   "id": "0f9548ad",
   "metadata": {},
   "source": [
    "Ensuite, vous devez vérifier que votre environnement peut communiquer avec Amazon Personalize. Les lignes ci-dessous servent à cela."
   ]
  },
  {
   "cell_type": "code",
   "execution_count": null,
   "id": "4fe95d91",
   "metadata": {},
   "outputs": [],
   "source": [
    "# Configure the SDK to Personalize:\n",
    "personalize = boto3.client('personalize')\n",
    "personalize_runtime = boto3.client('personalize-runtime')"
   ]
  },
  {
   "cell_type": "markdown",
   "id": "8b99892b",
   "metadata": {},
   "source": [
    "## Spécifier un compartiment S3 et un emplacement de sortie des données\n",
    "\n",
    "Amazon Personalize nécessitera d'utiliser un compartiment S3 comme source de vos données. Le code ci-dessous créera un compartiment avec un `bucket_name` unique.\n",
    "\n",
    "Le compartiment Amazon S3 doit se trouver dans la même région que les ressources Amazon Personalize. "
   ]
  },
  {
   "cell_type": "code",
   "execution_count": null,
   "id": "5a69477f",
   "metadata": {},
   "outputs": [],
   "source": [
    "# Sets the same region as current Amazon SageMaker Notebook\n",
    "with open('/opt/ml/metadata/resource-metadata.json') as notebook_info:\n",
    "    data = json.load(notebook_info)\n",
    "    resource_arn = data['ResourceArn']\n",
    "    region = resource_arn.split(':')[3]\n",
    "print('region:', region)\n",
    "\n",
    "# Or you can specify the region where your bucket and model will be domiciled\n",
    "# region = \"us-east-1\" \n",
    "\n",
    "s3 = boto3.client('s3')\n",
    "account_id = boto3.client('sts').get_caller_identity().get('Account')\n",
    "bucket_name = account_id + \"-\" + region + \"-\" + \"personalizemanagedretailers\"\n",
    "print('bucket_name:', bucket_name)\n",
    "\n",
    "try: \n",
    "    if region == \"us-east-1\":\n",
    "        s3.create_bucket(Bucket=bucket_name)\n",
    "    else:\n",
    "        s3.create_bucket(\n",
    "            Bucket = bucket_name,\n",
    "            CreateBucketConfiguration={'LocationConstraint': region}\n",
    "            )\n",
    "    \n",
    "except Exception as e:\n",
    "    print (e)\n",
    "    print(\"Bucket already exists. Using bucket\", bucket_name)"
   ]
  },
  {
   "cell_type": "markdown",
   "id": "5d503c23",
   "metadata": {},
   "source": [
    "## Télécharger, préparer et charger les données d'entraînement\n",
    "\n",
    "Nous devons d'abord télécharger les données (données d'entraînement). Dans ce tutoriel, nous allons utiliser l'historique à partir du jeu de données d'un magasin de détail. Le jeu de données contient l'identificateur de l'utilisateur, l'identificateur des articles, l'interaction entre les clients et les articles et l'heure à laquelle cette interaction a eu lieu (Timestamp). \n",
    "\n",
    "### Télécharger et explorer le jeu de données"
   ]
  },
  {
   "cell_type": "code",
   "execution_count": null,
   "id": "e9f99e4b",
   "metadata": {},
   "outputs": [],
   "source": [
    "!aws s3 cp s3://retail-demo-store-us-east-1/csvs/items.csv .\n",
    "!aws s3 cp s3://retail-demo-store-us-east-1/csvs/interactions.csv ."
   ]
  },
  {
   "cell_type": "markdown",
   "id": "4f64c94d",
   "metadata": {},
   "source": [
    "Le jeu de données téléchargé s'appelle Electronics_Store_purchase_history.csv\n",
    "\n",
    "Apprenez-en davantage sur le jeu de données en vous reportant à ses caractéristiques."
   ]
  },
  {
   "cell_type": "code",
   "execution_count": null,
   "id": "b8de5a6e",
   "metadata": {},
   "outputs": [],
   "source": [
    "df = pd.read_csv('./interactions.csv')\n",
    "df"
   ]
  },
  {
   "cell_type": "code",
   "execution_count": null,
   "id": "c9dba494",
   "metadata": {},
   "outputs": [],
   "source": [
    "df.EVENT_TYPE.value_counts()"
   ]
  },
  {
   "cell_type": "code",
   "execution_count": null,
   "id": "ed471581",
   "metadata": {},
   "outputs": [],
   "source": [
    "def convert_event_type(event_type_in_some_format):\n",
    "    if(event_type_in_some_format == \"ProductViewed\"):\n",
    "        return \"View\"\n",
    "    if(event_type_in_some_format == \"OrderCompleted\"):\n",
    "        return \"Purchase\"\n",
    "    else:\n",
    "        return event_type_in_some_format\n",
    "\n",
    "df['EVENT_TYPE'] = df['EVENT_TYPE'].apply(convert_event_type)"
   ]
  },
  {
   "cell_type": "code",
   "execution_count": null,
   "id": "69ba97fa",
   "metadata": {},
   "outputs": [],
   "source": [
    "df.EVENT_TYPE.value_counts()"
   ]
  },
  {
   "cell_type": "markdown",
   "id": "4b3581c2",
   "metadata": {},
   "source": [
    "Les mécanismes de recommandation ECOMMERCE exigent que vous fournissiez des valeurs EVENT_TYPE spécifiques, afin de comprendre le contexte d'une interaction. Par conséquent, nous allons modifier la colonne EVENTYPE de nos interactions."
   ]
  },
  {
   "cell_type": "code",
   "execution_count": null,
   "id": "ea007782",
   "metadata": {},
   "outputs": [],
   "source": [
    "df.info()"
   ]
  },
  {
   "cell_type": "markdown",
   "id": "ada4df72",
   "metadata": {},
   "source": [
    "A partir des 2 cellules ci-dessus, nous avons appris que nos données ont 9 colonnes, 675 004 lignes et que les en-têtes sont : ITEM_ID, USER_ID, EVENT_TYPE, TIMESTAMP et DISCOUNT.\n",
    "\n",
    "Pour être compatible avec un schéma d'interactions Amazon Personalize, ce jeu de données nécessite des titres de colonne compatibles avec les noms de colonne par défaut d'Amazon Personalize (des informations sur les noms de colonne sont disponibles [ici](https://docs.aws.amazon.com/personalize/latest/dg/how-it-works-dataset-schema.html))."
   ]
  },
  {
   "cell_type": "markdown",
   "id": "bdd58372",
   "metadata": {},
   "source": [
    "## Préparer les données d'interactions\n"
   ]
  },
  {
   "cell_type": "markdown",
   "id": "d5ba5c59",
   "metadata": {},
   "source": [
    "### Supprimer des colonnes\n",
    "\n",
    "Certaines colonnes dans ce jeu de données n'apporteraient pas de valeur ajoutée à notre modèle et doivent donc être supprimées. Colonnes telles que *discount*."
   ]
  },
  {
   "cell_type": "code",
   "execution_count": null,
   "id": "b8ddd974",
   "metadata": {
    "scrolled": true
   },
   "outputs": [],
   "source": [
    "test=df.drop(columns=['DISCOUNT'])\n",
    "df=test\n",
    "df.sample(10)"
   ]
  },
  {
   "cell_type": "markdown",
   "id": "ac663a2b",
   "metadata": {},
   "source": [
    "Dans les cellules ci-dessous, nous allons écrire nos données nettoyées dans le fichier nommé \" final_training_data.csv"
   ]
  },
  {
   "cell_type": "code",
   "execution_count": null,
   "id": "db691d28",
   "metadata": {},
   "outputs": [],
   "source": [
    "df.to_csv(\"cleaned_training_data.csv\")"
   ]
  },
  {
   "cell_type": "markdown",
   "id": "a48e8626",
   "metadata": {},
   "source": [
    "### Charger vers S3\n",
    "Maintenant que nos données d'entraînement sont prêtes pour Amazon Personalize, l'étape suivante consiste à les charger vers le compartiment S3 créé précédemment."
   ]
  },
  {
   "cell_type": "code",
   "execution_count": null,
   "id": "a3566a6e",
   "metadata": {},
   "outputs": [],
   "source": [
    "interactions_file_path = 'cleaned_training_data.csv'\n",
    "boto3.Session().resource('s3').Bucket(bucket_name).Object(interactions_file_path).upload_file(interactions_file_path)\n",
    "interactions_s3DataPath = \"s3://\"+bucket_name+\"/\"+interactions_file_path\n"
   ]
  },
  {
   "cell_type": "markdown",
   "id": "e66f8e7d",
   "metadata": {},
   "source": [
    "## Configurer un compartiment S3 et un rôle IAM\n",
    "\n",
    "Pour l'instant, nous avons téléchargé, manipulé et enregistré les données sur l'instance Amazon EBS associée à l'instance qui exécute ce bloc-notes Jupyter. Toutefois, Amazon Personalize aura besoin d'un compartiment S3 pour servir de source à vos données, ainsi que de rôles IAM pour accéder à ce compartiment. Mettons tout cela en place.\n"
   ]
  },
  {
   "cell_type": "markdown",
   "id": "6dc7baa0",
   "metadata": {},
   "source": [
    "## Définir la politique du compartiment S3\n",
    "Amazon Personalize doit pouvoir lire le contenu de votre compartiment S3. Il faut donc ajouter une politique de compartiment qui l'autorise.\n",
    "\n",
    "Remarque : Assurez-vous que le rôle que vous utilisez pour exécuter le code dans ce bloc-notes dispose des autorisations nécessaires pour modifier la politique du compartiment S3."
   ]
  },
  {
   "cell_type": "code",
   "execution_count": null,
   "id": "611dfdbb",
   "metadata": {},
   "outputs": [],
   "source": [
    "s3 = boto3.client(\"s3\")\n",
    "policy = {\n",
    "    \"Version\": \"2012-10-17\",\n",
    "    \"Id\": \"PersonalizeS3BucketAccessPolicy\",\n",
    "    \"Statement\": [\n",
    "        {\n",
    "            \"Sid\": \"PersonalizeS3BucketAccessPolicy\",\n",
    "            \"Effect\": \"Allow\",\n",
    "            \"Principal\": {\n",
    "                \"Service\": \"personalize.amazonaws.com\"\n",
    "            },\n",
    "            \"Action\": [\n",
    "                \"s3:GetObject\",\n",
    "                \"s3:ListBucket\"\n",
    "            ],\n",
    "            \"Resource\": [\n",
    "                \"arn:aws:s3:::{}\".format(bucket_name),\n",
    "                \"arn:aws:s3:::{}/*\".format(bucket_name)\n",
    "            ]\n",
    "        }\n",
    "    ]\n",
    "}\n",
    "\n",
    "s3.put_bucket_policy(Bucket=bucket_name, Policy=json.dumps(policy))"
   ]
  },
  {
   "cell_type": "markdown",
   "id": "18616436",
   "metadata": {},
   "source": [
    "## Créer et attendre un groupe de jeux de données\n",
    "Le groupe le plus important de Personalize est le groupe de jeu de données qui permet d'isoler vos données, vos outils de suivi des événements, vos solutions, vos systèmes de recommandation et vos campagnes. Regroupement de choses qui partagent un ensemble commun de données. N'hésitez pas à modifier le nom ci-dessous si vous le souhaitez.\n",
    "\n",
    "### Créer un groupe de jeux de données"
   ]
  },
  {
   "cell_type": "code",
   "execution_count": null,
   "id": "46554723",
   "metadata": {
    "scrolled": true
   },
   "outputs": [],
   "source": [
    "response = personalize.create_dataset_group(\n",
    "    name='personalize_ecomemerce_ds_group',\n",
    "    domain='ECOMMERCE'\n",
    ")\n",
    "\n",
    "dataset_group_arn = response['datasetGroupArn']\n",
    "print(json.dumps(response, indent=2))"
   ]
  },
  {
   "cell_type": "markdown",
   "id": "3f8986f2",
   "metadata": {},
   "source": [
    "Attendre que le groupe de jeu de données ait le statut ACTIF\n",
    "Avant de pouvoir utiliser le groupe de jeu de données dans les articles ci-dessous, il doit être actif; exécutez la cellule ci-dessous et attendez qu'il soit actif."
   ]
  },
  {
   "cell_type": "code",
   "execution_count": null,
   "id": "8d7688b7",
   "metadata": {},
   "outputs": [],
   "source": [
    "%%time\n",
    "\n",
    "max_time = time.time() + 3*60*60 # 3 hours\n",
    "while time.time() < max_time:\n",
    "    describe_dataset_group_response = personalize.describe_dataset_group(\n",
    "        datasetGroupArn = dataset_group_arn\n",
    "    )\n",
    "    status = describe_dataset_group_response[\"datasetGroup\"][\"status\"]\n",
    "    print(\"DatasetGroup: {}\".format(status))\n",
    "    \n",
    "    if status == \"ACTIVE\" or status == \"CREATE FAILED\":\n",
    "        break\n",
    "        \n",
    "    time.sleep(60)"
   ]
  },
  {
   "cell_type": "markdown",
   "id": "d8370750",
   "metadata": {},
   "source": [
    "## Créer un schéma d'interactions\n",
    "L'un des principaux articles permettant à Personalize de comprendre vos données provient du schéma défini ci-dessous. Cette configuration indique au service comment traiter les données fournies par votre fichier CSV. Notez que les colonnes et les types s'alignent sur les articles présents dans le fichier que vous avez créé ci-dessus."
   ]
  },
  {
   "cell_type": "code",
   "execution_count": null,
   "id": "fc1c193c",
   "metadata": {},
   "outputs": [],
   "source": [
    "interactions_schema = schema = {\n",
    "    \"type\": \"record\",\n",
    "    \"name\": \"Interactions\",\n",
    "    \"namespace\": \"com.amazonaws.personalize.schema\",\n",
    "    \"fields\": [\n",
    "        {\n",
    "            \"name\": \"USER_ID\",\n",
    "            \"type\": \"string\"\n",
    "        },\n",
    "        {\n",
    "            \"name\": \"ITEM_ID\",\n",
    "            \"type\": \"string\"\n",
    "        },\n",
    "        {\n",
    "            \"name\": \"TIMESTAMP\",\n",
    "            \"type\": \"long\"\n",
    "        },\n",
    "        {\n",
    "            \"name\": \"EVENT_TYPE\",\n",
    "            \"type\": \"string\"\n",
    "            \n",
    "        }\n",
    "    ],\n",
    "    \"version\": \"1.0\"\n",
    "}\n",
    "\n",
    "create_schema_response = personalize.create_schema(\n",
    "    name = \"personalize-ecommerce-interatn_group\",\n",
    "    domain = \"ECOMMERCE\",\n",
    "    schema = json.dumps(interactions_schema)\n",
    ")\n",
    "\n",
    "interaction_schema_arn = create_schema_response['schemaArn']\n",
    "print(json.dumps(create_schema_response, indent=2))"
   ]
  },
  {
   "cell_type": "markdown",
   "id": "0efddb27",
   "metadata": {},
   "source": [
    "## Créer des jeux de données\n",
    "Après avoir créé le groupe, vous devez créer les jeux de données proprement dits."
   ]
  },
  {
   "cell_type": "markdown",
   "id": "fcb5f9f5",
   "metadata": {},
   "source": [
    "### Créer un jeu de données d'interactions"
   ]
  },
  {
   "cell_type": "code",
   "execution_count": null,
   "id": "e0e0e93f",
   "metadata": {},
   "outputs": [],
   "source": [
    "dataset_type = \"INTERACTIONS\"\n",
    "\n",
    "create_dataset_response = personalize.create_dataset(\n",
    "    name = \"personalize_ecommerce_demo_interactions\",\n",
    "    datasetType = dataset_type,\n",
    "    datasetGroupArn = dataset_group_arn,\n",
    "    schemaArn = interaction_schema_arn\n",
    ")\n",
    "\n",
    "interactions_dataset_arn = create_dataset_response['datasetArn']\n",
    "print(json.dumps(create_dataset_response, indent=2))"
   ]
  },
  {
   "cell_type": "markdown",
   "id": "46982845",
   "metadata": {},
   "source": [
    "## Créer un rôle Personalize\n",
    "De plus, Amazon Personalize doit pouvoir assumer des rôles dans AWS, afin d'avoir les autorisations d'exécuter certaines tâches. Les lignes ci-dessous les accordent.\n",
    "\n",
    "Remarque : Assurez-vous que le rôle que vous utilisez pour exécuter le code dans ce bloc-notes dispose des autorisations nécessaires pour créer un rôle."
   ]
  },
  {
   "cell_type": "code",
   "execution_count": null,
   "id": "748a6825",
   "metadata": {},
   "outputs": [],
   "source": [
    "iam = boto3.client(\"iam\")\n",
    "\n",
    "role_name = \"PersonalizeRoleEcommerceDemoRecommender\"\n",
    "assume_role_policy_document = {\n",
    "    \"Version\": \"2012-10-17\",\n",
    "    \"Statement\": [\n",
    "        {\n",
    "          \"Effect\": \"Allow\",\n",
    "          \"Principal\": {\n",
    "            \"Service\": \"personalize.amazonaws.com\"\n",
    "          },\n",
    "          \"Action\": \"sts:AssumeRole\"\n",
    "        }\n",
    "    ]\n",
    "}\n",
    "\n",
    "create_role_response = iam.create_role(\n",
    "    RoleName = role_name,\n",
    "    AssumeRolePolicyDocument = json.dumps(assume_role_policy_document)\n",
    ")\n",
    "\n",
    "# AmazonPersonalizeFullAccess provides access to any S3 bucket with a name that includes \"personalize\" or \"Personalize\" \n",
    "# if you would like to use a bucket with a different name, please consider creating and attaching a new policy\n",
    "# that provides read access to your bucket or attaching the AmazonS3ReadOnlyAccess policy to the role\n",
    "policy_arn = \"arn:aws:iam::aws:policy/service-role/AmazonPersonalizeFullAccess\"\n",
    "iam.attach_role_policy(\n",
    "    RoleName = role_name,\n",
    "    PolicyArn = policy_arn\n",
    ")\n",
    "\n",
    "# Now add S3 support\n",
    "iam.attach_role_policy(\n",
    "    PolicyArn='arn:aws:iam::aws:policy/AmazonS3FullAccess',\n",
    "    RoleName=role_name\n",
    ")\n",
    "time.sleep(60) # wait for a minute to allow IAM role policy attachment to propagate\n",
    "\n",
    "role_arn = create_role_response[\"Role\"][\"Arn\"]\n",
    "print(role_arn)\n"
   ]
  },
  {
   "cell_type": "markdown",
   "id": "a9e76a08",
   "metadata": {},
   "source": [
    "## Importer les données\n",
    "Vous avez précédemment créé le groupe de jeu de données et le jeu de données pour héberger vos informations. Vous allez maintenant exécuter une tâche d'importation qui chargera les données de S3 dans Amazon Personalize pour les utiliser dans la création de votre modèle.\n",
    "### Créer une tâche d'importation de jeux de données d'interactions"
   ]
  },
  {
   "cell_type": "code",
   "execution_count": null,
   "id": "f3fac11b",
   "metadata": {},
   "outputs": [],
   "source": [
    "create_interactions_dataset_import_job_response = personalize.create_dataset_import_job(\n",
    "    jobName = \"personalize_ecommerce_demo_interactions_import\",\n",
    "    datasetArn = interactions_dataset_arn,\n",
    "    dataSource = {\n",
    "        \"dataLocation\": \"s3://{}/{}\".format(bucket_name, interactions_file_path)\n",
    "    },\n",
    "    roleArn = role_arn\n",
    ")\n",
    "\n",
    "dataset_interactions_import_job_arn = create_interactions_dataset_import_job_response['datasetImportJobArn']\n",
    "print(json.dumps(create_interactions_dataset_import_job_response, indent=2))"
   ]
  },
  {
   "cell_type": "markdown",
   "id": "3f0d0ce6",
   "metadata": {},
   "source": [
    "Attendre que la tâche d'importation de données ait le statut ACTIF\n",
    "La tâche d'importation peut durer un certain temps ; veuillez patienter jusqu'à ce que vous voyiez qu'elle est active ci-dessous."
   ]
  },
  {
   "cell_type": "code",
   "execution_count": null,
   "id": "6cc106a5",
   "metadata": {},
   "outputs": [],
   "source": [
    "%%time\n",
    "\n",
    "max_time = time.time() + 3*60*60 # 3 hours\n",
    "while time.time() < max_time:\n",
    "    describe_dataset_import_job_response = personalize.describe_dataset_import_job(\n",
    "        datasetImportJobArn = dataset_interactions_import_job_arn\n",
    "    )\n",
    "    status = describe_dataset_import_job_response[\"datasetImportJob\"]['status']\n",
    "    print(\"DatasetImportJob: {}\".format(status))\n",
    "    \n",
    "    if status == \"ACTIVE\" or status == \"CREATE FAILED\":\n",
    "        break\n",
    "        \n",
    "    time.sleep(60)"
   ]
  },
  {
   "cell_type": "markdown",
   "id": "9c663f8a",
   "metadata": {},
   "source": [
    "## Choisir des cas d'utilisation d'un mécanisme de recommandation\n",
    "\n",
    "Chaque domaine a des cas d'utilisation différents. Lorsque vous créez un mécanisme de recommandation, vous le créez pour un cas d'utilisation spécifique, et chaque cas d'utilisation a des exigences différentes pour obtenir des recommandations.\n"
   ]
  },
  {
   "cell_type": "code",
   "execution_count": null,
   "id": "fe560051",
   "metadata": {},
   "outputs": [],
   "source": [
    "available_recipes = personalize.list_recipes(domain='ECOMMERCE') # See a list of recommenders for the domain. \n",
    "display (available_recipes['recipes'])"
   ]
  },
  {
   "cell_type": "markdown",
   "id": "792c70fc",
   "metadata": {},
   "source": [
    "Nous allons créer un mécanisme de recommandation du type \"Les clients qui ont vu X ont aussi vu\". Ce mécanisme de recommandation donne des recommandations pour les articles que les clients ont également consultés en fonction d'un article que vous spécifiez. Dans ce cas d'utilisation, Amazon Personalize filtre automatiquement les articles achetés par l'utilisateur en fonction du userId que vous spécifiez et des événements `Purchase`."
   ]
  },
  {
   "cell_type": "code",
   "execution_count": null,
   "id": "b339d6ca",
   "metadata": {},
   "outputs": [],
   "source": [
    "create_recommender_response = personalize.create_recommender(\n",
    "  name = 'viewed_x_also_viewed_demo',\n",
    "  recipeArn = 'arn:aws:personalize:::recipe/aws-ecomm-customers-who-viewed-x-also-viewed',\n",
    "  datasetGroupArn = dataset_group_arn\n",
    ")\n",
    "viewed_x_also_viewed_arn = create_recommender_response[\"recommenderArn\"]\n",
    "print (json.dumps(create_recommender_response))"
   ]
  },
  {
   "cell_type": "markdown",
   "id": "8748c608",
   "metadata": {},
   "source": [
    "Nous allons créer un deuxième mécanisme de recommandation du type \"Recommandé pour vous\". Ce type de recommandation offre des recommandations personnalisées pour des articles en fonction d'un utilisateur que vous spécifiez. Dans ce cas d'utilisation, Amazon Personalize filtre automatiquement les articles achetés par l'utilisateur en fonction du userId que vous spécifiez et des événements `Purchase`.\n",
    "\n",
    "[Plus de cas d'utilisation par domaine](https://docs.aws.amazon.com/personalize/latest/dg/domain-use-cases.html)"
   ]
  },
  {
   "cell_type": "code",
   "execution_count": null,
   "id": "3a63759b",
   "metadata": {},
   "outputs": [],
   "source": [
    "create_recommender_response = personalize.create_recommender(\n",
    "  name = 'recommended_for_you_demo',\n",
    "  recipeArn = 'arn:aws:personalize:::recipe/aws-ecomm-recommended-for-you',\n",
    "  datasetGroupArn = dataset_group_arn\n",
    ")\n",
    "recommended_for_you_arn = create_recommender_response[\"recommenderArn\"]\n",
    "print (json.dumps(create_recommender_response))"
   ]
  },
  {
   "cell_type": "markdown",
   "id": "819244f6",
   "metadata": {},
   "source": [
    "Nous attendons que les mécanismes de recommandations aient fini de créer et qu'ils aient le statut `ACTIVE`. Nous vérifions régulièrement l'état du mécanisme de recommandation"
   ]
  },
  {
   "cell_type": "code",
   "execution_count": null,
   "id": "3a0ff066",
   "metadata": {},
   "outputs": [],
   "source": [
    "%%time\n",
    "\n",
    "max_time = time.time() + 10*60*60 # 10 hours\n",
    "\n",
    "while time.time() < max_time:\n",
    "\n",
    "    version_response = personalize.describe_recommender(\n",
    "        recommenderArn = viewed_x_also_viewed_arn\n",
    "    )\n",
    "    status = version_response[\"recommender\"][\"status\"]\n",
    "\n",
    "    if status == \"ACTIVE\":\n",
    "        print(\"Build succeeded for {}\".format(viewed_x_also_viewed_arn))\n",
    "        \n",
    "    elif status == \"CREATE FAILED\":\n",
    "        print(\"Build failed for {}\".format(viewed_x_also_viewed_arn))\n",
    "        \n",
    "\n",
    "    if status == \"ACTIVE\" or status == \"CREATE FAILED\":\n",
    "        break\n",
    "    else:\n",
    "        print('The \"Customers who viewed X also viewed\" Recommender build is still in progress')\n",
    "        \n",
    "    time.sleep(60)\n",
    "    \n",
    "while time.time() < max_time:\n",
    "\n",
    "    version_response = personalize.describe_recommender(\n",
    "        recommenderArn = recommended_for_you_arn\n",
    "    )\n",
    "    status = version_response[\"recommender\"][\"status\"]\n",
    "\n",
    "    if status == \"ACTIVE\":\n",
    "        print(\"Build succeeded for {}\".format(recommended_for_you_arn))\n",
    "        \n",
    "    elif status == \"CREATE FAILED\":\n",
    "        print(\"Build failed for {}\".format(recommended_for_you_arn))\n",
    "        break\n",
    "\n",
    "    if status == \"ACTIVE\" or status == \"CREATE FAILED\":\n",
    "        break\n",
    "    else:\n",
    "        print('The \"Recommended for you\" Recommender build is still in progress')\n",
    "        \n",
    "    time.sleep(60)"
   ]
  },
  {
   "cell_type": "markdown",
   "id": "80ed8822",
   "metadata": {},
   "source": [
    "## Obtenir des recommandations avec un mécanisme de recommandation\n",
    "Maintenant que les mécanismes de recommandation ont été entraînés, examinons les recommandations que nous pouvons obtenir pour nos utilisateurs."
   ]
  },
  {
   "cell_type": "code",
   "execution_count": null,
   "id": "7c73f652",
   "metadata": {},
   "outputs": [],
   "source": [
    "# reading the original data in order to have a dataframe that has both item_ids \n",
    "# and the corresponding titles to make out recommendations easier to read.\n",
    "items_df = pd.read_csv('./items.csv')\n",
    "items_df.sample(10)"
   ]
  },
  {
   "cell_type": "code",
   "execution_count": null,
   "id": "894ffad6",
   "metadata": {},
   "outputs": [],
   "source": [
    "def get_item_by_id(item_id, item_df):\n",
    "    \"\"\"\n",
    "    This takes in an item_id from a recommendation in string format,\n",
    "    converts it to an int, and then does a lookup in a default or specified\n",
    "    dataframe and returns the item description.\n",
    "    \n",
    "    A really broad try/except clause was added in case anything goes wrong.\n",
    "    \n",
    "    Feel free to add more debugging or filtering here to improve results if\n",
    "    you hit an error.\n",
    "    \"\"\"\n",
    "    try:\n",
    "        return items_df.loc[items_df[\"ITEM_ID\"]==str(item_id)]['PRODUCT_DESCRIPTION'].values[0]\n",
    "    except:\n",
    "        print (item_id)\n",
    "        return \"Error obtaining item description\""
   ]
  },
  {
   "cell_type": "markdown",
   "id": "8a66f3ad",
   "metadata": {},
   "source": [
    "Obtenons des recommandations en utilisant le mécanisme de recommandation \"Les clients qui ont vu X ont aussi vu\" :"
   ]
  },
  {
   "cell_type": "code",
   "execution_count": null,
   "id": "7c5e8243",
   "metadata": {},
   "outputs": [],
   "source": [
    "# use a random valid id for a quick sanity check, modify the line of code bellow to a valid id in your dataset\n",
    "get_item_by_id(\"c72257d4-430b-4eb7-9de3-28396e593381\", items_df)"
   ]
  },
  {
   "cell_type": "code",
   "execution_count": null,
   "id": "21e0885e",
   "metadata": {},
   "outputs": [],
   "source": [
    "# First pick a user\n",
    "test_user_id = \"777\"\n",
    "\n",
    "# Select a random item\n",
    "test_item_id = \"8fbe091c-f73c-4727-8fe7-d27eabd17bea\" # a random item: 8fbe091c-f73c-4727-8fe7-d27eabd17bea\n",
    "\n",
    "# Get recommendations for the user for this item\n",
    "get_recommendations_response = personalize_runtime.get_recommendations(\n",
    "    recommenderArn = viewed_x_also_viewed_arn,\n",
    "    itemId = test_item_id,\n",
    "    userId = test_user_id,\n",
    "    numResults = 10\n",
    ")\n",
    "\n",
    "# Build a new dataframe for the recommendations\n",
    "item_list = get_recommendations_response['itemList']\n",
    "recommendation_list = []\n",
    "\n",
    "for item in item_list:\n",
    "    item = get_item_by_id(item['itemId'], items_df)\n",
    "    recommendation_list.append(item)\n",
    "\n",
    "user_recommendations_df = pd.DataFrame(recommendation_list, columns = [get_item_by_id(test_item_id, items_df)])\n",
    "\n",
    "pd.options.display.max_rows =10\n",
    "display(user_recommendations_df)"
   ]
  },
  {
   "cell_type": "markdown",
   "id": "d43a3f08",
   "metadata": {},
   "source": [
    "Obtenez des recommandations du mécanisme de recommandation qui retourne \"Recommandé pour vous\" :"
   ]
  },
  {
   "cell_type": "code",
   "execution_count": null,
   "id": "58de63e1",
   "metadata": {},
   "outputs": [],
   "source": [
    "# First pick a user\n",
    "test_user_id = \"777\" \n",
    "\n",
    "# Get recommendations for the user\n",
    "get_recommendations_response = personalize_runtime.get_recommendations(\n",
    "    recommenderArn = recommended_for_you_arn,\n",
    "    userId = test_user_id,\n",
    "    numResults = 20\n",
    ")\n",
    "\n",
    "# Build a new dataframe for the recommendations\n",
    "item_list = get_recommendations_response['itemList']\n",
    "recommendation_list = []\n",
    "for item in item_list:\n",
    "    item = get_item_by_id(item['itemId'], items_df)\n",
    "    recommendation_list.append(item)\n",
    "\n",
    "\n",
    "user_recommendations_df = pd.DataFrame(recommendation_list, columns = [test_user_id])\n",
    "\n",
    "pd.options.display.max_rows =20\n",
    "display(user_recommendations_df)"
   ]
  },
  {
   "cell_type": "markdown",
   "id": "c0643fbf",
   "metadata": {},
   "source": [
    "## Examiner\n",
    "En utilisant les codes ci-dessus, vous avez entraîné un modèle de deep learning pour générer des recommandations d'articles en fonction du comportement antérieur de l'utilisateur. Vous avez créé deux mécanismes de recommandation pour deux cas d'utilisation fondamentaux. \n",
    "À l'avenir, vous pourrez adapter ce code pour créer d'autres mécanismes de recommandations."
   ]
  },
  {
   "cell_type": "markdown",
   "id": "cdde3dca",
   "metadata": {},
   "source": [
    "## Remarques pour le bloc-notes suivant :\n",
    "Vous aurez besoin de quelques valeurs pour le bloc-notes suivant. Exécutez la cellule ci-dessous pour les stocker, afin qu'elles puissent être utilisées dans le bloc-notes `Clean_Up_Resources.ipynb`.\n",
    "\n",
    "Toutes les données stockées pour ces variables seront remplacées et définies aux valeurs spécifiées dans ce bloc-notes. "
   ]
  },
  {
   "cell_type": "code",
   "execution_count": null,
   "id": "fbb40290",
   "metadata": {},
   "outputs": [],
   "source": [
    "# store for cleanup\n",
    "%store dataset_group_arn\n",
    "%store role_name\n",
    "%store region"
   ]
  },
  {
   "cell_type": "markdown",
   "id": "e0dbac5e",
   "metadata": {},
   "source": [
    "Si vous avez exécuté le bloc-notes `Building_Your_First_Recommender_Video_On_Demand.ipynb`, veillez à réexécuter l'étape précédente du bloc-notes `Building_Your_First_Recommender_Video_On_Demand.ipynb` et `Clean_Up_Resources.ipynb` pour supprimer les ressources créées dans ce bloc-notes après avoir exécuté `Clean_Up_Resources.ipynb` avec les ressources créées ici."
   ]
  },
  {
   "cell_type": "code",
   "execution_count": null,
   "id": "2686db4b",
   "metadata": {},
   "outputs": [],
   "source": []
  }
 ],
 "metadata": {
  "kernelspec": {
   "display_name": "conda_python3",
   "language": "python",
   "name": "conda_python3"
  },
  "language_info": {
   "codemirror_mode": {
    "name": "ipython",
    "version": 3
   },
   "file_extension": ".py",
   "mimetype": "text/x-python",
   "name": "python",
   "nbconvert_exporter": "python",
   "pygments_lexer": "ipython3",
   "version": "3.6.13"
  }
 },
 "nbformat": 4,
 "nbformat_minor": 5
}
