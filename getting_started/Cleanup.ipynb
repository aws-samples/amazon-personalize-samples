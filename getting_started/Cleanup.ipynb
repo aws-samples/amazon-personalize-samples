{
 "cells": [
  {
   "cell_type": "markdown",
   "metadata": {},
   "source": [
    "# Cleanup\n",
    "\n",
    "After building your model you may want to delete your campaign, solutions, and datasets. The following cells will ensure that you have successfully cleaned up all of the resources you created in this lab.\n",
    "\n",
    "## Imports and Connectins to AWS\n",
    "\n",
    "The following lines import all the necessary libraries and then connect you to Amazon Personalize.\n"
   ]
  },
  {
   "cell_type": "code",
   "execution_count": 2,
   "metadata": {},
   "outputs": [],
   "source": [
    "# Imports\n",
    "import boto3\n",
    "import json\n",
    "import numpy as np\n",
    "import pandas as pd\n",
    "import time"
   ]
  },
  {
   "cell_type": "code",
   "execution_count": 3,
   "metadata": {},
   "outputs": [],
   "source": [
    "# Configure the SDK to Personalize:\n",
    "personalize = boto3.client('personalize')\n",
    "personalize_runtime = boto3.client('personalize-runtime')"
   ]
  },
  {
   "cell_type": "markdown",
   "metadata": {},
   "source": [
    "## Defining the Things to Cleanup\n",
    "\n",
    "Look for each of the variables below in the previous notebooks, most should be found at the bottom of the first notebook. Replace the values with those from your notebooks before executing the following cells. Once you have defined them the cells below will delete each of the components."
   ]
  },
  {
   "cell_type": "code",
   "execution_count": 13,
   "metadata": {},
   "outputs": [],
   "source": [
    "# Define Everything\n",
    "campaign_ARN = \"arn:aws:personalize:us-east-1:059124553121:campaign/personalize-demo-camp\"\n",
    "solution_ARN = \"arn:aws:personalize:us-east-1:059124553121:solution/personalize-demo-soln-hrnn\"\n",
    "event_tracker_ARN = \"arn:aws:personalize:us-east-1:059124553121:event-tracker/abca43a2\"\n",
    "dataset_ARN = \"arn:aws:personalize:us-east-1:059124553121:dataset/personalize-launch-demo/INTERACTIONS\"\n",
    "dataset_group_ARN = \"arn:aws:personalize:us-east-1:059124553121:dataset-group/personalize-launch-demo\"\n",
    "event_dataset_ARN = \"arn:aws:personalize:us-east-1:059124553121:dataset/personalize-launch-demo/EVENT_INTERACTIONS\""
   ]
  },
  {
   "cell_type": "code",
   "execution_count": 7,
   "metadata": {},
   "outputs": [],
   "source": [
    "# Delete the campaign:\n",
    "personalize.delete_campaign(campaignArn=campaign_ARN)\n",
    "time.sleep(60)"
   ]
  },
  {
   "cell_type": "code",
   "execution_count": 8,
   "metadata": {},
   "outputs": [],
   "source": [
    "# Delete the solution\n",
    "personalize.delete_solution(solutionArn=solution_ARN)\n",
    "time.sleep(60)"
   ]
  },
  {
   "cell_type": "code",
   "execution_count": 9,
   "metadata": {},
   "outputs": [],
   "source": [
    "# Delete the event tracker\n",
    "personalize.delete_event_tracker(eventTrackerArn=event_tracker_ARN)\n",
    "time.sleep(60)"
   ]
  },
  {
   "cell_type": "code",
   "execution_count": 10,
   "metadata": {},
   "outputs": [],
   "source": [
    "# Delete the interaction dataset\n",
    "personalize.delete_dataset(datasetArn=dataset_ARN)\n",
    "time.sleep(60)"
   ]
  },
  {
   "cell_type": "code",
   "execution_count": 14,
   "metadata": {},
   "outputs": [],
   "source": [
    "# Delete the event dataset\n",
    "personalize.delete_dataset(datasetArn=event_dataset_ARN)\n",
    "time.sleep(60)"
   ]
  },
  {
   "cell_type": "code",
   "execution_count": 15,
   "metadata": {},
   "outputs": [],
   "source": [
    "# Delete the dataset group\n",
    "personalize.delete_dataset_group(datasetGroupArn=dataset_group_ARN)\n",
    "time.sleep(60)"
   ]
  },
  {
   "cell_type": "markdown",
   "metadata": {},
   "source": [
    "## Deleting Schemas\n",
    "\n",
    "Schemas are a little tricky since they are not defined within the UI of Amazon Personalize. The cell below will iterate over each of the schemas and delete those no longer in use."
   ]
  },
  {
   "cell_type": "code",
   "execution_count": 13,
   "metadata": {},
   "outputs": [],
   "source": [
    "# Finally Delete the schemas, first start by findng them\n",
    "schemas_resp = personalize.list_schemas()['schemas']\n",
    "for item in schemas_resp:\n",
    "    try:\n",
    "        personalize.delete_schema(schemaArn=item['schemaArn'])\n",
    "    except Exception:\n",
    "        pass"
   ]
  },
  {
   "cell_type": "markdown",
   "metadata": {},
   "source": [
    "## Empty Your S3 Bucket\n",
    "\n",
    "Next empty your S3 bucket, you uploaded a movie file to it in the first notebook. Update the line below, if you changed your filename. You will also need to update the bucket with your value as well.\n",
    "\n"
   ]
  },
  {
   "cell_type": "code",
   "execution_count": 20,
   "metadata": {},
   "outputs": [
    {
     "data": {
      "text/plain": [
       "{'ResponseMetadata': {'RequestId': 'C4085F057E87CA8D',\n",
       "  'HostId': '7YYDOs4qe7h/TR8KYIIaZqqEPIPxRvBT65TkZ9NT9G3zfP/fr0rtJD3Qp6qr94BoM03Ms2ttmhU=',\n",
       "  'HTTPStatusCode': 204,\n",
       "  'HTTPHeaders': {'x-amz-id-2': '7YYDOs4qe7h/TR8KYIIaZqqEPIPxRvBT65TkZ9NT9G3zfP/fr0rtJD3Qp6qr94BoM03Ms2ttmhU=',\n",
       "   'x-amz-request-id': 'C4085F057E87CA8D',\n",
       "   'date': 'Fri, 16 Aug 2019 18:26:35 GMT',\n",
       "   'server': 'AmazonS3'},\n",
       "  'RetryAttempts': 0}}"
      ]
     },
     "execution_count": 20,
     "metadata": {},
     "output_type": "execute_result"
    }
   ],
   "source": [
    "bucket = \"personalize-demo-cking\"       # replace with the name of your S3 bucket\n",
    "filename = \"movie-lens-100k.csv\"  # replace with a name that you want to save the dataset under\n",
    "boto3.Session().resource('s3').Bucket(bucket).Object(filename).delete()"
   ]
  },
  {
   "cell_type": "markdown",
   "metadata": {},
   "source": [
    "## IAM Policy Cleanup\n",
    "\n",
    "The very last step in the notebooks is to remove the policies that were attached to a role and then to delete it. No changes should need to be made here, just execute the cell."
   ]
  },
  {
   "cell_type": "code",
   "execution_count": 19,
   "metadata": {},
   "outputs": [
    {
     "data": {
      "text/plain": [
       "{'ResponseMetadata': {'RequestId': '553fe0e9-b6e0-11e9-b5b9-256632dea474',\n",
       "  'HTTPStatusCode': 200,\n",
       "  'HTTPHeaders': {'x-amzn-requestid': '553fe0e9-b6e0-11e9-b5b9-256632dea474',\n",
       "   'content-type': 'text/xml',\n",
       "   'content-length': '200',\n",
       "   'date': 'Sun, 04 Aug 2019 17:50:22 GMT'},\n",
       "  'RetryAttempts': 0}}"
      ]
     },
     "execution_count": 19,
     "metadata": {},
     "output_type": "execute_result"
    }
   ],
   "source": [
    "# IAM policies should also be removed\n",
    "iam = boto3.client(\"iam\")\n",
    "iam.detach_role_policy(PolicyArn=\"arn:aws:iam::aws:policy/AmazonS3FullAccess\", RoleName=\"PersonalizeRoleDemo\")\n",
    "iam.detach_role_policy(PolicyArn=\"arn:aws:iam::aws:policy/service-role/AmazonPersonalizeFullAccess\",RoleName=\"PersonalizeRoleDemo\")\n",
    "\n",
    "iam.delete_role(RoleName=\"PersonalizeRoleDemo\")"
   ]
  },
  {
   "cell_type": "markdown",
   "metadata": {},
   "source": [
    "## Last Step\n",
    "\n",
    "After cleaning up all of the resources you can now close this window and go back to the github page you stareted on. At the bottom of the Readme file are steps to delete the CloudFormation stack you created earlier. Once that is done you are 100% done with the lab.\n",
    "\n",
    "Congratulations!"
   ]
  },
  {
   "cell_type": "code",
   "execution_count": null,
   "metadata": {},
   "outputs": [],
   "source": []
  }
 ],
 "metadata": {
  "kernelspec": {
   "display_name": "conda_python3",
   "language": "python",
   "name": "conda_python3"
  },
  "language_info": {
   "codemirror_mode": {
    "name": "ipython",
    "version": 3
   },
   "file_extension": ".py",
   "mimetype": "text/x-python",
   "name": "python",
   "nbconvert_exporter": "python",
   "pygments_lexer": "ipython3",
   "version": "3.6.5"
  }
 },
 "nbformat": 4,
 "nbformat_minor": 4
}
