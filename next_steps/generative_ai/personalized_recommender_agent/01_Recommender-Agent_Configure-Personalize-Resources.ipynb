{
 "cells": [
  {
   "cell_type": "markdown",
   "id": "f760989d",
   "metadata": {},
   "source": [
    "# Configuring Amazon Personalize resources\n",
    "\n",
    "**Image:Data Science 3.0, Kernel: Python3, Instance: ml.t3.medium 2vCPU + 4GiB**\n",
    "\n",
    "## How to use the Notebook\n",
    "\n",
    "The code is broken up into cells like the one below. There's a triangular Run button at the top of this page that you can click to execute each cell and move onto the next, or you can press `Shift` + `Enter` while in the cell to execute it and move onto the next one.\n",
    "\n",
    "As a cell is executing you'll notice a line to the side showcase an `*` while the cell is running or it will update to a number to indicate the last cell that completed executing after it has finished exectuting all the code within a cell.\n",
    "\n",
    "Simply follow the instructions below and execute the cells to get started.\n",
    "\n",
    "## Introduction to Amazon Personalize\n",
    "\n",
    "[Amazon Personalize](https://aws.amazon.com/personalize/) makes it easy for customers to develop applications with a wide array of personalization use cases, including real time product recommendations and customized direct marketing. Amazon Personalize brings the same machine learning technology used by Amazon.com to everyone for use in their applications – with no machine learning experience required. Amazon Personalize customers pay for what they use, with no minimum fees or upfront commitment.\n",
    "\n",
    "Amazon Personalize uses advanced algorithms and machine learning techniques to analyze data from various sources, including user interactions, item metadata, and user profiles, to generate personalized recommendations for each user.\n",
    "\n",
    "The core of Amazon Personalize is built around three main datasets:\n",
    "\n",
    "1. **Items Dataset**: This dataset contains information about the items or products that you want to recommend. It can include attributes such as product descriptions, categories, prices, and any other relevant metadata.\n",
    "\n",
    "2. **Interactions Dataset**: This dataset records the interactions between users and items. It typically includes information such as the user ID, item ID, timestamp, and any additional contextual data like ratings or purchase quantities.\n",
    "\n",
    "3. **Users Dataset**: This optional dataset contains demographic information about users, such as age, gender, location, or any other relevant user attributes that can be used to enhance the personalization capabilities.\n",
    "\n",
    "Amazon Personalize ingests these datasets and applies machine learning algorithms to identify patterns and correlations within the data. It then builds personalized recommendation models tailored to each user's preferences and behavior. These models can be used to generate real-time recommendations for various use cases, such as product recommendations on e-commerce websites, content recommendations on streaming platforms, or personalized marketing campaigns.\n",
    "\n",
    "By leveraging the power of machine learning and the flexibility of Amazon Personalize, businesses can deliver highly relevant and personalized experiences to their customers, increasing engagement, loyalty, and ultimately driving business growth.\n",
    "\n",
    "You can start using Amazon Personalize with a simple three step process, which only takes a few clicks in the AWS console, or a set of simple API calls. \n",
    "\n",
    "First, point Amazon Personalize to user data, catalog data, and activity stream of views, clicks, purchases, etc. in Amazon S3 or upload using a simple API call. \n",
    "\n",
    "Second, with a single click in the console or an API call, train a private recommendation model for your data. \n",
    "\n",
    "Third, retrieve personalized recommendations for any user by creating a recommender, and using the GetRecommendations API.\n",
    "\n",
    "If you are not familiar with Amazon Personalize, you can learn more about the service on by looking at [Github Sample Notebooks](https://github.com/aws-samples/amazon-personalize-samples) and [Product Documentation](https://docs.aws.amazon.com/personalize/latest/dg/what-is-personalize.html)."
   ]
  },
  {
   "cell_type": "markdown",
   "id": "6a7ca987",
   "metadata": {},
   "source": [
    "## Imports\n",
    "Python ships with a broad collection of libraries and we need to import those as well as the ones installed to help us like [boto3](https://aws.amazon.com/sdk-for-python/) (AWS SDK for python) and [Pandas](https://pandas.pydata.org/)/[Numpy](https://numpy.org/) which are core data science tools."
   ]
  },
  {
   "cell_type": "code",
   "execution_count": 1,
   "id": "86eb0420",
   "metadata": {
    "tags": []
   },
   "outputs": [
    {
     "name": "stdout",
     "output_type": "stream",
     "text": [
      "Requirement already satisfied: pip in /home/ec2-user/anaconda3/envs/python3/lib/python3.10/site-packages (23.3.2)\n",
      "Collecting pip\n",
      "  Downloading pip-24.1.1-py3-none-any.whl.metadata (3.6 kB)\n",
      "Downloading pip-24.1.1-py3-none-any.whl (1.8 MB)\n",
      "\u001b[2K   \u001b[90m━━━━━━━━━━━━━━━━━━━━━━━━━━━━━━━━━━━━━━━━\u001b[0m \u001b[32m1.8/1.8 MB\u001b[0m \u001b[31m43.0 MB/s\u001b[0m eta \u001b[36m0:00:00\u001b[0m00:01\u001b[0m\n",
      "\u001b[?25hInstalling collected packages: pip\n",
      "  Attempting uninstall: pip\n",
      "    Found existing installation: pip 23.3.2\n",
      "    Uninstalling pip-23.3.2:\n",
      "      Successfully uninstalled pip-23.3.2\n",
      "Successfully installed pip-24.1.1\n",
      "Collecting botocore\n",
      "  Downloading botocore-1.34.139-py3-none-any.whl.metadata (5.7 kB)\n",
      "Downloading botocore-1.34.139-py3-none-any.whl (12.4 MB)\n",
      "\u001b[2K   \u001b[90m━━━━━━━━━━━━━━━━━━━━━━━━━━━━━━━━━━━━━━━━\u001b[0m \u001b[32m12.4/12.4 MB\u001b[0m \u001b[31m30.3 MB/s\u001b[0m eta \u001b[36m0:00:00\u001b[0m:00:01\u001b[0m0:01\u001b[0m\n",
      "\u001b[?25hInstalling collected packages: botocore\n",
      "  Attempting uninstall: botocore\n",
      "    Found existing installation: botocore 1.34.101\n",
      "    Uninstalling botocore-1.34.101:\n",
      "      Successfully uninstalled botocore-1.34.101\n",
      "Successfully installed botocore-1.34.139\n"
     ]
    }
   ],
   "source": [
    "# Get the latest version of botocore to ensure we have the latest features in the SDK\n",
    "import sys\n",
    "!{sys.executable} -m pip install --upgrade pip\n",
    "!{sys.executable} -m pip install --upgrade --no-deps --force-reinstall botocore"
   ]
  },
  {
   "cell_type": "code",
   "execution_count": 2,
   "id": "fca0fd16",
   "metadata": {
    "tags": []
   },
   "outputs": [],
   "source": [
    "# Imports\n",
    "import boto3\n",
    "import json\n",
    "import numpy as np\n",
    "import pandas as pd\n",
    "import time\n",
    "import datetime"
   ]
  },
  {
   "cell_type": "code",
   "execution_count": 3,
   "id": "9af0b2bb",
   "metadata": {
    "tags": []
   },
   "outputs": [],
   "source": [
    "# Configure the SDK to Personalize:\n",
    "personalize = boto3.client('personalize')\n",
    "personalize_runtime = boto3.client('personalize-runtime')"
   ]
  },
  {
   "cell_type": "markdown",
   "id": "6482f680-8f4f-453f-83e4-d3fd17045525",
   "metadata": {
    "tags": []
   },
   "source": [
    "## Creating Amazon Personalize Resources and Importing data"
   ]
  },
  {
   "cell_type": "markdown",
   "id": "b8c98230-c6a1-4779-84e7-a9fc415c1889",
   "metadata": {
    "tags": []
   },
   "source": [
    "### Get the account id and region"
   ]
  },
  {
   "cell_type": "code",
   "execution_count": 4,
   "id": "fc2153d4-58da-44f6-94f9-26dbba704e8b",
   "metadata": {
    "tags": []
   },
   "outputs": [
    {
     "name": "stdout",
     "output_type": "stream",
     "text": [
      "account id: 058264209953\n",
      "region: us-east-1\n"
     ]
    }
   ],
   "source": [
    "account_id = boto3.client('sts').get_caller_identity().get('Account')\n",
    "print(\"account id:\", account_id)\n",
    "\n",
    "with open('/opt/ml/metadata/resource-metadata.json') as notebook_info:\n",
    "    data = json.load(notebook_info)\n",
    "    resource_arn = data['ResourceArn']\n",
    "    region = resource_arn.split(':')[3]\n",
    "print(\"region:\", region)"
   ]
  },
  {
   "cell_type": "markdown",
   "id": "b2bb5a22-2c32-481a-9b8c-808402712fef",
   "metadata": {},
   "source": [
    "### IAM role\n",
    "Amazon Personalize needs the ability to assume roles in AWS in order to have the permissions to execute certain tasks.\n",
    "\n",
    "We will be using the S3 bucket that you created when you deployed the Cloud Formation using [personalizeCFRecommenderAgent.yaml](./personalizeCFRecommenderAgent.yaml).\n",
    "\n",
    "The Assume Role Policy document needs to have the following format:\n",
    "\n",
    "```python\n",
    "assume_role_policy_document = {\n",
    "    \"Version\": \"2012-10-17\",\n",
    "    \"Statement\": [\n",
    "        {\n",
    "          \"Effect\": \"Allow\",\n",
    "          \"Principal\": {\n",
    "            \"Service\": \"personalize.amazonaws.com\"\n",
    "          },\n",
    "          \"Action\": \"sts:AssumeRole\"\n",
    "        }\n",
    "    ]\n",
    "}\n",
    "````\n",
    "\n",
    "The S3 Access Policy document needs to have the following format:\n",
    "\n",
    "```python\n",
    "s3_access_policy_document = {\n",
    "    \"Version\": \"2012-10-17\",\n",
    "    \"Statement\": {\n",
    "            \"Sid\" : \"myStatement\" ,\n",
    "            \"Effect\": \"Allow\",\n",
    "            \"Resource\": [\n",
    "                \"arn:aws:s3:::{}\".format(bucket_name),\n",
    "                \"arn:aws:s3:::{}/*\".format(bucket_name)\n",
    "            ],\n",
    "            \"Action\": \"s3:*\"\n",
    "        }\n",
    "}\n",
    "```\n",
    "Let's get the ARN of the role we created via the Cloud Formation."
   ]
  },
  {
   "cell_type": "code",
   "execution_count": 5,
   "id": "1f53aa2e-4fea-48b5-b26c-27ea316a49a9",
   "metadata": {
    "tags": []
   },
   "outputs": [],
   "source": [
    "# Configure the SDK to SSM:\n",
    "ssm = boto3.client('ssm')"
   ]
  },
  {
   "cell_type": "code",
   "execution_count": 6,
   "id": "a3f200e7-c93a-4d8c-ba58-bae869454472",
   "metadata": {
    "tags": []
   },
   "outputs": [],
   "source": [
    "role_arn_info = ssm.get_parameter(Name='/cloudformation/personalize-iam-role-arn', WithDecryption=False)\n",
    "role_arn = role_arn_info['Parameter']['Value']"
   ]
  },
  {
   "cell_type": "code",
   "execution_count": 7,
   "id": "3deb719a-b88f-4f2d-90ef-47cd35a1ba04",
   "metadata": {
    "tags": []
   },
   "outputs": [
    {
     "data": {
      "text/plain": [
       "'recommenderAgent-PersonalizeIamRole-cP45UOEDURMe'"
      ]
     },
     "execution_count": 7,
     "metadata": {},
     "output_type": "execute_result"
    }
   ],
   "source": [
    "# get the role name\n",
    "role_name = role_arn.split('/')[1]\n",
    "role_name"
   ]
  },
  {
   "cell_type": "markdown",
   "id": "4578ddcf-0bb0-4a77-9e85-cc9471d711af",
   "metadata": {
    "tags": []
   },
   "source": [
    "### S3 bucket\n",
    "\n",
    "So far, we have downloaded, manipulated, and saved the data onto the Amazon EBS instance attached to instance running this Jupyter notebook.\n",
    "\n",
    "By default, the Amazon Personalize service does not have permission to access the data we uploaded into the S3 bucket in our account. In order to grant access to the Amazon Personalize service to read our CSVs, you need to set a Bucket Policy and create an IAM role that the Amazon Personalize service will assume.\n",
    "\n",
    "Use the metadata stored on the instance underlying this Amazon SageMaker notebook, to determine the region it is operating in. If you are using a Jupyter notebook outside of Amazon SageMaker, simply define the region as a string below. The Amazon S3 bucket needs to be in the same region as the Amazon Personalize resources we have been creating so far.\n",
    "\n",
    "We will be using the S3 bucket that you created when you deployed the Cloud Formation using personalizeSimpleCFMarketingContentGen.yml.\n",
    "\n",
    "This bucket is created with the policy:\n",
    "\n",
    "```python\n",
    "policy = {\n",
    "    \"Version\": \"2012-10-17\",\n",
    "    \"Id\": \"PersonalizeS3BucketAccessPolicy\",\n",
    "    \"Statement\": [\n",
    "        {\n",
    "            \"Sid\": \"PersonalizeS3BucketAccessPolicy\",\n",
    "            \"Effect\": \"Allow\",\n",
    "            \"Principal\": {\n",
    "                \"Service\": \"personalize.amazonaws.com\"\n",
    "            },\n",
    "            \"Action\": [\n",
    "                \"s3:*Object\",\n",
    "                \"s3:ListBucket\"\n",
    "            ],\n",
    "            \"Resource\": [\n",
    "                \"arn:aws:s3:::{}\".format(bucket_name),\n",
    "                \"arn:aws:s3:::{}/*\".format(bucket_name)\n",
    "            ]\n",
    "        }\n",
    "    ]\n",
    "}\n",
    "```\n",
    "\n",
    "This S3 bucket policy allows Amazon Personalize to be able to read the contents of your S3 bucket.\n",
    "\n"
   ]
  },
  {
   "cell_type": "code",
   "execution_count": 8,
   "id": "5497157d-46b3-4632-8338-47778ed4e32e",
   "metadata": {
    "tags": []
   },
   "outputs": [
    {
     "name": "stdout",
     "output_type": "stream",
     "text": [
      "bucket_name: personalizesamples-sgarcesv-piqebvlkj\n"
     ]
    }
   ],
   "source": [
    "# get the name of the bucket created by the Cloud Formation\n",
    "personalizes3bucket = ssm.get_parameter(Name='/cloudformation/personalize-s3-bucket', WithDecryption=False)\n",
    "bucket_name = personalizes3bucket['Parameter']['Value']\n",
    "\n",
    "print('bucket_name:', bucket_name)"
   ]
  },
  {
   "cell_type": "markdown",
   "id": "2961282b-f5ce-450d-89d4-d10fa601c579",
   "metadata": {},
   "source": [
    "Let's have a look at the S3 bucket policy."
   ]
  },
  {
   "cell_type": "code",
   "execution_count": 9,
   "id": "6847776f-10e1-4800-a5fd-064e66328c59",
   "metadata": {
    "tags": []
   },
   "outputs": [
    {
     "name": "stdout",
     "output_type": "stream",
     "text": [
      "Bucket current policy\n",
      "{\n",
      "    \"Version\": \"2012-10-17\",\n",
      "    \"Id\": \"PersonalizeS3BucketAccessPolicy\",\n",
      "    \"Statement\": [\n",
      "        {\n",
      "            \"Effect\": \"Allow\",\n",
      "            \"Principal\": {\n",
      "                \"Service\": \"personalize.amazonaws.com\"\n",
      "            },\n",
      "            \"Action\": [\n",
      "                \"s3:GetObject\",\n",
      "                \"s3:PutObject\",\n",
      "                \"s3:ListBucket\"\n",
      "            ],\n",
      "            \"Resource\": [\n",
      "                \"arn:aws:s3:::personalizesamples-sgarcesv-piqebvlkj\",\n",
      "                \"arn:aws:s3:::personalizesamples-sgarcesv-piqebvlkj/*\"\n",
      "            ]\n",
      "        }\n",
      "    ]\n",
      "}\n"
     ]
    }
   ],
   "source": [
    "s3 = boto3.client('s3')\n",
    "\n",
    "try:\n",
    "    bucket_current_policy = s3.get_bucket_policy(Bucket=bucket_name)['Policy']\n",
    "    print (\"Bucket current policy\")\n",
    "    print(json.dumps(json.loads(bucket_current_policy), indent=4))\n",
    "    \n",
    "except Exception as e: \n",
    "    raise(e)"
   ]
  },
  {
   "cell_type": "markdown",
   "id": "9b430601",
   "metadata": {},
   "source": [
    "## Download, Prepare, and Upload Training Data\n",
    "\n",
    "We generated the synthetic data based on the code in the [Retail Demo Store project](https://github.com/aws-samples/retail-demo-store). Follow the link to learn more about the data and potential uses.\n",
    "\n",
    "First we need to download the data (training data). In this tutorial we'll use the Purchase history from a retail store  dataset. The dataset contains the user_id, item_id, the interactions between customers and items and the time this interaction took place (Timestamp).\n",
    "\n",
    "### Download and Explore the Interactions Dataset"
   ]
  },
  {
   "cell_type": "code",
   "execution_count": 10,
   "id": "6ec851d2",
   "metadata": {
    "tags": []
   },
   "outputs": [
    {
     "name": "stdout",
     "output_type": "stream",
     "text": [
      "--2024-07-03 23:45:53--  https://code.retaildemostore.retail.aws.dev/csvs/interactions.csv\n",
      "Resolving code.retaildemostore.retail.aws.dev (code.retaildemostore.retail.aws.dev)... 18.165.83.129, 18.165.83.120, 18.165.83.69, ...\n",
      "Connecting to code.retaildemostore.retail.aws.dev (code.retaildemostore.retail.aws.dev)|18.165.83.129|:443... connected.\n",
      "HTTP request sent, awaiting response... 200 OK\n",
      "Length: 42447843 (40M) [text/csv]\n",
      "Saving to: ‘./interactions.csv’\n",
      "\n",
      "100%[======================================>] 42,447,843  31.0MB/s   in 1.3s   \n",
      "\n",
      "2024-07-03 23:45:55 (31.0 MB/s) - ‘./interactions.csv’ saved [42447843/42447843]\n",
      "\n"
     ]
    }
   ],
   "source": [
    "!wget https://code.retaildemostore.retail.aws.dev/csvs/interactions.csv -O ./interactions.csv --no-check-certificate"
   ]
  },
  {
   "cell_type": "markdown",
   "id": "ae49d831",
   "metadata": {},
   "source": [
    "The dataset has been successfully downloaded as interactions.csv\n",
    "\n",
    "Lets learn more about the dataset by viewing its charateristics"
   ]
  },
  {
   "cell_type": "code",
   "execution_count": 11,
   "id": "475cb0a3",
   "metadata": {
    "tags": []
   },
   "outputs": [
    {
     "data": {
      "text/html": [
       "<div>\n",
       "<style scoped>\n",
       "    .dataframe tbody tr th:only-of-type {\n",
       "        vertical-align: middle;\n",
       "    }\n",
       "\n",
       "    .dataframe tbody tr th {\n",
       "        vertical-align: top;\n",
       "    }\n",
       "\n",
       "    .dataframe thead th {\n",
       "        text-align: right;\n",
       "    }\n",
       "</style>\n",
       "<table border=\"1\" class=\"dataframe\">\n",
       "  <thead>\n",
       "    <tr style=\"text-align: right;\">\n",
       "      <th></th>\n",
       "      <th>ITEM_ID</th>\n",
       "      <th>USER_ID</th>\n",
       "      <th>EVENT_TYPE</th>\n",
       "      <th>TIMESTAMP</th>\n",
       "      <th>DISCOUNT</th>\n",
       "    </tr>\n",
       "  </thead>\n",
       "  <tbody>\n",
       "    <tr>\n",
       "      <th>0</th>\n",
       "      <td>b93b7b15-9bb3-407c-b80b-517e7c45e090</td>\n",
       "      <td>3156</td>\n",
       "      <td>View</td>\n",
       "      <td>1709970535</td>\n",
       "      <td>No</td>\n",
       "    </tr>\n",
       "    <tr>\n",
       "      <th>1</th>\n",
       "      <td>b93b7b15-9bb3-407c-b80b-517e7c45e090</td>\n",
       "      <td>3156</td>\n",
       "      <td>View</td>\n",
       "      <td>1709970540</td>\n",
       "      <td>No</td>\n",
       "    </tr>\n",
       "    <tr>\n",
       "      <th>2</th>\n",
       "      <td>3946f4c8-1b5b-4161-b794-70b33affb671</td>\n",
       "      <td>2122</td>\n",
       "      <td>View</td>\n",
       "      <td>1709970558</td>\n",
       "      <td>No</td>\n",
       "    </tr>\n",
       "    <tr>\n",
       "      <th>3</th>\n",
       "      <td>3946f4c8-1b5b-4161-b794-70b33affb671</td>\n",
       "      <td>2122</td>\n",
       "      <td>View</td>\n",
       "      <td>1709970568</td>\n",
       "      <td>No</td>\n",
       "    </tr>\n",
       "    <tr>\n",
       "      <th>4</th>\n",
       "      <td>e9daa7cd-8230-4544-9f07-86fa84d7c3c1</td>\n",
       "      <td>2485</td>\n",
       "      <td>View</td>\n",
       "      <td>1709970578</td>\n",
       "      <td>No</td>\n",
       "    </tr>\n",
       "    <tr>\n",
       "      <th>...</th>\n",
       "      <td>...</td>\n",
       "      <td>...</td>\n",
       "      <td>...</td>\n",
       "      <td>...</td>\n",
       "      <td>...</td>\n",
       "    </tr>\n",
       "    <tr>\n",
       "      <th>674999</th>\n",
       "      <td>8770aa6d-44e7-4219-9ab4-71b3fd828f36</td>\n",
       "      <td>4406</td>\n",
       "      <td>View</td>\n",
       "      <td>1716371426</td>\n",
       "      <td>Yes</td>\n",
       "    </tr>\n",
       "    <tr>\n",
       "      <th>675000</th>\n",
       "      <td>8770aa6d-44e7-4219-9ab4-71b3fd828f36</td>\n",
       "      <td>4406</td>\n",
       "      <td>AddToCart</td>\n",
       "      <td>1716371430</td>\n",
       "      <td>Yes</td>\n",
       "    </tr>\n",
       "    <tr>\n",
       "      <th>675001</th>\n",
       "      <td>8770aa6d-44e7-4219-9ab4-71b3fd828f36</td>\n",
       "      <td>4406</td>\n",
       "      <td>ViewCart</td>\n",
       "      <td>1716371435</td>\n",
       "      <td>Yes</td>\n",
       "    </tr>\n",
       "    <tr>\n",
       "      <th>675002</th>\n",
       "      <td>8770aa6d-44e7-4219-9ab4-71b3fd828f36</td>\n",
       "      <td>4406</td>\n",
       "      <td>StartCheckout</td>\n",
       "      <td>1716371438</td>\n",
       "      <td>Yes</td>\n",
       "    </tr>\n",
       "    <tr>\n",
       "      <th>675003</th>\n",
       "      <td>8770aa6d-44e7-4219-9ab4-71b3fd828f36</td>\n",
       "      <td>4406</td>\n",
       "      <td>Purchase</td>\n",
       "      <td>1716371439</td>\n",
       "      <td>Yes</td>\n",
       "    </tr>\n",
       "  </tbody>\n",
       "</table>\n",
       "<p>675004 rows × 5 columns</p>\n",
       "</div>"
      ],
      "text/plain": [
       "                                     ITEM_ID  USER_ID     EVENT_TYPE  \\\n",
       "0       b93b7b15-9bb3-407c-b80b-517e7c45e090     3156           View   \n",
       "1       b93b7b15-9bb3-407c-b80b-517e7c45e090     3156           View   \n",
       "2       3946f4c8-1b5b-4161-b794-70b33affb671     2122           View   \n",
       "3       3946f4c8-1b5b-4161-b794-70b33affb671     2122           View   \n",
       "4       e9daa7cd-8230-4544-9f07-86fa84d7c3c1     2485           View   \n",
       "...                                      ...      ...            ...   \n",
       "674999  8770aa6d-44e7-4219-9ab4-71b3fd828f36     4406           View   \n",
       "675000  8770aa6d-44e7-4219-9ab4-71b3fd828f36     4406      AddToCart   \n",
       "675001  8770aa6d-44e7-4219-9ab4-71b3fd828f36     4406       ViewCart   \n",
       "675002  8770aa6d-44e7-4219-9ab4-71b3fd828f36     4406  StartCheckout   \n",
       "675003  8770aa6d-44e7-4219-9ab4-71b3fd828f36     4406       Purchase   \n",
       "\n",
       "         TIMESTAMP DISCOUNT  \n",
       "0       1709970535       No  \n",
       "1       1709970540       No  \n",
       "2       1709970558       No  \n",
       "3       1709970568       No  \n",
       "4       1709970578       No  \n",
       "...            ...      ...  \n",
       "674999  1716371426      Yes  \n",
       "675000  1716371430      Yes  \n",
       "675001  1716371435      Yes  \n",
       "675002  1716371438      Yes  \n",
       "675003  1716371439      Yes  \n",
       "\n",
       "[675004 rows x 5 columns]"
      ]
     },
     "execution_count": 11,
     "metadata": {},
     "output_type": "execute_result"
    }
   ],
   "source": [
    "df = pd.read_csv('./interactions.csv')\n",
    "df"
   ]
  },
  {
   "cell_type": "code",
   "execution_count": 12,
   "id": "711a3292",
   "metadata": {
    "tags": []
   },
   "outputs": [
    {
     "name": "stdout",
     "output_type": "stream",
     "text": [
      "<class 'pandas.core.frame.DataFrame'>\n",
      "RangeIndex: 675004 entries, 0 to 675003\n",
      "Data columns (total 5 columns):\n",
      " #   Column      Non-Null Count   Dtype \n",
      "---  ------      --------------   ----- \n",
      " 0   ITEM_ID     675004 non-null  object\n",
      " 1   USER_ID     675004 non-null  int64 \n",
      " 2   EVENT_TYPE  675004 non-null  object\n",
      " 3   TIMESTAMP   675004 non-null  int64 \n",
      " 4   DISCOUNT    675004 non-null  object\n",
      "dtypes: int64(2), object(3)\n",
      "memory usage: 25.7+ MB\n"
     ]
    }
   ],
   "source": [
    "df.info()"
   ]
  },
  {
   "cell_type": "markdown",
   "id": "66032111",
   "metadata": {},
   "source": [
    "From the cells above, we've learned that our data has has 5 columns, 675004 rows and the headers are: ITEM_ID, USER_ID, EVENT_TYPE, TIMESTAMP and DISCOUNT.\n",
    "\n",
    "To be compatible with an Amazon Personalize interactions schema, this dataset requires column headings compatible with Amazon Personalize default column names (read about column names [here](https://docs.aws.amazon.com/personalize/latest/dg/how-it-works-dataset-schema.html) )\n",
    "\n",
    "The ECOMMERCE recommenders require you to provide specific EVENT_TYPE values in order to understand the context of an interaction. Let's look at what event types are currently in our dataset:"
   ]
  },
  {
   "cell_type": "code",
   "execution_count": 13,
   "id": "383fa167",
   "metadata": {
    "tags": []
   },
   "outputs": [
    {
     "data": {
      "text/plain": [
       "EVENT_TYPE\n",
       "View             581900\n",
       "AddToCart         46552\n",
       "ViewCart          29095\n",
       "StartCheckout     11638\n",
       "Purchase           5819\n",
       "Name: count, dtype: int64"
      ]
     },
     "execution_count": 13,
     "metadata": {},
     "output_type": "execute_result"
    }
   ],
   "source": [
    "df.EVENT_TYPE.value_counts()"
   ]
  },
  {
   "cell_type": "markdown",
   "id": "9033359c",
   "metadata": {},
   "source": [
    "We can see that 'View' and 'Purchase' event are present and we can proceed. "
   ]
  },
  {
   "cell_type": "markdown",
   "id": "0bee3c96",
   "metadata": {},
   "source": [
    "### Prepare the Interactions Data\n"
   ]
  },
  {
   "cell_type": "markdown",
   "id": "7d7b067f",
   "metadata": {},
   "source": [
    "### Drop Columns\n",
    "\n",
    "Some columns in this dataset would not add value to our model and as such need to be dropped from this dataset. Columns such as *discount*."
   ]
  },
  {
   "cell_type": "code",
   "execution_count": 14,
   "id": "65efe415",
   "metadata": {
    "scrolled": true,
    "tags": []
   },
   "outputs": [
    {
     "data": {
      "text/html": [
       "<div>\n",
       "<style scoped>\n",
       "    .dataframe tbody tr th:only-of-type {\n",
       "        vertical-align: middle;\n",
       "    }\n",
       "\n",
       "    .dataframe tbody tr th {\n",
       "        vertical-align: top;\n",
       "    }\n",
       "\n",
       "    .dataframe thead th {\n",
       "        text-align: right;\n",
       "    }\n",
       "</style>\n",
       "<table border=\"1\" class=\"dataframe\">\n",
       "  <thead>\n",
       "    <tr style=\"text-align: right;\">\n",
       "      <th></th>\n",
       "      <th>ITEM_ID</th>\n",
       "      <th>USER_ID</th>\n",
       "      <th>EVENT_TYPE</th>\n",
       "      <th>TIMESTAMP</th>\n",
       "    </tr>\n",
       "  </thead>\n",
       "  <tbody>\n",
       "    <tr>\n",
       "      <th>314097</th>\n",
       "      <td>aad9fe48-92f9-4197-af5a-505a80316c8c</td>\n",
       "      <td>4543</td>\n",
       "      <td>View</td>\n",
       "      <td>1712949061</td>\n",
       "    </tr>\n",
       "    <tr>\n",
       "      <th>216150</th>\n",
       "      <td>84ab276d-9713-409f-861e-35502d6dc64a</td>\n",
       "      <td>2246</td>\n",
       "      <td>View</td>\n",
       "      <td>1712020256</td>\n",
       "    </tr>\n",
       "    <tr>\n",
       "      <th>248890</th>\n",
       "      <td>b87da3f8-9a3e-417d-abd7-16329c5be1ba</td>\n",
       "      <td>4465</td>\n",
       "      <td>View</td>\n",
       "      <td>1712330716</td>\n",
       "    </tr>\n",
       "    <tr>\n",
       "      <th>82468</th>\n",
       "      <td>ec02b332-05a5-40dd-ae9d-2b0672baaa6e</td>\n",
       "      <td>232</td>\n",
       "      <td>View</td>\n",
       "      <td>1710752595</td>\n",
       "    </tr>\n",
       "    <tr>\n",
       "      <th>224804</th>\n",
       "      <td>2aba4640-946f-48e2-bd43-c3ac3a70fb7c</td>\n",
       "      <td>3552</td>\n",
       "      <td>AddToCart</td>\n",
       "      <td>1712102321</td>\n",
       "    </tr>\n",
       "    <tr>\n",
       "      <th>58251</th>\n",
       "      <td>e61935e9-bfd3-4ea7-81a0-3212f542b18a</td>\n",
       "      <td>4419</td>\n",
       "      <td>View</td>\n",
       "      <td>1710522937</td>\n",
       "    </tr>\n",
       "    <tr>\n",
       "      <th>163590</th>\n",
       "      <td>122f738a-92c6-479c-9bd7-c45b17bf0417</td>\n",
       "      <td>4691</td>\n",
       "      <td>View</td>\n",
       "      <td>1711521829</td>\n",
       "    </tr>\n",
       "    <tr>\n",
       "      <th>342969</th>\n",
       "      <td>3ab996bb-9c82-4e05-b14a-81a68352c418</td>\n",
       "      <td>2802</td>\n",
       "      <td>View</td>\n",
       "      <td>1713222843</td>\n",
       "    </tr>\n",
       "    <tr>\n",
       "      <th>435374</th>\n",
       "      <td>6a90d0b3-930c-46c3-b093-f55c60eb27a2</td>\n",
       "      <td>2520</td>\n",
       "      <td>View</td>\n",
       "      <td>1714099094</td>\n",
       "    </tr>\n",
       "    <tr>\n",
       "      <th>64270</th>\n",
       "      <td>4df77d59-732e-4194-b9aa-7ad3878345e7</td>\n",
       "      <td>4732</td>\n",
       "      <td>View</td>\n",
       "      <td>1710579996</td>\n",
       "    </tr>\n",
       "  </tbody>\n",
       "</table>\n",
       "</div>"
      ],
      "text/plain": [
       "                                     ITEM_ID  USER_ID EVENT_TYPE   TIMESTAMP\n",
       "314097  aad9fe48-92f9-4197-af5a-505a80316c8c     4543       View  1712949061\n",
       "216150  84ab276d-9713-409f-861e-35502d6dc64a     2246       View  1712020256\n",
       "248890  b87da3f8-9a3e-417d-abd7-16329c5be1ba     4465       View  1712330716\n",
       "82468   ec02b332-05a5-40dd-ae9d-2b0672baaa6e      232       View  1710752595\n",
       "224804  2aba4640-946f-48e2-bd43-c3ac3a70fb7c     3552  AddToCart  1712102321\n",
       "58251   e61935e9-bfd3-4ea7-81a0-3212f542b18a     4419       View  1710522937\n",
       "163590  122f738a-92c6-479c-9bd7-c45b17bf0417     4691       View  1711521829\n",
       "342969  3ab996bb-9c82-4e05-b14a-81a68352c418     2802       View  1713222843\n",
       "435374  6a90d0b3-930c-46c3-b093-f55c60eb27a2     2520       View  1714099094\n",
       "64270   4df77d59-732e-4194-b9aa-7ad3878345e7     4732       View  1710579996"
      ]
     },
     "execution_count": 14,
     "metadata": {},
     "output_type": "execute_result"
    }
   ],
   "source": [
    "test=df.drop(columns=['DISCOUNT'])\n",
    "df=test\n",
    "df.sample(10)"
   ]
  },
  {
   "cell_type": "markdown",
   "id": "8c31e4c6-d9c0-47b1-aa6b-8392929a79d9",
   "metadata": {},
   "source": [
    "Setup names for interactions files to use later"
   ]
  },
  {
   "cell_type": "code",
   "execution_count": 15,
   "id": "e44a59b7",
   "metadata": {
    "tags": []
   },
   "outputs": [],
   "source": [
    "interactions_file_path = './cleaned_interactions_training_data.csv'\n",
    "interactions_file_name = 'cleaned_interactions_training_data.csv'"
   ]
  },
  {
   "cell_type": "markdown",
   "id": "7e13d9db",
   "metadata": {},
   "source": [
    "In the cell below, we will write our cleaned data to a file named \"final_training_data.csv"
   ]
  },
  {
   "cell_type": "code",
   "execution_count": 16,
   "id": "2c8ad8ac",
   "metadata": {
    "tags": []
   },
   "outputs": [],
   "source": [
    "df.to_csv(interactions_file_path)"
   ]
  },
  {
   "cell_type": "markdown",
   "id": "2fd3b13d",
   "metadata": {},
   "source": [
    "### Download and Explore the Items Dataset"
   ]
  },
  {
   "cell_type": "code",
   "execution_count": 17,
   "id": "89324993",
   "metadata": {
    "tags": []
   },
   "outputs": [
    {
     "name": "stdout",
     "output_type": "stream",
     "text": [
      "--2024-07-03 23:45:59--  https://code.retaildemostore.retail.aws.dev/csvs/items.csv\n",
      "Resolving code.retaildemostore.retail.aws.dev (code.retaildemostore.retail.aws.dev)... 18.165.83.109, 18.165.83.69, 18.165.83.120, ...\n",
      "Connecting to code.retaildemostore.retail.aws.dev (code.retaildemostore.retail.aws.dev)|18.165.83.109|:443... connected.\n",
      "HTTP request sent, awaiting response... 200 OK\n",
      "Length: 789018 (771K) [text/csv]\n",
      "Saving to: ‘./items.csv’\n",
      "\n",
      "100%[======================================>] 789,018     2.47MB/s   in 0.3s   \n",
      "\n",
      "2024-07-03 23:45:59 (2.47 MB/s) - ‘./items.csv’ saved [789018/789018]\n",
      "\n"
     ]
    }
   ],
   "source": [
    "!wget https://code.retaildemostore.retail.aws.dev/csvs/items.csv -O ./items.csv --no-check-certificate"
   ]
  },
  {
   "cell_type": "markdown",
   "id": "3bd1fa09",
   "metadata": {},
   "source": [
    "The dataset has been successfully downloaded as items.csv\n",
    "\n",
    "Lets learn more about the dataset by viewing its charateristics"
   ]
  },
  {
   "cell_type": "code",
   "execution_count": 18,
   "id": "9588db31",
   "metadata": {
    "tags": []
   },
   "outputs": [
    {
     "data": {
      "text/html": [
       "<div>\n",
       "<style scoped>\n",
       "    .dataframe tbody tr th:only-of-type {\n",
       "        vertical-align: middle;\n",
       "    }\n",
       "\n",
       "    .dataframe tbody tr th {\n",
       "        vertical-align: top;\n",
       "    }\n",
       "\n",
       "    .dataframe thead th {\n",
       "        text-align: right;\n",
       "    }\n",
       "</style>\n",
       "<table border=\"1\" class=\"dataframe\">\n",
       "  <thead>\n",
       "    <tr style=\"text-align: right;\">\n",
       "      <th></th>\n",
       "      <th>ITEM_ID</th>\n",
       "      <th>PRICE</th>\n",
       "      <th>CATEGORY_L1</th>\n",
       "      <th>CATEGORY_L2</th>\n",
       "      <th>PRODUCT_NAME</th>\n",
       "      <th>PRODUCT_DESCRIPTION</th>\n",
       "      <th>GENDER</th>\n",
       "      <th>PROMOTED</th>\n",
       "    </tr>\n",
       "  </thead>\n",
       "  <tbody>\n",
       "    <tr>\n",
       "      <th>0</th>\n",
       "      <td>6579c22f-be2b-444c-a52b-0116dd82df6c</td>\n",
       "      <td>90.99</td>\n",
       "      <td>accessories</td>\n",
       "      <td>backpack</td>\n",
       "      <td>Spacious Tan Backpack for Her Travels</td>\n",
       "      <td>This versatile tan travel backpack is thoughtf...</td>\n",
       "      <td>F</td>\n",
       "      <td>NaN</td>\n",
       "    </tr>\n",
       "    <tr>\n",
       "      <th>1</th>\n",
       "      <td>2e852905-c6f4-47db-802c-654013571922</td>\n",
       "      <td>123.99</td>\n",
       "      <td>accessories</td>\n",
       "      <td>backpack</td>\n",
       "      <td>Blush Backpack for Everyday Chic</td>\n",
       "      <td>This chic pale pink backpack adds a feminine t...</td>\n",
       "      <td>F</td>\n",
       "      <td>NaN</td>\n",
       "    </tr>\n",
       "    <tr>\n",
       "      <th>2</th>\n",
       "      <td>4ec7ff5c-f70f-4984-b6c4-c7ef37cc0c09</td>\n",
       "      <td>87.99</td>\n",
       "      <td>accessories</td>\n",
       "      <td>backpack</td>\n",
       "      <td>Sleek Gainsboro Pack for Fashionable Women</td>\n",
       "      <td>Sleek and spacious, this stylish gainsboro bac...</td>\n",
       "      <td>F</td>\n",
       "      <td>NaN</td>\n",
       "    </tr>\n",
       "    <tr>\n",
       "      <th>3</th>\n",
       "      <td>7977f680-2cf7-457d-8f4d-afa0aa168cb9</td>\n",
       "      <td>125.99</td>\n",
       "      <td>accessories</td>\n",
       "      <td>backpack</td>\n",
       "      <td>Stylish Gray Backpack for Women</td>\n",
       "      <td>Chic and functional gray backpack designed for...</td>\n",
       "      <td>F</td>\n",
       "      <td>NaN</td>\n",
       "    </tr>\n",
       "    <tr>\n",
       "      <th>4</th>\n",
       "      <td>b5649d7c-4651-458d-a07f-912f253784ce</td>\n",
       "      <td>141.99</td>\n",
       "      <td>accessories</td>\n",
       "      <td>backpack</td>\n",
       "      <td>Stylish Orange Backpack</td>\n",
       "      <td>Style and function meet in this durable canvas...</td>\n",
       "      <td>F</td>\n",
       "      <td>NaN</td>\n",
       "    </tr>\n",
       "    <tr>\n",
       "      <th>...</th>\n",
       "      <td>...</td>\n",
       "      <td>...</td>\n",
       "      <td>...</td>\n",
       "      <td>...</td>\n",
       "      <td>...</td>\n",
       "      <td>...</td>\n",
       "      <td>...</td>\n",
       "      <td>...</td>\n",
       "    </tr>\n",
       "    <tr>\n",
       "      <th>2460</th>\n",
       "      <td>5afced84-ed2d-4520-a06d-dcfeab382e52</td>\n",
       "      <td>2.50</td>\n",
       "      <td>cold dispensed</td>\n",
       "      <td>fountain-non-carbonated</td>\n",
       "      <td>Refreshing Ginseng Iced Tea</td>\n",
       "      <td>Refresh and recharge with our crisp, lightly s...</td>\n",
       "      <td>Any</td>\n",
       "      <td>NaN</td>\n",
       "    </tr>\n",
       "    <tr>\n",
       "      <th>2461</th>\n",
       "      <td>0987bfa1-0a23-4b90-8882-8a6e9bd91e24</td>\n",
       "      <td>5.50</td>\n",
       "      <td>food service</td>\n",
       "      <td>seafood</td>\n",
       "      <td>Spicy Prawn Curry</td>\n",
       "      <td>Succulent prawns in a creamy, aromatic curry s...</td>\n",
       "      <td>Any</td>\n",
       "      <td>NaN</td>\n",
       "    </tr>\n",
       "    <tr>\n",
       "      <th>2462</th>\n",
       "      <td>575c0ac0-5494-4c64-a886-a9c0cf8b779a</td>\n",
       "      <td>3.50</td>\n",
       "      <td>food service</td>\n",
       "      <td>other cuisine</td>\n",
       "      <td>Lentil Potato Carrot Dish</td>\n",
       "      <td>Hearty lentil dish with protein-rich legumes, ...</td>\n",
       "      <td>Any</td>\n",
       "      <td>True</td>\n",
       "    </tr>\n",
       "    <tr>\n",
       "      <th>2463</th>\n",
       "      <td>7000f6e7-41f7-4957-878a-ccc42a39ca59</td>\n",
       "      <td>1.20</td>\n",
       "      <td>hot dispensed</td>\n",
       "      <td>hot chocolate</td>\n",
       "      <td>Hot Chocolate - Creamy Chocolatey Warmth</td>\n",
       "      <td>Indulge in creamy, chocolatey warmth with our ...</td>\n",
       "      <td>Any</td>\n",
       "      <td>NaN</td>\n",
       "    </tr>\n",
       "    <tr>\n",
       "      <th>2464</th>\n",
       "      <td>9c1a2048-7aac-4565-b836-d8d4f726322c</td>\n",
       "      <td>1.10</td>\n",
       "      <td>salty snacks</td>\n",
       "      <td>potato chips</td>\n",
       "      <td>Crunchy Potato Chips</td>\n",
       "      <td>This classic snack features thin slices of pot...</td>\n",
       "      <td>Any</td>\n",
       "      <td>NaN</td>\n",
       "    </tr>\n",
       "  </tbody>\n",
       "</table>\n",
       "<p>2465 rows × 8 columns</p>\n",
       "</div>"
      ],
      "text/plain": [
       "                                   ITEM_ID   PRICE     CATEGORY_L1  \\\n",
       "0     6579c22f-be2b-444c-a52b-0116dd82df6c   90.99     accessories   \n",
       "1     2e852905-c6f4-47db-802c-654013571922  123.99     accessories   \n",
       "2     4ec7ff5c-f70f-4984-b6c4-c7ef37cc0c09   87.99     accessories   \n",
       "3     7977f680-2cf7-457d-8f4d-afa0aa168cb9  125.99     accessories   \n",
       "4     b5649d7c-4651-458d-a07f-912f253784ce  141.99     accessories   \n",
       "...                                    ...     ...             ...   \n",
       "2460  5afced84-ed2d-4520-a06d-dcfeab382e52    2.50  cold dispensed   \n",
       "2461  0987bfa1-0a23-4b90-8882-8a6e9bd91e24    5.50    food service   \n",
       "2462  575c0ac0-5494-4c64-a886-a9c0cf8b779a    3.50    food service   \n",
       "2463  7000f6e7-41f7-4957-878a-ccc42a39ca59    1.20   hot dispensed   \n",
       "2464  9c1a2048-7aac-4565-b836-d8d4f726322c    1.10    salty snacks   \n",
       "\n",
       "                  CATEGORY_L2                                PRODUCT_NAME  \\\n",
       "0                    backpack       Spacious Tan Backpack for Her Travels   \n",
       "1                    backpack            Blush Backpack for Everyday Chic   \n",
       "2                    backpack  Sleek Gainsboro Pack for Fashionable Women   \n",
       "3                    backpack             Stylish Gray Backpack for Women   \n",
       "4                    backpack                     Stylish Orange Backpack   \n",
       "...                       ...                                         ...   \n",
       "2460  fountain-non-carbonated                 Refreshing Ginseng Iced Tea   \n",
       "2461                  seafood                           Spicy Prawn Curry   \n",
       "2462            other cuisine                   Lentil Potato Carrot Dish   \n",
       "2463            hot chocolate    Hot Chocolate - Creamy Chocolatey Warmth   \n",
       "2464             potato chips                        Crunchy Potato Chips   \n",
       "\n",
       "                                    PRODUCT_DESCRIPTION GENDER PROMOTED  \n",
       "0     This versatile tan travel backpack is thoughtf...      F      NaN  \n",
       "1     This chic pale pink backpack adds a feminine t...      F      NaN  \n",
       "2     Sleek and spacious, this stylish gainsboro bac...      F      NaN  \n",
       "3     Chic and functional gray backpack designed for...      F      NaN  \n",
       "4     Style and function meet in this durable canvas...      F      NaN  \n",
       "...                                                 ...    ...      ...  \n",
       "2460  Refresh and recharge with our crisp, lightly s...    Any      NaN  \n",
       "2461  Succulent prawns in a creamy, aromatic curry s...    Any      NaN  \n",
       "2462  Hearty lentil dish with protein-rich legumes, ...    Any     True  \n",
       "2463  Indulge in creamy, chocolatey warmth with our ...    Any      NaN  \n",
       "2464  This classic snack features thin slices of pot...    Any      NaN  \n",
       "\n",
       "[2465 rows x 8 columns]"
      ]
     },
     "execution_count": 18,
     "metadata": {},
     "output_type": "execute_result"
    }
   ],
   "source": [
    "items_df = pd.read_csv('./items.csv')\n",
    "items_df"
   ]
  },
  {
   "cell_type": "code",
   "execution_count": 19,
   "id": "d25b6c88",
   "metadata": {
    "tags": []
   },
   "outputs": [
    {
     "name": "stdout",
     "output_type": "stream",
     "text": [
      "<class 'pandas.core.frame.DataFrame'>\n",
      "RangeIndex: 2465 entries, 0 to 2464\n",
      "Data columns (total 8 columns):\n",
      " #   Column               Non-Null Count  Dtype  \n",
      "---  ------               --------------  -----  \n",
      " 0   ITEM_ID              2465 non-null   object \n",
      " 1   PRICE                2465 non-null   float64\n",
      " 2   CATEGORY_L1          2465 non-null   object \n",
      " 3   CATEGORY_L2          2465 non-null   object \n",
      " 4   PRODUCT_NAME         2465 non-null   object \n",
      " 5   PRODUCT_DESCRIPTION  2465 non-null   object \n",
      " 6   GENDER               2465 non-null   object \n",
      " 7   PROMOTED             609 non-null    object \n",
      "dtypes: float64(1), object(7)\n",
      "memory usage: 154.2+ KB\n"
     ]
    }
   ],
   "source": [
    "items_df.info()"
   ]
  },
  {
   "cell_type": "markdown",
   "id": "4fda300e",
   "metadata": {},
   "source": [
    "Let's explore the kinds of items included in the dataset."
   ]
  },
  {
   "cell_type": "code",
   "execution_count": 20,
   "id": "3c3cf7bc",
   "metadata": {
    "tags": []
   },
   "outputs": [
    {
     "data": {
      "text/plain": [
       "array(['accessories', 'apparel', 'beauty', 'books', 'electronics',\n",
       "       'floral', 'footwear', 'furniture', 'groceries', 'homedecor',\n",
       "       'housewares', 'instruments', 'jewelry', 'outdoors', 'seasonal',\n",
       "       'tools', 'food service', 'cold dispensed', 'salty snacks',\n",
       "       'hot dispensed'], dtype=object)"
      ]
     },
     "execution_count": 20,
     "metadata": {},
     "output_type": "execute_result"
    }
   ],
   "source": [
    "items_df.CATEGORY_L1.unique()"
   ]
  },
  {
   "cell_type": "code",
   "execution_count": 21,
   "id": "57a631e4",
   "metadata": {
    "tags": []
   },
   "outputs": [
    {
     "data": {
      "text/plain": [
       "array(['backpack', 'bag', 'belt', 'glasses', 'handbag', 'watch', 'jacket',\n",
       "       'scarf', 'shirt', 'socks', 'bathing', 'grooming', 'cooking',\n",
       "       'travel', 'cable', 'camera', 'computer', 'headphones', 'keyboard',\n",
       "       'speaker', 'television', 'arrangement', 'bouquet', 'centerpiece',\n",
       "       'plant', 'wreath', 'boot', 'formal', 'sandals', 'sneaker',\n",
       "       'chairs', 'dressers', 'sofas', 'tables', 'bakery', 'dairy',\n",
       "       'fruits', 'meat', 'seafood', 'vegetables', 'clock', 'cushion',\n",
       "       'decorative', 'lighting', 'bowls', 'consumable', 'kitchen', 'keys',\n",
       "       'microphone', 'percussion', 'strings', 'wind', 'bracelet',\n",
       "       'earrings', 'necklace', 'camping', 'fishing', 'kayaking', 'pet',\n",
       "       'christmas', 'easter', 'halloween', 'valentine', 'axe', 'drill',\n",
       "       'hammer', 'knife', 'plier', 'saw', 'screwdriver', 'set', 'wrench',\n",
       "       'bedroom', 'salon', 'pizza', 'nachos', 'fountain-carbonated',\n",
       "       'nuts/seeds', 'sandwiches/wraps', 'soup and salad',\n",
       "       'fountain-non-carbonated', 'other cuisine', 'hot chocolate',\n",
       "       'potato chips'], dtype=object)"
      ]
     },
     "execution_count": 21,
     "metadata": {},
     "output_type": "execute_result"
    }
   ],
   "source": [
    "items_df.CATEGORY_L2.unique()"
   ]
  },
  {
   "cell_type": "markdown",
   "id": "aa56a4ad-6f4d-4b17-b741-cb8805ebdfd2",
   "metadata": {},
   "source": [
    "Setup names for items files"
   ]
  },
  {
   "cell_type": "code",
   "execution_count": 22,
   "id": "eb427832-5b2b-4533-b37a-0b13a00638ab",
   "metadata": {
    "tags": []
   },
   "outputs": [],
   "source": [
    "items_file_path = './cleaned_item_training_data.csv'\n",
    "items_file_name = 'cleaned_item_training_data.csv'"
   ]
  },
  {
   "cell_type": "markdown",
   "id": "ef827e5b",
   "metadata": {},
   "source": [
    "Write the data to a .csv file "
   ]
  },
  {
   "cell_type": "code",
   "execution_count": 23,
   "id": "6dcf134f",
   "metadata": {
    "tags": []
   },
   "outputs": [],
   "source": [
    "items_df.to_csv(items_file_path)"
   ]
  },
  {
   "cell_type": "markdown",
   "id": "b3633400-c486-47db-94a0-9896df0dfbab",
   "metadata": {},
   "source": [
    "Let's validate that your environment can communicate successfully with Amazon Personalize, the code below do just that."
   ]
  },
  {
   "cell_type": "code",
   "execution_count": 24,
   "id": "849a6990-bbb4-4e3a-8c0a-c7a37fc729d7",
   "metadata": {
    "tags": []
   },
   "outputs": [
    {
     "data": {
      "text/plain": [
       "{'datasetGroups': [],\n",
       " 'ResponseMetadata': {'RequestId': '818d0172-1487-4fa6-a551-fd51c9a2a686',\n",
       "  'HTTPStatusCode': 200,\n",
       "  'HTTPHeaders': {'date': 'Wed, 03 Jul 2024 23:46:00 GMT',\n",
       "   'content-type': 'application/x-amz-json-1.1',\n",
       "   'content-length': '20',\n",
       "   'connection': 'keep-alive',\n",
       "   'x-amzn-requestid': '818d0172-1487-4fa6-a551-fd51c9a2a686',\n",
       "   'strict-transport-security': 'max-age=47304000; includeSubDomains',\n",
       "   'x-frame-options': 'DENY',\n",
       "   'cache-control': 'no-cache',\n",
       "   'x-content-type-options': 'nosniff'},\n",
       "  'RetryAttempts': 0}}"
      ]
     },
     "execution_count": 24,
     "metadata": {},
     "output_type": "execute_result"
    }
   ],
   "source": [
    "personalize.list_dataset_groups()"
   ]
  },
  {
   "cell_type": "markdown",
   "id": "a2884e83",
   "metadata": {},
   "source": [
    "### Upload Interactions data to S3\n",
    "Now that our training data is ready for Amazon Personalize,the next step is to upload it to the s3 bucket created earlier"
   ]
  },
  {
   "cell_type": "code",
   "execution_count": 25,
   "id": "049ee211",
   "metadata": {
    "tags": []
   },
   "outputs": [
    {
     "name": "stdout",
     "output_type": "stream",
     "text": [
      "s3://personalizesamples-sgarcesv-piqebvlkj/cleaned_interactions_training_data.csv\n"
     ]
    }
   ],
   "source": [
    "boto3.Session().resource('s3').Bucket(bucket_name).Object(interactions_file_name).upload_file(interactions_file_path)\n",
    "interactions_s3DataPath = \"s3://\"+bucket_name+\"/\"+interactions_file_name\n",
    "print(interactions_s3DataPath)"
   ]
  },
  {
   "cell_type": "markdown",
   "id": "7cb04ad2",
   "metadata": {},
   "source": [
    "### Upload Items data to S3\n",
    "Now that our training data is ready for Amazon Personalize,the next step is to upload it to the s3 bucket created earlier"
   ]
  },
  {
   "cell_type": "code",
   "execution_count": 26,
   "id": "38e3e584",
   "metadata": {
    "tags": []
   },
   "outputs": [
    {
     "name": "stdout",
     "output_type": "stream",
     "text": [
      "s3://personalizesamples-sgarcesv-piqebvlkj/cleaned_item_training_data.csv\n"
     ]
    }
   ],
   "source": [
    "boto3.Session().resource('s3').Bucket(bucket_name).Object(items_file_name).upload_file(items_file_path)\n",
    "items_s3DataPath = \"s3://\"+bucket_name+\"/\"+items_file_name\n",
    "print(items_s3DataPath)"
   ]
  },
  {
   "cell_type": "markdown",
   "id": "cfbe117d",
   "metadata": {},
   "source": [
    "## Create and Wait for Dataset Group\n",
    "The largest grouping in Amazon Personalize is a Dataset Group, this will isolate your data, event trackers, solutions, Recommenders, and campaigns. Grouping things together that share a common collection of data. Feel free to alter the name below if you'd like. \n",
    "\n",
    "When you create a Domain dataset group, you choose your domain. The domain you specify determines the default schemas for datasets and the use cases that are available for recommenders. \n",
    "\n",
    "You can find more information about creating a Domain dataset group in [the documentation](https://docs.aws.amazon.com/personalize/latest/dg/create-domain-dataset-group.html).\n",
    "\n",
    "### Create Dataset Group"
   ]
  },
  {
   "cell_type": "code",
   "execution_count": 27,
   "id": "1aeed98c",
   "metadata": {
    "scrolled": true,
    "tags": []
   },
   "outputs": [
    {
     "name": "stdout",
     "output_type": "stream",
     "text": [
      "{\n",
      "  \"datasetGroupArn\": \"arn:aws:personalize:us-east-1:058264209953:dataset-group/personalize_ecommerce_dsg\",\n",
      "  \"domain\": \"ECOMMERCE\",\n",
      "  \"ResponseMetadata\": {\n",
      "    \"RequestId\": \"05413ccc-fa5d-413f-8c7b-52206f90d90b\",\n",
      "    \"HTTPStatusCode\": 200,\n",
      "    \"HTTPHeaders\": {\n",
      "      \"date\": \"Wed, 03 Jul 2024 23:46:01 GMT\",\n",
      "      \"content-type\": \"application/x-amz-json-1.1\",\n",
      "      \"content-length\": \"125\",\n",
      "      \"connection\": \"keep-alive\",\n",
      "      \"x-amzn-requestid\": \"05413ccc-fa5d-413f-8c7b-52206f90d90b\",\n",
      "      \"strict-transport-security\": \"max-age=47304000; includeSubDomains\",\n",
      "      \"x-frame-options\": \"DENY\",\n",
      "      \"cache-control\": \"no-cache\",\n",
      "      \"x-content-type-options\": \"nosniff\"\n",
      "    },\n",
      "    \"RetryAttempts\": 0\n",
      "  }\n",
      "}\n"
     ]
    }
   ],
   "source": [
    "dataset_group_name='personalize_ecommerce_dsg'\n",
    "\n",
    "try:\n",
    "    response = personalize.create_dataset_group(\n",
    "        name=dataset_group_name,\n",
    "        domain='ECOMMERCE'\n",
    "    )\n",
    "    \n",
    "    dataset_group_arn = response['datasetGroupArn']\n",
    "    print(json.dumps(response, indent=2))\n",
    "    \n",
    "except personalize.exceptions.ResourceAlreadyExistsException:\n",
    "    dataset_group_arn = 'arn:aws:personalize:' + region + ':' + account_id + ':dataset-group/' + dataset_group_name \n",
    "    print ('\\nThe the Dataset Group with dataset_group_arn = {} already exists'.format(dataset_group_arn))\n",
    "    print ('\\nWe will be using the existing Dataset Group dataset_group_arn = {}'.format(dataset_group_arn))"
   ]
  },
  {
   "cell_type": "markdown",
   "id": "757bcc10",
   "metadata": {},
   "source": [
    "Wait for Dataset Group to have ACTIVE Status\n",
    "Before we can use the Dataset Group in any items below it must be active, execute the cell below and wait for it to show active."
   ]
  },
  {
   "cell_type": "code",
   "execution_count": 28,
   "id": "01ca00c7",
   "metadata": {
    "tags": []
   },
   "outputs": [
    {
     "name": "stdout",
     "output_type": "stream",
     "text": [
      "DatasetGroup: CREATE PENDING\n",
      "DatasetGroup: ACTIVE\n",
      "CPU times: user 25.4 ms, sys: 1.09 ms, total: 26.5 ms\n",
      "Wall time: 1min\n"
     ]
    }
   ],
   "source": [
    "%%time\n",
    "\n",
    "max_time = time.time() + 3*60*60 # 3 hours\n",
    "while time.time() < max_time:\n",
    "    describe_dataset_group_response = personalize.describe_dataset_group(\n",
    "        datasetGroupArn = dataset_group_arn\n",
    "    )\n",
    "    status = describe_dataset_group_response[\"datasetGroup\"][\"status\"]\n",
    "    print(\"DatasetGroup: {}\".format(status))\n",
    "    \n",
    "    if status == \"ACTIVE\" or status == \"CREATE FAILED\":\n",
    "        break\n",
    "        \n",
    "    time.sleep(60)"
   ]
  },
  {
   "cell_type": "markdown",
   "id": "c11b6c37",
   "metadata": {
    "tags": []
   },
   "source": [
    "## Create Interactions Schema\n",
    "A core component of how Amazon Personalize understands your data comes from the Schema that is defined below. This configuration tells the service how to digest the data provided via your CSV file. Note the columns and types align to what was in the file you created above."
   ]
  },
  {
   "cell_type": "code",
   "execution_count": 29,
   "id": "591cd9ae",
   "metadata": {
    "tags": []
   },
   "outputs": [
    {
     "name": "stdout",
     "output_type": "stream",
     "text": [
      "{\n",
      "  \"schemaArn\": \"arn:aws:personalize:us-east-1:058264209953:schema/personalize-ecommerce-interactions_sch\",\n",
      "  \"ResponseMetadata\": {\n",
      "    \"RequestId\": \"f3f3527f-5e83-4575-bac0-be4dad1b701f\",\n",
      "    \"HTTPStatusCode\": 200,\n",
      "    \"HTTPHeaders\": {\n",
      "      \"date\": \"Wed, 03 Jul 2024 23:47:01 GMT\",\n",
      "      \"content-type\": \"application/x-amz-json-1.1\",\n",
      "      \"content-length\": \"104\",\n",
      "      \"connection\": \"keep-alive\",\n",
      "      \"x-amzn-requestid\": \"f3f3527f-5e83-4575-bac0-be4dad1b701f\",\n",
      "      \"strict-transport-security\": \"max-age=47304000; includeSubDomains\",\n",
      "      \"x-frame-options\": \"DENY\",\n",
      "      \"cache-control\": \"no-cache\",\n",
      "      \"x-content-type-options\": \"nosniff\"\n",
      "    },\n",
      "    \"RetryAttempts\": 0\n",
      "  }\n",
      "}\n"
     ]
    }
   ],
   "source": [
    "interactions_schema = {\n",
    "    \"type\": \"record\",\n",
    "    \"name\": \"Interactions\",\n",
    "    \"namespace\": \"com.amazonaws.personalize.schema\",\n",
    "    \"fields\": [\n",
    "        {\n",
    "            \"name\": \"USER_ID\",\n",
    "            \"type\": \"string\"\n",
    "        },\n",
    "        {\n",
    "            \"name\": \"ITEM_ID\",\n",
    "            \"type\": \"string\"\n",
    "        },\n",
    "        {\n",
    "            \"name\": \"TIMESTAMP\",\n",
    "            \"type\": \"long\"\n",
    "        },\n",
    "        {\n",
    "            \"name\": \"EVENT_TYPE\",\n",
    "            \"type\": \"string\"\n",
    "        }\n",
    "        \n",
    "    ],\n",
    "    \"version\": \"1.0\"\n",
    "}\n",
    "\n",
    "interactions_schema_name='personalize-ecommerce-interactions_sch'\n",
    "\n",
    "try:\n",
    "    create_schema_response = personalize.create_schema(\n",
    "        name = interactions_schema_name,\n",
    "        domain = 'ECOMMERCE',\n",
    "        schema = json.dumps(interactions_schema)\n",
    "    )\n",
    "\n",
    "    interactions_schema_arn = create_schema_response['schemaArn']\n",
    "    print(json.dumps(create_schema_response, indent=2))\n",
    "\n",
    "except personalize.exceptions.ResourceAlreadyExistsException:\n",
    "    interactions_schema_arn = 'arn:aws:personalize:' + region + ':' + account_id + ':schema/' + interactions_schema_name \n",
    "    print('The schema {} already exists.'.format(interactions_schema_arn))\n",
    "    print ('\\nWe will be using the existing Interactions Schema with interactions_schema_arn = {}'.format(interactions_schema_arn))\n",
    " "
   ]
  },
  {
   "cell_type": "markdown",
   "id": "7e58dc0b",
   "metadata": {},
   "source": [
    "## Create Items Schema\n",
    "A core component of how Amazon Personalize understands your data comes from the Schema that is defined below. This configuration tells the service how to digest the data provided via your CSV file. Note the columns and types align to what was in the file you created above."
   ]
  },
  {
   "cell_type": "code",
   "execution_count": 30,
   "id": "a791d503",
   "metadata": {
    "tags": []
   },
   "outputs": [
    {
     "name": "stdout",
     "output_type": "stream",
     "text": [
      "{\n",
      "  \"schemaArn\": \"arn:aws:personalize:us-east-1:058264209953:schema/personalize-ecommerce-items_sch\",\n",
      "  \"ResponseMetadata\": {\n",
      "    \"RequestId\": \"575bf80f-e5fb-4e19-863d-7badc05dc13e\",\n",
      "    \"HTTPStatusCode\": 200,\n",
      "    \"HTTPHeaders\": {\n",
      "      \"date\": \"Wed, 03 Jul 2024 23:47:01 GMT\",\n",
      "      \"content-type\": \"application/x-amz-json-1.1\",\n",
      "      \"content-length\": \"97\",\n",
      "      \"connection\": \"keep-alive\",\n",
      "      \"x-amzn-requestid\": \"575bf80f-e5fb-4e19-863d-7badc05dc13e\",\n",
      "      \"strict-transport-security\": \"max-age=47304000; includeSubDomains\",\n",
      "      \"x-frame-options\": \"DENY\",\n",
      "      \"cache-control\": \"no-cache\",\n",
      "      \"x-content-type-options\": \"nosniff\"\n",
      "    },\n",
      "    \"RetryAttempts\": 0\n",
      "  }\n",
      "}\n"
     ]
    }
   ],
   "source": [
    "items_schema = {\n",
    "    \"type\": \"record\",\n",
    "    \"name\": \"Items\",\n",
    "    \"namespace\": \"com.amazonaws.personalize.schema\",\n",
    "    \"fields\": [\n",
    "        {\n",
    "            \"name\": \"ITEM_ID\",\n",
    "            \"type\": \"string\"\n",
    "        },\n",
    "        {\n",
    "            \"name\": \"PRICE\",\n",
    "            \"type\": \"float\"\n",
    "        },\n",
    "        {\n",
    "            \"name\": \"CATEGORY_L1\",\n",
    "            \"type\": [\"string\"],\n",
    "            \"categorical\": True\n",
    "        },\n",
    "        {\n",
    "            \"name\": \"CATEGORY_L2\",\n",
    "            \"type\": [\"string\"],\n",
    "            \"categorical\": True\n",
    "            \n",
    "        },\n",
    "        {\n",
    "            \"name\": \"PRODUCT_NAME\",\n",
    "            \"type\": \"string\"\n",
    "        },\n",
    "        {\n",
    "            \"name\": \"PRODUCT_DESCRIPTION\",\n",
    "            \"type\": [\"string\"],\n",
    "            \"textual\": True\n",
    "        },\n",
    "        {\n",
    "            \"name\": \"GENDER\",\n",
    "            \"type\": [\"string\"],\n",
    "            \"categorical\": True\n",
    "            \n",
    "        }\n",
    "    ],\n",
    "    \"version\": \"1.0\"\n",
    "}\n",
    "\n",
    "items_schema_name = \"personalize-ecommerce-items_sch\"\n",
    "\n",
    "try:\n",
    "    create_schema_response = personalize.create_schema(\n",
    "        name = items_schema_name,\n",
    "        domain = \"ECOMMERCE\",\n",
    "        schema = json.dumps(items_schema)\n",
    "    )\n",
    "\n",
    "    items_schema_arn = create_schema_response['schemaArn']\n",
    "    print(json.dumps(create_schema_response, indent=2))\n",
    "    \n",
    "except personalize.exceptions.ResourceAlreadyExistsException:\n",
    "    items_schema_arn = 'arn:aws:personalize:' + region + ':' + account_id + ':schema/' + items_schema_name \n",
    "    print('The schema {} already exists.'.format(items_schema_arn))\n",
    "    print ('\\nWe will be using the existing Items Schema with items_schema_arn = {}'.format(items_schema_arn))\n",
    " "
   ]
  },
  {
   "cell_type": "markdown",
   "id": "77dd41ad",
   "metadata": {},
   "source": [
    "## Create Datasets\n",
    "After the group, the next thing to create is the datasets where your data will be uploaded to in Amazon Personalize."
   ]
  },
  {
   "cell_type": "markdown",
   "id": "bad88e7d",
   "metadata": {},
   "source": [
    "### Create Interactions Dataset"
   ]
  },
  {
   "cell_type": "code",
   "execution_count": 31,
   "id": "885bb616",
   "metadata": {
    "tags": []
   },
   "outputs": [
    {
     "name": "stdout",
     "output_type": "stream",
     "text": [
      "{\n",
      "  \"datasetArn\": \"arn:aws:personalize:us-east-1:058264209953:dataset/personalize_ecommerce_dsg/INTERACTIONS\",\n",
      "  \"ResponseMetadata\": {\n",
      "    \"RequestId\": \"2422d97e-6dca-4600-b73f-bc0a2eeb2aaa\",\n",
      "    \"HTTPStatusCode\": 200,\n",
      "    \"HTTPHeaders\": {\n",
      "      \"date\": \"Wed, 03 Jul 2024 23:47:01 GMT\",\n",
      "      \"content-type\": \"application/x-amz-json-1.1\",\n",
      "      \"content-length\": \"106\",\n",
      "      \"connection\": \"keep-alive\",\n",
      "      \"x-amzn-requestid\": \"2422d97e-6dca-4600-b73f-bc0a2eeb2aaa\",\n",
      "      \"strict-transport-security\": \"max-age=47304000; includeSubDomains\",\n",
      "      \"x-frame-options\": \"DENY\",\n",
      "      \"cache-control\": \"no-cache\",\n",
      "      \"x-content-type-options\": \"nosniff\"\n",
      "    },\n",
      "    \"RetryAttempts\": 0\n",
      "  }\n",
      "}\n"
     ]
    }
   ],
   "source": [
    "dataset_type = \"INTERACTIONS\"\n",
    "interactions_dataset_name = \"personalize_ecommerce_interactions_ds\"\n",
    "\n",
    "try:\n",
    "    create_dataset_response = personalize.create_dataset(\n",
    "        name = interactions_dataset_name,\n",
    "        datasetType = dataset_type,\n",
    "        datasetGroupArn = dataset_group_arn,\n",
    "        schemaArn = interactions_schema_arn\n",
    "    )\n",
    "\n",
    "    interactions_dataset_arn = create_dataset_response['datasetArn']\n",
    "    print(json.dumps(create_dataset_response, indent=2))\n",
    "\n",
    "except personalize.exceptions.ResourceAlreadyExistsException:\n",
    "    interactions_dataset_arn = 'arn:aws:personalize:' + region + ':' + account_id + ':dataset/' + dataset_group_name + '/INTERACTIONS'\n",
    "    print('The Interactions Dataset {} already exists.'.format(interactions_dataset_arn))\n",
    "    print ('\\nWe will be using the existing Interactions Dataset with interactions_dataset_arn = {}'.format(interactions_dataset_arn))\n"
   ]
  },
  {
   "cell_type": "markdown",
   "id": "cb7001e1",
   "metadata": {},
   "source": [
    "### Create Items Dataset"
   ]
  },
  {
   "cell_type": "code",
   "execution_count": 32,
   "id": "96bb28e9",
   "metadata": {
    "tags": []
   },
   "outputs": [
    {
     "name": "stdout",
     "output_type": "stream",
     "text": [
      "{\n",
      "  \"datasetArn\": \"arn:aws:personalize:us-east-1:058264209953:dataset/personalize_ecommerce_dsg/ITEMS\",\n",
      "  \"ResponseMetadata\": {\n",
      "    \"RequestId\": \"4c0ca56a-694a-48b3-bea2-acbf7801af9b\",\n",
      "    \"HTTPStatusCode\": 200,\n",
      "    \"HTTPHeaders\": {\n",
      "      \"date\": \"Wed, 03 Jul 2024 23:47:01 GMT\",\n",
      "      \"content-type\": \"application/x-amz-json-1.1\",\n",
      "      \"content-length\": \"99\",\n",
      "      \"connection\": \"keep-alive\",\n",
      "      \"x-amzn-requestid\": \"4c0ca56a-694a-48b3-bea2-acbf7801af9b\",\n",
      "      \"strict-transport-security\": \"max-age=47304000; includeSubDomains\",\n",
      "      \"x-frame-options\": \"DENY\",\n",
      "      \"cache-control\": \"no-cache\",\n",
      "      \"x-content-type-options\": \"nosniff\"\n",
      "    },\n",
      "    \"RetryAttempts\": 0\n",
      "  }\n",
      "}\n"
     ]
    }
   ],
   "source": [
    "dataset_type = \"ITEMS\"\n",
    "items_dataset_name = \"personalize_ecommerce_items_ds\"\n",
    "\n",
    "try:\n",
    "    create_dataset_response = personalize.create_dataset(\n",
    "        name = items_dataset_name,\n",
    "        datasetType = dataset_type,\n",
    "        datasetGroupArn = dataset_group_arn,\n",
    "        schemaArn = items_schema_arn\n",
    "    )\n",
    "\n",
    "    items_dataset_arn = create_dataset_response['datasetArn']\n",
    "    print(json.dumps(create_dataset_response, indent=2))\n",
    "\n",
    "except personalize.exceptions.ResourceAlreadyExistsException:    \n",
    "    items_dataset_arn = 'arn:aws:personalize:' + region + ':' + account_id + ':dataset/' + dataset_group_name + '/ITEMS'\n",
    "    print('The Items Dataset {} already exists.'.format(items_dataset_arn))\n",
    "    print ('\\nWe will be using the existing Items Dataset with items_dataset_arn = {}'.format(items_dataset_arn))   "
   ]
  },
  {
   "cell_type": "code",
   "execution_count": 33,
   "id": "8ae7b43c-ea82-4559-9cf8-d892584c3d4d",
   "metadata": {
    "tags": []
   },
   "outputs": [
    {
     "name": "stdout",
     "output_type": "stream",
     "text": [
      "Interactions Dataset: CREATE PENDING\n",
      "The interaction dataset creation is still in progress\n",
      "Items Dataset: CREATE PENDING\n",
      "The item dataset creation is still in progress\n",
      "Interactions Dataset: ACTIVE\n",
      "Build succeeded for arn:aws:personalize:us-east-1:058264209953:dataset/personalize_ecommerce_dsg/INTERACTIONS\n",
      "The interaction dataset  is ACTIVE\n",
      "Items Dataset: ACTIVE\n",
      "Build succeeded for arn:aws:personalize:us-east-1:058264209953:dataset/personalize_ecommerce_dsg/ITEMS\n",
      "The item dataset  is ACTIVE\n",
      "CPU times: user 12.4 ms, sys: 8.17 ms, total: 20.6 ms\n",
      "Wall time: 30.2 s\n"
     ]
    }
   ],
   "source": [
    "%%time\n",
    "\n",
    "max_time = time.time() + 6*60*60 # 6 hours\n",
    "while time.time() < max_time:\n",
    "    describe_dataset_response = personalize.describe_dataset(\n",
    "        datasetArn = interactions_dataset_arn\n",
    "    )\n",
    "    status_interaction_dataset =  describe_dataset_response[\"dataset\"]['status']\n",
    "    print(\"Interactions Dataset: {}\".format(status_interaction_dataset))\n",
    "    \n",
    "    if status_interaction_dataset == \"ACTIVE\":\n",
    "        print(\"Build succeeded for {}\".format(interactions_dataset_arn))\n",
    "        \n",
    "    elif status_interaction_dataset == \"CREATE FAILED\":\n",
    "        print(\"Build failed for {}\".format(interactions_dataset_arn))\n",
    "        break\n",
    "        \n",
    "    if not status_interaction_dataset == \"ACTIVE\":\n",
    "        print(\"The interaction dataset creation is still in progress\")\n",
    "    else:\n",
    "        print(\"The interaction dataset  is ACTIVE\")\n",
    "        \n",
    "\n",
    "    describe_dataset_response = personalize.describe_dataset(\n",
    "        datasetArn = items_dataset_arn\n",
    "    )\n",
    "    status_item_dataset =  describe_dataset_response[\"dataset\"]['status']\n",
    "    print(\"Items Dataset: {}\".format(status_item_dataset))\n",
    "    \n",
    "    if status_item_dataset == \"ACTIVE\":\n",
    "        print(\"Build succeeded for {}\".format(items_dataset_arn))\n",
    "        \n",
    "    elif status_item_dataset == \"CREATE FAILED\":\n",
    "        print(\"Build failed for {}\".format(items_dataset_arn))\n",
    "        break\n",
    "        \n",
    "    if not status_item_dataset == \"ACTIVE\":\n",
    "        print(\"The item dataset creation is still in progress\")\n",
    "    else:\n",
    "        print(\"The item dataset  is ACTIVE\")\n",
    "        \n",
    "    if status_interaction_dataset == \"ACTIVE\" and status_item_dataset == \"ACTIVE\":\n",
    "        break\n",
    "    time.sleep(30)"
   ]
  },
  {
   "cell_type": "markdown",
   "id": "616f86ce",
   "metadata": {},
   "source": [
    "## Import the data\n",
    "Earlier you created the DatasetGroup and Dataset to house your information, now you will execute an import job that will load the data from S3 into Amazon Personalize for usage building your model.\n",
    "### Create Interactions Dataset Import Job"
   ]
  },
  {
   "cell_type": "code",
   "execution_count": 34,
   "id": "2e902d38",
   "metadata": {
    "tags": []
   },
   "outputs": [
    {
     "name": "stdout",
     "output_type": "stream",
     "text": [
      "{\n",
      "  \"datasetImportJobArn\": \"arn:aws:personalize:us-east-1:058264209953:dataset-import-job/personalize_ecommerce_interactions_import\",\n",
      "  \"ResponseMetadata\": {\n",
      "    \"RequestId\": \"a818b699-b8c5-456f-a166-bf6f3d084c6a\",\n",
      "    \"HTTPStatusCode\": 200,\n",
      "    \"HTTPHeaders\": {\n",
      "      \"date\": \"Wed, 03 Jul 2024 23:47:32 GMT\",\n",
      "      \"content-type\": \"application/x-amz-json-1.1\",\n",
      "      \"content-length\": \"129\",\n",
      "      \"connection\": \"keep-alive\",\n",
      "      \"x-amzn-requestid\": \"a818b699-b8c5-456f-a166-bf6f3d084c6a\",\n",
      "      \"strict-transport-security\": \"max-age=47304000; includeSubDomains\",\n",
      "      \"x-frame-options\": \"DENY\",\n",
      "      \"cache-control\": \"no-cache\",\n",
      "      \"x-content-type-options\": \"nosniff\"\n",
      "    },\n",
      "    \"RetryAttempts\": 0\n",
      "  }\n",
      "}\n",
      "\n",
      "Importing the Interactions Data with workshop_interactions_dataset_import_job_arn = arn:aws:personalize:us-east-1:058264209953:dataset-import-job/personalize_ecommerce_interactions_import\n"
     ]
    }
   ],
   "source": [
    "# Check if the import job already exists\n",
    "interactions_import_job_name = 'personalize_ecommerce_interactions_import'\n",
    "\n",
    "# List the import jobs\n",
    "interactions_dataset_import_jobs = personalize.list_dataset_import_jobs(\n",
    "    datasetArn=interactions_dataset_arn,\n",
    "    maxResults=100\n",
    ")['datasetImportJobs']\n",
    "\n",
    "#check if there is an existing job with the prefix\n",
    "job_exists = False  \n",
    "job_arn = None\n",
    "\n",
    "for job in interactions_dataset_import_jobs:\n",
    "    if (interactions_import_job_name in job['jobName']):\n",
    "        job_exists = True\n",
    "        job_arn = job['datasetImportJobArn']\n",
    "    \n",
    "if (job_exists):\n",
    "    interactions_dataset_import_job_arn = job_arn\n",
    "    print('The Interactions Import Job {} already exists.'.format(interactions_dataset_import_job_arn))\n",
    "    print ('\\nWe will be using the existing Interactions Import Job with interactions_dataset_import_job_arn = {}'.format(interactions_dataset_import_job_arn))\n",
    "        \n",
    "else:\n",
    "    # If there is no import job with the prefix, create it:   \n",
    "    create_dataset_import_job_response = personalize.create_dataset_import_job(\n",
    "        jobName = interactions_import_job_name,\n",
    "        datasetArn = interactions_dataset_arn,\n",
    "        dataSource = {\n",
    "            \"dataLocation\": \"s3://{}/{}\".format(bucket_name, interactions_file_name)\n",
    "        },\n",
    "        roleArn = role_arn\n",
    "    )\n",
    "    interactions_dataset_import_job_arn = create_dataset_import_job_response['datasetImportJobArn']\n",
    "    print(json.dumps(create_dataset_import_job_response, indent=2))\n",
    "    \n",
    "    print ('\\nImporting the Interactions Data with workshop_interactions_dataset_import_job_arn = {}'.format(interactions_dataset_import_job_arn))"
   ]
  },
  {
   "cell_type": "markdown",
   "id": "64d20685",
   "metadata": {},
   "source": [
    "### Create Items Dataset Import Job"
   ]
  },
  {
   "cell_type": "code",
   "execution_count": 35,
   "id": "432da810",
   "metadata": {
    "tags": []
   },
   "outputs": [
    {
     "name": "stdout",
     "output_type": "stream",
     "text": [
      "{\n",
      "  \"datasetImportJobArn\": \"arn:aws:personalize:us-east-1:058264209953:dataset-import-job/personalize_ecommerce_items_import\",\n",
      "  \"ResponseMetadata\": {\n",
      "    \"RequestId\": \"eb45769d-590a-46e6-a15f-e3d4f80b5322\",\n",
      "    \"HTTPStatusCode\": 200,\n",
      "    \"HTTPHeaders\": {\n",
      "      \"date\": \"Wed, 03 Jul 2024 23:47:32 GMT\",\n",
      "      \"content-type\": \"application/x-amz-json-1.1\",\n",
      "      \"content-length\": \"122\",\n",
      "      \"connection\": \"keep-alive\",\n",
      "      \"x-amzn-requestid\": \"eb45769d-590a-46e6-a15f-e3d4f80b5322\",\n",
      "      \"strict-transport-security\": \"max-age=47304000; includeSubDomains\",\n",
      "      \"x-frame-options\": \"DENY\",\n",
      "      \"cache-control\": \"no-cache\",\n",
      "      \"x-content-type-options\": \"nosniff\"\n",
      "    },\n",
      "    \"RetryAttempts\": 0\n",
      "  }\n",
      "}\n",
      "\n",
      "Importing the Items Data with items_dataset_import_job_arn = arn:aws:personalize:us-east-1:058264209953:dataset-import-job/personalize_ecommerce_items_import\n"
     ]
    }
   ],
   "source": [
    "# Checking if the import job already exists\n",
    "items_import_job_name = 'personalize_ecommerce_items_import'\n",
    "\n",
    "# List the import jobs\n",
    "items_dataset_import_jobs = personalize.list_dataset_import_jobs(\n",
    "    datasetArn=items_dataset_arn,\n",
    "    maxResults=100\n",
    ")['datasetImportJobs']\n",
    "\n",
    "job_exists = False\n",
    "job_arn = None\n",
    "\n",
    "#check if there is an existing job with the prefix\n",
    "for job in items_dataset_import_jobs:\n",
    "    if (items_import_job_name in job['jobName']):\n",
    "        job_exists = True\n",
    "        job_arn = job['datasetImportJobArn']\n",
    "    \n",
    "if (job_exists):\n",
    "    items_dataset_import_job_arn =  job_arn\n",
    "    print('The Items Import Job {} already exists.'.format(items_dataset_import_job_arn))\n",
    "    print ('\\nWe will be using the existing Items Import Job with items_dataset_import_job_arn = {}'.format(items_dataset_import_job_arn))\n",
    "        \n",
    "else:\n",
    "    # If there is no import job with the prefix, create it:    \n",
    "    create_dataset_import_job_response = personalize.create_dataset_import_job(\n",
    "        jobName = items_import_job_name,\n",
    "        datasetArn = items_dataset_arn,\n",
    "        dataSource = {\n",
    "            \"dataLocation\": \"s3://{}/{}\".format(bucket_name, items_file_name)\n",
    "        },\n",
    "        roleArn = role_arn\n",
    "    )\n",
    "\n",
    "    items_dataset_import_job_arn = create_dataset_import_job_response['datasetImportJobArn']\n",
    "    print(json.dumps(create_dataset_import_job_response, indent=2))\n",
    "    print ('\\nImporting the Items Data with items_dataset_import_job_arn = {}'.format(items_dataset_import_job_arn))\n",
    "    \n",
    "\n"
   ]
  },
  {
   "cell_type": "markdown",
   "id": "06519930",
   "metadata": {},
   "source": [
    "### Wait for Dataset Import Jobs to Have ACTIVE Status\n",
    "It can take a while before the import jobs complete, please wait until you see that they are active below."
   ]
  },
  {
   "cell_type": "code",
   "execution_count": 39,
   "id": "26369f92",
   "metadata": {
    "tags": []
   },
   "outputs": [
    {
     "name": "stdout",
     "output_type": "stream",
     "text": [
      "ItemsDatasetImportJob: ACTIVE\n",
      "InteractionsDatasetImportJob: ACTIVE\n"
     ]
    }
   ],
   "source": [
    "max_time = time.time() + 3*60*60 # 3 hours\n",
    "\n",
    "while time.time() < max_time:\n",
    "    describe_dataset_import_job_response = personalize.describe_dataset_import_job(\n",
    "        datasetImportJobArn = items_dataset_import_job_arn\n",
    "    )\n",
    "    status = describe_dataset_import_job_response[\"datasetImportJob\"]['status']\n",
    "    print(\"ItemsDatasetImportJob: {}\".format(status))\n",
    "    \n",
    "    if status == \"ACTIVE\" or status == \"CREATE FAILED\":\n",
    "        break\n",
    "        \n",
    "    time.sleep(60)\n",
    "\n",
    "while time.time() < max_time:\n",
    "    describe_dataset_import_job_response = personalize.describe_dataset_import_job(\n",
    "        datasetImportJobArn = interactions_dataset_import_job_arn\n",
    "    )\n",
    "    status = describe_dataset_import_job_response[\"datasetImportJob\"]['status']\n",
    "    print(\"InteractionsDatasetImportJob: {}\".format(status))\n",
    "    \n",
    "    if status == \"ACTIVE\" or status == \"CREATE FAILED\":\n",
    "        break\n",
    "        \n",
    "    time.sleep(60)"
   ]
  },
  {
   "cell_type": "markdown",
   "id": "8df7d504",
   "metadata": {},
   "source": [
    "## Choose a recommender use case\n",
    "\n",
    "Each domain has different use cases. When you create a recommender you create it for a specific use case, and each use case has different requirements for getting recommendations.\n"
   ]
  },
  {
   "cell_type": "code",
   "execution_count": 40,
   "id": "dd6bdb74",
   "metadata": {
    "tags": []
   },
   "outputs": [
    {
     "data": {
      "text/plain": [
       "[{'name': 'aws-ecomm-customers-who-viewed-x-also-viewed',\n",
       "  'recipeArn': 'arn:aws:personalize:::recipe/aws-ecomm-customers-who-viewed-x-also-viewed',\n",
       "  'status': 'ACTIVE',\n",
       "  'creationDateTime': datetime.datetime(2019, 6, 10, 0, 0, tzinfo=tzlocal()),\n",
       "  'lastUpdatedDateTime': datetime.datetime(2024, 6, 19, 16, 47, 19, 191000, tzinfo=tzlocal()),\n",
       "  'domain': 'ECOMMERCE'},\n",
       " {'name': 'aws-ecomm-frequently-bought-together',\n",
       "  'recipeArn': 'arn:aws:personalize:::recipe/aws-ecomm-frequently-bought-together',\n",
       "  'status': 'ACTIVE',\n",
       "  'creationDateTime': datetime.datetime(2019, 6, 10, 0, 0, tzinfo=tzlocal()),\n",
       "  'lastUpdatedDateTime': datetime.datetime(2024, 6, 19, 16, 47, 19, 191000, tzinfo=tzlocal()),\n",
       "  'domain': 'ECOMMERCE'},\n",
       " {'name': 'aws-ecomm-popular-items-by-purchases',\n",
       "  'recipeArn': 'arn:aws:personalize:::recipe/aws-ecomm-popular-items-by-purchases',\n",
       "  'status': 'ACTIVE',\n",
       "  'creationDateTime': datetime.datetime(2019, 6, 10, 0, 0, tzinfo=tzlocal()),\n",
       "  'lastUpdatedDateTime': datetime.datetime(2024, 6, 19, 16, 47, 19, 191000, tzinfo=tzlocal()),\n",
       "  'domain': 'ECOMMERCE'},\n",
       " {'name': 'aws-ecomm-popular-items-by-views',\n",
       "  'recipeArn': 'arn:aws:personalize:::recipe/aws-ecomm-popular-items-by-views',\n",
       "  'status': 'ACTIVE',\n",
       "  'creationDateTime': datetime.datetime(2019, 6, 10, 0, 0, tzinfo=tzlocal()),\n",
       "  'lastUpdatedDateTime': datetime.datetime(2024, 6, 19, 16, 47, 19, 191000, tzinfo=tzlocal()),\n",
       "  'domain': 'ECOMMERCE'},\n",
       " {'name': 'aws-ecomm-recommended-for-you',\n",
       "  'recipeArn': 'arn:aws:personalize:::recipe/aws-ecomm-recommended-for-you',\n",
       "  'status': 'ACTIVE',\n",
       "  'creationDateTime': datetime.datetime(2019, 6, 10, 0, 0, tzinfo=tzlocal()),\n",
       "  'lastUpdatedDateTime': datetime.datetime(2024, 6, 19, 16, 47, 19, 191000, tzinfo=tzlocal()),\n",
       "  'domain': 'ECOMMERCE'}]"
      ]
     },
     "metadata": {},
     "output_type": "display_data"
    }
   ],
   "source": [
    "available_recipes = personalize.list_recipes(domain='ECOMMERCE') # See a list of recommenders for the domain. \n",
    "display (available_recipes['recipes'])"
   ]
  },
  {
   "cell_type": "markdown",
   "id": "2960a2b6",
   "metadata": {},
   "source": [
    "We are going to create a recommender of the type \"[Recommended For you](https://docs.aws.amazon.com/personalize/latest/dg/ECOMMERCE-use-cases.html#recommended-for-you-use-case)\". This type of recommender offers personalized recommendations for items based on a user that you specify. With this use case, Amazon Personalize automatically filters items the user purchased based on the userId that you specify and `Purchase` events.\n",
    "\n",
    "[More use cases per domain](https://docs.aws.amazon.com/personalize/latest/dg/domain-use-cases.html)"
   ]
  },
  {
   "cell_type": "code",
   "execution_count": 41,
   "id": "ef90d282",
   "metadata": {
    "tags": []
   },
   "outputs": [
    {
     "name": "stdout",
     "output_type": "stream",
     "text": [
      "{\n",
      "  \"recommenderArn\": \"arn:aws:personalize:us-east-1:058264209953:recommender/recommended_for_you_demo\",\n",
      "  \"ResponseMetadata\": {\n",
      "    \"RequestId\": \"6d2de771-7f61-425c-bd8d-c567084e4f38\",\n",
      "    \"HTTPStatusCode\": 200,\n",
      "    \"HTTPHeaders\": {\n",
      "      \"date\": \"Thu, 04 Jul 2024 00:11:05 GMT\",\n",
      "      \"content-type\": \"application/x-amz-json-1.1\",\n",
      "      \"content-length\": \"100\",\n",
      "      \"connection\": \"keep-alive\",\n",
      "      \"x-amzn-requestid\": \"6d2de771-7f61-425c-bd8d-c567084e4f38\",\n",
      "      \"strict-transport-security\": \"max-age=47304000; includeSubDomains\",\n",
      "      \"x-frame-options\": \"DENY\",\n",
      "      \"cache-control\": \"no-cache\",\n",
      "      \"x-content-type-options\": \"nosniff\"\n",
      "    },\n",
      "    \"RetryAttempts\": 0\n",
      "  }\n",
      "}\n",
      "Recommended For you recommender ARN = arn:aws:personalize:us-east-1:058264209953:recommender/recommended_for_you_demo\n"
     ]
    }
   ],
   "source": [
    "try:\n",
    "    create_recommender_response = personalize.create_recommender(\n",
    "      name = 'recommended_for_you_demo',\n",
    "      recipeArn = 'arn:aws:personalize:::recipe/aws-ecomm-recommended-for-you',\n",
    "      datasetGroupArn = dataset_group_arn\n",
    "    )\n",
    "    recommended_for_you_arn = create_recommender_response['recommenderArn']\n",
    "    print(json.dumps(create_recommender_response, indent=2))\n",
    "except personalize.exceptions.ResourceAlreadyExistsException:\n",
    "    print('You aready created this recommender, seemingly')\n",
    "    paginator = personalize.get_paginator('list_recommenders')\n",
    "    for paginate_result in paginator.paginate(datasetGroupArn = dataset_group_arn):\n",
    "        for recommender in paginate_result['recommenders']:\n",
    "            if recommender['name'] == 'recommended_for_you_demo':\n",
    "                recommended_for_you_arn = recommender['recommenderArn']\n",
    "                break\n",
    "                \n",
    "print(f'Recommended For you recommender ARN = {recommended_for_you_arn}')"
   ]
  },
  {
   "cell_type": "markdown",
   "id": "6f0e32c6-300b-404b-8711-fe05600cf255",
   "metadata": {
    "tags": []
   },
   "source": [
    "## Create Custom Solutions"
   ]
  },
  {
   "cell_type": "markdown",
   "id": "86e085ed-21bc-4b00-8b48-1a5fe762780a",
   "metadata": {},
   "source": [
    "### List Recipes"
   ]
  },
  {
   "cell_type": "markdown",
   "id": "d35e89d2-219a-47c1-b146-8ae453363ebd",
   "metadata": {},
   "source": [
    "First, let's list all available recipes that aren't associated with a domain."
   ]
  },
  {
   "cell_type": "code",
   "execution_count": 42,
   "id": "af7440f2-f00b-496b-a574-f8f9ee918b9f",
   "metadata": {
    "tags": []
   },
   "outputs": [
    {
     "name": "stdout",
     "output_type": "stream",
     "text": [
      "[\n",
      "  {\n",
      "    \"name\": \"aws-item-affinity\",\n",
      "    \"recipeArn\": \"arn:aws:personalize:::recipe/aws-item-affinity\",\n",
      "    \"status\": \"ACTIVE\",\n",
      "    \"creationDateTime\": \"2021-07-15 00:00:00+00:00\",\n",
      "    \"lastUpdatedDateTime\": \"2024-06-19 16:47:19.191000+00:00\"\n",
      "  },\n",
      "  {\n",
      "    \"name\": \"aws-item-attribute-affinity\",\n",
      "    \"recipeArn\": \"arn:aws:personalize:::recipe/aws-item-attribute-affinity\",\n",
      "    \"status\": \"ACTIVE\",\n",
      "    \"creationDateTime\": \"2021-08-25 00:00:00+00:00\",\n",
      "    \"lastUpdatedDateTime\": \"2024-06-19 16:47:19.191000+00:00\"\n",
      "  },\n",
      "  {\n",
      "    \"name\": \"aws-next-best-action\",\n",
      "    \"recipeArn\": \"arn:aws:personalize:::recipe/aws-next-best-action\",\n",
      "    \"status\": \"ACTIVE\",\n",
      "    \"creationDateTime\": \"2023-08-11 00:00:00+00:00\",\n",
      "    \"lastUpdatedDateTime\": \"2024-06-19 16:47:19.191000+00:00\"\n",
      "  },\n",
      "  {\n",
      "    \"name\": \"aws-personalized-ranking\",\n",
      "    \"recipeArn\": \"arn:aws:personalize:::recipe/aws-personalized-ranking\",\n",
      "    \"status\": \"ACTIVE\",\n",
      "    \"creationDateTime\": \"2019-06-10 00:00:00+00:00\",\n",
      "    \"lastUpdatedDateTime\": \"2024-06-19 16:47:19.191000+00:00\"\n",
      "  },\n",
      "  {\n",
      "    \"name\": \"aws-personalized-ranking-v2\",\n",
      "    \"recipeArn\": \"arn:aws:personalize:::recipe/aws-personalized-ranking-v2\",\n",
      "    \"status\": \"ACTIVE\",\n",
      "    \"creationDateTime\": \"2024-01-01 00:00:00+00:00\",\n",
      "    \"lastUpdatedDateTime\": \"2024-06-19 16:47:19.191000+00:00\"\n",
      "  },\n",
      "  {\n",
      "    \"name\": \"aws-popularity-count\",\n",
      "    \"recipeArn\": \"arn:aws:personalize:::recipe/aws-popularity-count\",\n",
      "    \"status\": \"ACTIVE\",\n",
      "    \"creationDateTime\": \"2019-06-10 00:00:00+00:00\",\n",
      "    \"lastUpdatedDateTime\": \"2024-06-19 16:47:19.191000+00:00\"\n",
      "  },\n",
      "  {\n",
      "    \"name\": \"aws-similar-items\",\n",
      "    \"recipeArn\": \"arn:aws:personalize:::recipe/aws-similar-items\",\n",
      "    \"status\": \"ACTIVE\",\n",
      "    \"creationDateTime\": \"2019-06-10 00:00:00+00:00\",\n",
      "    \"lastUpdatedDateTime\": \"2024-06-19 16:47:19.191000+00:00\"\n",
      "  }\n",
      "]\n"
     ]
    }
   ],
   "source": [
    "response = personalize.list_recipes()\n",
    "custom_recipes = []\n",
    "for recipe in response['recipes']:\n",
    "    if not recipe.get('domain'):\n",
    "        custom_recipes.append(recipe)\n",
    "        \n",
    "print(json.dumps(custom_recipes, indent=2, default=str))"
   ]
  },
  {
   "cell_type": "markdown",
   "id": "f07391df-539e-4d78-b2ec-a225be5fca7d",
   "metadata": {},
   "source": [
    "As you can see above, there are several recipes to choose from. Let's declare the recipe for the Similar Items custom solution."
   ]
  },
  {
   "cell_type": "markdown",
   "id": "0400ace4-eb60-4528-af8e-9859c758e351",
   "metadata": {},
   "source": [
    "### Declare Personalize Recipe for Similar Items"
   ]
  },
  {
   "cell_type": "markdown",
   "id": "7b32c946-e702-4ae2-8c56-851a5456a8e7",
   "metadata": {},
   "source": [
    "In use-cases where we have an item/product and we want to display similar items based on the co-interactions of all users as well as draw upon thematic similarities based on item metadata, we can use the Similar-Items recipe to provide related items recommendations.\n",
    "\n",
    "The [Similar-Items](https://docs.aws.amazon.com/personalize/latest/dg/native-recipe-similar-items.html) (aws-similar-items) generates recommendations for items that are similar to an item you specify. Use Similar-Items to help customers discover new items in your catalog based on their previous behavior and item metadata. Recommending similar items can increase user engagement, click-through rate, and conversion rate for your application.\n",
    "\n",
    "Similar-Items calculates similarity based on interactions data and any item metadata you provide. It takes into account the co-occurrence of the item in user histories in your Interaction dataset, and any item metadata similarities. For example, with Similar-Items Amazon Personalize could recommend items customers frequently bought together with a similar style (Categorical metadata), or movies that different users also watched with a similar description (Unstructured text metadata).\n",
    "\n",
    "Note that Amazon Personalize also has the SIMS recipe for the related items use case. However, SIMS only trains on co-interaction data (i.e. the interactions dataset) and does not consider item metadata. Since we may have some items with fewer (or no) interactions, the Similar-Items recipe is a better match for our use case."
   ]
  },
  {
   "cell_type": "code",
   "execution_count": 43,
   "id": "d5a59714-5208-4f89-83f5-7a2077ce8306",
   "metadata": {
    "tags": []
   },
   "outputs": [],
   "source": [
    "similar_items_recipe_arn = \"arn:aws:personalize:::recipe/aws-similar-items\""
   ]
  },
  {
   "cell_type": "markdown",
   "id": "98c05bbd-e951-4b88-a482-64fcb471a7fc",
   "metadata": {},
   "source": [
    "### Create Custom Solution and Solution Version"
   ]
  },
  {
   "cell_type": "markdown",
   "id": "2fc4d42d-0984-479f-9e59-8b6f9c4e2aac",
   "metadata": {},
   "source": [
    "With our recipe defined, we can now create our solution and solution version."
   ]
  },
  {
   "cell_type": "markdown",
   "id": "37a6bb1b-d8df-4c02-b513-100f7aa0a007",
   "metadata": {},
   "source": [
    "### Create Similar Items Solution"
   ]
  },
  {
   "cell_type": "code",
   "execution_count": 44,
   "id": "4c5ff2b1-ff7b-448c-96a1-f7af2695711f",
   "metadata": {
    "tags": []
   },
   "outputs": [
    {
     "name": "stdout",
     "output_type": "stream",
     "text": [
      "{\n",
      "  \"solutionArn\": \"arn:aws:personalize:us-east-1:058264209953:solution/related-items-demo\",\n",
      "  \"ResponseMetadata\": {\n",
      "    \"RequestId\": \"ead4ac9b-2898-4bd4-859b-af6a07d12bb6\",\n",
      "    \"HTTPStatusCode\": 200,\n",
      "    \"HTTPHeaders\": {\n",
      "      \"date\": \"Thu, 04 Jul 2024 00:11:07 GMT\",\n",
      "      \"content-type\": \"application/x-amz-json-1.1\",\n",
      "      \"content-length\": \"88\",\n",
      "      \"connection\": \"keep-alive\",\n",
      "      \"x-amzn-requestid\": \"ead4ac9b-2898-4bd4-859b-af6a07d12bb6\",\n",
      "      \"strict-transport-security\": \"max-age=47304000; includeSubDomains\",\n",
      "      \"x-frame-options\": \"DENY\",\n",
      "      \"cache-control\": \"no-cache\",\n",
      "      \"x-content-type-options\": \"nosniff\"\n",
      "    },\n",
      "    \"RetryAttempts\": 0\n",
      "  }\n",
      "}\n"
     ]
    }
   ],
   "source": [
    "similar_items_solution_version_arn = None\n",
    "\n",
    "try:\n",
    "    create_solution_response = personalize.create_solution(\n",
    "        name = \"related-items-demo\",\n",
    "        datasetGroupArn = dataset_group_arn,\n",
    "        recipeArn = similar_items_recipe_arn\n",
    "    )\n",
    "\n",
    "    similar_items_solution_arn = create_solution_response['solutionArn']\n",
    "    print(json.dumps(create_solution_response, indent=2))\n",
    "except personalize.exceptions.ResourceAlreadyExistsException:\n",
    "    print('You aready created this solution, seemingly')\n",
    "    paginator = personalize.get_paginator('list_solutions')\n",
    "    for paginate_result in paginator.paginate(datasetGroupArn = dataset_group_arn):\n",
    "        for solution in paginate_result['solutions']:\n",
    "            if solution['name'] == 'related-items-demo':\n",
    "                similar_items_solution_arn = solution['solutionArn']\n",
    "                print(f'Similar Items solution ARN = {similar_items_solution_arn}')\n",
    "                \n",
    "                response = personalize.list_solution_versions(\n",
    "                    solutionArn = similar_items_solution_arn,\n",
    "                    maxResults = 100\n",
    "                )\n",
    "                if len(response['solutionVersions']) > 0:\n",
    "                    similar_items_solution_version_arn = response['solutionVersions'][-1]['solutionVersionArn']\n",
    "                    print(f'Will use most recent solution version for this solution: {similar_items_solution_version_arn}')\n",
    "                    \n",
    "                break"
   ]
  },
  {
   "cell_type": "markdown",
   "id": "23f25dfb-8487-400c-b97c-6f05b0060089",
   "metadata": {},
   "source": [
    "### Create Similar Items Solution Version"
   ]
  },
  {
   "cell_type": "markdown",
   "id": "6cd31115-321e-4871-b474-7f5f29375988",
   "metadata": {},
   "source": [
    "Next we can create a solution version for the solution. This is where the model is trained for this custom solution."
   ]
  },
  {
   "cell_type": "code",
   "execution_count": 45,
   "id": "f88ef56b-92d1-412e-8153-c2649b40f7c3",
   "metadata": {
    "tags": []
   },
   "outputs": [
    {
     "name": "stdout",
     "output_type": "stream",
     "text": [
      "{\n",
      "  \"solutionVersionArn\": \"arn:aws:personalize:us-east-1:058264209953:solution/related-items-demo/d12f3c16\",\n",
      "  \"ResponseMetadata\": {\n",
      "    \"RequestId\": \"a5e4a15d-13d0-4a57-a6de-6cefff7d0bab\",\n",
      "    \"HTTPStatusCode\": 200,\n",
      "    \"HTTPHeaders\": {\n",
      "      \"date\": \"Thu, 04 Jul 2024 00:11:07 GMT\",\n",
      "      \"content-type\": \"application/x-amz-json-1.1\",\n",
      "      \"content-length\": \"104\",\n",
      "      \"connection\": \"keep-alive\",\n",
      "      \"x-amzn-requestid\": \"a5e4a15d-13d0-4a57-a6de-6cefff7d0bab\",\n",
      "      \"strict-transport-security\": \"max-age=47304000; includeSubDomains\",\n",
      "      \"x-frame-options\": \"DENY\",\n",
      "      \"cache-control\": \"no-cache\",\n",
      "      \"x-content-type-options\": \"nosniff\"\n",
      "    },\n",
      "    \"RetryAttempts\": 0\n",
      "  }\n",
      "}\n"
     ]
    }
   ],
   "source": [
    "if not similar_items_solution_version_arn:\n",
    "    create_solution_version_response = personalize.create_solution_version(\n",
    "        solutionArn = similar_items_solution_arn\n",
    "    )\n",
    "\n",
    "    similar_items_solution_version_arn = create_solution_version_response['solutionVersionArn']\n",
    "    print(json.dumps(create_solution_version_response, indent=2))\n",
    "else:\n",
    "    print(f'Solution version {similar_items_solution_version_arn} already exists; not creating')"
   ]
  },
  {
   "cell_type": "markdown",
   "id": "6456160c-f7cc-4ec0-8715-e8366234da72",
   "metadata": {},
   "source": [
    "### Wait for the recommender to become active"
   ]
  },
  {
   "cell_type": "code",
   "execution_count": null,
   "id": "ecae12e6-b407-4dd7-8545-31ee7801cb19",
   "metadata": {
    "tags": []
   },
   "outputs": [
    {
     "name": "stdout",
     "output_type": "stream",
     "text": [
      "CREATE IN_PROGRESS\n",
      "The \"Recommended for you\" Recommender build is still in progress\n",
      "CREATE IN_PROGRESS\n",
      "The \"Recommended for you\" Recommender build is still in progress\n"
     ]
    }
   ],
   "source": [
    "%%time\n",
    "\n",
    "max_time = time.time() + 10*60*60 # 10 hours\n",
    "    \n",
    "while time.time() < max_time:\n",
    "\n",
    "    version_response = personalize.describe_recommender(\n",
    "        recommenderArn = recommended_for_you_arn\n",
    "    )\n",
    "    status = version_response[\"recommender\"][\"status\"]\n",
    "    print(status)\n",
    "\n",
    "    if status == \"ACTIVE\":\n",
    "        print(\"Build succeeded for {}\".format(recommended_for_you_arn))\n",
    "        \n",
    "    elif status == \"CREATE FAILED\":\n",
    "        print(\"Build failed for {}\".format(recommended_for_you_arn))\n",
    "        break\n",
    "\n",
    "    if status == \"ACTIVE\" or status == \"CREATE FAILED\":\n",
    "        break\n",
    "    else:\n",
    "        print('The \"Recommended for you\" Recommender build is still in progress')\n",
    "        \n",
    "    time.sleep(60)"
   ]
  },
  {
   "cell_type": "markdown",
   "id": "28bb8323-71bc-466f-90c1-744b86e18968",
   "metadata": {},
   "source": [
    "### Wait for the custom solution version to become active"
   ]
  },
  {
   "cell_type": "markdown",
   "id": "8b96cfab-67b8-4427-95f5-28f8230fc517",
   "metadata": {},
   "source": [
    "The following cell waits for the solution version for the similar items use case to become active. It's likely that they're already active (or close to being active) since they were being created in parallel with the recommender. Nevertheless, we'll make sure they are active too before proceeding."
   ]
  },
  {
   "cell_type": "code",
   "execution_count": null,
   "id": "ed5e642a-1303-4475-95ed-0974a4d188da",
   "metadata": {
    "tags": []
   },
   "outputs": [],
   "source": [
    "%%time\n",
    "\n",
    "soln_ver_arns = [ \n",
    "    similar_items_solution_version_arn\n",
    "]\n",
    "\n",
    "max_time = time.time() + 3*60*60 # 3 hours\n",
    "while time.time() < max_time:\n",
    "    for soln_ver_arn in reversed(soln_ver_arns):\n",
    "        soln_ver_response = personalize.describe_solution_version(\n",
    "            solutionVersionArn = soln_ver_arn\n",
    "        )\n",
    "        status = soln_ver_response[\"solutionVersion\"][\"status\"]\n",
    "\n",
    "        if status == \"ACTIVE\":\n",
    "            print(f'Solution version {soln_ver_arn} successfully completed')\n",
    "            soln_ver_arns.remove(soln_ver_arn)\n",
    "        elif status == \"CREATE FAILED\":\n",
    "            print(f'Solution version {soln_ver_arn} failed')\n",
    "            if soln_ver_response[\"solutionVersion\"].get('failureReason'):\n",
    "                print('   Reason: ' + soln_ver_response[\"solutionVersion\"]['failureReason'])\n",
    "            soln_ver_arns.remove(soln_ver_arn)\n",
    "\n",
    "    if len(soln_ver_arns) > 0:\n",
    "        print('At least one solution version is still in progress')\n",
    "        time.sleep(60)\n",
    "    else:\n",
    "        print(\"All solution versions have completed\")\n",
    "        break"
   ]
  },
  {
   "cell_type": "markdown",
   "id": "390b61e3-c11d-4475-8743-97be1c090d05",
   "metadata": {},
   "source": [
    "### Create campaigns for the Similar Items solution"
   ]
  },
  {
   "cell_type": "markdown",
   "id": "0f7b958f-6838-4396-9a42-2c55c6105d22",
   "metadata": {},
   "source": [
    "Once we're satisfied with our solution version, we need to create campaigns for the custom solution version created for the similar items recipe. This is required so we have an real-time API endpoints that can be called by the agent. When creating a campaign you can specify the minimum transactions per second (minProvisionedTPS) that you expect to make against the service for this campaign. Amazon Personalize will automatically scale resources for the inference endpoint up and down for the campaign to match demand but will never scale below minProvisionedTPS.\n",
    "\n",
    "Let's create the campaign for the similar items version set at minProvisionedTPS of 1 (which is also the default if not specified).\n"
   ]
  },
  {
   "cell_type": "markdown",
   "id": "f3e0a868-465f-4e74-b6a7-1a625451c466",
   "metadata": {},
   "source": [
    "#### Create Similar Items campaign"
   ]
  },
  {
   "cell_type": "code",
   "execution_count": null,
   "id": "a40b1ad5-804a-4fcc-9c4a-7211e465725c",
   "metadata": {
    "tags": []
   },
   "outputs": [],
   "source": [
    "try:\n",
    "    create_campaign_response = personalize.create_campaign(\n",
    "        name = \"ecommerce-related-items\",\n",
    "        solutionVersionArn = similar_items_solution_version_arn,\n",
    "        minProvisionedTPS = 1\n",
    "    )\n",
    "\n",
    "    similar_items_campaign_arn = create_campaign_response['campaignArn']\n",
    "    print(json.dumps(create_campaign_response, indent=2))\n",
    "except personalize.exceptions.ResourceAlreadyExistsException:\n",
    "    print('You aready created this campaign, seemingly. Will update campaign instead.')\n",
    "    paginator = personalize.get_paginator('list_campaigns')\n",
    "    for paginate_result in paginator.paginate(solutionArn = similar_items_solution_arn):\n",
    "        for campaign in paginate_result['campaigns']:\n",
    "            if campaign['name'] == 'ecommerce-related-items':\n",
    "                similar_items_campaign_arn = campaign['campaignArn']\n",
    "                print(f'Found existing campaign for solution: {similar_items_campaign_arn}')\n",
    "                \n",
    "                response = personalize.describe_campaign(campaignArn = similar_items_campaign_arn)\n",
    "                if response['campaign']['solutionVersionArn'] == similar_items_solution_version_arn:\n",
    "                    print('Campaign is already using the latest solution version')\n",
    "                else:\n",
    "                    print('Updating campaign with the latest solution version')\n",
    "                    response = personalize.update_campaign(\n",
    "                        campaignArn = similar_items_campaign_arn,\n",
    "                        solutionVersionArn = similar_items_solution_version_arn,\n",
    "                        minProvisionedTPS = 1\n",
    "                    )\n",
    "                    print(json.dumps(response, indent=2))\n",
    "                break"
   ]
  },
  {
   "cell_type": "markdown",
   "id": "faf6ed6a-5603-4139-bb5c-df24761c9340",
   "metadata": {},
   "source": [
    "#### Wait for campaigns to Have ACTIVE Status"
   ]
  },
  {
   "cell_type": "markdown",
   "id": "26df86fd-25ca-4d2e-acbf-4cc8aea745f4",
   "metadata": {},
   "source": [
    "It can take 15-20 minutes for a campaign to be fully created.\n",
    "\n",
    "While you are waiting for this to complete you can learn more about campaigns here: https://docs.aws.amazon.com/personalize/latest/dg/campaigns.html"
   ]
  },
  {
   "cell_type": "code",
   "execution_count": null,
   "id": "bcf5a524-3f41-461e-b01e-092cf3b96cec",
   "metadata": {
    "tags": []
   },
   "outputs": [],
   "source": [
    "%%time\n",
    "\n",
    "campaign_arns = [ similar_items_campaign_arn ]\n",
    "\n",
    "max_time = time.time() + 3*60*60 # 3 hours\n",
    "while time.time() < max_time:\n",
    "    for campaign_arn in reversed(campaign_arns):\n",
    "        campaign_response = personalize.describe_campaign(\n",
    "            campaignArn = campaign_arn\n",
    "        )\n",
    "        status = campaign_response[\"campaign\"][\"status\"]\n",
    "        if status == 'ACTIVE' and campaign_response.get('latestCampaignUpdate'):\n",
    "            status = campaign_response['latestCampaignUpdate']['status']\n",
    "\n",
    "        if status == \"ACTIVE\":\n",
    "            print(f'Campaign {campaign_arn} successfully completed')\n",
    "            campaign_arns.remove(campaign_arn)\n",
    "        elif status == \"CREATE FAILED\":\n",
    "            print(f'Campaign {campaign_arn} failed')\n",
    "            if campaign_response[\"campaign\"].get('failureReason'):\n",
    "                print('   Reason: ' + campaign_response[\"campaign\"]['failureReason'])\n",
    "            campaign_arns.remove(campaign_arn)\n",
    "\n",
    "    if len(campaign_arns) > 0:\n",
    "        print('At least one campaign is still in progress')\n",
    "        time.sleep(60)\n",
    "    else:\n",
    "        print(\"All campaigns have completed\")\n",
    "        break"
   ]
  },
  {
   "cell_type": "markdown",
   "id": "e1146c9e",
   "metadata": {},
   "source": [
    "## Getting recommendations with a recommender\n",
    "Now that the recommender has been trained, lets have a look at the recommendations we can get for our users!"
   ]
  },
  {
   "cell_type": "code",
   "execution_count": null,
   "id": "4aaa6533",
   "metadata": {
    "tags": []
   },
   "outputs": [],
   "source": [
    "# reading the original data in order to have a dataframe that has both item_ids \n",
    "# and product_name to make our recommendations easier to read.\n",
    "items_df = pd.read_csv('./items.csv')\n",
    "items_df.sample(10)"
   ]
  },
  {
   "cell_type": "code",
   "execution_count": null,
   "id": "583e35f5",
   "metadata": {
    "tags": []
   },
   "outputs": [],
   "source": [
    "def get_item_by_id(item_id, item_df):\n",
    "    \"\"\"\n",
    "    This takes in an item_id from a recommendation in string format,\n",
    "    converts it to an int, and then does a lookup in a default or specified\n",
    "    dataframe and returns the item description.\n",
    "    \n",
    "    A really broad try/except clause was added in case anything goes wrong.\n",
    "    \n",
    "    Feel free to add more debugging or filtering here to improve results if\n",
    "    you hit an error.\n",
    "    \"\"\"\n",
    "    try:\n",
    "        return items_df.loc[items_df[\"ITEM_ID\"]==str(item_id)]['PRODUCT_DESCRIPTION'].values[0]\n",
    "    except:\n",
    "        print (item_id)\n",
    "        return \"Error obtaining item description\""
   ]
  },
  {
   "cell_type": "code",
   "execution_count": null,
   "id": "848b1cc0",
   "metadata": {
    "tags": []
   },
   "outputs": [],
   "source": [
    "def get_category_by_id(item_id, item_df):\n",
    "    \"\"\"\n",
    "    This takes in an item_id from a recommendation in string format,\n",
    "    converts it to an int, and then does a lookup in a default or specified\n",
    "    dataframe and returns the item category.\n",
    "    \n",
    "    A really broad try/except clause was added in case anything goes wrong.\n",
    "    \"\"\"\n",
    "    \n",
    "    try:\n",
    "        return items_df.loc[items_df[\"ITEM_ID\"]==str(item_id)]['CATEGORY_L1'].values[0]\n",
    "    except:\n",
    "        print (item_id)\n",
    "        return \"Error obtaining item category\"\n",
    "    "
   ]
  },
  {
   "cell_type": "markdown",
   "id": "13cb379f",
   "metadata": {},
   "source": [
    "Let us get some  recommendations from the recommender returning \"Recommended for you\":"
   ]
  },
  {
   "cell_type": "code",
   "execution_count": null,
   "id": "e8ae4aa1-ac90-40f0-9899-caf6a53e9711",
   "metadata": {
    "tags": []
   },
   "outputs": [],
   "source": [
    "# First pick a user\n",
    "test_user_id = \"1234\" \n",
    "\n",
    "# Get recommendations for the user\n",
    "get_recommendations_response = personalize_runtime.get_recommendations(\n",
    "    recommenderArn = recommended_for_you_arn,\n",
    "    userId = test_user_id,\n",
    "    numResults = 3\n",
    ")\n",
    "\n",
    "# Build a new dataframe for the recommendations\n",
    "item_list = get_recommendations_response['itemList']\n",
    "recommendation_id_list = []\n",
    "recommendation_description_list = []\n",
    "recommendation_category_list = []\n",
    "\n",
    "for item in item_list:\n",
    "    description = get_item_by_id(item['itemId'], items_df)\n",
    "    recommendation_description_list.append(description)\n",
    "    recommendation_id_list.append(item['itemId'])\n",
    "    recommendation_category_list.append(get_category_by_id(item['itemId'], items_df))\n",
    "\n",
    "user_recommendations_df = pd.DataFrame(recommendation_id_list, columns = [\"ID\"])\n",
    "user_recommendations_df[\"description\"] = recommendation_description_list\n",
    "user_recommendations_df[\"category level 2\"] = recommendation_category_list\n",
    "\n",
    "pd.options.display.max_rows =20\n",
    "display(user_recommendations_df)"
   ]
  },
  {
   "cell_type": "markdown",
   "id": "04c74148-aebc-4b6b-bfd5-d657d8a64e0c",
   "metadata": {},
   "source": [
    "## Getting similar items"
   ]
  },
  {
   "cell_type": "markdown",
   "id": "86c9185a-88c5-427f-b1d7-305e12774149",
   "metadata": {},
   "source": [
    "The Similar-Items recipe is designed to balance co-interactions across all users and thematic similarity between items to make relevant related items recommendations. Since the input for related items recommendations is an item ID, let's select a product from the catalog to use as our source item."
   ]
  },
  {
   "cell_type": "code",
   "execution_count": null,
   "id": "b1a34d90-ba88-4c3c-b929-44ed6adaf725",
   "metadata": {
    "tags": []
   },
   "outputs": [],
   "source": [
    "product = items_df.sample(1)\n",
    "product"
   ]
  },
  {
   "cell_type": "markdown",
   "id": "250b9baf-f87e-469d-849a-14ca66d1d42c",
   "metadata": {},
   "source": [
    "Now let's get some related item recommendations from the Similar Items based campaign for the above product. Notice that we're using the same GetRecommendation API as the recommenders above but this time we're specifying a campaignArn rather than a recommenderArn."
   ]
  },
  {
   "cell_type": "code",
   "execution_count": null,
   "id": "f90fa26d-c260-425a-a184-d218d6dbbc12",
   "metadata": {
    "tags": []
   },
   "outputs": [],
   "source": [
    "product_id = product.iloc[0]['ITEM_ID']\n",
    "\n",
    "get_recommendations_response = personalize_runtime.get_recommendations(\n",
    "    campaignArn = similar_items_campaign_arn,\n",
    "    itemId = str(product_id),\n",
    "    numResults = 3\n",
    ")\n",
    "\n",
    "item_list = get_recommendations_response['itemList']\n",
    "print(json.dumps(item_list, indent=4))"
   ]
  },
  {
   "cell_type": "markdown",
   "id": "1683e4d8-0521-4932-acc4-8c2f63daac64",
   "metadata": {
    "tags": []
   },
   "source": [
    "We will later analize the returned similar items while testing the agent"
   ]
  },
  {
   "cell_type": "markdown",
   "id": "673a31e3-6239-4793-ad72-0fd9f74810bd",
   "metadata": {},
   "source": [
    "## Event Tracking - Keeping up with evolving user intent"
   ]
  },
  {
   "cell_type": "markdown",
   "id": "7c398366-cc17-4d29-ad99-9eeac91d381f",
   "metadata": {},
   "source": [
    "Up to this point we have trained and deployed Amazon Personalize recommender and campaign based on historical data that we generated in this workshop. This allows us to make related product and user recommendations based on already observed behavior of our users. However, user intent often changes in real-time such that what products the user is interested in now may be different than what they were interested in a week ago, a day ago, or even a few minutes ago. Making recommendations that keep up with evolving user intent is one of the more difficult challenges with personalization. Fortunately, Amazon Personalize has a mechanism for this exact issue.\n",
    "\n",
    "Amazon Personalize supports the ability to send real-time user events (i.e. clickstream) data into the service. Amazon Personalize uses this event data to adjust recommendations. It will also save these events and automatically include them when recommenders and solutions for the same dataset group are re-trained.\n",
    "\n",
    "During Notebook 2 we will use the event tracker to send purchased products events to enhance the user's experience. "
   ]
  },
  {
   "cell_type": "markdown",
   "id": "b55801fd-69f5-4e28-9ca5-e66babba388d",
   "metadata": {},
   "source": [
    "#### Create Personalize Event Tracker"
   ]
  },
  {
   "cell_type": "markdown",
   "id": "48a98f49-9aad-4f81-9c43-7cdec64e8dad",
   "metadata": {},
   "source": [
    "Let's start by creating an event tracker for our dataset group."
   ]
  },
  {
   "cell_type": "code",
   "execution_count": null,
   "id": "e6edcab6-f66f-460b-91b6-2327a7c5a40f",
   "metadata": {
    "tags": []
   },
   "outputs": [],
   "source": [
    "try:\n",
    "    event_tracker_response = personalize.create_event_tracker(\n",
    "        datasetGroupArn=dataset_group_arn,\n",
    "        name='ecommerce-event-tracker'\n",
    "    )\n",
    "\n",
    "    event_tracker_arn = event_tracker_response['eventTrackerArn']\n",
    "    event_tracking_id = event_tracker_response['trackingId']\n",
    "except personalize.exceptions.ResourceAlreadyExistsException:\n",
    "    print('You aready created an event tracker for this dataset group, seemingly')\n",
    "    paginator = personalize.get_paginator('list_event_trackers')\n",
    "    for paginate_result in paginator.paginate(datasetGroupArn = dataset_group_arn):\n",
    "        for event_tracker in paginate_result['eventTrackers']:\n",
    "            if event_tracker['name'] == 'ecommerce-event-tracker':\n",
    "                event_tracker_arn = event_tracker['eventTrackerArn']\n",
    "                \n",
    "                response = personalize.describe_event_tracker(eventTrackerArn = event_tracker_arn)\n",
    "                event_tracking_id = response['eventTracker']['trackingId']\n",
    "                break\n",
    "\n",
    "print('Event Tracker ARN: ' + event_tracker_arn)\n",
    "print('Event Tracking ID: ' + event_tracking_id)"
   ]
  },
  {
   "cell_type": "markdown",
   "id": "ff4e9ef6-f08f-4f69-88f9-6b1a5b045ec5",
   "metadata": {},
   "source": [
    "#### Wait for Event Tracker Status to Become ACTIVE"
   ]
  },
  {
   "cell_type": "markdown",
   "id": "4340a9c3-321d-4942-8b43-135f6a8cc5bf",
   "metadata": {
    "tags": []
   },
   "source": [
    "The event tracker should take a minute or so to become active."
   ]
  },
  {
   "cell_type": "code",
   "execution_count": null,
   "id": "d9cb3809-1a79-4116-8a07-afdac3bc217c",
   "metadata": {
    "tags": []
   },
   "outputs": [],
   "source": [
    "status = None\n",
    "max_time = time.time() + 60*60 # 1 hours\n",
    "while time.time() < max_time:\n",
    "    describe_event_tracker_response = personalize.describe_event_tracker(\n",
    "        eventTrackerArn = event_tracker_arn\n",
    "    )\n",
    "    status = describe_event_tracker_response[\"eventTracker\"][\"status\"]\n",
    "    print(\"EventTracker: {}\".format(status))\n",
    "    \n",
    "    if status == \"ACTIVE\" or status == \"CREATE FAILED\":\n",
    "        break\n",
    "        \n",
    "    time.sleep(15)"
   ]
  },
  {
   "cell_type": "markdown",
   "id": "bff9ddd9",
   "metadata": {
    "tags": []
   },
   "source": [
    "## Using filters with a recommender\n",
    "Now, lets create a filter to ensure that the agent can use the item's category to filter for recommendations for users. \n",
    "\n",
    "### Create a filter to use\n",
    "\n",
    "First we need to create a filter that will define what items will be recommended. We will use a dynamic [filter](https://docs.aws.amazon.com/personalize/latest/dg/filter-expressions.html) that takes in a value at inference time. \n",
    "\n",
    "This filter will include only items that have the specified value for *Items.CATEGORY_L1*.\n",
    "\n",
    "To get the same results we could also use a static filter of the form:\n",
    "\n",
    "```\n",
    "'INCLUDE ItemID WHERE Items.CATEGORY_L1 IN (\"electronics\")'\n",
    "```\n",
    "\n",
    "However, using the dynamic filter gives the agent more flexibility to decide what products to recommend based on the category the user provides."
   ]
  },
  {
   "cell_type": "code",
   "execution_count": null,
   "id": "74386d44-bc9b-45d6-8bf6-727fe96b2f06",
   "metadata": {
    "tags": []
   },
   "outputs": [],
   "source": [
    "create_filter_response = personalize.create_filter(\n",
    "    name = 'category_filter',\n",
    "    datasetGroupArn = dataset_group_arn,\n",
    "    filterExpression = 'INCLUDE ItemID WHERE ITEMS.CATEGORY_L1 IN ($CATEGORIES)'\n",
    ") \n",
    "category_filter_arn = create_filter_response[\"filterArn\"]\n",
    "print(\"Filter ARN: \" + category_filter_arn)"
   ]
  },
  {
   "cell_type": "markdown",
   "id": "59294595",
   "metadata": {},
   "source": [
    "Wait for the filter we created to have status \"Active\"."
   ]
  },
  {
   "cell_type": "code",
   "execution_count": null,
   "id": "9e0da60e",
   "metadata": {
    "tags": []
   },
   "outputs": [],
   "source": [
    "%%time\n",
    "\n",
    "max_time = time.time() + 10*60*60 # 10 hours\n",
    "    \n",
    "while time.time() < max_time:\n",
    "    version_response = personalize.describe_filter(\n",
    "        filterArn = category_filter_arn\n",
    "    )\n",
    "    status = version_response[\"filter\"][\"status\"]\n",
    "\n",
    "    if status == \"ACTIVE\":\n",
    "        print(\"Build succeeded for {}\".format(category_filter_arn))\n",
    "        \n",
    "    elif status == \"CREATE FAILED\":\n",
    "        print(\"Build failed for {}\".format(category_filter_arn))\n",
    "        break\n",
    "\n",
    "    if status == \"ACTIVE\" or status == \"CREATE FAILED\":\n",
    "        break\n",
    "    else:\n",
    "        print('The Filter build is still in progress')\n",
    "        \n",
    "    time.sleep(30)"
   ]
  },
  {
   "cell_type": "markdown",
   "id": "40388118",
   "metadata": {},
   "source": [
    "### Get recommendations for our test user using the filter \n",
    "\n",
    "Now that the filter has been created, we can get recommendations for a user using the filter. Let's check our existing test user."
   ]
  },
  {
   "cell_type": "code",
   "execution_count": null,
   "id": "6dda3682",
   "metadata": {
    "tags": []
   },
   "outputs": [],
   "source": [
    "print(test_user_id)"
   ]
  },
  {
   "cell_type": "code",
   "execution_count": null,
   "id": "be991bd9",
   "metadata": {
    "tags": []
   },
   "outputs": [],
   "source": [
    "get_recommendations_response = personalize_runtime.get_recommendations(\n",
    "    recommenderArn = recommended_for_you_arn,\n",
    "    userId = test_user_id,\n",
    "    numResults = 20,\n",
    "    filterArn = category_filter_arn,\n",
    "    filterValues={\"CATEGORIES\" : \"\\\"electronics\\\"\"}\n",
    ")\n",
    "user_recommendations_df =[]\n",
    "\n",
    "# Build a new dataframe for the recommendations\n",
    "item_list = get_recommendations_response['itemList']\n",
    "recommendation_id_list = []\n",
    "recommendation_description_list = []\n",
    "recommendation_category_list = []\n",
    "\n",
    "for item in item_list:\n",
    "    description = get_item_by_id(item['itemId'], items_df)\n",
    "    recommendation_description_list.append(description)\n",
    "    recommendation_id_list.append(item['itemId'])\n",
    "    recommendation_category_list.append(get_category_by_id(item['itemId'], items_df))\n",
    "\n",
    "user_recommendations_df = pd.DataFrame(recommendation_id_list, columns = [\"ID\"])\n",
    "user_recommendations_df[\"description\"] = recommendation_description_list\n",
    "user_recommendations_df[\"category level 1\"] = recommendation_category_list\n",
    "\n",
    "pd.options.display.max_rows =20\n",
    "display(user_recommendations_df)"
   ]
  },
  {
   "cell_type": "markdown",
   "id": "3984415e",
   "metadata": {},
   "source": [
    "As you can see from the results, all returned items have the category level 1 \"electronics\"."
   ]
  },
  {
   "cell_type": "markdown",
   "id": "d3dee5cf-0f39-4454-989c-e70128a584b7",
   "metadata": {},
   "source": [
    "## Store variables to use in Notebook 2"
   ]
  },
  {
   "cell_type": "code",
   "execution_count": null,
   "id": "06508100-e950-4c8b-89d1-e1e0eca04f38",
   "metadata": {
    "tags": []
   },
   "outputs": [],
   "source": [
    "# Store dataset ARN\n",
    "%store dataset_group_arn\n",
    "\n",
    "# Store role variables\n",
    "%store role_arn\n",
    "%store role_name\n",
    "\n",
    "# Store recommender ARN\n",
    "%store recommended_for_you_arn\n",
    "\n",
    "# Store solution version ARN\n",
    "%store similar_items_solution_version_arn\n",
    "\n",
    "# Store campaign ARN\n",
    "%store similar_items_campaign_arn\n",
    "\n",
    "# Store event tracking id and ARN\n",
    "%store event_tracker_arn\n",
    "%store event_tracking_id\n",
    "\n",
    "# Store filters ARNs\n",
    "%store category_filter_arn\n",
    "\n",
    "# Store Dataset Schemas ARNs\n",
    "%store interactions_schema_arn\n",
    "%store items_schema_arn\n",
    "\n",
    "# Store regio\n",
    "%store region"
   ]
  },
  {
   "cell_type": "markdown",
   "id": "610a4725",
   "metadata": {},
   "source": [
    "## Review\n",
    "After successfully training two Amazon Personalize models to generate recommendations for items and similar items based on past user behavior, you have created an event tracker to transmit real-time user event (clickstream) data into the service. Additionally, you have utilized a filter to incorporate products from a specific category.\n",
    "\n",
    "On the next Notebook, you will create the recommender agent and you will use the created resources to augment the agent's capabilities."
   ]
  },
  {
   "cell_type": "markdown",
   "id": "11500beb-de94-4cd3-8aa7-a9cbef993412",
   "metadata": {
    "tags": []
   },
   "source": [
    "Continue to [02_Recommender-Agent_Build-Agent-ConverseAPI.ipynb](./02_Recommender-Agent_Build-Agent-ConverseAPI.ipynb)"
   ]
  }
 ],
 "metadata": {
  "kernelspec": {
   "display_name": "conda_python3",
   "language": "python",
   "name": "conda_python3"
  },
  "language_info": {
   "codemirror_mode": {
    "name": "ipython",
    "version": 3
   },
   "file_extension": ".py",
   "mimetype": "text/x-python",
   "name": "python",
   "nbconvert_exporter": "python",
   "pygments_lexer": "ipython3",
   "version": "3.10.14"
  },
  "vscode": {
   "interpreter": {
    "hash": "31f2aee4e71d21fbe5cf8b01ff0e069b9275f58929596ceb00d14d90e3e16cd6"
   }
  }
 },
 "nbformat": 4,
 "nbformat_minor": 5
}
