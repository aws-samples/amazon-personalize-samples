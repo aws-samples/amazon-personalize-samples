{
 "cells": [
  {
   "cell_type": "markdown",
   "id": "a15f81e3-0976-4ff7-8ae1-ddb5fbdf1d94",
   "metadata": {},
   "source": [
    "# How to use Amazon Bedrock Titan FM embedding vectors to build a LLM content moderation engine with RandomForestClassifier"
   ]
  },
  {
   "cell_type": "markdown",
   "id": "22118967-7d3e-49d1-90ef-1f0ac2942e7c",
   "metadata": {},
   "source": [
    "In this demo notebook, we demonstrate how to use Bedrock Titan FM embedding vectors to build a LLM content moderation engine with RandomForestClassifier\n",
    "\n",
    "We will use the Bedrock Python SDK for Embeddings Generation.\n"
   ]
  },
  {
   "cell_type": "markdown",
   "id": "a79a2e3f-28ef-4566-87ce-67153443faff",
   "metadata": {},
   "source": [
    "## Content moderation Pipeline\n",
    "\n",
    "Email Template content ->Bedrock Titan FM -> Embedding vectors -> RandomForestClassifier -> compliance result"
   ]
  },
  {
   "cell_type": "markdown",
   "id": "928b0f06-7035-44c2-8f3f-2c0f48ffa093",
   "metadata": {},
   "source": [
    "##### 1. Set up environments\n",
    "##### 2. Embedding generation by Amazon Titan FM\n",
    "##### 3. Train for a classifier model RandomForest\n",
    "##### 4. Inference"
   ]
  },
  {
   "cell_type": "markdown",
   "id": "e54a273a-ebf6-4337-8ec9-6520ad3597a3",
   "metadata": {
    "tags": []
   },
   "source": [
    "Note: This notebook was tested in Amazon SageMaker Studio with Python 3 (Data Science 3.0) kernel."
   ]
  },
  {
   "cell_type": "markdown",
   "id": "bc708a77-1dc2-4032-8a8c-5a85b6111dee",
   "metadata": {},
   "source": [
    "# 1. Set up environments"
   ]
  },
  {
   "cell_type": "markdown",
   "id": "c11d790c-6f24-4642-b86c-a0dfe5b7ed59",
   "metadata": {},
   "source": [
    "---\n",
    "Before executing the notebook for the first time, execute this cell to add bedrock extensions to the Python boto3 SDK\n",
    "\n",
    "---"
   ]
  },
  {
   "cell_type": "code",
   "execution_count": null,
   "id": "14fdf603-a8a9-4888-92b8-b1eca9cc2aa0",
   "metadata": {
    "tags": []
   },
   "outputs": [],
   "source": [
    "%pip install --upgrade pip\n",
    "%pip install boto3 --upgrade\n",
    "%pip install botocore --upgrade"
   ]
  },
  {
   "cell_type": "code",
   "execution_count": 2,
   "id": "a228be2a-b4b4-4862-b31f-f3294d14fbdf",
   "metadata": {
    "tags": []
   },
   "outputs": [
    {
     "name": "stdout",
     "output_type": "stream",
     "text": [
      "Current Boto3 Version: 1.28.63\n",
      "Current Botocore Version: 1.31.63\n"
     ]
    }
   ],
   "source": [
    "import boto3\n",
    "import botocore\n",
    "\n",
    "# Get the Boto3 version\n",
    "boto3_version = boto3.__version__\n",
    "\n",
    "# Get the Botocore version\n",
    "botocore_version = botocore.__version__\n",
    "\n",
    "\n",
    "# Print the Boto3 version\n",
    "print(\"Current Boto3 Version:\", boto3_version)\n",
    "\n",
    "# Print the Botocore version\n",
    "print(\"Current Botocore Version:\", botocore_version)"
   ]
  },
  {
   "cell_type": "markdown",
   "id": "c5530b40-b6df-4f51-a862-025ded60d513",
   "metadata": {},
   "source": [
    "Let's initialize the boto3 client to use Bedrock"
   ]
  },
  {
   "cell_type": "code",
   "execution_count": 3,
   "id": "14d82998-f5d1-4624-a54f-f9d04422b8d4",
   "metadata": {
    "tags": []
   },
   "outputs": [],
   "source": [
    "import boto3\n",
    "import pandas as pd\n",
    "import json\n",
    "bedrock = boto3.client(\n",
    " service_name='bedrock',\n",
    " region_name='us-east-1',\n",
    " endpoint_url='https://bedrock.us-east-1.amazonaws.com'\n",
    ")\n"
   ]
  },
  {
   "cell_type": "markdown",
   "id": "dd8e292d-32b2-49ce-b1fb-066b70cc5cde",
   "metadata": {},
   "source": [
    "Lets test the endpoint to see what models are available"
   ]
  },
  {
   "cell_type": "code",
   "execution_count": 4,
   "id": "c10722be-2f83-4f8c-89a4-7d9b181029f5",
   "metadata": {
    "tags": []
   },
   "outputs": [
    {
     "data": {
      "text/plain": [
       "{'ResponseMetadata': {'RequestId': '1dcb1a84-4ae4-40f3-8fe2-efca1263b528',\n",
       "  'HTTPStatusCode': 200,\n",
       "  'HTTPHeaders': {'date': 'Mon, 16 Oct 2023 01:38:53 GMT',\n",
       "   'content-type': 'application/json',\n",
       "   'content-length': '5729',\n",
       "   'connection': 'keep-alive',\n",
       "   'x-amzn-requestid': '1dcb1a84-4ae4-40f3-8fe2-efca1263b528'},\n",
       "  'RetryAttempts': 0},\n",
       " 'modelSummaries': [{'modelArn': 'arn:aws:bedrock:us-east-1::foundation-model/amazon.titan-tg1-large',\n",
       "   'modelId': 'amazon.titan-tg1-large',\n",
       "   'modelName': 'Titan Text Large',\n",
       "   'providerName': 'Amazon',\n",
       "   'inputModalities': ['TEXT'],\n",
       "   'outputModalities': ['TEXT'],\n",
       "   'responseStreamingSupported': True,\n",
       "   'customizationsSupported': ['FINE_TUNING'],\n",
       "   'inferenceTypesSupported': ['ON_DEMAND']},\n",
       "  {'modelArn': 'arn:aws:bedrock:us-east-1::foundation-model/amazon.titan-e1t-medium',\n",
       "   'modelId': 'amazon.titan-e1t-medium',\n",
       "   'modelName': 'Titan Text Embeddings',\n",
       "   'providerName': 'Amazon',\n",
       "   'inputModalities': ['TEXT'],\n",
       "   'outputModalities': ['EMBEDDING'],\n",
       "   'customizationsSupported': [],\n",
       "   'inferenceTypesSupported': ['ON_DEMAND']},\n",
       "  {'modelArn': 'arn:aws:bedrock:us-east-1::foundation-model/amazon.titan-embed-g1-text-02',\n",
       "   'modelId': 'amazon.titan-embed-g1-text-02',\n",
       "   'modelName': 'Titan Text Embeddings v2',\n",
       "   'providerName': 'Amazon',\n",
       "   'inputModalities': ['TEXT'],\n",
       "   'outputModalities': ['EMBEDDING'],\n",
       "   'customizationsSupported': [],\n",
       "   'inferenceTypesSupported': ['ON_DEMAND']},\n",
       "  {'modelArn': 'arn:aws:bedrock:us-east-1::foundation-model/amazon.titan-text-express-v1',\n",
       "   'modelId': 'amazon.titan-text-express-v1',\n",
       "   'modelName': 'Titan Text G1 - Express',\n",
       "   'providerName': 'Amazon',\n",
       "   'inputModalities': ['TEXT'],\n",
       "   'outputModalities': ['TEXT'],\n",
       "   'responseStreamingSupported': True,\n",
       "   'customizationsSupported': [],\n",
       "   'inferenceTypesSupported': ['ON_DEMAND']},\n",
       "  {'modelArn': 'arn:aws:bedrock:us-east-1::foundation-model/amazon.titan-embed-text-v1',\n",
       "   'modelId': 'amazon.titan-embed-text-v1',\n",
       "   'modelName': 'Titan Embeddings G1 - Text',\n",
       "   'providerName': 'Amazon',\n",
       "   'inputModalities': ['TEXT'],\n",
       "   'outputModalities': ['EMBEDDING'],\n",
       "   'responseStreamingSupported': True,\n",
       "   'customizationsSupported': [],\n",
       "   'inferenceTypesSupported': ['ON_DEMAND']},\n",
       "  {'modelArn': 'arn:aws:bedrock:us-east-1::foundation-model/stability.stable-diffusion-xl',\n",
       "   'modelId': 'stability.stable-diffusion-xl',\n",
       "   'modelName': 'Stable Diffusion XL',\n",
       "   'providerName': 'Stability AI',\n",
       "   'inputModalities': ['TEXT', 'IMAGE'],\n",
       "   'outputModalities': ['IMAGE'],\n",
       "   'customizationsSupported': [],\n",
       "   'inferenceTypesSupported': ['ON_DEMAND']},\n",
       "  {'modelArn': 'arn:aws:bedrock:us-east-1::foundation-model/stability.stable-diffusion-xl-v0',\n",
       "   'modelId': 'stability.stable-diffusion-xl-v0',\n",
       "   'modelName': 'Stable Diffusion XL',\n",
       "   'providerName': 'Stability AI',\n",
       "   'inputModalities': ['TEXT', 'IMAGE'],\n",
       "   'outputModalities': ['IMAGE'],\n",
       "   'customizationsSupported': [],\n",
       "   'inferenceTypesSupported': ['ON_DEMAND']},\n",
       "  {'modelArn': 'arn:aws:bedrock:us-east-1::foundation-model/ai21.j2-grande-instruct',\n",
       "   'modelId': 'ai21.j2-grande-instruct',\n",
       "   'modelName': 'J2 Grande Instruct',\n",
       "   'providerName': 'AI21 Labs',\n",
       "   'inputModalities': ['TEXT'],\n",
       "   'outputModalities': ['TEXT'],\n",
       "   'responseStreamingSupported': False,\n",
       "   'customizationsSupported': [],\n",
       "   'inferenceTypesSupported': ['ON_DEMAND']},\n",
       "  {'modelArn': 'arn:aws:bedrock:us-east-1::foundation-model/ai21.j2-jumbo-instruct',\n",
       "   'modelId': 'ai21.j2-jumbo-instruct',\n",
       "   'modelName': 'J2 Jumbo Instruct',\n",
       "   'providerName': 'AI21 Labs',\n",
       "   'inputModalities': ['TEXT'],\n",
       "   'outputModalities': ['TEXT'],\n",
       "   'responseStreamingSupported': False,\n",
       "   'customizationsSupported': [],\n",
       "   'inferenceTypesSupported': ['ON_DEMAND']},\n",
       "  {'modelArn': 'arn:aws:bedrock:us-east-1::foundation-model/ai21.j2-mid',\n",
       "   'modelId': 'ai21.j2-mid',\n",
       "   'modelName': 'Jurassic-2 Mid',\n",
       "   'providerName': 'AI21 Labs',\n",
       "   'inputModalities': ['TEXT'],\n",
       "   'outputModalities': ['TEXT'],\n",
       "   'responseStreamingSupported': False,\n",
       "   'customizationsSupported': [],\n",
       "   'inferenceTypesSupported': ['ON_DEMAND']},\n",
       "  {'modelArn': 'arn:aws:bedrock:us-east-1::foundation-model/ai21.j2-mid-v1',\n",
       "   'modelId': 'ai21.j2-mid-v1',\n",
       "   'modelName': 'Jurassic-2 Mid',\n",
       "   'providerName': 'AI21 Labs',\n",
       "   'inputModalities': ['TEXT'],\n",
       "   'outputModalities': ['TEXT'],\n",
       "   'responseStreamingSupported': False,\n",
       "   'customizationsSupported': [],\n",
       "   'inferenceTypesSupported': ['ON_DEMAND']},\n",
       "  {'modelArn': 'arn:aws:bedrock:us-east-1::foundation-model/ai21.j2-ultra',\n",
       "   'modelId': 'ai21.j2-ultra',\n",
       "   'modelName': 'Jurassic-2 Ultra',\n",
       "   'providerName': 'AI21 Labs',\n",
       "   'inputModalities': ['TEXT'],\n",
       "   'outputModalities': ['TEXT'],\n",
       "   'responseStreamingSupported': False,\n",
       "   'customizationsSupported': [],\n",
       "   'inferenceTypesSupported': ['ON_DEMAND']},\n",
       "  {'modelArn': 'arn:aws:bedrock:us-east-1::foundation-model/ai21.j2-ultra-v1',\n",
       "   'modelId': 'ai21.j2-ultra-v1',\n",
       "   'modelName': 'Jurassic-2 Ultra',\n",
       "   'providerName': 'AI21 Labs',\n",
       "   'inputModalities': ['TEXT'],\n",
       "   'outputModalities': ['TEXT'],\n",
       "   'responseStreamingSupported': False,\n",
       "   'customizationsSupported': [],\n",
       "   'inferenceTypesSupported': ['ON_DEMAND']},\n",
       "  {'modelArn': 'arn:aws:bedrock:us-east-1::foundation-model/anthropic.claude-instant-v1',\n",
       "   'modelId': 'anthropic.claude-instant-v1',\n",
       "   'modelName': 'Claude Instant',\n",
       "   'providerName': 'Anthropic',\n",
       "   'inputModalities': ['TEXT'],\n",
       "   'outputModalities': ['TEXT'],\n",
       "   'responseStreamingSupported': True,\n",
       "   'customizationsSupported': [],\n",
       "   'inferenceTypesSupported': ['ON_DEMAND']},\n",
       "  {'modelArn': 'arn:aws:bedrock:us-east-1::foundation-model/anthropic.claude-v1',\n",
       "   'modelId': 'anthropic.claude-v1',\n",
       "   'modelName': 'Claude',\n",
       "   'providerName': 'Anthropic',\n",
       "   'inputModalities': ['TEXT'],\n",
       "   'outputModalities': ['TEXT'],\n",
       "   'responseStreamingSupported': True,\n",
       "   'customizationsSupported': [],\n",
       "   'inferenceTypesSupported': ['ON_DEMAND']},\n",
       "  {'modelArn': 'arn:aws:bedrock:us-east-1::foundation-model/anthropic.claude-v2',\n",
       "   'modelId': 'anthropic.claude-v2',\n",
       "   'modelName': 'Claude',\n",
       "   'providerName': 'Anthropic',\n",
       "   'inputModalities': ['TEXT'],\n",
       "   'outputModalities': ['TEXT'],\n",
       "   'responseStreamingSupported': True,\n",
       "   'customizationsSupported': [],\n",
       "   'inferenceTypesSupported': ['ON_DEMAND']},\n",
       "  {'modelArn': 'arn:aws:bedrock:us-east-1::foundation-model/cohere.command-text-v14',\n",
       "   'modelId': 'cohere.command-text-v14',\n",
       "   'modelName': 'Command',\n",
       "   'providerName': 'Cohere',\n",
       "   'inputModalities': ['TEXT'],\n",
       "   'outputModalities': ['TEXT'],\n",
       "   'responseStreamingSupported': True,\n",
       "   'customizationsSupported': [],\n",
       "   'inferenceTypesSupported': ['ON_DEMAND']}]}"
      ]
     },
     "execution_count": 4,
     "metadata": {},
     "output_type": "execute_result"
    }
   ],
   "source": [
    "bedrock.list_foundation_models()"
   ]
  },
  {
   "cell_type": "markdown",
   "id": "0789f20e-49f3-4511-bd84-47215a4814a9",
   "metadata": {},
   "source": [
    "## Load training dataset CSV file into dataframe"
   ]
  },
  {
   "cell_type": "code",
   "execution_count": 5,
   "id": "c3efc84a-6731-406a-a6aa-5161913feaac",
   "metadata": {
    "tags": []
   },
   "outputs": [
    {
     "name": "stdout",
     "output_type": "stream",
     "text": [
      "                                                text           label\n",
      "0  He is a piece of shit, greedy capitalist who e...  non-compliance\n",
      "1  The senile credit card shrill from Delaware ne...  non-compliance\n",
      "2  He does that a lot -- makes everyone look good...  non-compliance\n",
      "3                                         F*ck Lizzo  non-compliance\n",
      "4  Epstein and trump were best buds!!! Pedophiles...  non-compliance\n"
     ]
    }
   ],
   "source": [
    "# Specify the file path\n",
    "csv_file = \"compliance_dataset.csv\"\n",
    "\n",
    "# Load the CSV file into a DataFrame\n",
    "df = pd.read_csv(csv_file)\n",
    "\n",
    "# Display the first few rows of the DataFrame to verify the data loading\n",
    "print(df.head())"
   ]
  },
  {
   "cell_type": "code",
   "execution_count": 6,
   "id": "c792491c-bf9d-4aac-a724-ca7d7ed50cfc",
   "metadata": {
    "tags": []
   },
   "outputs": [
    {
     "name": "stdout",
     "output_type": "stream",
     "text": [
      "<class 'pandas.core.frame.DataFrame'>\n",
      "RangeIndex: 1000 entries, 0 to 999\n",
      "Data columns (total 2 columns):\n",
      " #   Column  Non-Null Count  Dtype \n",
      "---  ------  --------------  ----- \n",
      " 0   text    1000 non-null   object\n",
      " 1   label   1000 non-null   object\n",
      "dtypes: object(2)\n",
      "memory usage: 15.8+ KB\n"
     ]
    }
   ],
   "source": [
    "df.info()"
   ]
  },
  {
   "cell_type": "code",
   "execution_count": 7,
   "id": "f69f82aa-3920-4671-82da-a82f3d3ba204",
   "metadata": {
    "tags": []
   },
   "outputs": [],
   "source": [
    "# Duplicate the original DataFrame and assign it to 'vectors_df'\n",
    "vectors_df = pd.DataFrame(df)"
   ]
  },
  {
   "cell_type": "code",
   "execution_count": 8,
   "id": "28bc4fa3-4196-4f4f-b85b-6b492beb8161",
   "metadata": {
    "tags": []
   },
   "outputs": [
    {
     "name": "stdout",
     "output_type": "stream",
     "text": [
      "non-compliance    501\n",
      "compliance        499\n",
      "Name: label, dtype: int64\n"
     ]
    }
   ],
   "source": [
    "# Count the number of 'compliance' and 'non-compliance' labels\n",
    "label_counts = vectors_df['label'].value_counts()\n",
    "\n",
    "# Print the counts\n",
    "print(label_counts)\n"
   ]
  },
  {
   "cell_type": "code",
   "execution_count": 9,
   "id": "6829545b-d402-42da-a9b9-9a5fa766cb92",
   "metadata": {
    "tags": []
   },
   "outputs": [],
   "source": [
    "# Export the DataFrame 'vectors_df' to a JSON file named 'compliance_dataset.json'\n",
    "vectors_df.to_json('compliance_dataset.json', orient='records', lines=True)\n"
   ]
  },
  {
   "cell_type": "code",
   "execution_count": 10,
   "id": "7e9593c4-440e-4632-96b9-bdd31ed4aba8",
   "metadata": {
    "tags": []
   },
   "outputs": [],
   "source": [
    "import json\n",
    "\n",
    "# Open the JSON file for reading\n",
    "with open('compliance_dataset.json', 'r', encoding='utf-8') as file:\n",
    "    data = []\n",
    "    for line in file:\n",
    "        # Parse each line as a separate JSON object\n",
    "        try:\n",
    "            record = json.loads(line.strip())\n",
    "            data.append(record)\n",
    "        except json.JSONDecodeError as e:\n",
    "            print(f\"Skipping invalid JSON: {e}\")\n",
    "\n",
    "# 'data' now contains a list of dictionaries, each representing a JSON object\n"
   ]
  },
  {
   "cell_type": "code",
   "execution_count": 11,
   "id": "e92542ff-9758-40cc-915e-19605d7e09cb",
   "metadata": {
    "tags": []
   },
   "outputs": [
    {
     "name": "stdout",
     "output_type": "stream",
     "text": [
      "Data has been saved to parsed_compliance_data.json\n"
     ]
    }
   ],
   "source": [
    "import json\n",
    "\n",
    "# Open the JSON file for reading\n",
    "with open('compliance_dataset.json', 'r', encoding='utf-8') as file:\n",
    "    data = []\n",
    "    for line in file:\n",
    "        # Parse each line as a separate JSON object\n",
    "        try:\n",
    "            record = json.loads(line.strip())\n",
    "            data.append(record)\n",
    "        except json.JSONDecodeError as e:\n",
    "            print(f\"Skipping invalid JSON: {e}\")\n",
    "\n",
    "# 'data' now contains a list of dictionaries, each representing a JSON object\n",
    "\n",
    "# Specify the filename for the new JSON file\n",
    "output_filename = 'parsed_compliance_data.json'\n",
    "\n",
    "# Write the 'data' list to the new JSON file\n",
    "with open(output_filename, 'w', encoding='utf-8') as output_file:\n",
    "    json.dump(data, output_file, indent=4)\n",
    "\n",
    "print(f'Data has been saved to {output_filename}')\n"
   ]
  },
  {
   "cell_type": "code",
   "execution_count": 12,
   "id": "5c4bcdf2-c371-41a2-8c71-85306453dc63",
   "metadata": {
    "tags": []
   },
   "outputs": [],
   "source": [
    "import json\n",
    "\n",
    "# Specify the filename of the JSON file you want to load\n",
    "input_filename = 'parsed_compliance_data.json'\n",
    "\n",
    "# Load the JSON data from the file into a Python variable\n",
    "with open(input_filename, 'r', encoding='utf-8') as input_file:\n",
    "    loaded_data = json.load(input_file)\n",
    "\n",
    "# Now, 'loaded_data' contains the JSON data as a Python data structure (likely a list of dictionaries)\n",
    "\n",
    "# You can now work with 'loaded_data' in your Jupyter Notebook\n"
   ]
  },
  {
   "cell_type": "code",
   "execution_count": 13,
   "id": "503df551-dced-4654-8f38-2ec1034e0404",
   "metadata": {
    "tags": []
   },
   "outputs": [
    {
     "name": "stdout",
     "output_type": "stream",
     "text": [
      "{'text': 'He is a piece of shit, greedy capitalist who exploits workers, and offers nothing of real benefit to the world.\\n All he’s done is make a name for himself on the backs of other people, using dirty money from his family’s emerald mine they acquired during apartheid.\\n I don’t care that he’s autistic. He thinks we should be cured with his company’s AI chip. \\n He is not a representation of our community. Don’t celebrate him on this page.', 'label': 'non-compliance'}\n",
      "{'text': 'The senile credit card shrill from Delaware needs to resign!!', 'label': 'non-compliance'}\n",
      "{'text': \"He does that a lot -- makes everyone look good but him...I guess it's also probably the Dems and the Media that force him to compulsively tweet abject bullshit like a lying bitch. They're tricky, them libs.\", 'label': 'non-compliance'}\n"
     ]
    }
   ],
   "source": [
    "# Assuming you've already loaded the JSON data into the 'loaded_data' variable\n",
    "\n",
    "# Display the top 3 records\n",
    "top_3_records = loaded_data[:3]\n",
    "for record in top_3_records:\n",
    "    print(record)\n",
    "\n"
   ]
  },
  {
   "cell_type": "markdown",
   "id": "ebec00d8-8af4-49c1-8566-0fd865f6810d",
   "metadata": {
    "tags": []
   },
   "source": [
    "# 2. Embeddings Generation"
   ]
  },
  {
   "cell_type": "markdown",
   "id": "e2f5f862-9a08-4c85-a789-e34ff85cb69c",
   "metadata": {},
   "source": [
    "Embeddings are a key concept in generative AI and machine learning in general. An embedding is a representation of an object (like a word, image, video, etc.) in a vector space. Typically, semantically similar objects will have embeddings that are close together in the vector space. These are very powerful for use-cases like semantic search, recommendations and Classifications."
   ]
  },
  {
   "cell_type": "markdown",
   "id": "4849d4b3-b20d-4d3a-a396-51c2bc51ce0f",
   "metadata": {
    "tags": []
   },
   "source": [
    "# We will be using the Titan Embeddings Model to generate our Embeddings.\n",
    "\n",
    "def get_embedding(body, modelId, accept, contentType):\n",
    "    response = bedrock.invoke_model(body=body, modelId=modelId, accept=accept, contentType=contentType)\n",
    "    response_body = json.loads(response.get('body').read())\n",
    "    embedding = response_body.get('embedding')\n",
    "    return embedding\n",
    "\n",
    "body = json.dumps({\"inputText\": \"explain black holes to 8th graders\"})\n",
    "modelId = 'amazon.titan-e1t-medium'\n",
    "accept = 'application/json'\n",
    "contentType = 'application/json'\n",
    "\n",
    "embedding = get_embedding(body, modelId, accept, contentType)\n",
    "print(embedding)"
   ]
  },
  {
   "cell_type": "markdown",
   "id": "03a67abc-6541-4317-943a-95f7e353eeec",
   "metadata": {},
   "source": [
    "## Define get embedding function"
   ]
  },
  {
   "cell_type": "code",
   "execution_count": 14,
   "id": "a6629f8e-3500-40e2-8154-c4844a57fd16",
   "metadata": {
    "tags": []
   },
   "outputs": [],
   "source": [
    "bedrock_client = boto3.client('bedrock-runtime')\n",
    "import json\n",
    "\n",
    "def get_embedding(body, modelId, accept, contentType):\n",
    "    response = bedrock_client.invoke_model(body=body, modelId=modelId, accept=accept, contentType=contentType)\n",
    "    response_body = json.loads(response.get('body').read())\n",
    "    embedding = response_body.get('embedding')\n",
    "    return embedding"
   ]
  },
  {
   "cell_type": "markdown",
   "id": "74f467b0-2f52-46d5-8e57-0b13c0c76769",
   "metadata": {},
   "source": [
    "## Generate embedding vectors by Titan FM model 'amazon.titan-embed-text-v1'\n",
    "Around 2 minutes\n"
   ]
  },
  {
   "cell_type": "code",
   "execution_count": 16,
   "id": "d219c2c9-27c7-4a80-875d-d4c218119efd",
   "metadata": {
    "tags": []
   },
   "outputs": [
    {
     "name": "stdout",
     "output_type": "stream",
     "text": [
      "Embedding vectors have been saved to moderation_vectors.json\n"
     ]
    }
   ],
   "source": [
    "# Load the parsed JSON data from 'parsed_compliance_data.json'\n",
    "with open('parsed_compliance_data.json', 'r', encoding='utf-8') as input_file:\n",
    "    data = json.load(input_file)\n",
    "\n",
    "# Initialize a list to store the results\n",
    "results = []\n",
    "\n",
    "# Loop through each record in the data\n",
    "for record in data:\n",
    "    text = record['text']\n",
    "    label = record['label']\n",
    "\n",
    "    # Calculate the embedding for the text\n",
    "    body = json.dumps({\"inputText\": text})\n",
    "    modelId = 'amazon.titan-embed-text-v1'\n",
    "    accept = 'application/json'\n",
    "    contentType = 'application/json'\n",
    "    embedding = get_embedding(body, modelId, accept, contentType)\n",
    "\n",
    "    # Create a result dictionary with text, label, and embedding\n",
    "    result = {\n",
    "        #'text': text,\n",
    "        'label': label,\n",
    "        'embedding': embedding\n",
    "    }\n",
    "\n",
    "    # Append the result to the list of results\n",
    "    results.append(result)\n",
    "\n",
    "# Save the results to 'vectors.json'\n",
    "with open('moderation_vectors.json', 'w', encoding='utf-8') as output_file:\n",
    "    json.dump(results, output_file, indent=4)\n",
    "\n",
    "print('Embedding vectors have been saved to moderation_vectors.json')\n"
   ]
  },
  {
   "cell_type": "markdown",
   "id": "f4a5059e-f8de-43e0-94cd-d19d87bf8a72",
   "metadata": {},
   "source": [
    "# 3.Train for classifier model\n",
    "## Prepare training dataset 800 records, and test dataset 200 records\n",
    "It need import the 'moderation_vectors.json' file, extract the first 100 and last 100 records, and then save them to 'test.json' and the remaining 800 records to 'train.json'. Here's a sample code to do this:"
   ]
  },
  {
   "cell_type": "code",
   "execution_count": 17,
   "id": "8a6bba6e-eccf-4a07-8902-8bdafce1f0d7",
   "metadata": {
    "tags": []
   },
   "outputs": [],
   "source": [
    "import json\n",
    "\n",
    "# Load the 'moderation_vectors.json' file\n",
    "with open('moderation_vectors.json', 'r') as json_file:\n",
    "    data = json.load(json_file)\n",
    "\n",
    "# Extract the first 100 and last 100 records\n",
    "first_100_records = data[:100]\n",
    "last_100_records = data[-100:]\n",
    "\n",
    "# Create 'test.json' with the combined 200 records\n",
    "test_data = first_100_records + last_100_records\n",
    "with open('test.json', 'w') as test_file:\n",
    "    json.dump(test_data, test_file)\n",
    "\n",
    "# Create 'train.json' with the remaining 800 records\n",
    "train_data = data[100:-100]\n",
    "with open('train.json', 'w') as train_file:\n",
    "    json.dump(train_data, train_file)\n"
   ]
  },
  {
   "cell_type": "code",
   "execution_count": 20,
   "id": "96c3dd9f-6872-46d6-a7e6-cc108fdf11c1",
   "metadata": {
    "tags": []
   },
   "outputs": [],
   "source": [
    "import json\n",
    "import numpy as np\n",
    "from sklearn.ensemble import RandomForestClassifier\n",
    "from sklearn.metrics import accuracy_score, precision_score, recall_score, f1_score, roc_auc_score, classification_report"
   ]
  },
  {
   "cell_type": "markdown",
   "id": "febb83f9-c3e9-4aeb-8b2c-62c1a1cdd8f3",
   "metadata": {},
   "source": [
    "### Training a model - RandomForestClassifier by embedding vectors"
   ]
  },
  {
   "cell_type": "code",
   "execution_count": 21,
   "id": "759db9e6-c1d1-437f-b80b-ec7d3c0b6815",
   "metadata": {
    "tags": []
   },
   "outputs": [
    {
     "name": "stdout",
     "output_type": "stream",
     "text": [
      "Accuracy: 0.985\n",
      "Precision: 0.9850485048504851\n",
      "Recall: 0.985\n",
      "F1-score: 0.9849996249906248\n",
      "ROC-AUC: 0.9967499999999999\n",
      "Classification Report:\n",
      "                 precision    recall  f1-score   support\n",
      "\n",
      "    compliance       0.98      0.99      0.99       100\n",
      "non-compliance       0.99      0.98      0.98       100\n",
      "\n",
      "      accuracy                           0.98       200\n",
      "     macro avg       0.99      0.98      0.98       200\n",
      "  weighted avg       0.99      0.98      0.98       200\n",
      "\n"
     ]
    }
   ],
   "source": [
    "\n",
    "\n",
    "# Load the training dataset from 'training.json'\n",
    "with open('train.json', 'r') as f:\n",
    "    training_data = json.load(f)\n",
    "\n",
    "# Load the test dataset from 'test.json'\n",
    "with open('test.json', 'r') as f:\n",
    "    test_data = json.load(f)\n",
    "\n",
    "# Extract features (embedding vectors) and labels from the datasets\n",
    "X_train = [data_point[\"embedding\"] for data_point in training_data]\n",
    "y_train = [data_point[\"label\"] for data_point in training_data]\n",
    "\n",
    "X_test = [data_point[\"embedding\"] for data_point in test_data]\n",
    "y_test = [data_point[\"label\"] for data_point in test_data]\n",
    "\n",
    "# Convert lists to numpy arrays for scikit-learn\n",
    "X_train = np.array(X_train)\n",
    "y_train = np.array(y_train)\n",
    "\n",
    "X_test = np.array(X_test)\n",
    "y_test = np.array(y_test)\n",
    "\n",
    "# Build the classification model (Random Forest in this example)\n",
    "clf = RandomForestClassifier(n_estimators=100, random_state=42)\n",
    "\n",
    "# Train the model\n",
    "clf.fit(X_train, y_train)\n",
    "\n",
    "# Evaluate the model\n",
    "y_pred = clf.predict(X_test)\n",
    "\n",
    "# Calculate and print accuracy\n",
    "accuracy = accuracy_score(y_test, y_pred)\n",
    "print(\"Accuracy:\", accuracy)\n",
    "\n",
    "# Calculate and print precision\n",
    "precision = precision_score(y_test, y_pred, average='weighted')\n",
    "print(\"Precision:\", precision)\n",
    "\n",
    "# Calculate and print recall\n",
    "recall = recall_score(y_test, y_pred, average='weighted')\n",
    "print(\"Recall:\", recall)\n",
    "\n",
    "# Calculate and print F1-score\n",
    "f1 = f1_score(y_test, y_pred, average='weighted')\n",
    "print(\"F1-score:\", f1)\n",
    "\n",
    "# Calculate and print ROC-AUC score (Note: ROC-AUC is typically used for binary classification)\n",
    "if len(np.unique(y_test)) == 2:  # Check if it's a binary classification problem\n",
    "    roc_auc = roc_auc_score(y_test, clf.predict_proba(X_test)[:, 1])\n",
    "    print(\"ROC-AUC:\", roc_auc)\n",
    "\n",
    "# Print the detailed classification report\n",
    "classification_report_str = classification_report(y_test, y_pred)\n",
    "print(\"Classification Report:\\n\", classification_report_str)\n"
   ]
  },
  {
   "cell_type": "markdown",
   "id": "76308f17-55cf-4caf-a60c-87488cdfec0f",
   "metadata": {},
   "source": [
    "### Load the Trained Model\n",
    "Load the trained Random Forest classifier that you previously trained and saved. If you haven't saved the model, you should save it after training for later use. You can use the joblib library to save and load scikit-learn models."
   ]
  },
  {
   "cell_type": "code",
   "execution_count": 22,
   "id": "b08aea5a-a698-40f8-afee-5e653fa53f42",
   "metadata": {
    "tags": []
   },
   "outputs": [
    {
     "data": {
      "text/plain": [
       "['trained_model.joblib']"
      ]
     },
     "execution_count": 22,
     "metadata": {},
     "output_type": "execute_result"
    }
   ],
   "source": [
    "# saving the model after training:\n",
    "\n",
    "from joblib import dump\n",
    "\n",
    "# Train the model (assuming 'clf' is your trained classifier)\n",
    "clf.fit(X_train, y_train)\n",
    "\n",
    "# Save the trained model to a file\n",
    "dump(clf, 'trained_model.joblib')\n"
   ]
  },
  {
   "cell_type": "code",
   "execution_count": 23,
   "id": "727022d6-51e2-4d99-9d8c-2c0bea2426ec",
   "metadata": {
    "tags": []
   },
   "outputs": [],
   "source": [
    "# loading the saved model for inference:\n",
    "\n",
    "from joblib import load\n",
    "\n",
    "# Load the trained model from a file\n",
    "clf = load('trained_model.joblib')\n"
   ]
  },
  {
   "cell_type": "markdown",
   "id": "cd759073-1aa4-4e75-a217-3dfa58e46872",
   "metadata": {},
   "source": [
    "## Prepare New Data\n",
    "\n",
    "You need to preprocess the new data in the same way you preprocessed your training and test data. In your case, it appears you'll need to obtain the LLM embedding vectors for the new text data using your 'get_embedding' function."
   ]
  },
  {
   "cell_type": "markdown",
   "id": "dc58a351-ab46-47f8-bd8c-eb73b6b3930b",
   "metadata": {},
   "source": [
    "### To load JSON data from the 'email_content_english.json' file into the new_text variable, you can use the following code:"
   ]
  },
  {
   "cell_type": "code",
   "execution_count": 25,
   "id": "073738da-e9a3-4b8e-bf14-bc6ce6effde5",
   "metadata": {
    "tags": []
   },
   "outputs": [],
   "source": [
    "import json\n",
    "\n",
    "# Specify the filename of the JSON file\n",
    "json_filename = 'email_content_english.json'\n",
    "\n",
    "# Load the JSON data from the file into 'data'\n",
    "with open(json_filename, 'r', encoding='utf-8') as json_file:\n",
    "    data = json.load(json_file)\n",
    "\n",
    "# Extract the email content from the 'email' key\n",
    "new_text = data.get('email', {})\n",
    "\n",
    "\n",
    "# Now, 'title' and 'body' contain the respective values from the JSON file\n"
   ]
  },
  {
   "cell_type": "code",
   "execution_count": 26,
   "id": "fdc877c5-37d8-4b5c-a2c6-258d6db97b8c",
   "metadata": {
    "tags": []
   },
   "outputs": [
    {
     "name": "stdout",
     "output_type": "stream",
     "text": [
      "```json\n",
      "{\n",
      "  \"title\": \"Enjoy 50% off flights to Hong Kong with TigerPounce Express!\",\n",
      "  \"body\": \"Dear valued member,\n",
      "\n",
      "We are excited to offer you an exclusive 50% discount on flights from Kuala Lumpur to Hong Kong in October 2023! Use promo code 56298 on https://demobooking.demo.co to receive half off our already low fares.\n",
      "\n",
      "Experience the wonders of Hong Kong with this customizable 10-day itinerary:\n",
      "\n",
      "Day 1: Arrive in Hong Kong. Check into your hotel and explore the bustling streets of Mong Kok. Wander through the sprawling Temple Street Night Market. \n",
      "\n",
      "Day 2: Take the tram up to Victoria Peak for stunning views of the city and harbor. Ride a double-decker bus around Hong Kong Island. Visit Man Mo Temple.\n",
      "\n",
      "Day 3: Escape the city with a day trip to Lantau Island. Ride the cable car up to the Tian Tan Buddha statue and explore the traditional fishing villages. Enjoy an al fresco seafood lunch.\n",
      "\n",
      "Day 4: Shop your way through the winding lanes of the Ladies' Market. Browse the stalls at the Flower Market. Relax in Kowloon Park. See the Symphony of Lights show.\n",
      "\n",
      "Day 5: Tour the Hong Kong Museum of History to immerse yourself in local culture. Take an evening harbor cruise to see the city lights.\n",
      "\n",
      "Day 6: Visit Ocean Park for a day of animal encounters, rides and shows. Round out the day with dinner at a Michelin-starred restaurant. \n",
      "\n",
      "Day 7: Hike the Dragon's Back trail on Hong Kong Island. Enjoy afternoon tea at the Peninsula Hotel. Check out PMQ for local design shops and eateries.\n",
      "\n",
      "Day 8: Shop for electronics and more at the bustling Temple Street Night Market. Dine on dim sum for lunch or dinner.\n",
      "\n",
      "Day 9: Escape the city again to the outlying islands. Relax on the beach at Repulse Bay. \n",
      "\n",
      "Day 10: Depart Hong Kong with wonderful memories.\n",
      "\n",
      "At just $4585 for this incredible getaway, you can't beat the savings with our exclusive member promo code. Offer valid for October 2023 only. Seats are limited so book your Hong Kong adventure today!\n",
      "\n",
      "Warm regards,\n",
      "TigerPounce Express\n",
      "\"\n",
      "}\n"
     ]
    }
   ],
   "source": [
    "print (new_text)"
   ]
  },
  {
   "cell_type": "markdown",
   "id": "b9045668-eaa2-423c-a3f6-557f7df6042d",
   "metadata": {},
   "source": [
    "### Now, the new_text variable contains the text data loaded from 'email_content_english.json,' and you can use it to calculate the embedding as shown in your code:"
   ]
  },
  {
   "cell_type": "code",
   "execution_count": 27,
   "id": "69895585-89a9-4029-961f-5702e8d19557",
   "metadata": {
    "tags": []
   },
   "outputs": [],
   "source": [
    "bedrock_client = boto3.client('bedrock-runtime')"
   ]
  },
  {
   "cell_type": "code",
   "execution_count": 28,
   "id": "66a7931c-4339-4516-bfdd-1f20678da12a",
   "metadata": {
    "tags": []
   },
   "outputs": [],
   "source": [
    "new_text_embedding = get_embedding(json.dumps({\"inputText\": new_text}), modelId, accept, contentType)\n"
   ]
  },
  {
   "cell_type": "code",
   "execution_count": 29,
   "id": "df7b03da-f153-4fdc-8fe1-2b6e7f5d860a",
   "metadata": {
    "tags": []
   },
   "outputs": [
    {
     "name": "stdout",
     "output_type": "stream",
     "text": [
      "new_text_embedding: [0.59765625, 0.28710938, 0.18945312, 0.14746094, -0.24511719, 0.017578125, -0.26367188, 0.0003376007, 0.140625, -0.040039062, 0.04736328, -0.21972656, 0.27734375, -0.033203125, 0.052978516, -0.19824219, -0.31445312, -0.20703125, 0.045654297, 0.20996094, -0.11816406, -0.14257812, -0.2421875, 0.15332031, -0.09716797, 0.42578125, -0.13867188, 0.013793945, -0.091308594, -0.13769531, -0.41015625, -0.022216797, -0.12597656, -0.27734375, -0.51953125, -0.0025024414, -0.24804688, 0.017578125, 0.36914062, 0.2734375, 0.328125, -0.33203125, 0.095703125, 0.06640625, 0.1875, -0.5078125, -0.17382812, 0.11376953, 0.20703125, 0.18554688, 0.036865234, -0.096191406, 0.28710938, -0.07080078, 0.08984375, -0.16015625, 0.20605469, -0.29492188, 0.4609375, -0.24511719, -0.17480469, -0.010559082, -0.44335938, -0.49609375, 0.041503906, -0.02331543, 0.020507812, 0.06640625, -0.1796875, 0.027709961, -0.31640625, -0.09667969, 0.18652344, 0.06591797, 0.66796875, -0.076171875, 0.08496094, 0.115234375, 0.36132812, 0.48046875, 0.29296875, 0.060791016, -0.025024414, 0.97265625, 0.15722656, 0.11621094, -0.16699219, 0.07128906, 0.0001335144, 0.26953125, -0.009887695, -0.19433594, 0.03857422, 0.66796875, 0.19726562, -0.064453125, -0.059326172, -0.19433594, -0.53515625, 0.39453125, 0.5390625, -0.1640625, -0.064453125, 0.1796875, -0.07763672, 0.076660156, -0.16796875, -0.068847656, -0.29101562, 0.37695312, 0.26367188, -0.2578125, -0.27539062, -0.390625, -0.33398438, 0.064453125, 0.20996094, -0.14746094, -0.03466797, 0.14648438, 0.34570312, 0.22265625, -0.03564453, -0.111816406, -0.15234375, -0.22558594, 0.32226562, -0.27734375, 0.18359375, -0.060791016, 0.23339844, 0.45117188, 0.2734375, 0.078125, -0.17675781, 0.16210938, -0.053466797, -0.265625, 0.10253906, 0.038330078, 0.20703125, -0.075683594, 0.3203125, -0.32226562, 0.33203125, 0.114746094, -0.020629883, -0.171875, -0.375, -0.08886719, -0.46875, -0.3828125, 0.003616333, -0.53125, 0.12207031, 0.34179688, 0.24316406, 0.10888672, -0.17578125, 0.41796875, 0.1484375, -0.12988281, 0.31835938, -0.45898438, 0.026245117, -0.08105469, 0.25976562, 0.22460938, 0.02331543, -0.20410156, -0.19335938, -0.08691406, -0.13183594, -0.44921875, 0.36914062, 0.38085938, -0.40820312, 0.5390625, 0.28125, -0.08154297, -0.033935547, 0.2734375, -0.12011719, -0.20410156, 0.25390625, 0.17285156, 0.16015625, 0.033203125, -0.26367188, 0.087890625, 0.27148438, 0.14941406, -0.15527344, 0.14355469, 0.025878906, -0.28515625, 0.025146484, -0.068359375, 0.18847656, -0.08105469, 0.15136719, -0.10205078, 0.027954102, -0.22363281, -0.2734375, -0.092285156, -0.16601562, 0.40039062, 0.0020141602, 0.25976562, -0.05102539, -0.1875, -0.3203125, -0.5078125, -0.33789062, -0.5, -0.16699219, -0.104003906, 0.057617188, -0.07519531, -0.030883789, 0.055664062, 0.14550781, -0.17480469, -0.18945312, -0.33789062, 0.076660156, 0.18164062, -0.11035156, -0.115234375, -0.1640625, -0.09765625, -0.23535156, -0.39648438, 0.34570312, 0.052246094, -0.084472656, 0.13867188, -0.022094727, 0.43554688, -0.051757812, 0.26171875, 0.22363281, 0.359375, -0.4609375, 0.28320312, -0.23925781, 0.35742188, -0.057373047, -0.17675781, 0.35742188, 0.4609375, -0.21386719, 0.7890625, -0.24121094, 0.10205078, 0.07128906, -0.3203125, 0.6171875, -0.53125, 0.3828125, -0.43554688, 0.029663086, -0.66015625, -0.17675781, -0.54296875, 0.20898438, -0.02319336, -0.13671875, -0.28320312, 0.00012302399, 0.029785156, 0.20214844, -0.15039062, -0.08935547, 0.18652344, -0.103027344, 0.609375, 0.078125, 0.45703125, 0.20898438, -0.080078125, 0.37304688, -0.15234375, -0.09375, 0.21191406, 0.0032348633, 0.26953125, 0.063964844, -0.095703125, 0.18554688, 0.18554688, -0.44335938, 0.14648438, 0.35546875, 0.13769531, 0.27148438, -0.015563965, -0.17089844, 0.796875, 0.20019531, -0.13378906, 0.2421875, 0.50390625, -0.28515625, 0.05883789, 0.035888672, -0.296875, -0.24804688, 0.060546875, 0.09814453, -0.028076172, 0.39257812, 0.1640625, -0.31054688, -0.083984375, 0.26757812, -0.46875, -0.21777344, 0.34960938, -0.515625, 0.43164062, -0.041748047, -0.12597656, 0.10253906, -0.62890625, 0.20117188, -0.18945312, 0.024047852, 0.20800781, -0.056884766, 0.025756836, -0.20605469, -0.2265625, 0.12988281, 0.21679688, -0.2890625, -0.12011719, -0.16796875, 0.14550781, -0.33203125, 0.115234375, 0.060302734, -0.087890625, 0.41015625, 0.20507812, 0.029663086, 0.1953125, 0.18164062, 0.2109375, 0.017944336, -0.40820312, -0.044921875, 0.3515625, 0.52734375, 0.18652344, 0.17675781, 0.43945312, 0.5859375, 0.29296875, -0.013549805, -0.28515625, -0.26171875, -0.21191406, -0.15917969, 0.15820312, -0.06640625, -0.076171875, -0.296875, -0.515625, -0.024658203, -0.265625, 0.28125, -0.5390625, 0.19628906, 0.59375, 0.099609375, 0.31835938, 0.16503906, 0.15625, 0.64453125, 0.11279297, 0.04663086, -0.38671875, 0.41601562, 0.05493164, 0.017700195, 0.11767578, -0.22753906, -0.088378906, -0.115234375, 0.23535156, 0.26953125, 0.092285156, -0.45898438, 0.03857422, 0.17675781, 0.79296875, 0.703125, 0.08544922, 0.06640625, 0.11035156, -0.026000977, -0.25, -0.04711914, -0.018920898, 0.03540039, -0.04296875, -0.21289062, 0.040283203, 0.115722656, 0.54296875, 0.16210938, 0.37890625, 0.40820312, -0.047607422, -0.3828125, 0.024902344, 0.060302734, -0.040283203, 0.20898438, 0.25195312, -0.056640625, -0.044921875, -0.032470703, 0.078125, 0.008422852, 0.09082031, 0.01159668, -0.026123047, -0.359375, -0.33789062, -0.072265625, -0.12060547, 0.2578125, 0.12597656, 0.33984375, 0.63671875, 0.35742188, -0.045410156, 0.31835938, -0.099121094, -0.19238281, -0.30273438, -0.41796875, 0.2578125, -0.5390625, 0.08984375, 0.19042969, 0.007171631, -0.41015625, 0.06640625, -0.31640625, -0.6953125, 0.328125, 0.25976562, 0.11816406, 0.012756348, 0.19628906, -0.091796875, -0.12890625, -0.10986328, 0.0013656616, -0.1640625, -0.011047363, -0.091796875, -0.29882812, -0.107910156, -0.10107422, 0.59765625, -0.43945312, -0.059814453, -0.025146484, -0.484375, 0.80859375, -0.234375, -0.21386719, 0.12792969, -0.17285156, -0.17871094, -0.020629883, 0.32226562, -0.19921875, -0.23046875, 0.07373047, -0.53515625, -0.06738281, 0.096191406, -0.16699219, -0.78125, -0.27929688, 0.08984375, 0.23632812, 0.0057678223, -0.33007812, 0.013366699, -0.0002746582, -0.08300781, -0.36914062, 0.0095825195, 0.12988281, 0.22167969, -0.05419922, -0.16992188, -0.34960938, 0.013549805, -0.44335938, -0.11376953, -0.16015625, 0.09082031, 0.24121094, -0.19921875, 0.099609375, -0.2109375, -0.041992188, 0.27929688, 0.3203125, -0.3203125, 0.14648438, 0.03173828, 0.033691406, -0.12451172, 0.09082031, -0.0048828125, 0.23242188, 0.16113281, 0.04663086, -0.53125, 0.05444336, 0.1640625, 0.114746094, -0.2421875, -0.053710938, 0.20410156, -0.22949219, 0.096191406, -0.080078125, 0.1953125, -0.5625, 0.08496094, 0.3515625, 0.39453125, -0.0067443848, 0.23632812, -0.025512695, 0.34179688, -0.12402344, -0.05883789, -0.110839844, 0.15039062, -0.22265625, -0.265625, 0.056152344, 0.41210938, 0.17480469, 0.13867188, 0.33203125, -0.115722656, 0.09814453, -0.38085938, -0.24414062, -0.05053711, -0.36328125, 0.32421875, -0.0072631836, 0.106933594, -0.029663086, -0.16699219, 0.1875, 0.23339844, -0.15332031, -0.0058288574, -0.012145996, 0.10839844, -0.08203125, 0.06298828, 0.07128906, -0.41796875, 0.21484375, -0.17480469, 0.33789062, -0.009033203, -0.22753906, -0.46484375, 0.15722656, -0.20117188, -0.7109375, -0.13964844, 0.33007812, -0.20410156, 0.31640625, -0.19824219, 0.11767578, -0.25, 0.24609375, 0.09423828, 0.087402344, -0.024047852, -0.13867188, -0.36523438, -0.13183594, 0.15820312, -0.123535156, 0.36328125, 0.099609375, 0.063964844, -0.30859375, -0.609375, 0.04321289, -0.25976562, 0.21972656, 0.265625, 0.03515625, 0.020629883, -0.546875, 0.26171875, -0.19042969, -0.34179688, -0.14550781, 0.19628906, 0.1640625, -0.14355469, 0.057617188, -0.0079956055, 0.37695312, 0.20996094, -0.095214844, -0.23144531, 0.5546875, 0.37890625, -0.20410156, 0.65234375, -0.3984375, 0.14648438, 0.18457031, -0.64453125, -0.030151367, -0.02722168, 0.26953125, -0.09716797, -0.053955078, -0.057617188, 0.45117188, 0.15234375, -0.07421875, 0.734375, 0.012023926, -0.049560547, -0.15917969, -0.103515625, -0.27539062, 0.16113281, -0.16015625, 0.029052734, -0.09863281, -0.51953125, 0.10546875, 0.19042969, -0.578125, 0.049072266, -0.27929688, -0.036865234, 0.0070495605, 0.24121094, 0.20507812, 0.15625, -0.03466797, -0.15820312, 0.09863281, 0.048339844, 0.32617188, -0.390625, -0.125, -0.038085938, -0.048339844, -0.37695312, 0.016601562, 0.24023438, -0.13964844, 0.41601562, -0.18554688, -0.58984375, -0.27734375, 0.099609375, 0.27539062, -0.26171875, 0.0066223145, -0.052490234, 0.29101562, -0.30859375, -0.19238281, 0.14160156, -0.26757812, 0.5703125, -0.103027344, 0.31640625, -0.16894531, -0.26953125, 0.014343262, -0.51171875, -0.051757812, -0.48046875, 0.009460449, -0.765625, -0.08154297, 0.14746094, 0.057373047, 0.18457031, -0.096191406, -0.33984375, 0.18847656, 0.37109375, -0.06591797, -0.025268555, 0.19335938, 0.609375, 0.51171875, 0.119140625, 0.02319336, -0.3671875, 0.018798828, -0.21972656, -0.41601562, -0.21386719, -0.16113281, 0.21386719, -0.40039062, 0.20507812, -0.43359375, -0.53125, 0.12207031, -0.84765625, -0.18457031, 0.043945312, -0.41796875, 0.24023438, -0.1484375, 0.087402344, 0.017089844, -0.032226562, -0.051757812, -0.30273438, 0.029174805, -0.2890625, -0.35546875, -0.47070312, 0.05102539, 0.21777344, 0.3515625, 0.19628906, 0.021118164, 0.20117188, 0.12792969, -0.140625, -0.021850586, -0.08544922, 0.071777344, -0.50390625, 0.03173828, 0.03930664, 0.21875, 0.1796875, 0.3984375, -0.017944336, -0.47851562, -0.29882812, -0.19628906, 0.1640625, -0.12695312, -0.16894531, 0.0011520386, -0.026245117, -0.10839844, -0.24609375, -0.072753906, 0.17480469, -0.21972656, 0.14941406, 0.007659912, 0.26953125, 0.21191406, 0.12695312, -0.08691406, 0.095214844, -0.3359375, 0.421875, 0.47265625, 0.13476562, -0.4296875, -0.061279297, -0.055908203, 0.265625, -0.059326172, 0.036865234, 0.234375, 0.076660156, -0.18457031, -0.032226562, 0.017822266, -0.16015625, -8.106232e-05, -0.008544922, -0.52734375, 0.32421875, 0.5703125, 0.059814453, 0.30273438, -0.3515625, 0.06591797, 0.28710938, 0.12792969, 0.18457031, -0.06689453, 0.33398438, -0.27929688, -0.08203125, -0.6328125, -0.008605957, 0.21386719, 0.484375, -0.092285156, 0.19433594, 0.35351562, 0.15039062, -0.0154418945, 0.0011520386, 0.37695312, 0.10107422, -0.13476562, -0.22167969, -0.16308594, -0.328125, -0.024902344, 0.2109375, 0.076660156, 0.22167969, -0.72265625, 0.059570312, -0.22460938, 0.34375, 0.041015625, -0.50390625, -0.15722656, -0.07763672, -0.088378906, 0.4140625, -0.12158203, 0.0390625, 0.09277344, -0.19042969, 0.092285156, -0.01184082, 0.3359375, -0.31640625, 0.031982422, -0.20117188, 0.011474609, -0.421875, 0.11328125, -0.091796875, 0.25390625, 0.28710938, -0.2578125, 0.90625, -0.063964844, 0.25976562, 0.3515625, 0.23339844, -0.025878906, -0.20214844, 0.265625, -0.38867188, -0.16503906, 0.09423828, -0.25, 0.38671875, -0.25976562, 0.20507812, 0.020751953, -0.11279297, 0.045166016, 0.40820312, 0.20605469, 0.057617188, 0.20410156, 0.2890625, 0.012084961, 0.29296875, 0.0026550293, 0.22363281, -0.57421875, -0.45117188, 0.16503906, 0.10107422, 0.050048828, 0.3125, 0.033935547, 0.08691406, 0.4375, -0.55859375, 0.20800781, 0.09765625, 0.057373047, 0.051513672, 0.18945312, 0.2890625, 0.03564453, 0.26367188, 0.20800781, -0.43554688, 0.39648438, -0.009460449, -0.33203125, 0.095214844, -0.072265625, -0.3203125, 0.20996094, 0.07128906, -0.13964844, 0.16894531, 0.12060547, 0.40039062, 0.14941406, -0.057861328, -0.06591797, 0.0029754639, -0.13378906, 0.04711914, 0.17480469, -0.07421875, -0.4296875, 0.07128906, -0.46875, -0.34570312, -0.27148438, 0.15332031, 0.21582031, 0.49804688, -0.19433594, -0.26757812, 0.03540039, -0.00015926361, -0.123535156, 0.22753906, -0.014099121, 0.31835938, 0.15429688, 0.0027923584, 0.4453125, 0.007873535, -0.21191406, 0.32226562, 0.06689453, 5.9127808e-05, 0.18359375, -0.20410156, 0.020507812, 0.55859375, -0.47070312, -0.0546875, 0.4140625, -0.23535156, -0.4140625, 0.6328125, -0.063964844, -0.02709961, -0.26953125, -0.2421875, 0.18164062, -0.040283203, 0.07470703, -0.06201172, 0.16113281, -0.22558594, -0.10839844, 0.03466797, 0.4375, -0.51953125, -0.4921875, -0.26171875, 0.15429688, -0.02722168, 0.4765625, 0.011291504, -0.09667969, -0.1796875, -0.020019531, -0.34570312, -0.2265625, 0.27539062, -0.1640625, 0.17773438, -0.27148438, 0.28710938, 0.041015625, -0.25195312, 1.15625, -0.060546875, -0.023071289, -0.2734375, -0.13085938, 0.12988281, 0.22851562, -0.2734375, 0.48046875, -0.020263672, -0.09716797, 0.08251953, 0.49414062, -0.3515625, -0.48632812, 0.048828125, 0.06542969, -0.29296875, 0.021606445, 0.11621094, -0.02368164, 0.40429688, 0.03930664, -0.16113281, 0.2734375, -0.07324219, 0.40039062, 0.33398438, 0.067871094, 0.13476562, 0.075683594, 0.2734375, -0.69140625, -0.3515625, 0.28710938, 0.62109375, -0.27148438, -0.50390625, 0.18652344, 0.03564453, 0.31445312, 0.026367188, -0.38867188, -0.107421875, 0.18359375, 0.19335938, -0.21484375, 0.026123047, -0.008117676, -0.08984375, 0.13769531, 0.4140625, 0.0017318726, 0.0044555664, -0.23242188, -0.21777344, 0.06201172, -0.22167969, -0.21972656, -0.23339844, -0.22265625, -0.030761719, -0.07910156, 0.44726562, 0.091796875, -0.052246094, -0.30273438, -0.15136719, 0.5, 0.33984375, 0.33984375, 0.34765625, -0.0859375, 0.00093460083, -0.19628906, 0.46679688, 0.57421875, 0.111816406, -0.14257812, 0.0056762695, 0.18652344, -0.27734375, -0.31835938, -0.25, 0.25195312, 0.24121094, 0.19824219, -0.06591797, 0.22460938, -0.2109375, 0.37695312, -0.12060547, -0.5546875, 0.26953125, -0.007659912, -0.14648438, -0.12792969, -0.17382812, 0.45898438, -0.020996094, 0.08496094, -0.12890625, -0.051757812, 0.53515625, 0.055664062, 0.05029297, -0.16992188, 0.3203125, -0.08154297, 0.72265625, 0.13769531, -0.20703125, -0.44921875, -0.0066833496, 0.40625, 0.25, 0.084472656, 0.5, -0.049804688, 0.21679688, 0.38867188, 0.16699219, -0.21582031, 0.033935547, 0.203125, 0.2578125, 0.06298828, 0.15039062, 0.034179688, 0.10546875, -0.103515625, -0.11328125, 0.16113281, -0.052978516, -0.06982422, 0.3125, 0.3203125, -0.19335938, -0.359375, 0.34960938, 0.13671875, -0.3125, -0.055664062, 0.10253906, -0.26171875, -0.25, 0.48632812, -0.31640625, 0.28710938, 0.036132812, -0.44140625, -0.20214844, 0.27929688, -0.13574219, -0.30078125, 0.107421875, -0.017822266, -0.20019531, 0.056152344, 0.076660156, 0.11230469, 0.38671875, 0.48828125, -0.20605469, -0.22363281, -0.092285156, -0.087890625, -0.055419922, -0.27148438, 0.020385742, 0.17480469, 0.31445312, -0.41796875, -0.66015625, 0.34179688, 0.328125, 0.64453125, 0.14746094, -0.24121094, -0.18164062, 0.21582031, 0.32617188, 0.20703125, -0.0038452148, -0.39453125, 0.46875, -0.38476562, 0.08691406, -0.023925781, -0.26757812, 0.16601562, -0.07080078, -0.010009766, 0.11230469, 0.095214844, -0.14160156, -0.5859375, 0.39257812, -0.10888672, -0.068847656, -0.36523438, 0.26757812, -0.23242188, -0.25390625, -0.30273438, 0.055908203, 0.25195312, -0.6328125, -0.13183594, 0.21777344, -0.021606445, -0.046142578, 0.10498047, -0.11035156, 0.09716797, 0.44921875, 0.18261719, -0.029296875, 0.079589844, 0.25390625, 0.10546875, 0.29882812, -0.052490234, -0.59375, 0.3515625, -0.067871094, 0.008483887, 0.10205078, -0.47070312, 0.031982422, 0.24804688, 0.012268066, 0.23925781, 0.3515625, -0.57421875, -0.35351562, 0.022949219, -0.15527344, -0.013183594, 0.484375, -0.15917969, 0.067871094, -0.37109375, -0.56640625, 0.50390625, -0.51171875, 0.38867188, -0.40429688, -0.24511719, 0.15039062, -0.0107421875, -0.38476562, -0.013305664, -0.21386719, -0.6640625, 0.068847656, 0.08496094, 0.091308594, -0.12207031, 0.51171875, 0.14550781, -0.31640625, 0.12695312, 0.4140625, -0.87890625, -0.13476562, -0.10058594, 0.52734375, 0.37890625, 0.008544922, -0.49023438, -0.03564453, -0.328125, -0.12158203, 0.15136719, 0.032958984, -0.30273438, 0.5, 0.24023438, 0.58203125, -0.041992188, 0.087402344, -0.18261719, -0.25585938, 0.45703125, 0.04736328, -0.265625, -0.099121094, 0.23535156, -0.26171875, 0.34179688, 0.21777344, 0.23730469, -0.19335938, -0.13867188, -0.030517578, 0.16796875, 0.1484375, 0.014770508, 0.29101562, 0.35351562, 0.080566406, 0.06298828, 0.088378906, -0.30078125, 0.33007812, 0.12060547, 0.00023365021, -0.3359375, 0.265625, 0.15039062, -0.19726562, -0.72265625, -0.11279297, -0.030273438, -0.17773438, -0.32617188, -0.34570312, -0.28320312, -0.45898438, -0.20019531, 0.12011719, 0.044433594, 0.45117188, -0.25976562, 0.01586914, 0.07763672, -0.40429688, -0.25, -0.004119873, -0.19726562, -0.38867188, -0.09765625, -0.11328125, -0.15917969, -0.16503906, 0.59765625, -0.19042969, -0.30078125, 0.46679688, 0.23535156, -0.15722656, -0.55859375, 0.23730469, -0.21875, 0.19238281, -0.14550781, -0.049560547, 0.35546875, 0.13671875, -0.45117188, -0.014221191, 0.28320312, -0.020385742, 0.30859375, 0.08984375, -0.265625, -0.0546875, 0.123046875, -0.30664062, -0.088378906, -0.104003906, 0.74609375, 0.013305664, -0.020629883, 0.13476562, -0.21191406, -0.14355469, -0.096191406, 0.25976562, 0.16113281, -0.12158203, 0.032958984, -0.36328125, 0.07910156, 0.25, 0.76171875, -0.62109375, -0.1640625, -0.14355469, -0.35546875, -0.23144531, 0.2734375, 0.4921875, -0.27148438, -0.1328125, 0.35351562, -0.27929688, 0.27148438, 0.18261719, 0.13867188, 0.067871094, 0.21484375, -0.2890625, -0.27148438, -0.029296875, -0.19824219, 0.23046875, -0.35546875, 0.16210938, 0.0071105957, 0.07080078, -0.05859375, -0.091308594, -0.17871094, -0.34960938, 0.0859375, 0.26367188, 0.21386719, -0.41210938, 0.19824219, -0.37304688, -0.15527344, -0.099121094, 0.0625, 0.18847656, 0.10644531, 0.00793457, 0.078125, -0.21679688, 0.09033203, 0.10595703, -0.31445312, 0.00063705444, -0.21777344, -0.25585938, -0.22070312, 0.07714844, -0.072265625, -0.31835938, -0.040771484, -0.14941406, -0.09814453, -0.25976562, 0.053222656, 0.37695312, -0.2890625, -0.020751953, 0.0013885498, 0.10205078, 0.26367188, -0.14257812, 0.25390625, 0.26953125, -0.41015625, 0.0054626465, 0.030517578, -0.15625, -0.12792969, -0.10595703, -0.25585938, 0.17480469, 0.07128906, 0.18554688, 0.69921875, -0.375, -0.010803223, -0.006591797, -0.19140625, 0.091796875, 0.047851562, -0.022460938, 0.023925781, -0.23828125, 0.34375, 0.41601562, 0.09716797, -0.33398438, -0.33984375, -0.3828125, 0.45507812, -0.43945312, -0.42578125, -0.111328125, 0.026855469, 0.18652344, 0.28125, 0.013366699, 0.115234375, 0.12597656, 0.28125, -0.25390625, -0.04638672, 0.21777344, 0.044921875, -0.35546875, -0.453125, -0.34960938, -0.020751953, -0.29492188, -0.111328125, 0.022460938, 0.00793457, 0.08935547, -0.13769531, -0.018676758, -0.118652344, -0.33007812, -0.15527344, -0.3046875, 0.067871094, -0.15722656, 0.028564453, -0.015563965, 0.10644531, 0.47460938, 0.123535156, -0.0021514893, 0.28125, -0.091796875, 0.23828125, -0.055419922, 0.15039062, -0.31054688, -0.045166016, -0.328125, 0.48046875, -0.45703125, -0.578125, 0.39257812, 0.19628906, 0.34765625, 0.072265625, 0.61328125, -0.6328125, -0.013305664, 0.103027344, 0.15625, 0.12988281, -0.16503906, -0.021972656, 0.041259766, -0.26367188, -0.063964844, -0.14355469, -0.28515625, -0.609375, 0.119628906, -0.10986328, -0.15625]\n"
     ]
    }
   ],
   "source": [
    "# Assuming you have calculated 'new_text_embedding' using your get_embedding function\n",
    "print(\"new_text_embedding:\", new_text_embedding)\n"
   ]
  },
  {
   "cell_type": "markdown",
   "id": "efdb02b8-9fd7-4837-8c05-4865b60e696a",
   "metadata": {},
   "source": [
    "## 4. Perform Inference\n",
    "\n",
    "Use the loaded model to make predictions on the new data. You can use the predict method of your classifier."
   ]
  },
  {
   "cell_type": "code",
   "execution_count": 30,
   "id": "fd5ef3d4-63d5-4c8c-9a98-f2289443f26e",
   "metadata": {
    "tags": []
   },
   "outputs": [
    {
     "name": "stdout",
     "output_type": "stream",
     "text": [
      "Predicted Label: compliance\n"
     ]
    }
   ],
   "source": [
    "# Predict the label for the new data\n",
    "predicted_label = clf.predict([new_text_embedding])\n",
    "\n",
    "# Print the predicted label\n",
    "print(\"Predicted Label:\", predicted_label[0])\n"
   ]
  },
  {
   "cell_type": "code",
   "execution_count": 31,
   "id": "88838af6-b315-4098-a230-7b0cc55485ae",
   "metadata": {
    "tags": []
   },
   "outputs": [
    {
     "name": "stdout",
     "output_type": "stream",
     "text": [
      "Predicted Label: compliance\n",
      "Probability Estimates: [0.83 0.17]\n"
     ]
    }
   ],
   "source": [
    "# Predict the label and obtain probability estimates\n",
    "probability_estimates = clf.predict_proba([new_text_embedding])\n",
    "predicted_label = clf.predict([new_text_embedding])\n",
    "\n",
    "# Print the predicted label and probability estimates\n",
    "print(\"Predicted Label:\", predicted_label[0])\n",
    "print(\"Probability Estimates:\", probability_estimates[0])\n"
   ]
  },
  {
   "cell_type": "markdown",
   "id": "45046c41-fde6-4a5b-b51c-7d284a8e804b",
   "metadata": {},
   "source": [
    "## Summary: in the notebook, you learned how to use Amazon Bedrock Titan FM embedding vectors to build an LLM content moderation engine with a RandomForestClassifier. "
   ]
  }
 ],
 "metadata": {
  "availableInstances": [
   {
    "_defaultOrder": 0,
    "_isFastLaunch": true,
    "category": "General purpose",
    "gpuNum": 0,
    "hideHardwareSpecs": false,
    "memoryGiB": 4,
    "name": "ml.t3.medium",
    "vcpuNum": 2
   },
   {
    "_defaultOrder": 1,
    "_isFastLaunch": false,
    "category": "General purpose",
    "gpuNum": 0,
    "hideHardwareSpecs": false,
    "memoryGiB": 8,
    "name": "ml.t3.large",
    "vcpuNum": 2
   },
   {
    "_defaultOrder": 2,
    "_isFastLaunch": false,
    "category": "General purpose",
    "gpuNum": 0,
    "hideHardwareSpecs": false,
    "memoryGiB": 16,
    "name": "ml.t3.xlarge",
    "vcpuNum": 4
   },
   {
    "_defaultOrder": 3,
    "_isFastLaunch": false,
    "category": "General purpose",
    "gpuNum": 0,
    "hideHardwareSpecs": false,
    "memoryGiB": 32,
    "name": "ml.t3.2xlarge",
    "vcpuNum": 8
   },
   {
    "_defaultOrder": 4,
    "_isFastLaunch": true,
    "category": "General purpose",
    "gpuNum": 0,
    "hideHardwareSpecs": false,
    "memoryGiB": 8,
    "name": "ml.m5.large",
    "vcpuNum": 2
   },
   {
    "_defaultOrder": 5,
    "_isFastLaunch": false,
    "category": "General purpose",
    "gpuNum": 0,
    "hideHardwareSpecs": false,
    "memoryGiB": 16,
    "name": "ml.m5.xlarge",
    "vcpuNum": 4
   },
   {
    "_defaultOrder": 6,
    "_isFastLaunch": false,
    "category": "General purpose",
    "gpuNum": 0,
    "hideHardwareSpecs": false,
    "memoryGiB": 32,
    "name": "ml.m5.2xlarge",
    "vcpuNum": 8
   },
   {
    "_defaultOrder": 7,
    "_isFastLaunch": false,
    "category": "General purpose",
    "gpuNum": 0,
    "hideHardwareSpecs": false,
    "memoryGiB": 64,
    "name": "ml.m5.4xlarge",
    "vcpuNum": 16
   },
   {
    "_defaultOrder": 8,
    "_isFastLaunch": false,
    "category": "General purpose",
    "gpuNum": 0,
    "hideHardwareSpecs": false,
    "memoryGiB": 128,
    "name": "ml.m5.8xlarge",
    "vcpuNum": 32
   },
   {
    "_defaultOrder": 9,
    "_isFastLaunch": false,
    "category": "General purpose",
    "gpuNum": 0,
    "hideHardwareSpecs": false,
    "memoryGiB": 192,
    "name": "ml.m5.12xlarge",
    "vcpuNum": 48
   },
   {
    "_defaultOrder": 10,
    "_isFastLaunch": false,
    "category": "General purpose",
    "gpuNum": 0,
    "hideHardwareSpecs": false,
    "memoryGiB": 256,
    "name": "ml.m5.16xlarge",
    "vcpuNum": 64
   },
   {
    "_defaultOrder": 11,
    "_isFastLaunch": false,
    "category": "General purpose",
    "gpuNum": 0,
    "hideHardwareSpecs": false,
    "memoryGiB": 384,
    "name": "ml.m5.24xlarge",
    "vcpuNum": 96
   },
   {
    "_defaultOrder": 12,
    "_isFastLaunch": false,
    "category": "General purpose",
    "gpuNum": 0,
    "hideHardwareSpecs": false,
    "memoryGiB": 8,
    "name": "ml.m5d.large",
    "vcpuNum": 2
   },
   {
    "_defaultOrder": 13,
    "_isFastLaunch": false,
    "category": "General purpose",
    "gpuNum": 0,
    "hideHardwareSpecs": false,
    "memoryGiB": 16,
    "name": "ml.m5d.xlarge",
    "vcpuNum": 4
   },
   {
    "_defaultOrder": 14,
    "_isFastLaunch": false,
    "category": "General purpose",
    "gpuNum": 0,
    "hideHardwareSpecs": false,
    "memoryGiB": 32,
    "name": "ml.m5d.2xlarge",
    "vcpuNum": 8
   },
   {
    "_defaultOrder": 15,
    "_isFastLaunch": false,
    "category": "General purpose",
    "gpuNum": 0,
    "hideHardwareSpecs": false,
    "memoryGiB": 64,
    "name": "ml.m5d.4xlarge",
    "vcpuNum": 16
   },
   {
    "_defaultOrder": 16,
    "_isFastLaunch": false,
    "category": "General purpose",
    "gpuNum": 0,
    "hideHardwareSpecs": false,
    "memoryGiB": 128,
    "name": "ml.m5d.8xlarge",
    "vcpuNum": 32
   },
   {
    "_defaultOrder": 17,
    "_isFastLaunch": false,
    "category": "General purpose",
    "gpuNum": 0,
    "hideHardwareSpecs": false,
    "memoryGiB": 192,
    "name": "ml.m5d.12xlarge",
    "vcpuNum": 48
   },
   {
    "_defaultOrder": 18,
    "_isFastLaunch": false,
    "category": "General purpose",
    "gpuNum": 0,
    "hideHardwareSpecs": false,
    "memoryGiB": 256,
    "name": "ml.m5d.16xlarge",
    "vcpuNum": 64
   },
   {
    "_defaultOrder": 19,
    "_isFastLaunch": false,
    "category": "General purpose",
    "gpuNum": 0,
    "hideHardwareSpecs": false,
    "memoryGiB": 384,
    "name": "ml.m5d.24xlarge",
    "vcpuNum": 96
   },
   {
    "_defaultOrder": 20,
    "_isFastLaunch": false,
    "category": "General purpose",
    "gpuNum": 0,
    "hideHardwareSpecs": true,
    "memoryGiB": 0,
    "name": "ml.geospatial.interactive",
    "supportedImageNames": [
     "sagemaker-geospatial-v1-0"
    ],
    "vcpuNum": 0
   },
   {
    "_defaultOrder": 21,
    "_isFastLaunch": true,
    "category": "Compute optimized",
    "gpuNum": 0,
    "hideHardwareSpecs": false,
    "memoryGiB": 4,
    "name": "ml.c5.large",
    "vcpuNum": 2
   },
   {
    "_defaultOrder": 22,
    "_isFastLaunch": false,
    "category": "Compute optimized",
    "gpuNum": 0,
    "hideHardwareSpecs": false,
    "memoryGiB": 8,
    "name": "ml.c5.xlarge",
    "vcpuNum": 4
   },
   {
    "_defaultOrder": 23,
    "_isFastLaunch": false,
    "category": "Compute optimized",
    "gpuNum": 0,
    "hideHardwareSpecs": false,
    "memoryGiB": 16,
    "name": "ml.c5.2xlarge",
    "vcpuNum": 8
   },
   {
    "_defaultOrder": 24,
    "_isFastLaunch": false,
    "category": "Compute optimized",
    "gpuNum": 0,
    "hideHardwareSpecs": false,
    "memoryGiB": 32,
    "name": "ml.c5.4xlarge",
    "vcpuNum": 16
   },
   {
    "_defaultOrder": 25,
    "_isFastLaunch": false,
    "category": "Compute optimized",
    "gpuNum": 0,
    "hideHardwareSpecs": false,
    "memoryGiB": 72,
    "name": "ml.c5.9xlarge",
    "vcpuNum": 36
   },
   {
    "_defaultOrder": 26,
    "_isFastLaunch": false,
    "category": "Compute optimized",
    "gpuNum": 0,
    "hideHardwareSpecs": false,
    "memoryGiB": 96,
    "name": "ml.c5.12xlarge",
    "vcpuNum": 48
   },
   {
    "_defaultOrder": 27,
    "_isFastLaunch": false,
    "category": "Compute optimized",
    "gpuNum": 0,
    "hideHardwareSpecs": false,
    "memoryGiB": 144,
    "name": "ml.c5.18xlarge",
    "vcpuNum": 72
   },
   {
    "_defaultOrder": 28,
    "_isFastLaunch": false,
    "category": "Compute optimized",
    "gpuNum": 0,
    "hideHardwareSpecs": false,
    "memoryGiB": 192,
    "name": "ml.c5.24xlarge",
    "vcpuNum": 96
   },
   {
    "_defaultOrder": 29,
    "_isFastLaunch": true,
    "category": "Accelerated computing",
    "gpuNum": 1,
    "hideHardwareSpecs": false,
    "memoryGiB": 16,
    "name": "ml.g4dn.xlarge",
    "vcpuNum": 4
   },
   {
    "_defaultOrder": 30,
    "_isFastLaunch": false,
    "category": "Accelerated computing",
    "gpuNum": 1,
    "hideHardwareSpecs": false,
    "memoryGiB": 32,
    "name": "ml.g4dn.2xlarge",
    "vcpuNum": 8
   },
   {
    "_defaultOrder": 31,
    "_isFastLaunch": false,
    "category": "Accelerated computing",
    "gpuNum": 1,
    "hideHardwareSpecs": false,
    "memoryGiB": 64,
    "name": "ml.g4dn.4xlarge",
    "vcpuNum": 16
   },
   {
    "_defaultOrder": 32,
    "_isFastLaunch": false,
    "category": "Accelerated computing",
    "gpuNum": 1,
    "hideHardwareSpecs": false,
    "memoryGiB": 128,
    "name": "ml.g4dn.8xlarge",
    "vcpuNum": 32
   },
   {
    "_defaultOrder": 33,
    "_isFastLaunch": false,
    "category": "Accelerated computing",
    "gpuNum": 4,
    "hideHardwareSpecs": false,
    "memoryGiB": 192,
    "name": "ml.g4dn.12xlarge",
    "vcpuNum": 48
   },
   {
    "_defaultOrder": 34,
    "_isFastLaunch": false,
    "category": "Accelerated computing",
    "gpuNum": 1,
    "hideHardwareSpecs": false,
    "memoryGiB": 256,
    "name": "ml.g4dn.16xlarge",
    "vcpuNum": 64
   },
   {
    "_defaultOrder": 35,
    "_isFastLaunch": false,
    "category": "Accelerated computing",
    "gpuNum": 1,
    "hideHardwareSpecs": false,
    "memoryGiB": 61,
    "name": "ml.p3.2xlarge",
    "vcpuNum": 8
   },
   {
    "_defaultOrder": 36,
    "_isFastLaunch": false,
    "category": "Accelerated computing",
    "gpuNum": 4,
    "hideHardwareSpecs": false,
    "memoryGiB": 244,
    "name": "ml.p3.8xlarge",
    "vcpuNum": 32
   },
   {
    "_defaultOrder": 37,
    "_isFastLaunch": false,
    "category": "Accelerated computing",
    "gpuNum": 8,
    "hideHardwareSpecs": false,
    "memoryGiB": 488,
    "name": "ml.p3.16xlarge",
    "vcpuNum": 64
   },
   {
    "_defaultOrder": 38,
    "_isFastLaunch": false,
    "category": "Accelerated computing",
    "gpuNum": 8,
    "hideHardwareSpecs": false,
    "memoryGiB": 768,
    "name": "ml.p3dn.24xlarge",
    "vcpuNum": 96
   },
   {
    "_defaultOrder": 39,
    "_isFastLaunch": false,
    "category": "Memory Optimized",
    "gpuNum": 0,
    "hideHardwareSpecs": false,
    "memoryGiB": 16,
    "name": "ml.r5.large",
    "vcpuNum": 2
   },
   {
    "_defaultOrder": 40,
    "_isFastLaunch": false,
    "category": "Memory Optimized",
    "gpuNum": 0,
    "hideHardwareSpecs": false,
    "memoryGiB": 32,
    "name": "ml.r5.xlarge",
    "vcpuNum": 4
   },
   {
    "_defaultOrder": 41,
    "_isFastLaunch": false,
    "category": "Memory Optimized",
    "gpuNum": 0,
    "hideHardwareSpecs": false,
    "memoryGiB": 64,
    "name": "ml.r5.2xlarge",
    "vcpuNum": 8
   },
   {
    "_defaultOrder": 42,
    "_isFastLaunch": false,
    "category": "Memory Optimized",
    "gpuNum": 0,
    "hideHardwareSpecs": false,
    "memoryGiB": 128,
    "name": "ml.r5.4xlarge",
    "vcpuNum": 16
   },
   {
    "_defaultOrder": 43,
    "_isFastLaunch": false,
    "category": "Memory Optimized",
    "gpuNum": 0,
    "hideHardwareSpecs": false,
    "memoryGiB": 256,
    "name": "ml.r5.8xlarge",
    "vcpuNum": 32
   },
   {
    "_defaultOrder": 44,
    "_isFastLaunch": false,
    "category": "Memory Optimized",
    "gpuNum": 0,
    "hideHardwareSpecs": false,
    "memoryGiB": 384,
    "name": "ml.r5.12xlarge",
    "vcpuNum": 48
   },
   {
    "_defaultOrder": 45,
    "_isFastLaunch": false,
    "category": "Memory Optimized",
    "gpuNum": 0,
    "hideHardwareSpecs": false,
    "memoryGiB": 512,
    "name": "ml.r5.16xlarge",
    "vcpuNum": 64
   },
   {
    "_defaultOrder": 46,
    "_isFastLaunch": false,
    "category": "Memory Optimized",
    "gpuNum": 0,
    "hideHardwareSpecs": false,
    "memoryGiB": 768,
    "name": "ml.r5.24xlarge",
    "vcpuNum": 96
   },
   {
    "_defaultOrder": 47,
    "_isFastLaunch": false,
    "category": "Accelerated computing",
    "gpuNum": 1,
    "hideHardwareSpecs": false,
    "memoryGiB": 16,
    "name": "ml.g5.xlarge",
    "vcpuNum": 4
   },
   {
    "_defaultOrder": 48,
    "_isFastLaunch": false,
    "category": "Accelerated computing",
    "gpuNum": 1,
    "hideHardwareSpecs": false,
    "memoryGiB": 32,
    "name": "ml.g5.2xlarge",
    "vcpuNum": 8
   },
   {
    "_defaultOrder": 49,
    "_isFastLaunch": false,
    "category": "Accelerated computing",
    "gpuNum": 1,
    "hideHardwareSpecs": false,
    "memoryGiB": 64,
    "name": "ml.g5.4xlarge",
    "vcpuNum": 16
   },
   {
    "_defaultOrder": 50,
    "_isFastLaunch": false,
    "category": "Accelerated computing",
    "gpuNum": 1,
    "hideHardwareSpecs": false,
    "memoryGiB": 128,
    "name": "ml.g5.8xlarge",
    "vcpuNum": 32
   },
   {
    "_defaultOrder": 51,
    "_isFastLaunch": false,
    "category": "Accelerated computing",
    "gpuNum": 1,
    "hideHardwareSpecs": false,
    "memoryGiB": 256,
    "name": "ml.g5.16xlarge",
    "vcpuNum": 64
   },
   {
    "_defaultOrder": 52,
    "_isFastLaunch": false,
    "category": "Accelerated computing",
    "gpuNum": 4,
    "hideHardwareSpecs": false,
    "memoryGiB": 192,
    "name": "ml.g5.12xlarge",
    "vcpuNum": 48
   },
   {
    "_defaultOrder": 53,
    "_isFastLaunch": false,
    "category": "Accelerated computing",
    "gpuNum": 4,
    "hideHardwareSpecs": false,
    "memoryGiB": 384,
    "name": "ml.g5.24xlarge",
    "vcpuNum": 96
   },
   {
    "_defaultOrder": 54,
    "_isFastLaunch": false,
    "category": "Accelerated computing",
    "gpuNum": 8,
    "hideHardwareSpecs": false,
    "memoryGiB": 768,
    "name": "ml.g5.48xlarge",
    "vcpuNum": 192
   },
   {
    "_defaultOrder": 55,
    "_isFastLaunch": false,
    "category": "Accelerated computing",
    "gpuNum": 8,
    "hideHardwareSpecs": false,
    "memoryGiB": 1152,
    "name": "ml.p4d.24xlarge",
    "vcpuNum": 96
   },
   {
    "_defaultOrder": 56,
    "_isFastLaunch": false,
    "category": "Accelerated computing",
    "gpuNum": 8,
    "hideHardwareSpecs": false,
    "memoryGiB": 1152,
    "name": "ml.p4de.24xlarge",
    "vcpuNum": 96
   }
  ],
  "instance_type": "ml.t3.medium",
  "kernelspec": {
   "display_name": "Python 3 (Data Science 3.0)",
   "language": "python",
   "name": "python3__SAGEMAKER_INTERNAL__arn:aws:sagemaker:us-east-1:081325390199:image/sagemaker-data-science-310-v1"
  },
  "language_info": {
   "codemirror_mode": {
    "name": "ipython",
    "version": 3
   },
   "file_extension": ".py",
   "mimetype": "text/x-python",
   "name": "python",
   "nbconvert_exporter": "python",
   "pygments_lexer": "ipython3",
   "version": "3.10.6"
  }
 },
 "nbformat": 4,
 "nbformat_minor": 5
}
