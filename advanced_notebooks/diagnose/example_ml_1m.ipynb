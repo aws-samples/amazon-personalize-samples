{
 "cells": [
  {
   "cell_type": "code",
   "execution_count": null,
   "metadata": {},
   "outputs": [],
   "source": [
    "import tempfile, subprocess, urllib.request, zipfile\n",
    "import pandas as pd, numpy as np\n",
    "import datetime\n",
    "%matplotlib inline\n",
    "from diagnose import diagnose"
   ]
  },
  {
   "cell_type": "markdown",
   "metadata": {},
   "source": [
    "## load data and some formatting"
   ]
  },
  {
   "cell_type": "code",
   "execution_count": null,
   "metadata": {},
   "outputs": [],
   "source": [
    "with tempfile.TemporaryDirectory() as tmpdir:\n",
    "    urllib.request.urlretrieve(\n",
    "        'http://files.grouplens.org/datasets/movielens/ml-1m.zip',\n",
    "        tmpdir + '/ml-1m.zip')\n",
    "    zipfile.ZipFile(tmpdir + '/ml-1m.zip').extractall(tmpdir)\n",
    "    print(subprocess.check_output(['ls', tmpdir+'/ml-1m']).decode('utf-8'))\n",
    "    \n",
    "    interactions = pd.read_csv(\n",
    "        tmpdir + '/ml-1m/ratings.dat',\n",
    "        sep='::',\n",
    "        names=['USER_ID','ITEM_ID','RATING', 'TIMESTAMP'])\n",
    "\n",
    "    users = pd.read_csv(\n",
    "        tmpdir + '/ml-1m/users.dat',\n",
    "        sep='::',\n",
    "        names=['USER_ID','GENDER','AGE','OCCUPATION','ZIPCODE'],\n",
    "    )\n",
    "\n",
    "    items = pd.read_csv(\n",
    "        tmpdir + '/ml-1m/movies.dat',\n",
    "        sep='::', encoding='latin1',\n",
    "        names=['ITEM_ID', '_TITLE', 'GENRES'],\n",
    "    )"
   ]
  },
  {
   "cell_type": "markdown",
   "metadata": {},
   "source": [
    "## run diagnostics"
   ]
  },
  {
   "cell_type": "code",
   "execution_count": null,
   "metadata": {},
   "outputs": [],
   "source": [
    "diagnose(interactions, users, items)"
   ]
  }
 ],
 "metadata": {
  "kernelspec": {
   "display_name": "conda_python3",
   "language": "python",
   "name": "conda_python3"
  },
  "language_info": {
   "codemirror_mode": {
    "name": "ipython",
    "version": 3
   },
   "file_extension": ".py",
   "mimetype": "text/x-python",
   "name": "python",
   "nbconvert_exporter": "python",
   "pygments_lexer": "ipython3",
   "version": "3.6.5"
  }
 },
 "nbformat": 4,
 "nbformat_minor": 4
}
